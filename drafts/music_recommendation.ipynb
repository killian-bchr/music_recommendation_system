{
 "cells": [
  {
   "cell_type": "code",
   "execution_count": 1,
   "metadata": {},
   "outputs": [],
   "source": [
    "import spotipy\n",
    "import requests\n",
    "import pandas as pd\n",
    "import numpy as np\n",
    "import seaborn as sns\n",
    "import matplotlib.pyplot as plt\n",
    "import time\n",
    "from scipy import stats\n",
    "from datetime import datetime\n",
    "from concurrent.futures import ThreadPoolExecutor\n",
    "from sklearn.decomposition import PCA\n",
    "from sklearn.preprocessing import LabelEncoder\n",
    "from sklearn.feature_extraction.text import TfidfVectorizer\n",
    "from spotipy.oauth2 import SpotifyOAuth\n",
    "from spotipy.oauth2 import SpotifyClientCredentials\n",
    "from sklearn.model_selection import train_test_split\n",
    "import spotify\n",
    "import sqlite3\n",
    "%load_ext autoreload\n",
    "%autoreload 2\n",
    "\n",
    "from config import (\n",
    "    api_key_lastfm,\n",
    "    client_secret_lastfm,\n",
    "    client_id,\n",
    "    client_secret,\n",
    "    redirect_uri\n",
    ")"
   ]
  },
  {
   "cell_type": "code",
   "execution_count": null,
   "metadata": {},
   "outputs": [],
   "source": [
    "playlist_drill = '1z1tOO60TXJaLEfXb5Z1pw'\n",
    "playlist_house = '1vIMNWoiysQgw4q13PErN4'\n",
    "playlist_rap_us = '4OZ02mQrmS1LU8bkG09vq7'\n",
    "playlist_afrobeat = '25Y75ozl2aI0NylFToefO5'\n",
    "playlist_annees_80 = '0slE73JFtRr3F2KnfoWlbO'\n",
    "\n",
    "playlist_ids = [playlist_drill, playlist_house, playlist_rap_us, playlist_afrobeat, playlist_annees_80]"
   ]
  },
  {
   "cell_type": "code",
   "execution_count": 2,
   "metadata": {},
   "outputs": [],
   "source": [
    "def view_table(table_name='tracks_history', db_name='spotify_project.db'):\n",
    "    conn = sqlite3.connect(db_name)\n",
    "    df = pd.read_sql(f\"SELECT * FROM {table_name}\", conn)\n",
    "    conn.close()\n",
    "    return df"
   ]
  },
  {
   "cell_type": "code",
   "execution_count": 3,
   "metadata": {},
   "outputs": [],
   "source": [
    "dataset_list = []\n",
    "playlist_names = ['playlist_drill', 'playlist_house', 'playlist_rap_us', 'playlist_afrobeat', 'playlist_annees_80']\n",
    "for playlist_name in playlist_names:\n",
    "    playlist = view_table(table_name=playlist_name)\n",
    "    dataset_list.append(playlist)\n",
    "dataset = pd.concat(dataset_list, axis=0, ignore_index=True)\n",
    "dataset['release_date'] = pd.to_datetime(dataset['release_date'], errors='coerce')"
   ]
  },
  {
   "cell_type": "code",
   "execution_count": 4,
   "metadata": {},
   "outputs": [
    {
     "data": {
      "text/html": [
       "<div>\n",
       "<style scoped>\n",
       "    .dataframe tbody tr th:only-of-type {\n",
       "        vertical-align: middle;\n",
       "    }\n",
       "\n",
       "    .dataframe tbody tr th {\n",
       "        vertical-align: top;\n",
       "    }\n",
       "\n",
       "    .dataframe thead th {\n",
       "        text-align: right;\n",
       "    }\n",
       "</style>\n",
       "<table border=\"1\" class=\"dataframe\">\n",
       "  <thead>\n",
       "    <tr style=\"text-align: right;\">\n",
       "      <th></th>\n",
       "      <th>popularity</th>\n",
       "      <th>duration</th>\n",
       "      <th>track_listeners</th>\n",
       "      <th>track_playcount</th>\n",
       "      <th>release_date</th>\n",
       "      <th>album_id</th>\n",
       "      <th>track_id</th>\n",
       "      <th>similar_artists_1</th>\n",
       "      <th>similar_artists_2</th>\n",
       "      <th>similar_artists_3</th>\n",
       "      <th>...</th>\n",
       "      <th>album_artists_id_91</th>\n",
       "      <th>album_artists_id_92</th>\n",
       "      <th>album_artists_id_93</th>\n",
       "      <th>album_artists_id_94</th>\n",
       "      <th>album_artists_id_95</th>\n",
       "      <th>album_artists_id_96</th>\n",
       "      <th>album_artists_id_97</th>\n",
       "      <th>album_artists_id_98</th>\n",
       "      <th>album_artists_id_99</th>\n",
       "      <th>album_artists_id_100</th>\n",
       "    </tr>\n",
       "  </thead>\n",
       "  <tbody>\n",
       "    <tr>\n",
       "      <th>0</th>\n",
       "      <td>0</td>\n",
       "      <td>176.427</td>\n",
       "      <td>1519</td>\n",
       "      <td>11302</td>\n",
       "      <td>7805.0</td>\n",
       "      <td>178</td>\n",
       "      <td>647</td>\n",
       "      <td>-0.158630</td>\n",
       "      <td>-0.051699</td>\n",
       "      <td>-0.011674</td>\n",
       "      <td>...</td>\n",
       "      <td>0.002823</td>\n",
       "      <td>-0.005950</td>\n",
       "      <td>-0.001892</td>\n",
       "      <td>0.008596</td>\n",
       "      <td>0.006684</td>\n",
       "      <td>0.002757</td>\n",
       "      <td>-0.000309</td>\n",
       "      <td>-0.000946</td>\n",
       "      <td>0.000450</td>\n",
       "      <td>0.000321</td>\n",
       "    </tr>\n",
       "    <tr>\n",
       "      <th>1</th>\n",
       "      <td>37</td>\n",
       "      <td>478.693</td>\n",
       "      <td>7704</td>\n",
       "      <td>88497</td>\n",
       "      <td>7806.0</td>\n",
       "      <td>137</td>\n",
       "      <td>577</td>\n",
       "      <td>-0.159313</td>\n",
       "      <td>-0.063581</td>\n",
       "      <td>-0.017654</td>\n",
       "      <td>...</td>\n",
       "      <td>-0.005557</td>\n",
       "      <td>0.005084</td>\n",
       "      <td>0.004226</td>\n",
       "      <td>-0.008609</td>\n",
       "      <td>-0.001284</td>\n",
       "      <td>-0.004973</td>\n",
       "      <td>0.001132</td>\n",
       "      <td>0.003717</td>\n",
       "      <td>-0.001160</td>\n",
       "      <td>0.002235</td>\n",
       "    </tr>\n",
       "    <tr>\n",
       "      <th>2</th>\n",
       "      <td>25</td>\n",
       "      <td>305.600</td>\n",
       "      <td>3132</td>\n",
       "      <td>25189</td>\n",
       "      <td>6837.0</td>\n",
       "      <td>14</td>\n",
       "      <td>423</td>\n",
       "      <td>-0.137736</td>\n",
       "      <td>-0.030305</td>\n",
       "      <td>-0.003578</td>\n",
       "      <td>...</td>\n",
       "      <td>0.001705</td>\n",
       "      <td>-0.002129</td>\n",
       "      <td>-0.000907</td>\n",
       "      <td>0.002855</td>\n",
       "      <td>0.001568</td>\n",
       "      <td>0.001264</td>\n",
       "      <td>-0.000076</td>\n",
       "      <td>-0.000054</td>\n",
       "      <td>0.000497</td>\n",
       "      <td>0.000081</td>\n",
       "    </tr>\n",
       "    <tr>\n",
       "      <th>3</th>\n",
       "      <td>0</td>\n",
       "      <td>227.040</td>\n",
       "      <td>6829</td>\n",
       "      <td>62105</td>\n",
       "      <td>7769.0</td>\n",
       "      <td>284</td>\n",
       "      <td>5</td>\n",
       "      <td>-0.363088</td>\n",
       "      <td>-0.620236</td>\n",
       "      <td>-0.276777</td>\n",
       "      <td>...</td>\n",
       "      <td>0.001970</td>\n",
       "      <td>-0.004377</td>\n",
       "      <td>-0.001703</td>\n",
       "      <td>0.005798</td>\n",
       "      <td>0.002477</td>\n",
       "      <td>0.001995</td>\n",
       "      <td>-0.000036</td>\n",
       "      <td>-0.000145</td>\n",
       "      <td>0.000753</td>\n",
       "      <td>0.000234</td>\n",
       "    </tr>\n",
       "    <tr>\n",
       "      <th>4</th>\n",
       "      <td>45</td>\n",
       "      <td>170.106</td>\n",
       "      <td>21604</td>\n",
       "      <td>273035</td>\n",
       "      <td>7559.0</td>\n",
       "      <td>721</td>\n",
       "      <td>607</td>\n",
       "      <td>-0.363088</td>\n",
       "      <td>-0.620236</td>\n",
       "      <td>-0.276777</td>\n",
       "      <td>...</td>\n",
       "      <td>0.001740</td>\n",
       "      <td>-0.001049</td>\n",
       "      <td>-0.000409</td>\n",
       "      <td>0.001563</td>\n",
       "      <td>0.001534</td>\n",
       "      <td>0.000996</td>\n",
       "      <td>0.000145</td>\n",
       "      <td>0.000070</td>\n",
       "      <td>0.000129</td>\n",
       "      <td>0.000003</td>\n",
       "    </tr>\n",
       "    <tr>\n",
       "      <th>...</th>\n",
       "      <td>...</td>\n",
       "      <td>...</td>\n",
       "      <td>...</td>\n",
       "      <td>...</td>\n",
       "      <td>...</td>\n",
       "      <td>...</td>\n",
       "      <td>...</td>\n",
       "      <td>...</td>\n",
       "      <td>...</td>\n",
       "      <td>...</td>\n",
       "      <td>...</td>\n",
       "      <td>...</td>\n",
       "      <td>...</td>\n",
       "      <td>...</td>\n",
       "      <td>...</td>\n",
       "      <td>...</td>\n",
       "      <td>...</td>\n",
       "      <td>...</td>\n",
       "      <td>...</td>\n",
       "      <td>...</td>\n",
       "      <td>...</td>\n",
       "    </tr>\n",
       "    <tr>\n",
       "      <th>888</th>\n",
       "      <td>26</td>\n",
       "      <td>209.562</td>\n",
       "      <td>1888</td>\n",
       "      <td>7319</td>\n",
       "      <td>-7884.0</td>\n",
       "      <td>616</td>\n",
       "      <td>845</td>\n",
       "      <td>-0.555690</td>\n",
       "      <td>1.479323</td>\n",
       "      <td>0.090315</td>\n",
       "      <td>...</td>\n",
       "      <td>0.001003</td>\n",
       "      <td>-0.001258</td>\n",
       "      <td>-0.000536</td>\n",
       "      <td>0.001685</td>\n",
       "      <td>0.000903</td>\n",
       "      <td>0.000747</td>\n",
       "      <td>-0.000047</td>\n",
       "      <td>-0.000029</td>\n",
       "      <td>0.000302</td>\n",
       "      <td>0.000048</td>\n",
       "    </tr>\n",
       "    <tr>\n",
       "      <th>889</th>\n",
       "      <td>40</td>\n",
       "      <td>196.640</td>\n",
       "      <td>49592</td>\n",
       "      <td>229717</td>\n",
       "      <td>8343.0</td>\n",
       "      <td>323</td>\n",
       "      <td>718</td>\n",
       "      <td>-0.306718</td>\n",
       "      <td>0.461516</td>\n",
       "      <td>0.026328</td>\n",
       "      <td>...</td>\n",
       "      <td>0.003101</td>\n",
       "      <td>-0.004159</td>\n",
       "      <td>-0.001841</td>\n",
       "      <td>0.005561</td>\n",
       "      <td>0.003149</td>\n",
       "      <td>0.002302</td>\n",
       "      <td>-0.000126</td>\n",
       "      <td>-0.000126</td>\n",
       "      <td>0.000872</td>\n",
       "      <td>0.000163</td>\n",
       "    </tr>\n",
       "    <tr>\n",
       "      <th>890</th>\n",
       "      <td>37</td>\n",
       "      <td>186.333</td>\n",
       "      <td>16214</td>\n",
       "      <td>48930</td>\n",
       "      <td>4018.0</td>\n",
       "      <td>659</td>\n",
       "      <td>214</td>\n",
       "      <td>-0.264683</td>\n",
       "      <td>0.393179</td>\n",
       "      <td>0.022570</td>\n",
       "      <td>...</td>\n",
       "      <td>0.004651</td>\n",
       "      <td>-0.002136</td>\n",
       "      <td>0.016141</td>\n",
       "      <td>0.003186</td>\n",
       "      <td>-0.026235</td>\n",
       "      <td>-0.015647</td>\n",
       "      <td>-0.019791</td>\n",
       "      <td>0.001051</td>\n",
       "      <td>0.003383</td>\n",
       "      <td>-0.035758</td>\n",
       "    </tr>\n",
       "    <tr>\n",
       "      <th>891</th>\n",
       "      <td>35</td>\n",
       "      <td>133.666</td>\n",
       "      <td>33199</td>\n",
       "      <td>139633</td>\n",
       "      <td>7370.0</td>\n",
       "      <td>617</td>\n",
       "      <td>349</td>\n",
       "      <td>-0.264683</td>\n",
       "      <td>0.393179</td>\n",
       "      <td>0.022570</td>\n",
       "      <td>...</td>\n",
       "      <td>0.004651</td>\n",
       "      <td>-0.002136</td>\n",
       "      <td>0.016141</td>\n",
       "      <td>0.003186</td>\n",
       "      <td>-0.026235</td>\n",
       "      <td>-0.015647</td>\n",
       "      <td>-0.019791</td>\n",
       "      <td>0.001051</td>\n",
       "      <td>0.003383</td>\n",
       "      <td>-0.035758</td>\n",
       "    </tr>\n",
       "    <tr>\n",
       "      <th>892</th>\n",
       "      <td>53</td>\n",
       "      <td>197.706</td>\n",
       "      <td>46867</td>\n",
       "      <td>269543</td>\n",
       "      <td>-984.0</td>\n",
       "      <td>205</td>\n",
       "      <td>789</td>\n",
       "      <td>-0.150251</td>\n",
       "      <td>-0.023590</td>\n",
       "      <td>-0.003358</td>\n",
       "      <td>...</td>\n",
       "      <td>0.034049</td>\n",
       "      <td>0.054299</td>\n",
       "      <td>0.128540</td>\n",
       "      <td>-0.075392</td>\n",
       "      <td>0.162997</td>\n",
       "      <td>0.025503</td>\n",
       "      <td>0.244333</td>\n",
       "      <td>-0.038189</td>\n",
       "      <td>0.075925</td>\n",
       "      <td>0.093125</td>\n",
       "    </tr>\n",
       "  </tbody>\n",
       "</table>\n",
       "<p>893 rows × 407 columns</p>\n",
       "</div>"
      ],
      "text/plain": [
       "     popularity  duration track_listeners track_playcount  release_date  \\\n",
       "0             0   176.427            1519           11302        7805.0   \n",
       "1            37   478.693            7704           88497        7806.0   \n",
       "2            25   305.600            3132           25189        6837.0   \n",
       "3             0   227.040            6829           62105        7769.0   \n",
       "4            45   170.106           21604          273035        7559.0   \n",
       "..          ...       ...             ...             ...           ...   \n",
       "888          26   209.562            1888            7319       -7884.0   \n",
       "889          40   196.640           49592          229717        8343.0   \n",
       "890          37   186.333           16214           48930        4018.0   \n",
       "891          35   133.666           33199          139633        7370.0   \n",
       "892          53   197.706           46867          269543        -984.0   \n",
       "\n",
       "     album_id  track_id  similar_artists_1  similar_artists_2  \\\n",
       "0         178       647          -0.158630          -0.051699   \n",
       "1         137       577          -0.159313          -0.063581   \n",
       "2          14       423          -0.137736          -0.030305   \n",
       "3         284         5          -0.363088          -0.620236   \n",
       "4         721       607          -0.363088          -0.620236   \n",
       "..        ...       ...                ...                ...   \n",
       "888       616       845          -0.555690           1.479323   \n",
       "889       323       718          -0.306718           0.461516   \n",
       "890       659       214          -0.264683           0.393179   \n",
       "891       617       349          -0.264683           0.393179   \n",
       "892       205       789          -0.150251          -0.023590   \n",
       "\n",
       "     similar_artists_3  ...  album_artists_id_91  album_artists_id_92  \\\n",
       "0            -0.011674  ...             0.002823            -0.005950   \n",
       "1            -0.017654  ...            -0.005557             0.005084   \n",
       "2            -0.003578  ...             0.001705            -0.002129   \n",
       "3            -0.276777  ...             0.001970            -0.004377   \n",
       "4            -0.276777  ...             0.001740            -0.001049   \n",
       "..                 ...  ...                  ...                  ...   \n",
       "888           0.090315  ...             0.001003            -0.001258   \n",
       "889           0.026328  ...             0.003101            -0.004159   \n",
       "890           0.022570  ...             0.004651            -0.002136   \n",
       "891           0.022570  ...             0.004651            -0.002136   \n",
       "892          -0.003358  ...             0.034049             0.054299   \n",
       "\n",
       "     album_artists_id_93  album_artists_id_94  album_artists_id_95  \\\n",
       "0              -0.001892             0.008596             0.006684   \n",
       "1               0.004226            -0.008609            -0.001284   \n",
       "2              -0.000907             0.002855             0.001568   \n",
       "3              -0.001703             0.005798             0.002477   \n",
       "4              -0.000409             0.001563             0.001534   \n",
       "..                   ...                  ...                  ...   \n",
       "888            -0.000536             0.001685             0.000903   \n",
       "889            -0.001841             0.005561             0.003149   \n",
       "890             0.016141             0.003186            -0.026235   \n",
       "891             0.016141             0.003186            -0.026235   \n",
       "892             0.128540            -0.075392             0.162997   \n",
       "\n",
       "     album_artists_id_96  album_artists_id_97  album_artists_id_98  \\\n",
       "0               0.002757            -0.000309            -0.000946   \n",
       "1              -0.004973             0.001132             0.003717   \n",
       "2               0.001264            -0.000076            -0.000054   \n",
       "3               0.001995            -0.000036            -0.000145   \n",
       "4               0.000996             0.000145             0.000070   \n",
       "..                   ...                  ...                  ...   \n",
       "888             0.000747            -0.000047            -0.000029   \n",
       "889             0.002302            -0.000126            -0.000126   \n",
       "890            -0.015647            -0.019791             0.001051   \n",
       "891            -0.015647            -0.019791             0.001051   \n",
       "892             0.025503             0.244333            -0.038189   \n",
       "\n",
       "     album_artists_id_99  album_artists_id_100  \n",
       "0               0.000450              0.000321  \n",
       "1              -0.001160              0.002235  \n",
       "2               0.000497              0.000081  \n",
       "3               0.000753              0.000234  \n",
       "4               0.000129              0.000003  \n",
       "..                   ...                   ...  \n",
       "888             0.000302              0.000048  \n",
       "889             0.000872              0.000163  \n",
       "890             0.003383             -0.035758  \n",
       "891             0.003383             -0.035758  \n",
       "892             0.075925              0.093125  \n",
       "\n",
       "[893 rows x 407 columns]"
      ]
     },
     "execution_count": 4,
     "metadata": {},
     "output_type": "execute_result"
    }
   ],
   "source": [
    "dataset_vect = spotify.vectorize_recent_tracks(dataset, n_components=100, played_date=False)\n",
    "dataset_vect"
   ]
  },
  {
   "cell_type": "code",
   "execution_count": null,
   "metadata": {},
   "outputs": [
    {
     "data": {
      "text/html": [
       "<div>\n",
       "<style scoped>\n",
       "    .dataframe tbody tr th:only-of-type {\n",
       "        vertical-align: middle;\n",
       "    }\n",
       "\n",
       "    .dataframe tbody tr th {\n",
       "        vertical-align: top;\n",
       "    }\n",
       "\n",
       "    .dataframe thead th {\n",
       "        text-align: right;\n",
       "    }\n",
       "</style>\n",
       "<table border=\"1\" class=\"dataframe\">\n",
       "  <thead>\n",
       "    <tr style=\"text-align: right;\">\n",
       "      <th></th>\n",
       "      <th>popularity</th>\n",
       "      <th>duration</th>\n",
       "      <th>track_listeners</th>\n",
       "      <th>track_playcount</th>\n",
       "      <th>release_date</th>\n",
       "      <th>album_id</th>\n",
       "      <th>track_id</th>\n",
       "      <th>similar_artists_1</th>\n",
       "      <th>similar_artists_2</th>\n",
       "      <th>similar_artists_3</th>\n",
       "      <th>...</th>\n",
       "      <th>album_artists_id_91</th>\n",
       "      <th>album_artists_id_92</th>\n",
       "      <th>album_artists_id_93</th>\n",
       "      <th>album_artists_id_94</th>\n",
       "      <th>album_artists_id_95</th>\n",
       "      <th>album_artists_id_96</th>\n",
       "      <th>album_artists_id_97</th>\n",
       "      <th>album_artists_id_98</th>\n",
       "      <th>album_artists_id_99</th>\n",
       "      <th>album_artists_id_100</th>\n",
       "    </tr>\n",
       "  </thead>\n",
       "  <tbody>\n",
       "    <tr>\n",
       "      <th>0</th>\n",
       "      <td>0.000000</td>\n",
       "      <td>0.220829</td>\n",
       "      <td>0.000818</td>\n",
       "      <td>0.000473</td>\n",
       "      <td>0.943808</td>\n",
       "      <td>123.439667</td>\n",
       "      <td>0.737742</td>\n",
       "      <td>0.163214</td>\n",
       "      <td>0.452923</td>\n",
       "      <td>0.505818</td>\n",
       "      <td>...</td>\n",
       "      <td>394.328793</td>\n",
       "      <td>500.526938</td>\n",
       "      <td>270.274421</td>\n",
       "      <td>460.559574</td>\n",
       "      <td>474.535016</td>\n",
       "      <td>418.660013</td>\n",
       "      <td>651.801969</td>\n",
       "      <td>269.079194</td>\n",
       "      <td>424.778841</td>\n",
       "      <td>632.936584</td>\n",
       "    </tr>\n",
       "    <tr>\n",
       "      <th>1</th>\n",
       "      <td>0.402174</td>\n",
       "      <td>1.000000</td>\n",
       "      <td>0.004150</td>\n",
       "      <td>0.003707</td>\n",
       "      <td>0.943849</td>\n",
       "      <td>95.006935</td>\n",
       "      <td>0.657925</td>\n",
       "      <td>0.162997</td>\n",
       "      <td>0.449538</td>\n",
       "      <td>0.503817</td>\n",
       "      <td>...</td>\n",
       "      <td>385.155149</td>\n",
       "      <td>507.900807</td>\n",
       "      <td>274.239276</td>\n",
       "      <td>442.711128</td>\n",
       "      <td>466.361645</td>\n",
       "      <td>411.580793</td>\n",
       "      <td>653.061721</td>\n",
       "      <td>272.707668</td>\n",
       "      <td>423.292317</td>\n",
       "      <td>634.529340</td>\n",
       "    </tr>\n",
       "    <tr>\n",
       "      <th>2</th>\n",
       "      <td>0.271739</td>\n",
       "      <td>0.553807</td>\n",
       "      <td>0.001687</td>\n",
       "      <td>0.001055</td>\n",
       "      <td>0.904335</td>\n",
       "      <td>9.708738</td>\n",
       "      <td>0.482326</td>\n",
       "      <td>0.169869</td>\n",
       "      <td>0.459017</td>\n",
       "      <td>0.508527</td>\n",
       "      <td>...</td>\n",
       "      <td>393.105519</td>\n",
       "      <td>503.080540</td>\n",
       "      <td>270.913180</td>\n",
       "      <td>454.604390</td>\n",
       "      <td>469.287764</td>\n",
       "      <td>417.293065</td>\n",
       "      <td>652.005446</td>\n",
       "      <td>269.772995</td>\n",
       "      <td>424.821875</td>\n",
       "      <td>632.736868</td>\n",
       "    </tr>\n",
       "    <tr>\n",
       "      <th>3</th>\n",
       "      <td>0.000000</td>\n",
       "      <td>0.351298</td>\n",
       "      <td>0.003679</td>\n",
       "      <td>0.002601</td>\n",
       "      <td>0.942340</td>\n",
       "      <td>196.948682</td>\n",
       "      <td>0.005701</td>\n",
       "      <td>0.098090</td>\n",
       "      <td>0.290950</td>\n",
       "      <td>0.417117</td>\n",
       "      <td>...</td>\n",
       "      <td>393.394819</td>\n",
       "      <td>501.578167</td>\n",
       "      <td>270.397222</td>\n",
       "      <td>457.657714</td>\n",
       "      <td>470.219228</td>\n",
       "      <td>417.962922</td>\n",
       "      <td>652.040577</td>\n",
       "      <td>269.702315</td>\n",
       "      <td>425.058883</td>\n",
       "      <td>632.864246</td>\n",
       "    </tr>\n",
       "    <tr>\n",
       "      <th>4</th>\n",
       "      <td>0.489130</td>\n",
       "      <td>0.204535</td>\n",
       "      <td>0.011638</td>\n",
       "      <td>0.011436</td>\n",
       "      <td>0.933776</td>\n",
       "      <td>500.000000</td>\n",
       "      <td>0.692132</td>\n",
       "      <td>0.098090</td>\n",
       "      <td>0.290950</td>\n",
       "      <td>0.417117</td>\n",
       "      <td>...</td>\n",
       "      <td>393.143580</td>\n",
       "      <td>503.802419</td>\n",
       "      <td>271.235799</td>\n",
       "      <td>453.263501</td>\n",
       "      <td>469.252116</td>\n",
       "      <td>417.047863</td>\n",
       "      <td>652.198769</td>\n",
       "      <td>269.870061</td>\n",
       "      <td>424.482359</td>\n",
       "      <td>632.671998</td>\n",
       "    </tr>\n",
       "    <tr>\n",
       "      <th>...</th>\n",
       "      <td>...</td>\n",
       "      <td>...</td>\n",
       "      <td>...</td>\n",
       "      <td>...</td>\n",
       "      <td>...</td>\n",
       "      <td>...</td>\n",
       "      <td>...</td>\n",
       "      <td>...</td>\n",
       "      <td>...</td>\n",
       "      <td>...</td>\n",
       "      <td>...</td>\n",
       "      <td>...</td>\n",
       "      <td>...</td>\n",
       "      <td>...</td>\n",
       "      <td>...</td>\n",
       "      <td>...</td>\n",
       "      <td>...</td>\n",
       "      <td>...</td>\n",
       "      <td>...</td>\n",
       "      <td>...</td>\n",
       "      <td>...</td>\n",
       "    </tr>\n",
       "    <tr>\n",
       "      <th>888</th>\n",
       "      <td>0.282609</td>\n",
       "      <td>0.306244</td>\n",
       "      <td>0.001017</td>\n",
       "      <td>0.000307</td>\n",
       "      <td>0.304041</td>\n",
       "      <td>427.184466</td>\n",
       "      <td>0.963512</td>\n",
       "      <td>0.036742</td>\n",
       "      <td>0.889100</td>\n",
       "      <td>0.539943</td>\n",
       "      <td>...</td>\n",
       "      <td>392.336116</td>\n",
       "      <td>503.662626</td>\n",
       "      <td>271.153243</td>\n",
       "      <td>453.390125</td>\n",
       "      <td>468.605027</td>\n",
       "      <td>416.819994</td>\n",
       "      <td>652.031114</td>\n",
       "      <td>269.792625</td>\n",
       "      <td>424.642357</td>\n",
       "      <td>632.710083</td>\n",
       "    </tr>\n",
       "    <tr>\n",
       "      <th>889</th>\n",
       "      <td>0.434783</td>\n",
       "      <td>0.272934</td>\n",
       "      <td>0.026715</td>\n",
       "      <td>0.009622</td>\n",
       "      <td>0.965746</td>\n",
       "      <td>223.994452</td>\n",
       "      <td>0.818700</td>\n",
       "      <td>0.116045</td>\n",
       "      <td>0.599134</td>\n",
       "      <td>0.518533</td>\n",
       "      <td>...</td>\n",
       "      <td>394.633931</td>\n",
       "      <td>501.724031</td>\n",
       "      <td>270.307601</td>\n",
       "      <td>457.411872</td>\n",
       "      <td>470.908933</td>\n",
       "      <td>418.243438</td>\n",
       "      <td>651.962056</td>\n",
       "      <td>269.717112</td>\n",
       "      <td>425.168641</td>\n",
       "      <td>632.805532</td>\n",
       "    </tr>\n",
       "    <tr>\n",
       "      <th>890</th>\n",
       "      <td>0.402174</td>\n",
       "      <td>0.246365</td>\n",
       "      <td>0.008734</td>\n",
       "      <td>0.002049</td>\n",
       "      <td>0.789381</td>\n",
       "      <td>457.004161</td>\n",
       "      <td>0.244014</td>\n",
       "      <td>0.129434</td>\n",
       "      <td>0.579665</td>\n",
       "      <td>0.517276</td>\n",
       "      <td>...</td>\n",
       "      <td>396.330621</td>\n",
       "      <td>503.076155</td>\n",
       "      <td>281.959820</td>\n",
       "      <td>454.947443</td>\n",
       "      <td>440.770351</td>\n",
       "      <td>401.805666</td>\n",
       "      <td>634.777678</td>\n",
       "      <td>270.632667</td>\n",
       "      <td>427.486950</td>\n",
       "      <td>602.913104</td>\n",
       "    </tr>\n",
       "    <tr>\n",
       "      <th>891</th>\n",
       "      <td>0.380435</td>\n",
       "      <td>0.110602</td>\n",
       "      <td>0.017884</td>\n",
       "      <td>0.005848</td>\n",
       "      <td>0.926069</td>\n",
       "      <td>427.877947</td>\n",
       "      <td>0.397948</td>\n",
       "      <td>0.129434</td>\n",
       "      <td>0.579665</td>\n",
       "      <td>0.517276</td>\n",
       "      <td>...</td>\n",
       "      <td>396.330621</td>\n",
       "      <td>503.076155</td>\n",
       "      <td>281.959820</td>\n",
       "      <td>454.947443</td>\n",
       "      <td>440.770351</td>\n",
       "      <td>401.805666</td>\n",
       "      <td>634.777678</td>\n",
       "      <td>270.632667</td>\n",
       "      <td>427.486950</td>\n",
       "      <td>602.913104</td>\n",
       "    </tr>\n",
       "    <tr>\n",
       "      <th>892</th>\n",
       "      <td>0.576087</td>\n",
       "      <td>0.275682</td>\n",
       "      <td>0.025247</td>\n",
       "      <td>0.011290</td>\n",
       "      <td>0.585410</td>\n",
       "      <td>142.163662</td>\n",
       "      <td>0.899658</td>\n",
       "      <td>0.165883</td>\n",
       "      <td>0.460931</td>\n",
       "      <td>0.508601</td>\n",
       "      <td>...</td>\n",
       "      <td>428.515095</td>\n",
       "      <td>540.790031</td>\n",
       "      <td>354.794206</td>\n",
       "      <td>373.431116</td>\n",
       "      <td>634.860911</td>\n",
       "      <td>439.491976</td>\n",
       "      <td>865.582458</td>\n",
       "      <td>240.101617</td>\n",
       "      <td>494.474512</td>\n",
       "      <td>710.165582</td>\n",
       "    </tr>\n",
       "  </tbody>\n",
       "</table>\n",
       "<p>893 rows × 407 columns</p>\n",
       "</div>"
      ],
      "text/plain": [
       "     popularity  duration  track_listeners  track_playcount  release_date  \\\n",
       "0      0.000000  0.220829         0.000818         0.000473      0.943808   \n",
       "1      0.402174  1.000000         0.004150         0.003707      0.943849   \n",
       "2      0.271739  0.553807         0.001687         0.001055      0.904335   \n",
       "3      0.000000  0.351298         0.003679         0.002601      0.942340   \n",
       "4      0.489130  0.204535         0.011638         0.011436      0.933776   \n",
       "..          ...       ...              ...              ...           ...   \n",
       "888    0.282609  0.306244         0.001017         0.000307      0.304041   \n",
       "889    0.434783  0.272934         0.026715         0.009622      0.965746   \n",
       "890    0.402174  0.246365         0.008734         0.002049      0.789381   \n",
       "891    0.380435  0.110602         0.017884         0.005848      0.926069   \n",
       "892    0.576087  0.275682         0.025247         0.011290      0.585410   \n",
       "\n",
       "       album_id  track_id  similar_artists_1  similar_artists_2  \\\n",
       "0    123.439667  0.737742           0.163214           0.452923   \n",
       "1     95.006935  0.657925           0.162997           0.449538   \n",
       "2      9.708738  0.482326           0.169869           0.459017   \n",
       "3    196.948682  0.005701           0.098090           0.290950   \n",
       "4    500.000000  0.692132           0.098090           0.290950   \n",
       "..          ...       ...                ...                ...   \n",
       "888  427.184466  0.963512           0.036742           0.889100   \n",
       "889  223.994452  0.818700           0.116045           0.599134   \n",
       "890  457.004161  0.244014           0.129434           0.579665   \n",
       "891  427.877947  0.397948           0.129434           0.579665   \n",
       "892  142.163662  0.899658           0.165883           0.460931   \n",
       "\n",
       "     similar_artists_3  ...  album_artists_id_91  album_artists_id_92  \\\n",
       "0             0.505818  ...           394.328793           500.526938   \n",
       "1             0.503817  ...           385.155149           507.900807   \n",
       "2             0.508527  ...           393.105519           503.080540   \n",
       "3             0.417117  ...           393.394819           501.578167   \n",
       "4             0.417117  ...           393.143580           503.802419   \n",
       "..                 ...  ...                  ...                  ...   \n",
       "888           0.539943  ...           392.336116           503.662626   \n",
       "889           0.518533  ...           394.633931           501.724031   \n",
       "890           0.517276  ...           396.330621           503.076155   \n",
       "891           0.517276  ...           396.330621           503.076155   \n",
       "892           0.508601  ...           428.515095           540.790031   \n",
       "\n",
       "     album_artists_id_93  album_artists_id_94  album_artists_id_95  \\\n",
       "0             270.274421           460.559574           474.535016   \n",
       "1             274.239276           442.711128           466.361645   \n",
       "2             270.913180           454.604390           469.287764   \n",
       "3             270.397222           457.657714           470.219228   \n",
       "4             271.235799           453.263501           469.252116   \n",
       "..                   ...                  ...                  ...   \n",
       "888           271.153243           453.390125           468.605027   \n",
       "889           270.307601           457.411872           470.908933   \n",
       "890           281.959820           454.947443           440.770351   \n",
       "891           281.959820           454.947443           440.770351   \n",
       "892           354.794206           373.431116           634.860911   \n",
       "\n",
       "     album_artists_id_96  album_artists_id_97  album_artists_id_98  \\\n",
       "0             418.660013           651.801969           269.079194   \n",
       "1             411.580793           653.061721           272.707668   \n",
       "2             417.293065           652.005446           269.772995   \n",
       "3             417.962922           652.040577           269.702315   \n",
       "4             417.047863           652.198769           269.870061   \n",
       "..                   ...                  ...                  ...   \n",
       "888           416.819994           652.031114           269.792625   \n",
       "889           418.243438           651.962056           269.717112   \n",
       "890           401.805666           634.777678           270.632667   \n",
       "891           401.805666           634.777678           270.632667   \n",
       "892           439.491976           865.582458           240.101617   \n",
       "\n",
       "     album_artists_id_99  album_artists_id_100  \n",
       "0             424.778841            632.936584  \n",
       "1             423.292317            634.529340  \n",
       "2             424.821875            632.736868  \n",
       "3             425.058883            632.864246  \n",
       "4             424.482359            632.671998  \n",
       "..                   ...                   ...  \n",
       "888           424.642357            632.710083  \n",
       "889           425.168641            632.805532  \n",
       "890           427.486950            602.913104  \n",
       "891           427.486950            602.913104  \n",
       "892           494.474512            710.165582  \n",
       "\n",
       "[893 rows x 407 columns]"
      ]
     },
     "execution_count": 7,
     "metadata": {},
     "output_type": "execute_result"
    }
   ],
   "source": [
    "dataset_scaled = spotify.scale_and_weight(dataset_vect, weights={'album_id':500, 'album_artists_id': 1000, 'track_tags':20}, n_components=100)\n",
    "dataset_scaled"
   ]
  },
  {
   "cell_type": "code",
   "execution_count": 26,
   "metadata": {},
   "outputs": [
    {
     "data": {
      "text/html": [
       "<div>\n",
       "<style scoped>\n",
       "    .dataframe tbody tr th:only-of-type {\n",
       "        vertical-align: middle;\n",
       "    }\n",
       "\n",
       "    .dataframe tbody tr th {\n",
       "        vertical-align: top;\n",
       "    }\n",
       "\n",
       "    .dataframe thead th {\n",
       "        text-align: right;\n",
       "    }\n",
       "</style>\n",
       "<table border=\"1\" class=\"dataframe\">\n",
       "  <thead>\n",
       "    <tr style=\"text-align: right;\">\n",
       "      <th></th>\n",
       "      <th>popularity</th>\n",
       "      <th>duration</th>\n",
       "      <th>track_listeners</th>\n",
       "      <th>track_playcount</th>\n",
       "      <th>release_date</th>\n",
       "      <th>album_id</th>\n",
       "      <th>track_id</th>\n",
       "      <th>similar_artists_1</th>\n",
       "      <th>similar_artists_2</th>\n",
       "      <th>similar_artists_3</th>\n",
       "      <th>...</th>\n",
       "      <th>album_artists_id_91</th>\n",
       "      <th>album_artists_id_92</th>\n",
       "      <th>album_artists_id_93</th>\n",
       "      <th>album_artists_id_94</th>\n",
       "      <th>album_artists_id_95</th>\n",
       "      <th>album_artists_id_96</th>\n",
       "      <th>album_artists_id_97</th>\n",
       "      <th>album_artists_id_98</th>\n",
       "      <th>album_artists_id_99</th>\n",
       "      <th>album_artists_id_100</th>\n",
       "    </tr>\n",
       "  </thead>\n",
       "  <tbody>\n",
       "    <tr>\n",
       "      <th>0</th>\n",
       "      <td>0.000000</td>\n",
       "      <td>0.044166</td>\n",
       "      <td>0.0</td>\n",
       "      <td>0.000473</td>\n",
       "      <td>377.523142</td>\n",
       "      <td>2468.793343</td>\n",
       "      <td>0.737742</td>\n",
       "      <td>1632.142252</td>\n",
       "      <td>4529.231189</td>\n",
       "      <td>5058.174463</td>\n",
       "      <td>...</td>\n",
       "      <td>7981.701380</td>\n",
       "      <td>7210.751041</td>\n",
       "      <td>4378.967058</td>\n",
       "      <td>8118.425219</td>\n",
       "      <td>8947.869545</td>\n",
       "      <td>7839.864004</td>\n",
       "      <td>9958.579687</td>\n",
       "      <td>6658.723655</td>\n",
       "      <td>7327.509655</td>\n",
       "      <td>9230.275386</td>\n",
       "    </tr>\n",
       "    <tr>\n",
       "      <th>1</th>\n",
       "      <td>0.201087</td>\n",
       "      <td>0.200000</td>\n",
       "      <td>0.0</td>\n",
       "      <td>0.003707</td>\n",
       "      <td>377.539453</td>\n",
       "      <td>1900.138696</td>\n",
       "      <td>0.657925</td>\n",
       "      <td>1629.969114</td>\n",
       "      <td>4495.378758</td>\n",
       "      <td>5038.172673</td>\n",
       "      <td>...</td>\n",
       "      <td>7832.873370</td>\n",
       "      <td>6942.735647</td>\n",
       "      <td>4249.062353</td>\n",
       "      <td>8141.338218</td>\n",
       "      <td>9211.749156</td>\n",
       "      <td>7824.198745</td>\n",
       "      <td>10058.622977</td>\n",
       "      <td>6675.237726</td>\n",
       "      <td>7326.841344</td>\n",
       "      <td>9226.081716</td>\n",
       "    </tr>\n",
       "    <tr>\n",
       "      <th>2</th>\n",
       "      <td>0.135870</td>\n",
       "      <td>0.110761</td>\n",
       "      <td>0.0</td>\n",
       "      <td>0.001055</td>\n",
       "      <td>361.733882</td>\n",
       "      <td>194.174757</td>\n",
       "      <td>0.482326</td>\n",
       "      <td>1698.695392</td>\n",
       "      <td>4590.176917</td>\n",
       "      <td>5085.267666</td>\n",
       "      <td>...</td>\n",
       "      <td>7971.110955</td>\n",
       "      <td>7163.548290</td>\n",
       "      <td>4343.545326</td>\n",
       "      <td>8137.332701</td>\n",
       "      <td>8970.131313</td>\n",
       "      <td>7833.474918</td>\n",
       "      <td>9965.971977</td>\n",
       "      <td>6656.713662</td>\n",
       "      <td>7322.673656</td>\n",
       "      <td>9217.932331</td>\n",
       "    </tr>\n",
       "    <tr>\n",
       "      <th>3</th>\n",
       "      <td>0.000000</td>\n",
       "      <td>0.070260</td>\n",
       "      <td>0.0</td>\n",
       "      <td>0.002601</td>\n",
       "      <td>376.935938</td>\n",
       "      <td>3938.973648</td>\n",
       "      <td>0.005701</td>\n",
       "      <td>980.898546</td>\n",
       "      <td>2909.505270</td>\n",
       "      <td>4171.166351</td>\n",
       "      <td>...</td>\n",
       "      <td>7970.061447</td>\n",
       "      <td>7186.302795</td>\n",
       "      <td>4358.821640</td>\n",
       "      <td>8138.581623</td>\n",
       "      <td>8970.331345</td>\n",
       "      <td>7841.238351</td>\n",
       "      <td>9967.474455</td>\n",
       "      <td>6659.919282</td>\n",
       "      <td>7320.588335</td>\n",
       "      <td>9221.812156</td>\n",
       "    </tr>\n",
       "    <tr>\n",
       "      <th>4</th>\n",
       "      <td>0.244565</td>\n",
       "      <td>0.040907</td>\n",
       "      <td>0.0</td>\n",
       "      <td>0.011436</td>\n",
       "      <td>373.510582</td>\n",
       "      <td>10000.000000</td>\n",
       "      <td>0.692132</td>\n",
       "      <td>980.898546</td>\n",
       "      <td>2909.505270</td>\n",
       "      <td>4171.166351</td>\n",
       "      <td>...</td>\n",
       "      <td>7978.543238</td>\n",
       "      <td>7157.127607</td>\n",
       "      <td>4338.936088</td>\n",
       "      <td>8133.303652</td>\n",
       "      <td>8966.232537</td>\n",
       "      <td>7831.484450</td>\n",
       "      <td>9966.926081</td>\n",
       "      <td>6655.009063</td>\n",
       "      <td>7320.388851</td>\n",
       "      <td>9212.535201</td>\n",
       "    </tr>\n",
       "    <tr>\n",
       "      <th>...</th>\n",
       "      <td>...</td>\n",
       "      <td>...</td>\n",
       "      <td>...</td>\n",
       "      <td>...</td>\n",
       "      <td>...</td>\n",
       "      <td>...</td>\n",
       "      <td>...</td>\n",
       "      <td>...</td>\n",
       "      <td>...</td>\n",
       "      <td>...</td>\n",
       "      <td>...</td>\n",
       "      <td>...</td>\n",
       "      <td>...</td>\n",
       "      <td>...</td>\n",
       "      <td>...</td>\n",
       "      <td>...</td>\n",
       "      <td>...</td>\n",
       "      <td>...</td>\n",
       "      <td>...</td>\n",
       "      <td>...</td>\n",
       "      <td>...</td>\n",
       "    </tr>\n",
       "    <tr>\n",
       "      <th>888</th>\n",
       "      <td>0.141304</td>\n",
       "      <td>0.061249</td>\n",
       "      <td>0.0</td>\n",
       "      <td>0.000307</td>\n",
       "      <td>121.616442</td>\n",
       "      <td>8543.689320</td>\n",
       "      <td>0.963512</td>\n",
       "      <td>367.420005</td>\n",
       "      <td>8891.006371</td>\n",
       "      <td>5399.422468</td>\n",
       "      <td>...</td>\n",
       "      <td>7960.861489</td>\n",
       "      <td>7147.031791</td>\n",
       "      <td>4335.823659</td>\n",
       "      <td>8138.280986</td>\n",
       "      <td>8988.995150</td>\n",
       "      <td>7829.999515</td>\n",
       "      <td>9967.142983</td>\n",
       "      <td>6655.153881</td>\n",
       "      <td>7322.605744</td>\n",
       "      <td>9216.028172</td>\n",
       "    </tr>\n",
       "    <tr>\n",
       "      <th>889</th>\n",
       "      <td>0.217391</td>\n",
       "      <td>0.054587</td>\n",
       "      <td>0.0</td>\n",
       "      <td>0.009622</td>\n",
       "      <td>386.298577</td>\n",
       "      <td>4479.889043</td>\n",
       "      <td>0.818700</td>\n",
       "      <td>1160.451957</td>\n",
       "      <td>5991.344984</td>\n",
       "      <td>5185.327170</td>\n",
       "      <td>...</td>\n",
       "      <td>7993.920694</td>\n",
       "      <td>7203.880984</td>\n",
       "      <td>4360.838889</td>\n",
       "      <td>8133.110981</td>\n",
       "      <td>8935.438995</td>\n",
       "      <td>7846.048097</td>\n",
       "      <td>9964.592568</td>\n",
       "      <td>6660.602748</td>\n",
       "      <td>7321.590016</td>\n",
       "      <td>9222.268476</td>\n",
       "    </tr>\n",
       "    <tr>\n",
       "      <th>890</th>\n",
       "      <td>0.201087</td>\n",
       "      <td>0.049273</td>\n",
       "      <td>0.0</td>\n",
       "      <td>0.002049</td>\n",
       "      <td>315.752559</td>\n",
       "      <td>9140.083218</td>\n",
       "      <td>0.244014</td>\n",
       "      <td>1294.340752</td>\n",
       "      <td>5796.654134</td>\n",
       "      <td>5172.765102</td>\n",
       "      <td>...</td>\n",
       "      <td>7742.815365</td>\n",
       "      <td>6873.227397</td>\n",
       "      <td>4043.943117</td>\n",
       "      <td>8256.086597</td>\n",
       "      <td>8891.640079</td>\n",
       "      <td>7611.493430</td>\n",
       "      <td>10264.784938</td>\n",
       "      <td>6348.844714</td>\n",
       "      <td>7335.877736</td>\n",
       "      <td>9335.864588</td>\n",
       "    </tr>\n",
       "    <tr>\n",
       "      <th>891</th>\n",
       "      <td>0.190217</td>\n",
       "      <td>0.022120</td>\n",
       "      <td>0.0</td>\n",
       "      <td>0.005848</td>\n",
       "      <td>370.427762</td>\n",
       "      <td>8557.558946</td>\n",
       "      <td>0.397948</td>\n",
       "      <td>1294.340752</td>\n",
       "      <td>5796.654134</td>\n",
       "      <td>5172.765102</td>\n",
       "      <td>...</td>\n",
       "      <td>7742.815365</td>\n",
       "      <td>6873.227397</td>\n",
       "      <td>4043.943117</td>\n",
       "      <td>8256.086597</td>\n",
       "      <td>8891.640079</td>\n",
       "      <td>7611.493430</td>\n",
       "      <td>10264.784938</td>\n",
       "      <td>6348.844714</td>\n",
       "      <td>7335.877736</td>\n",
       "      <td>9335.864588</td>\n",
       "    </tr>\n",
       "    <tr>\n",
       "      <th>892</th>\n",
       "      <td>0.288043</td>\n",
       "      <td>0.055136</td>\n",
       "      <td>0.0</td>\n",
       "      <td>0.011290</td>\n",
       "      <td>234.163846</td>\n",
       "      <td>2843.273232</td>\n",
       "      <td>0.899658</td>\n",
       "      <td>1658.833991</td>\n",
       "      <td>4609.323942</td>\n",
       "      <td>5086.012382</td>\n",
       "      <td>...</td>\n",
       "      <td>9192.970252</td>\n",
       "      <td>7807.402508</td>\n",
       "      <td>3724.886114</td>\n",
       "      <td>8584.472819</td>\n",
       "      <td>7859.003180</td>\n",
       "      <td>2843.789756</td>\n",
       "      <td>11612.837594</td>\n",
       "      <td>10909.387105</td>\n",
       "      <td>6961.505477</td>\n",
       "      <td>8211.169140</td>\n",
       "    </tr>\n",
       "  </tbody>\n",
       "</table>\n",
       "<p>893 rows × 407 columns</p>\n",
       "</div>"
      ],
      "text/plain": [
       "     popularity  duration  track_listeners  track_playcount  release_date  \\\n",
       "0      0.000000  0.044166              0.0         0.000473    377.523142   \n",
       "1      0.201087  0.200000              0.0         0.003707    377.539453   \n",
       "2      0.135870  0.110761              0.0         0.001055    361.733882   \n",
       "3      0.000000  0.070260              0.0         0.002601    376.935938   \n",
       "4      0.244565  0.040907              0.0         0.011436    373.510582   \n",
       "..          ...       ...              ...              ...           ...   \n",
       "888    0.141304  0.061249              0.0         0.000307    121.616442   \n",
       "889    0.217391  0.054587              0.0         0.009622    386.298577   \n",
       "890    0.201087  0.049273              0.0         0.002049    315.752559   \n",
       "891    0.190217  0.022120              0.0         0.005848    370.427762   \n",
       "892    0.288043  0.055136              0.0         0.011290    234.163846   \n",
       "\n",
       "         album_id  track_id  similar_artists_1  similar_artists_2  \\\n",
       "0     2468.793343  0.737742        1632.142252        4529.231189   \n",
       "1     1900.138696  0.657925        1629.969114        4495.378758   \n",
       "2      194.174757  0.482326        1698.695392        4590.176917   \n",
       "3     3938.973648  0.005701         980.898546        2909.505270   \n",
       "4    10000.000000  0.692132         980.898546        2909.505270   \n",
       "..            ...       ...                ...                ...   \n",
       "888   8543.689320  0.963512         367.420005        8891.006371   \n",
       "889   4479.889043  0.818700        1160.451957        5991.344984   \n",
       "890   9140.083218  0.244014        1294.340752        5796.654134   \n",
       "891   8557.558946  0.397948        1294.340752        5796.654134   \n",
       "892   2843.273232  0.899658        1658.833991        4609.323942   \n",
       "\n",
       "     similar_artists_3  ...  album_artists_id_91  album_artists_id_92  \\\n",
       "0          5058.174463  ...          7981.701380          7210.751041   \n",
       "1          5038.172673  ...          7832.873370          6942.735647   \n",
       "2          5085.267666  ...          7971.110955          7163.548290   \n",
       "3          4171.166351  ...          7970.061447          7186.302795   \n",
       "4          4171.166351  ...          7978.543238          7157.127607   \n",
       "..                 ...  ...                  ...                  ...   \n",
       "888        5399.422468  ...          7960.861489          7147.031791   \n",
       "889        5185.327170  ...          7993.920694          7203.880984   \n",
       "890        5172.765102  ...          7742.815365          6873.227397   \n",
       "891        5172.765102  ...          7742.815365          6873.227397   \n",
       "892        5086.012382  ...          9192.970252          7807.402508   \n",
       "\n",
       "     album_artists_id_93  album_artists_id_94  album_artists_id_95  \\\n",
       "0            4378.967058          8118.425219          8947.869545   \n",
       "1            4249.062353          8141.338218          9211.749156   \n",
       "2            4343.545326          8137.332701          8970.131313   \n",
       "3            4358.821640          8138.581623          8970.331345   \n",
       "4            4338.936088          8133.303652          8966.232537   \n",
       "..                   ...                  ...                  ...   \n",
       "888          4335.823659          8138.280986          8988.995150   \n",
       "889          4360.838889          8133.110981          8935.438995   \n",
       "890          4043.943117          8256.086597          8891.640079   \n",
       "891          4043.943117          8256.086597          8891.640079   \n",
       "892          3724.886114          8584.472819          7859.003180   \n",
       "\n",
       "     album_artists_id_96  album_artists_id_97  album_artists_id_98  \\\n",
       "0            7839.864004          9958.579687          6658.723655   \n",
       "1            7824.198745         10058.622977          6675.237726   \n",
       "2            7833.474918          9965.971977          6656.713662   \n",
       "3            7841.238351          9967.474455          6659.919282   \n",
       "4            7831.484450          9966.926081          6655.009063   \n",
       "..                   ...                  ...                  ...   \n",
       "888          7829.999515          9967.142983          6655.153881   \n",
       "889          7846.048097          9964.592568          6660.602748   \n",
       "890          7611.493430         10264.784938          6348.844714   \n",
       "891          7611.493430         10264.784938          6348.844714   \n",
       "892          2843.789756         11612.837594         10909.387105   \n",
       "\n",
       "     album_artists_id_99  album_artists_id_100  \n",
       "0            7327.509655           9230.275386  \n",
       "1            7326.841344           9226.081716  \n",
       "2            7322.673656           9217.932331  \n",
       "3            7320.588335           9221.812156  \n",
       "4            7320.388851           9212.535201  \n",
       "..                   ...                   ...  \n",
       "888          7322.605744           9216.028172  \n",
       "889          7321.590016           9222.268476  \n",
       "890          7335.877736           9335.864588  \n",
       "891          7335.877736           9335.864588  \n",
       "892          6961.505477           8211.169140  \n",
       "\n",
       "[893 rows x 407 columns]"
      ]
     },
     "execution_count": 26,
     "metadata": {},
     "output_type": "execute_result"
    }
   ],
   "source": [
    "dataset_scaled = spotify.scale_and_weight(dataset_vect, weighted_features=['track_listeners', 'tracks_playcount', 'popularity', 'duration', 'release_date', 'album_id', 'track_tags', 'similar_artists', 'track_artists_id', 'album_artists_id'], weights=[0, 0, 0.5, 0.2, 400, 10000, 50000, 10000, 150000, 15000], n_components=100)\n",
    "dataset_scaled"
   ]
  },
  {
   "cell_type": "code",
   "execution_count": 33,
   "metadata": {},
   "outputs": [],
   "source": [
    "from sklearn.cluster import DBSCAN\n",
    "from sklearn.impute import SimpleImputer\n",
    "dbscan = DBSCAN(eps=2, min_samples=5, metric='euclidean')\n",
    "\n",
    "imputer = SimpleImputer(strategy=\"mean\")\n",
    "dataset_imputed = pd.DataFrame(imputer.fit_transform(dataset_scaled), columns=dataset_scaled.columns)\n",
    "dataset_vect['cluster'] = dbscan.fit_predict(dataset_imputed)"
   ]
  },
  {
   "cell_type": "code",
   "execution_count": 34,
   "metadata": {},
   "outputs": [
    {
     "data": {
      "image/png": "[encoded data removed]",
      "text/plain": [
       "<Figure size 1000x600 with 1 Axes>"
      ]
     },
     "metadata": {},
     "output_type": "display_data"
    }
   ],
   "source": [
    "from sklearn.decomposition import PCA\n",
    "\n",
    "# Réduction en 2D pour la visualisation\n",
    "pca = PCA(n_components=2)\n",
    "dataset_vect.fillna(0,  inplace=True)\n",
    "X_pca = pca.fit_transform(dataset_vect)\n",
    "dataset_vect['pca1'] = X_pca[:, 0]\n",
    "dataset_vect['pca2'] = X_pca[:, 1]\n",
    "\n",
    "# Visualisation\n",
    "plt.figure(figsize=(10, 6))\n",
    "sns.scatterplot(x='pca1', y='pca2', hue=dataset_vect['cluster'], palette='tab10', data=dataset_vect)\n",
    "plt.title(\"Clusters détectés par DBSCAN\")\n",
    "plt.show()"
   ]
  },
  {
   "cell_type": "code",
   "execution_count": 28,
   "metadata": {},
   "outputs": [
    {
     "data": {
      "image/png": "[encoded data removed]",
      "text/plain": [
       "<Figure size 640x480 with 1 Axes>"
      ]
     },
     "metadata": {},
     "output_type": "display_data"
    },
    {
     "data": {
      "application/vnd.plotly.v1+json": {
       "config": {
        "plotlyServerURL": "https://plot.ly"
       },
       "data": [
        {
         "customdata": [
          [
           "Polémique"
          ],
          [
           "669, Pt. 2"
          ],
          [
           "669"
          ],
          [
           "Scellé Part. 3"
          ],
          [
           "Scellé part.2"
          ],
          [
           "Scellé"
          ],
          [
           "Drill FR 4"
          ],
          [
           "DRILL FR 5 (feat. Hamza)"
          ],
          [
           "KASSAV (feat. Tiakola)"
          ],
          [
           "TCHIN 2X"
          ],
          [
           "EUPHON"
          ],
          [
           "HAINE&SEX"
          ],
          [
           "Benibla freestyle"
          ],
          [
           "Arah 1"
          ],
          [
           "Arah 3"
          ],
          [
           "Confinato"
          ],
          [
           "Flamengo"
          ],
          [
           "Barceloneta"
          ],
          [
           "Climatisé"
          ],
          [
           "Flash"
          ],
          [
           "Cactus"
          ],
          [
           "Katana"
          ],
          [
           "Boisson"
          ],
          [
           "Méthode"
          ],
          [
           "X3 (feat. Gazo)"
          ],
          [
           "Sunset"
          ],
          [
           "Tah sah"
          ],
          [
           "7 vies - Saison 999"
          ],
          [
           "Savage - Saison 999"
          ],
          [
           "Juicy - Saison 999"
          ],
          [
           "AR - Saison 999"
          ],
          [
           "Don’t Tell (feat. Headie One)"
          ],
          [
           "PAPI"
          ],
          [
           "Téléphone - Extrait de CRCLR MVT SAISON II"
          ],
          [
           "Intro"
          ],
          [
           "Baton Rouge"
          ],
          [
           "Pour It Up"
          ],
          [
           "Welcome to the Party"
          ],
          [
           "Keke"
          ],
          [
           "Gang Gang"
          ],
          [
           "Travail d'Ekip"
          ],
          [
           "Bicrave bitch"
          ],
          [
           "Crystal Lake (feat. Freeze Corleone)"
          ],
          [
           "Purge 5"
          ],
          [
           "Desiigner - A COLORS SHOW"
          ],
          [
           "7 sur 7"
          ],
          [
           "Mannschaft (feat. Freeze Corleone)"
          ],
          [
           "Origami"
          ],
          [
           "LY City"
          ],
          [
           "Ghini Ghini"
          ],
          [
           "Acte de Burberry"
          ],
          [
           "Bad Bi"
          ],
          [
           "Daddy chocolat"
          ],
          [
           "Lyonzon Lyonzon"
          ],
          [
           "Booska'Purge"
          ],
          [
           "GO (feat. Franglish & Landy)"
          ],
          [
           "Pousse toi"
          ],
          [
           "Elle veut"
          ],
          [
           "Où est la nina ?"
          ],
          [
           "Manger"
          ],
          [
           "Problèmes du matin"
          ],
          [
           "Invincible"
          ],
          [
           "Dior"
          ],
          [
           "ZEZE (feat. Travis Scott & Offset)"
          ],
          [
           "Kalitada (feat. SLK)"
          ],
          [
           "FUM22 NOCIVE"
          ],
          [
           "Swipe up"
          ],
          [
           "Kitchen"
          ],
          [
           "Taste (feat. Offset)"
          ],
          [
           "Qatari"
          ],
          [
           "Wow"
          ],
          [
           "Mia Wallace"
          ],
          [
           "H24"
          ],
          [
           "Tous les jours"
          ],
          [
           "Grammy"
          ],
          [
           "Drip or Drown"
          ],
          [
           "Off White"
          ],
          [
           "Alice"
          ],
          [
           "CARTIER"
          ],
          [
           "Batards"
          ],
          [
           "PARFUM"
          ],
          [
           "GROKUWA"
          ],
          [
           "My Men"
          ],
          [
           "Mercedes"
          ],
          [
           "Big Meech"
          ],
          [
           "Kobe (feat. Zola)"
          ],
          [
           "Freestyle Hors Série"
          ],
          [
           "Strict minimum"
          ],
          [
           "PAPEL"
          ],
          [
           "LETTRE À UN OPPS"
          ],
          [
           "HENNESSY"
          ],
          [
           "CELINE 3X"
          ],
          [
           "Mode Avion"
          ],
          [
           "M.A.L.A (feat. M Huncho)"
          ],
          [
           "Pablo Picasso (feat. 1PLIKÉ140)"
          ],
          [
           "Spaghetti (feat. Gazo & Guy2Bezbar)"
          ],
          [
           "A$AP"
          ],
          [
           "1PLIKÉ140 x Fumez The Engineer - Plugged In Freestyle"
          ],
          [
           "1PLIKTOI BIEN"
          ],
          [
           "Pas de ralentir 2"
          ],
          [
           "Sadio (feat. Offset)"
          ],
          [
           "Free YSL"
          ],
          [
           "WWE"
          ],
          [
           "TOUTE LA JOURNÉE (feat. Tiakola)"
          ],
          [
           "Toxic"
          ],
          [
           "00h"
          ],
          [
           "+ de sous"
          ],
          [
           "B.A.L"
          ],
          [
           "Calme toi"
          ],
          [
           "NO LÈCHE"
          ],
          [
           "FACETIME"
          ],
          [
           "N.I.A (feat. Green Montana)"
          ],
          [
           "LE ZEN ET LES SEINS"
          ],
          [
           "Onde de choc"
          ],
          [
           "Lampadaire, Pt. 2"
          ],
          [
           "Shavkat"
          ],
          [
           "GATTI"
          ],
          [
           "Mucho Love"
          ],
          [
           "Méchamment Cru"
          ],
          [
           "Vive le gang"
          ],
          [
           "Trap Queen"
          ],
          [
           "Enjoy Yourself (feat. Karol G)"
          ],
          [
           "Latest Trends"
          ],
          [
           "Know No Better (feat. Travis Scott, Camila Cabello & Quavo)"
          ],
          [
           "I KNOW ?"
          ],
          [
           "Scary (feat. Aitch)"
          ],
          [
           "New Flow"
          ],
          [
           "EN VRAI"
          ],
          [
           "Elastiqué"
          ],
          [
           "Special"
          ],
          [
           "Méchant méchant méchant"
          ],
          [
           "Méchant 4"
          ],
          [
           "CRACKLANDERS - Part. II"
          ],
          [
           "KH-22"
          ],
          [
           "Encore une malette"
          ],
          [
           "100K"
          ],
          [
           "200K"
          ],
          [
           "SORRY (feat. Hamza & Guy2bezbar)"
          ],
          [
           "Affilié"
          ],
          [
           "French Drill 8 - Macabre"
          ],
          [
           "No Skip 2"
          ],
          [
           "B*tch"
          ],
          [
           "Canon"
          ],
          [
           "Saison 2"
          ],
          [
           "Manger"
          ],
          [
           "Spiderman (Freestyle OKLM)"
          ],
          [
           "Mia Wallace"
          ],
          [
           "Clic Clac (feat. 13 Block)"
          ],
          [
           "Honey"
          ],
          [
           "Live Off My Closet (feat. Future)"
          ],
          [
           "B.A.B"
          ],
          [
           "bank"
          ],
          [
           "barcelona92"
          ],
          [
           "LE FILM"
          ],
          [
           "CHOUCHOU DES MADAMES"
          ],
          [
           "MARGIELA"
          ],
          [
           "DOPE & FLOW"
          ],
          [
           "Thug - Nouvelle École"
          ],
          [
           "Pure Cocaine"
          ],
          [
           "Close Friends (Lil Baby & Gunna)"
          ],
          [
           "Girls Want Girls (with Lil Baby)"
          ],
          [
           "Barking"
          ],
          [
           "Woah"
          ],
          [
           "GO BRAZY - WITH MUSTARD & BABY STONE GORILLAS"
          ],
          [
           "ONLY FANS - WITH JAYE ANDERSON"
          ],
          [
           "Not Like Us"
          ],
          [
           "Papillon"
          ],
          [
           "Inceste"
          ],
          [
           "on one tonight"
          ],
          [
           "Insecurities"
          ],
          [
           "Baby (Lil Baby feat. DaBaby)"
          ],
          [
           "Rolala"
          ],
          [
           "LIKE ME"
          ],
          [
           "Sauce It Up"
          ],
          [
           "The London (feat. J. Cole & Travis Scott)"
          ],
          [
           "Body"
          ],
          [
           "Tropical"
          ],
          [
           "Tsunami"
          ],
          [
           "Sexy Woman"
          ],
          [
           "You & Me - Rivo Remix"
          ],
          [
           "Forever (feat. Malou & Yuna)"
          ],
          [
           "Move"
          ],
          [
           "I Adore You (feat. Daecolm)"
          ],
          [
           "Ride It"
          ],
          [
           "Only One"
          ],
          [
           "Hold On Me"
          ],
          [
           "Pull Me Under"
          ],
          [
           "Catch & Release - Deepend Remix"
          ],
          [
           "Maze Of Memories"
          ],
          [
           "10:35"
          ],
          [
           "How Deep"
          ],
          [
           "Location"
          ],
          [
           "Inertia"
          ],
          [
           "Si Ai - Marshmello & UKAY Remix"
          ],
          [
           "Only You"
          ],
          [
           "Shotgun"
          ],
          [
           "Mwaki"
          ],
          [
           "Woke Up in Love"
          ],
          [
           "Lose It All"
          ],
          [
           "Stolen Dance"
          ],
          [
           "Need To Feel Loved"
          ],
          [
           "Miss a Thing"
          ],
          [
           "Whatever"
          ],
          [
           "Saving All My Love"
          ],
          [
           "Take My Breath Away"
          ],
          [
           "Californication"
          ],
          [
           "Losing My Way"
          ],
          [
           "Giving Me"
          ],
          [
           "Sunset"
          ],
          [
           "Circles"
          ],
          [
           "Gypsy Woman"
          ],
          [
           "Back To You"
          ],
          [
           "Miss U"
          ],
          [
           "Aurora"
          ],
          [
           "Don’t Forget My Love"
          ],
          [
           "froze"
          ],
          [
           "Fleurs"
          ],
          [
           "This Sunset"
          ],
          [
           "Dance Alone"
          ],
          [
           "All Night Long"
          ],
          [
           "True"
          ],
          [
           "If The Moon Could Talk"
          ],
          [
           "Dancing in the Moonlight (feat. Neimy)"
          ],
          [
           "Melodies of Love"
          ],
          [
           "Black Friday (pretty like the sun)"
          ],
          [
           "Alta"
          ],
          [
           "I Saw It Coming"
          ],
          [
           "Stumblin' In"
          ],
          [
           "Eyes"
          ],
          [
           "Chasing Paradise"
          ],
          [
           "Passing By"
          ],
          [
           "Without You"
          ],
          [
           "Place We Know"
          ],
          [
           "Addicted"
          ],
          [
           "Morning Sun"
          ],
          [
           "Floating"
          ],
          [
           "For Life (feat. Nile Rodgers)"
          ],
          [
           "Find You"
          ],
          [
           "been lost"
          ],
          [
           "Ocean Eyes"
          ],
          [
           "Hey Ya!"
          ],
          [
           "Let You Go"
          ],
          [
           "Enfants"
          ],
          [
           "Long Way Home"
          ],
          [
           "Ocean Pass"
          ],
          [
           "Circles"
          ],
          [
           "Escape"
          ],
          [
           "Call You Mine"
          ],
          [
           "Dive"
          ],
          [
           "Gloaming"
          ],
          [
           "True"
          ],
          [
           "Walking On a Dream"
          ],
          [
           "Tore Me Up"
          ],
          [
           "Love Is The Only Thing"
          ],
          [
           "Sex, Drugs, Etc."
          ],
          [
           "Gaia"
          ],
          [
           "Breeze"
          ],
          [
           "Summer"
          ],
          [
           "Follow the Sun"
          ],
          [
           "Lights"
          ],
          [
           "Places"
          ],
          [
           "All My Life"
          ],
          [
           "Children"
          ],
          [
           "Hyperreal (Middle of the Night)"
          ],
          [
           "Sunroof"
          ],
          [
           "Moments"
          ],
          [
           "The Other Side"
          ],
          [
           "Wanderlust"
          ],
          [
           "I Don't Wanna Wait"
          ],
          [
           "Sweet Disposition"
          ],
          [
           "Sunshine"
          ],
          [
           "Ain't Deep Enough - Bonsai Mammal Chill Mix"
          ],
          [
           "Lovers In A Past Life (with Rag'n'Bone Man)"
          ],
          [
           "Illusion"
          ],
          [
           "Sun Goes Down"
          ],
          [
           "Summer Ending"
          ],
          [
           "Spring Embers"
          ],
          [
           "Dilemma"
          ],
          [
           "Cold Heart - PNAU Remix"
          ],
          [
           "Where Are You Now"
          ],
          [
           "Solitude"
          ],
          [
           "Drifting"
          ],
          [
           "Wicked Games"
          ],
          [
           "Calm Down (with Selena Gomez)"
          ],
          [
           "Training Season"
          ],
          [
           "evely"
          ],
          [
           "Shivers"
          ],
          [
           "0800 HEAVEN"
          ],
          [
           "21 Reasons (feat. Ella Henderson)"
          ],
          [
           "2step (feat. Lil Baby)"
          ],
          [
           "Acapulco"
          ],
          [
           "adore u"
          ],
          [
           "All Around The World (La La La)"
          ],
          [
           "I Got U"
          ],
          [
           "Houdini"
          ],
          [
           "Weak"
          ],
          [
           "Baby Don't Hurt Me"
          ],
          [
           "Bad Habits"
          ],
          [
           "Because You Move Me"
          ],
          [
           "BED"
          ],
          [
           "Better Days (NEIKED x Mae Muller x Polo G)"
          ],
          [
           "Breaking Me"
          ],
          [
           "By Your Side (feat. Tom Grennan)"
          ],
          [
           "Espresso"
          ],
          [
           "Call It Love"
          ],
          [
           "Cold Water (feat. Justin Bieber & MØ)"
          ],
          [
           "Dancing Feet (feat. DNCE)"
          ],
          [
           "Sunset Memories"
          ],
          [
           "Desire - Gryffin Remix"
          ],
          [
           "Desire (with Sam Smith)"
          ],
          [
           "Drive (feat. Wes Nelson)"
          ],
          [
           "Fireworks (feat. Moss Kena & The Knocks)"
          ],
          [
           "Bam Bam (feat. Ed Sheeran)"
          ],
          [
           "Boardwalk Lullaby"
          ],
          [
           "STAY (with Justin Bieber)"
          ],
          [
           "Only Way"
          ],
          [
           "Watermelon Sugar"
          ],
          [
           "Missing You"
          ],
          [
           "Fireworks (feat. Moss Kena & The Knocks)"
          ],
          [
           "Teenage Heart"
          ],
          [
           "Feel"
          ],
          [
           "Money"
          ],
          [
           "Chocolate"
          ],
          [
           "Beautiful Days"
          ],
          [
           "Moments"
          ],
          [
           "Gone"
          ],
          [
           "Invincible"
          ],
          [
           "Pop Out (feat. Lil Tjay)"
          ],
          [
           "Drip Too Hard (Lil Baby & Gunna)"
          ],
          [
           "Dior"
          ],
          [
           "DRUGS CANT H3LP ME"
          ],
          [
           "Tyler Herro"
          ],
          [
           "HIGHEST IN THE ROOM"
          ],
          [
           "Scrupulous Sluhh"
          ],
          [
           "Avengers Assemble"
          ],
          [
           "Can't Relate"
          ],
          [
           "THE SCOTTS"
          ],
          [
           "Dark Knight Dummo"
          ],
          [
           "5% TINT"
          ],
          [
           "Bubbly (with Drake & Travis Scott)"
          ],
          [
           "WHATS POPPIN"
          ],
          [
           "Lemonade (feat. Gunna, Don Toliver & NAV)"
          ],
          [
           "RAPSTAR"
          ],
          [
           "Space Cadet (feat. Gunna)"
          ],
          [
           "XO Tour Llif3"
          ],
          [
           "Life Goes On"
          ],
          [
           "Love Sosa"
          ],
          [
           "44 BullDog"
          ],
          [
           "Broke In A Minute"
          ],
          [
           "Hot (Remix) [feat. Gunna and Travis Scott]"
          ],
          [
           "Walk Em Down (feat. Roddy Ricch)"
          ],
          [
           "goosebumps"
          ],
          [
           "Murder on My Mind"
          ],
          [
           "Get Back"
          ],
          [
           "6 Kiss"
          ],
          [
           "Myron"
          ],
          [
           "GATTI"
          ],
          [
           "Close Friends (Lil Baby & Gunna)"
          ],
          [
           "Baby Pluto"
          ],
          [
           "Shoota (feat. Lil Uzi Vert)"
          ],
          [
           "Hawk Em"
          ],
          [
           "Sum 2 Prove"
          ],
          [
           "Futsal Shuffle 2020"
          ],
          [
           "YOSEMITE"
          ],
          [
           "MIDDLE CHILD"
          ],
          [
           "No Role Modelz"
          ],
          [
           "Sanguine Paradise"
          ],
          [
           "Ransom"
          ],
          [
           "The Box"
          ],
          [
           "ROCKSTAR (feat. Roddy Ricch)"
          ],
          [
           "Lemonade - Remix"
          ],
          [
           "Noticed"
          ],
          [
           "ZEZE (feat. Travis Scott & Offset)"
          ],
          [
           "Champion (feat. Travis Scott)"
          ],
          [
           "OUT WEST (feat. Young Thug)"
          ],
          [
           "Element"
          ],
          [
           "WUNNA"
          ],
          [
           "Flex (feat. Juice WRLD)"
          ],
          [
           "Headshot (feat. Polo G & Fivio Foreign)"
          ],
          [
           "Heartless (feat. Mustard)"
          ],
          [
           "BookBag 2.0 (feat. Polo G)"
          ],
          [
           "21"
          ],
          [
           "33"
          ],
          [
           "I Know"
          ],
          [
           "No Matter What"
          ],
          [
           "Out Of Love (feat. Internet Money)"
          ],
          [
           "Be Something"
          ],
          [
           "Relentless"
          ],
          [
           "DND"
          ],
          [
           "Chinatown"
          ],
          [
           "Wishing For A Hero (feat. BJ The Chicago Kid)"
          ],
          [
           "Love Sosa"
          ],
          [
           "Mask Off"
          ],
          [
           "SICKO MODE"
          ],
          [
           "HUMBLE."
          ],
          [
           "infinity (888)"
          ],
          [
           "Moonlight"
          ],
          [
           "Fine China"
          ],
          [
           "Black & White"
          ],
          [
           "Suicidal (feat. Juice WRLD) - Remix"
          ],
          [
           "Conversations"
          ],
          [
           "Sauce!"
          ],
          [
           "Erase Your Social"
          ],
          [
           "PTSD"
          ],
          [
           "Got It On Me"
          ],
          [
           "Laugh Now Cry Later (feat. Lil Durk)"
          ],
          [
           "What You Know Bout Love"
          ],
          [
           "For The Night (feat. Lil Baby & DaBaby)"
          ],
          [
           "Gangstas"
          ],
          [
           "Moonlight (feat. Big Sean)"
          ],
          [
           "I"
          ],
          [
           "World Cup"
          ],
          [
           "6:30"
          ],
          [
           "Russ Millions x Fumez The Engineer - Plugged In"
          ],
          [
           "Je M'appelle"
          ],
          [
           "Lollipop"
          ],
          [
           "INDUSTRY BABY (feat. Jack Harlow)"
          ],
          [
           "Body"
          ],
          [
           "Reggae & Calypso (Russ Millions x Buni x YV)"
          ],
          [
           "Night Away (Dance) (feat. Tion Wayne)"
          ],
          [
           "Day in the Life"
          ],
          [
           "Latest Trends"
          ],
          [
           "PR SAD x Fumez The Engineer - Plugged In"
          ],
          [
           "Obsessed With You"
          ],
          [
           "Martin & Gina"
          ],
          [
           "Black and Yellow"
          ],
          [
           "Praise The Lord (Da Shine) (feat. Skepta)"
          ],
          [
           "Doja"
          ],
          [
           "F.N"
          ],
          [
           "Blueberry Faygo"
          ],
          [
           "ROXANNE"
          ],
          [
           "Mood (feat. iann dior)"
          ],
          [
           "Bandit (with YoungBoy Never Broke Again)"
          ],
          [
           "Life Is Good (feat. Drake)"
          ],
          [
           "I Don't Like"
          ],
          [
           "P2"
          ],
          [
           "BOP"
          ],
          [
           "Sunflower - Spider-Man: Into the Spider-Verse"
          ],
          [
           "LET GO"
          ],
          [
           "HOTEL LOBBY (Unc & Phew)"
          ],
          [
           "Kush - Main"
          ],
          [
           "Turks (with Gunna & ft. Travis Scott)"
          ],
          [
           "Stuck In A Dream (feat. Gunna)"
          ],
          [
           "Did It Again"
          ],
          [
           "10 Freaky Girls (with 21 Savage)"
          ],
          [
           "Sing For The Moment"
          ],
          [
           "Hello (feat. A Boogie Wit da Hoodie)"
          ],
          [
           "A Milli - SIDEPIECE Remix"
          ],
          [
           "One Up"
          ],
          [
           "Dior Freestyle"
          ],
          [
           "SAD!"
          ],
          [
           "Many Men (Wish Death)"
          ],
          [
           "Get Low"
          ],
          [
           "Rolando (Caught In The Rain)"
          ],
          [
           "Flexin'"
          ],
          [
           "Heatin Up (feat. Gunna)"
          ],
          [
           "Bryson"
          ],
          [
           "Twin Flame"
          ],
          [
           "Taliban"
          ],
          [
           "100 Grapes"
          ],
          [
           "Done"
          ],
          [
           "Top Shotta Flow"
          ],
          [
           "Tyler Herro"
          ],
          [
           "Commercial (feat. Lil Uzi Vert)"
          ],
          [
           "MET GALA"
          ],
          [
           "Effortless"
          ],
          [
           "Posted With Demons"
          ],
          [
           "ARGENTINA"
          ],
          [
           "Narrow Road (feat. Lil Baby)"
          ],
          [
           "Neva Cared"
          ],
          [
           "RELENTLESS (feat. Lil Uzi Vert)"
          ],
          [
           "Party Girl (Remix)"
          ],
          [
           "Never Recover (Lil Baby & Gunna, Drake)"
          ],
          [
           "March Madness"
          ],
          [
           "TOP FLOOR (feat. Travis Scott)"
          ],
          [
           "Codeine (feat. Gunna)"
          ],
          [
           "Shotta Flow 5"
          ],
          [
           "Under Enemy Arms"
          ],
          [
           "The Bigger Picture"
          ],
          [
           "Dope Lamp"
          ],
          [
           "Emotionally Scarred"
          ],
          [
           "Diamonds"
          ],
          [
           "Solitaires (feat. Travis Scott)"
          ],
          [
           "COOLER THAN A BITCH (feat. Roddy Ricch)"
          ],
          [
           "Social Distancing"
          ],
          [
           "Havin My Way (feat. Lil Durk)"
          ],
          [
           "Trials & Tribulations"
          ],
          [
           "Don't Believe The Hype"
          ],
          [
           "Heartless (feat. Mustard)"
          ],
          [
           "Live Off My Closet (feat. Future)"
          ],
          [
           "through the late night"
          ],
          [
           "Turks (feat. Travis Scott)"
          ],
          [
           "Toosie Slide"
          ],
          [
           "Deja Vu"
          ],
          [
           "Outside Today"
          ],
          [
           "Slime Belief"
          ],
          [
           "ROCKSTAR (feat. Roddy Ricch)"
          ],
          [
           "THE SCOTTS"
          ],
          [
           "Mamacita (feat. Rich Homie Quan & Young Thug)"
          ],
          [
           "Blueberry Faygo"
          ],
          [
           "FIND MY WAY"
          ],
          [
           "Famous Hoes"
          ],
          [
           "Life Is Good (feat. Drake)"
          ],
          [
           "3500 (feat. Future & 2 Chainz)"
          ],
          [
           "Dior - Bonus"
          ],
          [
           "Venetia"
          ],
          [
           "No Role Modelz"
          ],
          [
           "Drip Too Hard"
          ],
          [
           "Pop Out (feat. Lil Tjay)"
          ],
          [
           "06 Gucci (feat. DaBaby & 21 Savage)"
          ],
          [
           "3 Headed Goat (feat. Lil Baby & Polo G)"
          ],
          [
           "Go Stupid"
          ],
          [
           "DOLLAZ ON MY HEAD (feat. Young Thug)"
          ],
          [
           "PTSD"
          ],
          [
           "Moonwalking in Calabasas (feat. Blueface) - Remix"
          ],
          [
           "Down Below"
          ],
          [
           "The Woo (feat. 50 Cent & Roddy Ricch)"
          ],
          [
           "1400 / 999 Freestyle"
          ],
          [
           "Go Hard"
          ],
          [
           "24 (feat. Lil Baby)"
          ],
          [
           "Whats Poppin (feat. DaBaby, Tory Lanez & Lil Wayne) [Remix] - Bonus Track"
          ],
          [
           "Diva (feat. Lil Tecca)"
          ],
          [
           "Camelot"
          ],
          [
           "We Paid (feat. 42 Dugg)"
          ],
          [
           "GO (feat. Juice WRLD)"
          ],
          [
           "Ransom (with Juice WRLD) - Remix"
          ],
          [
           "Watch This - ARIZONATEARS Pluggnb Remix"
          ],
          [
           "back to the moon"
          ],
          [
           "I AIN'T WORRIED BOUT IT"
          ],
          [
           "fukumean"
          ],
          [
           "Robbery"
          ],
          [
           "Ring Ring (feat. Travis Scott, Don Toliver, Quavo & Ty Dolla $ign) - Extended Version"
          ],
          [
           "Smoke A Nigga (feat. Wiz Khalifa)"
          ],
          [
           "Barely Holdin' On"
          ],
          [
           "MELTDOWN (feat. Drake)"
          ],
          [
           "Make No Sense"
          ],
          [
           "SAY MY GRACE (feat. Travis Scott)"
          ],
          [
           "Walk Em Down (feat. Roddy Ricch)"
          ],
          [
           "Hot Now"
          ],
          [
           "Lucid Dreams (feat. Lil Uzi Vert) - Remix"
          ],
          [
           "Just Wanna Rock"
          ],
          [
           "What’s Crackin (feat. Takeoff)"
          ],
          [
           "Swimming Pools (Drank)"
          ],
          [
           "Panda"
          ],
          [
           "Let Me Know (I Wonder Why Freestyle)"
          ],
          [
           "Dior"
          ],
          [
           "Shotta Flow 7"
          ],
          [
           "Unapologetic (with NLE Choppa)"
          ],
          [
           "Who You Foolin"
          ],
          [
           "ROLLIN N CONTROLLIN FREESTYLE"
          ],
          [
           "Whoopty"
          ],
          [
           "All In"
          ],
          [
           "Underdog (Lil Baby & Gunna)"
          ],
          [
           "Moonwalking in Calabasas Remix"
          ],
          [
           "Still D.R.E."
          ],
          [
           "STAR WALKIN' (League of Legends Worlds Anthem)"
          ],
          [
           "Told Ya"
          ],
          [
           "AP"
          ],
          [
           "Gang WithMe"
          ],
          [
           "I KNOW ?"
          ],
          [
           "Mockingbird"
          ],
          [
           "Weeeeee"
          ],
          [
           "FE!N (feat. Playboi Carti)"
          ],
          [
           "Too Bad"
          ],
          [
           "The Real Slim Shady"
          ],
          [
           "BAD!"
          ],
          [
           "Moonlight"
          ],
          [
           "MY EYES"
          ],
          [
           "Welcome To The Party"
          ],
          [
           "Shotta Flow (feat. Blueface) - Remix"
          ],
          [
           "War (feat. Lil Tjay) - Bonus"
          ],
          [
           "Mannequin (feat. Lil Tjay)"
          ],
          [
           "Fuck Love"
          ],
          [
           "Purple Hearts"
          ],
          [
           "NO BYSTANDERS"
          ],
          [
           "YOU M4KE ME"
          ],
          [
           "Pure Cocaine"
          ],
          [
           "Not Like Us"
          ],
          [
           "Tobey (feat. Big Sean and BabyTron)"
          ],
          [
           "Ni**as In Paris"
          ],
          [
           "So High (feat. Ghost Loft)"
          ],
          [
           "redrum"
          ],
          [
           "Im a Boss"
          ],
          [
           "Can't Be Touched (feat. Mr. Magic & Trouble)"
          ],
          [
           "Laughin' To The Bank"
          ],
          [
           "Woah"
          ],
          [
           "Shotta Flow"
          ],
          [
           "Empire State Of Mind"
          ],
          [
           "New Level (feat. Future)"
          ],
          [
           "HIM ALL ALONG"
          ],
          [
           "BUTTERFLY EFFECT"
          ],
          [
           "24"
          ],
          [
           "Distraction"
          ],
          [
           "One Dance"
          ],
          [
           "Look At Me!"
          ],
          [
           "4X4"
          ],
          [
           "Sold Out Dates (feat. Lil Baby)"
          ],
          [
           "Freestyle"
          ],
          [
           "Drip or Drown"
          ],
          [
           "Love Me"
          ],
          [
           "Crunk Ain't Dead"
          ],
          [
           "Bound 2"
          ],
          [
           "Lucid Dreams"
          ],
          [
           "All Girls Are The Same"
          ],
          [
           "Hate Me"
          ],
          [
           "Runaway"
          ],
          [
           "Water"
          ],
          [
           "Monalisa"
          ],
          [
           "Rush"
          ],
          [
           "MESMERIZED"
          ],
          [
           "KANTE (feat. Fave)"
          ],
          [
           "Last Last"
          ],
          [
           "Soweto (with Don Toliver, Rema & Tempoe)"
          ],
          [
           "Obimo"
          ],
          [
           "Peru"
          ],
          [
           "International Lovin"
          ],
          [
           "soso"
          ],
          [
           "PRITI PRITI"
          ],
          [
           "In My Bed"
          ],
          [
           "Jump"
          ],
          [
           "SAFE"
          ],
          [
           "KPA"
          ],
          [
           "Calm Down (with Selena Gomez)"
          ],
          [
           "CUT YOU OFF"
          ],
          [
           "Up Or Down"
          ],
          [
           "Sensational (feat. Davido & Lojay)"
          ],
          [
           "Stallin'"
          ],
          [
           "PON MY MIND"
          ],
          [
           "love nwantiti (ah ah ah)"
          ],
          [
           "Truth or Dare"
          ],
          [
           "NEXT TO ME"
          ],
          [
           "MMS"
          ],
          [
           "Carry"
          ],
          [
           "People"
          ],
          [
           "SHE BE"
          ],
          [
           "Mi Casa"
          ],
          [
           "Mr Lover"
          ],
          [
           "Baby (Is it a Crime)"
          ],
          [
           "Isolated"
          ],
          [
           "Sip (Alcohol)"
          ],
          [
           "Piece of My Heart (feat. Brent Faiyaz)"
          ],
          [
           "RABA"
          ],
          [
           "Comment Faire"
          ],
          [
           "KU LO SA - A COLORS SHOW"
          ],
          [
           "Commas"
          ],
          [
           "Bend"
          ],
          [
           "Moving"
          ],
          [
           "LOVE OR LAMBA"
          ],
          [
           "City Boys"
          ],
          [
           "UNAVAILABLE (feat. Musa Keys)"
          ],
          [
           "Bundle By Bundle"
          ],
          [
           "FEEL"
          ],
          [
           "Ngozi"
          ],
          [
           "Your Body"
          ],
          [
           "Essence (feat. Tems)"
          ],
          [
           "FEELINGS EVERYTIME"
          ],
          [
           "Bad Vibes (feat. Seyi Vibez)"
          ],
          [
           "Kese (Dance)"
          ],
          [
           "Ta Ta Ta"
          ],
          [
           "It's You"
          ],
          [
           "Soundgasm"
          ],
          [
           "Cough (Odo)"
          ],
          [
           "PUSH 2 START"
          ],
          [
           "BETTER4U"
          ],
          [
           "Playboy"
          ],
          [
           "FEEL"
          ],
          [
           "Charm"
          ],
          [
           "Asiwaju"
          ],
          [
           "Bandana"
          ],
          [
           "Call Me Every Day (feat. Wizkid)"
          ],
          [
           "Formation"
          ],
          [
           "Awuke"
          ],
          [
           "If"
          ],
          [
           "Last Heartbreak Song (feat. Giveon)"
          ],
          [
           "On the Low"
          ],
          [
           "understand"
          ],
          [
           "Party No Dey Stop (with Zinoleesky)"
          ],
          [
           "N'y pense plus"
          ],
          [
           "High"
          ],
          [
           "For My Hand (feat. Ed Sheeran)"
          ],
          [
           "Fall"
          ],
          [
           "SHE BE - Sped Up"
          ],
          [
           "Le temps"
          ],
          [
           "Tu es qui"
          ],
          [
           "Copines"
          ],
          [
           "Mad Over You"
          ],
          [
           "D O D O"
          ],
          [
           "BABY BLUE JEANS"
          ],
          [
           "Blessed"
          ],
          [
           "I love you"
          ],
          [
           "Comment Faire - Sped Up"
          ],
          [
           "It's Plenty"
          ],
          [
           "Blessed (feat. Damian Marley)"
          ],
          [
           "Drogba (Joanna)"
          ],
          [
           "No Wahala"
          ],
          [
           "Location (feat. Burna Boy)"
          ],
          [
           "Romeo Must Die (RMD)"
          ],
          [
           "Move"
          ],
          [
           "Active"
          ],
          [
           "Fi Kan We Kan"
          ],
          [
           "Terminator"
          ],
          [
           "Petit génie"
          ],
          [
           "YAYO"
          ],
          [
           "Metaverse"
          ],
          [
           "Runaway - Sped Up"
          ],
          [
           "Everything"
          ],
          [
           "Lonely At The Top"
          ],
          [
           "Me & U"
          ],
          [
           "Real Man"
          ],
          [
           "Sempe"
          ],
          [
           "Love Me JeJe"
          ],
          [
           "SOIS PAS TIMIDE"
          ],
          [
           "Finesse"
          ],
          [
           "One Dance"
          ],
          [
           "Stallin' - Sped Up"
          ],
          [
           "INTOXYCATED"
          ],
          [
           "Terminator"
          ],
          [
           "Mood (feat. BNXN)"
          ],
          [
           "Aquafina"
          ],
          [
           "2 Sugar (feat. Ayra Starr)"
          ],
          [
           "Holy Ghost"
          ],
          [
           "Sability"
          ],
          [
           "Damages"
          ],
          [
           "Higher"
          ],
          [
           "People (feat. Ayra Starr & Omah Lay)"
          ],
          [
           "Chacun fait (C'qui lui plaît)"
          ],
          [
           "Les démons de minuit"
          ],
          [
           "Quand la musique est bonne"
          ],
          [
           "Une autre histoire"
          ],
          [
           "Mistral gagnant"
          ],
          [
           "Ella, elle l'a - Remasterisé en 2004"
          ],
          [
           "Il est libre Max"
          ],
          [
           "Être une femme"
          ],
          [
           "Trois nuits par semaine"
          ],
          [
           "L'Aziza"
          ],
          [
           "Tous les cris les S.O.S."
          ],
          [
           "Encore et encore - Remastered"
          ],
          [
           "Le géant de papier - Version originale 1985"
          ],
          [
           "L'envie"
          ],
          [
           "Casser la voix"
          ],
          [
           "Mon mec à moi"
          ],
          [
           "Le parking des anges"
          ],
          [
           "J't'emmène au vent"
          ],
          [
           "Pour que tu m'aimes encore"
          ],
          [
           "Le temps des cathédrales - Extrait du spectacle «Notre Dame de Paris 1998» (Live)"
          ],
          [
           "Foule sentimentale"
          ],
          [
           "Allumer le feu"
          ],
          [
           "Face à la mer"
          ],
          [
           "Il avait les mots"
          ],
          [
           "Manhattan-Kaboul"
          ],
          [
           "On s'attache"
          ],
          [
           "Tout Le Bonheur Du Monde"
          ],
          [
           "J'ai demandé à la lune"
          ],
          [
           "L'envie d'aimer"
          ],
          [
           "Toi + Moi"
          ],
          [
           "Le déserteur"
          ],
          [
           "Comme toi"
          ],
          [
           "Maman est folle"
          ],
          [
           "San Francisco"
          ],
          [
           "Nicolas"
          ],
          [
           "Mon fils ma bataille"
          ],
          [
           "Le chanteur"
          ],
          [
           "Je ne suis pas un héros"
          ],
          [
           "Eve lève-toi"
          ],
          [
           "Pour un flirt"
          ],
          [
           "Partenaire Particulier"
          ],
          [
           "Résiste - Remasterisé en 2004"
          ],
          [
           "On va s'aimer"
          ],
          [
           "Envole-moi"
          ],
          [
           "Voyage voyage"
          ],
          [
           "Il changeait la vie"
          ],
          [
           "Mon amant de Saint-Jean"
          ],
          [
           "Je marche seul"
          ],
          [
           "Je te donne"
          ],
          [
           "Encore un matin"
          ],
          [
           "Ma liberté de penser"
          ],
          [
           "Au bout de mes rêves"
          ],
          [
           "Belles belles belles"
          ],
          [
           "Les lacs du Connemara"
          ],
          [
           "Dès que le vent soufflera"
          ],
          [
           "Siffler sur la colline"
          ],
          [
           "L'aventurier"
          ],
          [
           "Le lundi au soleil"
          ],
          [
           "Petite Marie"
          ],
          [
           "La vie par procuration"
          ],
          [
           "Cette année-là"
          ],
          [
           "Je l'aime à mourir - Remastered"
          ],
          [
           "S.O.S. d'un terrien en détresse - Remasterisé en 2009"
          ],
          [
           "Et si tu n'existais pas"
          ],
          [
           "Nuit de folie"
          ],
          [
           "Emmenez-moi"
          ],
          [
           "L'enfant du 92ème - Version 1991"
          ],
          [
           "Mourir sur scène"
          ],
          [
           "Monday, Tuesday... Laissez-moi danser"
          ],
          [
           "Il jouait du piano debout - Remasterisé en 2004"
          ],
          [
           "En rouge et noir"
          ],
          [
           "Le pouvoir des fleurs"
          ],
          [
           "Lady Marlène"
          ],
          [
           "Les aventures de Simon et Gunther Stein"
          ],
          [
           "Lise Altmann"
          ],
          [
           "J'entends cogner ton cœur"
          ],
          [
           "Mon pauvre Gunther"
          ],
          [
           "La réponse"
          ],
          [
           "Ma musique et mon patois"
          ],
          [
           "La lettre à Marie"
          ],
          [
           "Paroles… paroles…"
          ],
          [
           "Confidence pour confidence - Version originale 1981"
          ],
          [
           "Le pénitencier"
          ],
          [
           "Le galérien"
          ],
          [
           "La vie ne m'apprend rien"
          ],
          [
           "J'ai encore rêvé d'elle"
          ],
          [
           "A nos actes manqués"
          ],
          [
           "Elle a les yeux revolver"
          ],
          [
           "L'été indien"
          ],
          [
           "Macumba"
          ],
          [
           "Nos célébrations"
          ],
          [
           "À nos souvenirs"
          ],
          [
           "Sauver l'amour"
          ],
          [
           "Savoir aimer"
          ],
          [
           "Et un jour une femme"
          ],
          [
           "La valse à mille temps"
          ],
          [
           "Ton invitation"
          ],
          [
           "Amsterdam"
          ],
          [
           "La bohème"
          ],
          [
           "Vivre ou survivre"
          ],
          [
           "Poupée de cire, poupée de son"
          ],
          [
           "Les Champs-Elysées"
          ],
          [
           "Hier encore"
          ],
          [
           "Le coup de folie"
          ],
          [
           "For Me... Formidable"
          ],
          [
           "Dans les yeux d'Émilie"
          ],
          [
           "Les copains d'abord"
          ],
          [
           "L'aigle noir"
          ],
          [
           "La mauvaise réputation"
          ],
          [
           "Chanson sur ma drôle de vie - Remasterisé en 2008"
          ],
          [
           "Le petit pain au chocolat"
          ],
          [
           "Que je t'aime"
          ],
          [
           "Les mots bleus"
          ],
          [
           "La Foule"
          ],
          [
           "Je suis malade"
          ],
          [
           "Le poinçonneur des Lilas"
          ],
          [
           "Chanson pour l'auvergnat"
          ],
          [
           "Brave Margot"
          ],
          [
           "Je vais t'aimer"
          ],
          [
           "La maladie d'amour"
          ],
          [
           "En chantant"
          ],
          [
           "Quand on arrive en ville - Remasterisé en 2009"
          ],
          [
           "Famille"
          ],
          [
           "La groupie du pianiste - Remasterisé en 2002"
          ],
          [
           "L'équipe à Jojo"
          ],
          [
           "Déjeuner en paix"
          ],
          [
           "Le chasseur (Les oies sauvages)"
          ],
          [
           "Les corons"
          ],
          [
           "Je te promets"
          ],
          [
           "Le blues du businessman - Remasterisé en 2009"
          ],
          [
           "La tribu de Dana"
          ],
          [
           "Les rêves sont en nous"
          ],
          [
           "Ensemble"
          ],
          [
           "Vesoul"
          ],
          [
           "Ne me quitte pas"
          ],
          [
           "Les amoureux des bancs publics"
          ],
          [
           "Le plat pays"
          ],
          [
           "Quand on n'a que l'amour"
          ],
          [
           "Une belle histoire"
          ],
          [
           "New-York avec toi"
          ],
          [
           "Parce que tu crois"
          ],
          [
           "Comme ils disent"
          ],
          [
           "Mes emmerdes - Remastered 2014"
          ],
          [
           "Ensemble"
          ],
          [
           "Aurore"
          ],
          [
           "Gigi l'amoroso"
          ],
          [
           "Un homme heureux"
          ],
          [
           "Le sud"
          ],
          [
           "Si maman si - Remasterisé en 2004"
          ],
          [
           "Les murs de poussière - Remastered"
          ],
          [
           "Evidemment - Remasterisé en 2004"
          ],
          [
           "Comme d'habitude"
          ],
          [
           "Les remparts de Varsovie"
          ],
          [
           "Cendrillon - Remasterisé en 2015"
          ],
          [
           "Les Démons De Minuit"
          ],
          [
           "Laissez-moi danser"
          ],
          [
           "Nuit de folie - Version originale 1988"
          ],
          [
           "C'est ta chance"
          ],
          [
           "Canary Bay"
          ],
          [
           "Sensualité"
          ],
          [
           "Désormais"
          ],
          [
           "Gardien de nuit - Extrait du \"Soldat Rose\""
          ],
          [
           "Les oiseaux (1ère partie)"
          ],
          [
           "Les oiseaux (2ème partie)"
          ],
          [
           "Salut"
          ],
          [
           "Céline"
          ],
          [
           "Santiano"
          ],
          [
           "Léa"
          ]
         ],
         "hovertemplate": "PCA1=%{x}<br>PCA2=%{y}<br>Track_ID=%{customdata[0]}<br>Cluster=%{marker.color}<extra></extra>",
         "legendgroup": "",
         "marker": {
          "color": [
           1,
           0,
           0,
           1,
           1,
           1,
           1,
           1,
           1,
           1,
           1,
           1,
           0,
           0,
           0,
           0,
           0,
           1,
           1,
           1,
           1,
           1,
           1,
           1,
           1,
           1,
           0,
           1,
           1,
           1,
           1,
           1,
           1,
           1,
           1,
           1,
           1,
           1,
           1,
           0,
           1,
           1,
           1,
           1,
           1,
           1,
           1,
           0,
           0,
           1,
           1,
           1,
           1,
           0,
           1,
           1,
           1,
           1,
           1,
           1,
           1,
           0,
           0,
           0,
           1,
           0,
           1,
           1,
           0,
           1,
           1,
           1,
           1,
           1,
           1,
           0,
           1,
           1,
           1,
           1,
           0,
           1,
           1,
           1,
           1,
           1,
           1,
           1,
           1,
           1,
           1,
           1,
           1,
           1,
           1,
           1,
           1,
           0,
           1,
           1,
           0,
           1,
           1,
           1,
           1,
           1,
           1,
           1,
           1,
           1,
           1,
           0,
           0,
           1,
           1,
           1,
           0,
           1,
           1,
           0,
           0,
           0,
           0,
           0,
           0,
           0,
           1,
           1,
           1,
           1,
           1,
           1,
           1,
           1,
           1,
           1,
           1,
           1,
           1,
           1,
           1,
           1,
           1,
           1,
           1,
           1,
           1,
           1,
           1,
           0,
           1,
           0,
           0,
           1,
           1,
           1,
           1,
           1,
           0,
           0,
           0,
           1,
           0,
           0,
           1,
           0,
           1,
           1,
           0,
           0,
           0,
           0,
           1,
           0,
           0,
           0,
           0,
           0,
           1,
           1,
           1,
           1,
           1,
           1,
           1,
           1,
           1,
           1,
           1,
           1,
           1,
           0,
           1,
           1,
           1,
           1,
           1,
           1,
           1,
           1,
           1,
           1,
           1,
           1,
           1,
           1,
           1,
           1,
           1,
           1,
           1,
           1,
           1,
           1,
           1,
           1,
           1,
           1,
           1,
           1,
           1,
           1,
           1,
           1,
           1,
           1,
           1,
           1,
           1,
           1,
           1,
           1,
           1,
           1,
           1,
           1,
           1,
           1,
           1,
           1,
           1,
           1,
           1,
           1,
           1,
           0,
           1,
           1,
           1,
           1,
           1,
           1,
           1,
           1,
           1,
           1,
           1,
           1,
           1,
           1,
           1,
           1,
           1,
           1,
           1,
           1,
           1,
           1,
           1,
           1,
           1,
           1,
           1,
           1,
           1,
           1,
           1,
           1,
           1,
           1,
           1,
           1,
           1,
           1,
           1,
           1,
           1,
           1,
           1,
           0,
           1,
           1,
           1,
           1,
           1,
           1,
           0,
           1,
           1,
           1,
           0,
           1,
           1,
           1,
           1,
           1,
           1,
           1,
           1,
           1,
           1,
           1,
           1,
           1,
           0,
           1,
           1,
           1,
           1,
           1,
           1,
           1,
           1,
           1,
           1,
           1,
           0,
           0,
           0,
           0,
           1,
           0,
           0,
           1,
           1,
           0,
           0,
           0,
           0,
           0,
           0,
           0,
           0,
           0,
           0,
           0,
           0,
           0,
           0,
           0,
           0,
           0,
           0,
           0,
           0,
           0,
           0,
           0,
           0,
           0,
           0,
           0,
           0,
           0,
           0,
           0,
           0,
           0,
           0,
           0,
           0,
           0,
           0,
           0,
           0,
           0,
           0,
           0,
           0,
           0,
           0,
           0,
           0,
           0,
           0,
           0,
           0,
           0,
           0,
           0,
           0,
           0,
           0,
           0,
           0,
           0,
           0,
           0,
           0,
           0,
           0,
           0,
           0,
           0,
           0,
           0,
           0,
           0,
           0,
           0,
           0,
           1,
           0,
           0,
           1,
           0,
           0,
           0,
           0,
           0,
           0,
           0,
           0,
           0,
           0,
           0,
           0,
           0,
           0,
           0,
           0,
           0,
           0,
           0,
           0,
           0,
           0,
           0,
           0,
           0,
           0,
           0,
           0,
           0,
           0,
           0,
           0,
           1,
           0,
           0,
           0,
           0,
           0,
           0,
           0,
           0,
           0,
           0,
           0,
           0,
           0,
           0,
           0,
           0,
           0,
           0,
           0,
           0,
           0,
           0,
           0,
           0,
           0,
           0,
           0,
           0,
           0,
           0,
           0,
           0,
           0,
           0,
           0,
           0,
           0,
           0,
           0,
           0,
           0,
           0,
           0,
           0,
           0,
           0,
           0,
           0,
           0,
           0,
           0,
           0,
           0,
           0,
           0,
           0,
           0,
           0,
           0,
           0,
           0,
           0,
           0,
           0,
           0,
           0,
           0,
           0,
           0,
           0,
           0,
           0,
           0,
           0,
           0,
           0,
           0,
           0,
           0,
           0,
           1,
           0,
           0,
           0,
           0,
           0,
           0,
           0,
           0,
           0,
           0,
           0,
           0,
           0,
           0,
           0,
           0,
           0,
           0,
           0,
           0,
           0,
           0,
           0,
           0,
           0,
           0,
           0,
           0,
           0,
           0,
           0,
           0,
           0,
           0,
           0,
           0,
           0,
           0,
           0,
           0,
           0,
           0,
           0,
           0,
           1,
           0,
           1,
           0,
           0,
           0,
           0,
           0,
           0,
           0,
           0,
           0,
           0,
           0,
           0,
           0,
           0,
           0,
           0,
           0,
           0,
           0,
           0,
           0,
           0,
           0,
           0,
           1,
           0,
           0,
           0,
           0,
           1,
           1,
           0,
           1,
           1,
           1,
           1,
           1,
           1,
           1,
           1,
           1,
           1,
           0,
           0,
           1,
           1,
           1,
           1,
           0,
           0,
           1,
           1,
           1,
           1,
           1,
           1,
           1,
           1,
           1,
           1,
           1,
           1,
           1,
           1,
           1,
           1,
           1,
           1,
           1,
           1,
           1,
           1,
           1,
           1,
           1,
           1,
           1,
           1,
           1,
           1,
           1,
           1,
           1,
           1,
           1,
           1,
           1,
           1,
           1,
           1,
           1,
           1,
           1,
           0,
           1,
           1,
           1,
           1,
           1,
           1,
           1,
           1,
           1,
           1,
           1,
           1,
           1,
           1,
           1,
           1,
           1,
           1,
           1,
           1,
           1,
           1,
           1,
           1,
           1,
           1,
           1,
           1,
           0,
           1,
           1,
           1,
           1,
           1,
           1,
           1,
           1,
           1,
           1,
           1,
           1,
           0,
           1,
           0,
           1,
           1,
           0,
           1,
           1,
           1,
           1,
           1,
           1,
           1,
           1,
           1,
           1,
           1,
           1,
           1,
           1,
           1,
           1,
           1,
           1,
           1,
           1,
           1,
           1,
           1,
           1,
           1,
           1,
           1,
           1,
           1,
           1,
           1,
           1,
           1,
           1,
           1,
           1,
           1,
           1,
           1,
           1,
           1,
           1,
           1,
           1,
           1,
           1,
           1,
           1,
           1,
           1,
           1,
           1,
           1,
           1,
           1,
           1,
           1,
           1,
           1,
           1,
           1,
           1,
           1,
           1,
           1,
           1,
           1,
           1,
           1,
           1,
           1,
           1,
           1,
           1,
           1,
           1,
           1,
           1,
           1,
           1,
           1,
           1,
           1,
           1,
           1,
           1,
           1,
           1,
           1,
           1,
           1,
           1,
           1,
           1,
           1,
           1,
           1,
           1,
           1,
           1,
           1,
           1,
           1,
           1,
           1,
           1,
           1,
           1,
           1,
           1,
           1,
           1,
           1,
           1,
           1,
           1,
           1,
           1,
           1,
           1,
           1,
           1,
           1,
           1,
           1,
           1,
           1,
           1,
           1,
           1,
           1,
           1,
           1,
           1,
           1,
           1,
           1,
           1,
           0,
           1,
           1,
           1,
           1,
           1,
           1,
           1,
           1,
           1,
           1,
           1,
           1,
           1,
           1,
           1,
           1,
           1,
           1,
           1,
           1,
           1,
           1,
           1,
           1,
           1,
           1,
           1,
           1,
           1,
           1,
           1,
           1,
           1,
           1,
           1,
           1,
           1
          ],
          "coloraxis": "coloraxis",
          "symbol": "circle"
         },
         "mode": "markers",
         "name": "",
         "orientation": "v",
         "showlegend": false,
         "type": "scatter",
         "x": [
          -0.2635804589893151,
          0.09055846306093185,
          0.10821244786304227,
          -0.15836973240898028,
          -0.04845520702306179,
          -0.1516496288333058,
          -0.07850747555211812,
          -0.2566678346186952,
          0.03330787824106434,
          -0.18286883358671385,
          -0.16477542266256287,
          -0.13958912305583518,
          0.1064469167425598,
          0.11203651864254134,
          0.11594866755429892,
          0.12440889291835337,
          0.1079211425488209,
          0.0025085586238341533,
          -0.01685006722560286,
          0.012213722936534494,
          -0.034476221781976644,
          -0.04167512603303806,
          0.006477665023168406,
          -0.002585213558920816,
          -0.18266346747555584,
          -0.1423284527795527,
          0.11258206132106503,
          -0.1286151224739546,
          -0.22194856678525562,
          -0.15949073481465373,
          -0.06402837754258248,
          0.08969480390407358,
          -0.35208430214339975,
          -0.04900276877423763,
          -0.056000269726884676,
          -0.0565940553489908,
          -0.1259294325341874,
          -0.2699803656825939,
          -0.12102391308333046,
          0.09830908721691267,
          -0.031190920786361903,
          -0.08760150094501999,
          0.04955979098419472,
          -0.07520241693254083,
          -0.14435612558767535,
          -0.06273180931257824,
          -0.04273651717500712,
          0.11584344050762768,
          0.11453428248869668,
          0.10232510187690398,
          -0.19416670808649147,
          -0.04504989041372383,
          -0.14197448010422653,
          0.13594906302217144,
          -0.2737302448177092,
          -0.151718158840076,
          -0.03383743696825227,
          -0.055270219435876816,
          -0.0013848673097779072,
          -0.2584253443425838,
          0.011242928663184243,
          0.5231611154431173,
          0.533834056500392,
          0.49607424554613105,
          -0.16444508187571863,
          0.19342969850662306,
          -0.22578239318527443,
          0.028754797163298464,
          0.3503452276518162,
          -0.044201590470878314,
          -0.0665051659296825,
          -0.2618443334481692,
          -0.09237402670464058,
          -0.1300180010564346,
          -0.11964529710131976,
          0.598026049178631,
          -0.2330033580683482,
          -0.37624007707965657,
          -0.11563940354319278,
          0.07345200440564563,
          0.1405913226914045,
          -0.1898716135846844,
          -0.22490502396244402,
          -0.28328780020156313,
          -0.22055054985431144,
          0.023419932468963775,
          -0.30254402793689794,
          -0.3093985061740273,
          -0.06696274842213104,
          -0.1708377654495738,
          -0.19406239840101827,
          -0.16979605182980628,
          -0.27953024740737625,
          0.010847931689483198,
          -0.21829962989929652,
          -0.32101788451458063,
          -0.1850200483413644,
          0.11167470630285709,
          -0.1738047155312857,
          -0.3060309345494485,
          0.24215423762260882,
          -0.08222990974398385,
          -0.11365811102919811,
          0.05757991622622301,
          -0.15917670674085546,
          -0.15964511845718338,
          -0.2162799163764089,
          -0.08762898053942092,
          0.08294214705339358,
          -0.0007781045396111112,
          -0.18380820113324592,
          0.2034479264758429,
          0.17616680371714227,
          0.08502477368816909,
          0.05546205169555475,
          -0.024448754565502967,
          0.7450255495099559,
          -0.11380328140044714,
          -0.15674267947304726,
          0.16298369979751862,
          0.3243741828199031,
          0.4074763028762388,
          0.22433938049388627,
          0.41853787461817193,
          0.6767311190309347,
          0.2320980013869995,
          -0.2967383138531649,
          -0.18946046871300284,
          0.02832893341672826,
          -0.0616968374517468,
          -0.011633572983772352,
          -0.021816344546119637,
          -0.22560638111088985,
          -0.08526356904437629,
          -0.004546498293854947,
          -0.15391070995743017,
          -0.06103417866292467,
          -0.1468719526766027,
          -0.000008839394424283403,
          -0.30365475486044985,
          -0.23804524648414727,
          -0.21532834974834766,
          -0.2038547210241395,
          0.08666037705910351,
          -0.25237124584851417,
          -0.0670955190109378,
          -0.2558166823981057,
          -0.0176585777883591,
          -0.250066372277228,
          0.6346362836689597,
          -0.1757773391260049,
          0.16184408238436712,
          0.20465891552541363,
          -0.22699521182476756,
          0.01829387933110623,
          -0.188437411642501,
          -0.24835635593818045,
          -0.13788518966029165,
          0.6220984135128435,
          0.6286976631072774,
          0.6286720969064344,
          -0.02625023345093746,
          0.5416723043447237,
          0.28855895422615285,
          0.03441596786010817,
          0.4562567647647605,
          -0.04997841115628989,
          -0.21794781235256575,
          0.6528698371427284,
          0.5978185051096326,
          0.6443902329236948,
          0.0704480278584595,
          -0.05450860829689654,
          0.34253020017881763,
          0.6983369983178016,
          0.2446984824679089,
          0.11515156518271084,
          0.1307832625798161,
          -0.09768941311772535,
          -0.15677265518425287,
          -0.08329742378652706,
          -0.042841603706234084,
          -0.02926268154785682,
          -0.09303035739001443,
          -0.1346625511982867,
          -0.18647119373458987,
          -0.18485038140420493,
          -0.2388978212785289,
          -0.15932823146368325,
          -0.13693790030028555,
          -0.15987041597951873,
          0.26525136116463777,
          -0.16100954122529665,
          0.009203147686918099,
          -0.20639411305042843,
          -0.05961490898577699,
          -0.10664501260737842,
          -0.17681795834205344,
          -0.1747728499726537,
          -0.062225483161303656,
          -0.1934401560870518,
          -0.148201676086216,
          -0.12038085135084899,
          -0.16982045447472024,
          -0.25194574221967037,
          -0.18252936703143277,
          0.014151587897595299,
          -0.15155217584562938,
          -0.18265069157063926,
          -0.15601904126558433,
          -0.16382006251504996,
          -0.16724783888033476,
          -0.15094105650049033,
          -0.15454706555398048,
          -0.04602848237369016,
          -0.25786174983312615,
          -0.16054508925055505,
          -0.20168399088460026,
          -0.144781609758982,
          -0.2935653019632209,
          -0.14104864513284668,
          -0.22199999055602426,
          -0.21577884809204845,
          -0.16916493563558777,
          -0.12772049093150367,
          -0.18510301407091737,
          -0.14844029017573682,
          -0.0618099303703563,
          -0.17600046143180903,
          -0.14612026867880587,
          -0.18712390899927722,
          -0.350177113231577,
          -0.14285912886629676,
          -0.1425670838204481,
          -0.15505055501271892,
          -0.17820718686858686,
          -0.18670474617577648,
          -0.15774493490700917,
          -0.16944503856534354,
          -0.18268535833934516,
          -0.21941749839723992,
          -0.17772947450129678,
          -0.18102902845550192,
          -0.1665778863557132,
          -0.15394842400761927,
          0.31011008678331636,
          -0.16386382332553645,
          -0.1532494293228532,
          -0.2504679733832991,
          -0.15258227349468684,
          -0.17170489204666362,
          -0.1780013642269619,
          -0.18849329791753056,
          -0.1371548724407983,
          -0.04363644531746354,
          -0.16987123016761801,
          -0.1559792011437159,
          -0.06773106375726376,
          -0.18037558214237964,
          -0.16623687796744194,
          -0.16565556645921295,
          -0.1583709802574533,
          -0.05885096944609311,
          -0.1678515867034458,
          -0.17158885404634455,
          -0.15341008100051726,
          -0.19687313433750372,
          -0.16344708745596975,
          -0.10525408620591364,
          -0.21545196157167296,
          -0.1703335355041617,
          -0.24729531239286406,
          -0.03167124641938535,
          -0.21307772226364377,
          -0.13864094648425873,
          -0.25460850243231764,
          -0.16297068312066915,
          -0.1352797983437876,
          -0.15240433088283775,
          -0.1735982126244399,
          -0.05622413355510885,
          -0.10868661190574903,
          -0.1626611653887018,
          -0.04289085435048077,
          -0.09923221609488049,
          -0.2373691529740674,
          -0.12026294704962127,
          -0.231556658051607,
          -0.19965333782888733,
          0.43005117990387126,
          -0.1502239355395801,
          -0.012134798478148363,
          -0.17099104249229194,
          -0.22969087815291106,
          -0.1447117026288225,
          0.0668856108494866,
          0.2790753438807437,
          -0.2885741389407619,
          -0.2484483269258961,
          -0.2285481398316123,
          0.660054952397418,
          0.036226004091064384,
          -0.20660195819669677,
          -0.19841819688564075,
          -0.18376563341947907,
          -0.0642131851841494,
          -0.16891316279625115,
          -0.040214391932460285,
          -0.11118664643762692,
          -0.16700833004244497,
          0.1477488096211902,
          -0.17152534357973892,
          -0.17095482953173152,
          -0.03899921225617563,
          0.22936490365682013,
          -0.18822492185653952,
          -0.0444130799174324,
          -0.1404346560319172,
          -0.23462317237672806,
          -0.21733326776972808,
          -0.2164200267222529,
          -0.19979200391078492,
          -0.2596550533878238,
          -0.06429496223547887,
          -0.16995859366168956,
          -0.17345461452871622,
          0.5231611154431173,
          0.7379028582510804,
          0.7981246630836183,
          0.46043811971376375,
          -0.14548692802294647,
          0.3838128940622098,
          0.6584919209760723,
          -0.19547376398824287,
          -0.18820973454550044,
          0.14256078848863532,
          0.6126323800113538,
          0.3195466164257499,
          0.5923268125936177,
          0.624340264585402,
          0.3954777755235587,
          0.5126266553204136,
          0.7347050280005173,
          0.6079038483789574,
          0.48468364818402926,
          0.74608133433917,
          0.4032525233430353,
          0.45908746159425334,
          0.2835182402060096,
          0.858863203293053,
          0.5868666017072197,
          0.6551051879878048,
          0.3234476782085257,
          0.5044163355594923,
          0.2294970492267946,
          0.36629630065205004,
          0.7450091829605624,
          0.6286976631072774,
          0.3458196099880573,
          0.462272513054674,
          0.4268827146722724,
          0.5658879293725713,
          0.33697515330558164,
          0.5880068779335867,
          0.313524347031947,
          0.3821146950363215,
          0.356442055414517,
          0.4588109389786465,
          0.5862582140329031,
          0.6001722491585567,
          0.38664879112902556,
          0.18895746147389503,
          0.49607424554613105,
          0.5119438317127095,
          0.7450513087984912,
          0.5184312004977683,
          0.5596747700814122,
          0.756443066944557,
          0.6106450484765148,
          0.695608189627832,
          0.5790916559442113,
          0.6991233589226679,
          0.6437926890580059,
          0.6709698119985558,
          0.6139390461215655,
          0.41061985264592127,
          0.8631682358001664,
          0.6166470540660898,
          0.6289543925779367,
          0.6154823729785288,
          0.6470588262340928,
          0.2448299972338877,
          0.5646172847194764,
          0.6213909108687093,
          0.4503270280583184,
          0.28552181571245494,
          0.25634742049444126,
          0.5737415052737712,
          0.2801840006849525,
          0.36905275947825533,
          0.3106614804705962,
          0.21811483573371995,
          0.3678825574693277,
          0.46078409089944994,
          0.5085243517244317,
          0.5126256585554626,
          0.5395018420768081,
          0.7951017538531557,
          0.48435679511936564,
          0.4013635196843566,
          0.31034431153608205,
          -0.04516561008575743,
          0.12523202993784113,
          0.22362267537747377,
          0.020120258454075324,
          0.07619938750668047,
          0.4826174798468956,
          0.24704456059976168,
          0.15550414993587036,
          0.23937720865148485,
          0.258425699121997,
          0.22433763226498882,
          0.1821566939704275,
          0.28529554723417105,
          0.6976316483452311,
          0.16063810919193494,
          0.22493094923919496,
          0.322657519632342,
          0.26559298570284934,
          0.22237971286200797,
          0.20268473877738347,
          0.259116820329666,
          0.4398478196513106,
          0.5796597023953751,
          0.3466538847850596,
          0.34519390727405347,
          0.4629456649430844,
          0.4458699550992647,
          0.2832804723989848,
          0.32604515142297813,
          0.09386026291284327,
          0.7150090521975374,
          0.5994697950135263,
          0.40197922346183196,
          0.4346146543430738,
          0.1162773503931834,
          0.5088212429576976,
          0.041371956203299455,
          0.2501397032017259,
          0.28122518031818255,
          0.3226867513590222,
          0.18566064785180478,
          0.12914738491306715,
          0.2062841071108863,
          0.4569227805866267,
          0.7065532408447707,
          0.3796200375226872,
          0.3641330092800631,
          0.36155182945313347,
          0.3800090987751702,
          0.3625782133560792,
          0.4038518711847619,
          0.3630032401262675,
          0.5837798589261222,
          0.5833568648092942,
          0.6264035101889891,
          0.43585318592015226,
          0.5453102119483929,
          0.4882924600460073,
          0.667205478134927,
          0.511238336907659,
          0.3059774723672267,
          0.823529348536736,
          0.4668989302506635,
          0.7088111559556266,
          0.529815035855071,
          0.43103452263296893,
          0.0976722282463668,
          0.4871069758027268,
          0.2819728320881983,
          0.5785399332269642,
          0.2749725281906716,
          0.6003422024078539,
          0.7079361276174707,
          0.5280844563615804,
          0.24538204572437539,
          0.6318357960051155,
          0.6264507522619531,
          0.6315936872680704,
          0.6346326024390049,
          0.5133893823146606,
          0.7591929713324169,
          0.28865536456115565,
          0.23126164845946923,
          0.3469810600955295,
          0.3201076261152972,
          0.5498490674522528,
          0.5601631211962735,
          0.634416761449667,
          0.21194425706161166,
          0.2712683481217895,
          0.4325949296730617,
          0.5962891913817063,
          0.6572339166838153,
          0.4185075185820047,
          0.30657623444085047,
          0.20724007812779327,
          0.6116632734027705,
          0.6166882804517505,
          0.4670283956726036,
          0.8107932264266439,
          0.8111131133625795,
          0.6588931746106613,
          0.4445744593435604,
          0.3229762080229071,
          0.4947409591863374,
          0.6498840358315683,
          0.19473184271524896,
          0.5523552873211248,
          0.5779489545752614,
          0.4603174869551718,
          0.3146011959136233,
          0.48267920476655984,
          0.5936828818535653,
          0.24111489361510247,
          0.4537899351492562,
          0.4122074385396799,
          0.5923844407052787,
          0.016264492428653146,
          0.6967414909580861,
          0.34451952144967796,
          0.6465690849031243,
          0.23829558458441805,
          0.6518252825576957,
          0.6651581917330331,
          0.3792576383084525,
          0.5050440922852383,
          0.6107743460146641,
          0.32890034564460213,
          0.35889354521730593,
          0.43585136313038586,
          0.4557672695592985,
          0.30307435653844195,
          0.3364768956265042,
          0.33150370968892456,
          0.5338541398128478,
          0.438321624658156,
          0.7240553439366778,
          0.6097693489566969,
          0.20238960450634663,
          0.2516147778891635,
          0.5364713857451888,
          0.7122207707496947,
          0.2547107440910976,
          0.2015335909049079,
          0.2497125306991075,
          0.20287563312824647,
          0.3863776148889416,
          0.5090339353333266,
          0.6767311190309347,
          0.19916225589680425,
          0.21938604193579503,
          0.7466602677432332,
          0.09206038488337365,
          0.19127265036645286,
          0.2835380633774822,
          0.3287006733025643,
          0.6706382017158177,
          0.4754437490520402,
          0.45951170913062606,
          0.4704561570323811,
          0.49127636198951774,
          0.32484577193695885,
          -0.1957981549827092,
          0.5710185082841047,
          -0.1554064385775287,
          0.6220984135128435,
          0.4562567647647605,
          0.154685420536905,
          0.23489879700687707,
          0.1629379187412639,
          0.4483169215373192,
          0.15845103497831747,
          0.24943278322124798,
          0.2896425470158614,
          0.570827741278341,
          0.4509994043944462,
          0.1560424616882352,
          0.4236501347973002,
          0.6094284554183784,
          0.6349110695793778,
          0.15426921236256355,
          0.639492724604505,
          0.4092533742962363,
          0.31351149650772897,
          0.6014489172426417,
          0.7239648079015948,
          0.6279860097023108,
          0.5980402837415643,
          0.5226555618789488,
          0.08548201658235706,
          0.3718457420537353,
          0.3898473679646976,
          0.3979493604535813,
          0.26580569815620625,
          -0.1533116806222956,
          -0.06756881315405629,
          0.22099140525935054,
          -0.17317686092475185,
          -0.16457278787740032,
          -0.03022459230607958,
          0.11865263672653856,
          0.18673468093331205,
          -0.1366252485202776,
          0.035487334183385136,
          -0.1728536660004295,
          -0.16521704741337107,
          -0.1648312636646982,
          0.1998175980623424,
          0.5517474500389373,
          -0.06885981353088289,
          -0.15234675130894432,
          -0.042904975207469345,
          -0.1720107766884378,
          0.20926816330543577,
          0.21774337579232514,
          -0.16173883452575163,
          -0.14007390473860512,
          -0.08172428943761162,
          -0.145638248112762,
          -0.1542915732418992,
          -0.050622805926194614,
          -0.1383306358496165,
          -0.1329704533000017,
          -0.15736895509171117,
          -0.14547768405577227,
          -0.14729668785960445,
          -0.04598283667694155,
          -0.18946831349276055,
          -0.12215654653266997,
          0.03995153524585277,
          -0.1694267755624515,
          -0.17457962294299986,
          -0.10362656298947477,
          -0.16480286383688078,
          0.003756257580486848,
          -0.1802042098048201,
          -0.15146403445415355,
          0.1242893953542413,
          -0.118101108389208,
          0.12087297120816953,
          -0.16290367574610962,
          -0.1919274903478627,
          -0.16971269459470334,
          -0.061616498622149456,
          -0.1468681609646122,
          -0.20320765354106765,
          0.014967933001085499,
          -0.12216616622271692,
          -0.1644266977064168,
          -0.08846965179969454,
          -0.12660679964924748,
          -0.0822501314977428,
          -0.15093536282038827,
          0.08567517435412843,
          -0.12878435815616804,
          -0.07803600270339517,
          -0.0740797605597429,
          0.04238891320276095,
          0.22334367156311996,
          -0.1625190940094021,
          -0.11492763403952592,
          -0.18840584387946122,
          -0.1682704162810956,
          0.09400642600568836,
          -0.18343368346278927,
          -0.14426665997130678,
          -0.11344087826851608,
          -0.1728380648027818,
          0.034340564578929894,
          -0.1794103373655433,
          -0.18045578058767434,
          -0.10419515755647837,
          -0.15561220101018292,
          -0.13167899812709838,
          -0.14907512598782938,
          -0.10292237856795698,
          -0.1672847918704392,
          -0.1537905137835416,
          -0.17672993889835004,
          -0.18352547802566474,
          0.09490122200045568,
          -0.0447483872086092,
          -0.13522229798133814,
          -0.11906034247323202,
          0.12934563222653242,
          -0.09979297206260641,
          -0.042841603706234084,
          0.4746073610188666,
          -0.0751447023794655,
          -0.16398506832466206,
          0.10017435771024767,
          -0.07507588150800307,
          -0.022500392817948432,
          -0.17986685877963268,
          -0.1691536891399679,
          -0.15781938759016395,
          -0.1500082468577928,
          -0.196640062804664,
          -0.1180943557813313,
          -0.14166208038329095,
          0.14871046212655564,
          -0.18246159687825877,
          0.4093252577730554,
          -0.18079552223707113,
          0.061160934318551095,
          0.16992338417826003,
          -0.03788952668841553,
          -0.1255965427610472,
          -0.09328131635589444,
          -0.1745016902281366,
          -0.20468480376337542,
          -0.17072657075337824,
          0.11016558821086539,
          -0.17940360453940998,
          -0.5049342010232465,
          -0.4009810085824968,
          -0.6995595705954993,
          -0.5379724888262246,
          -0.5510786669639065,
          -0.404819572526019,
          -0.3987122608290366,
          -0.6710537599889139,
          -0.4696431131960633,
          -0.8957180314253195,
          -0.9030423403611779,
          -0.5127852784818993,
          -0.467532009072744,
          -0.5523390825865078,
          -0.595602593002698,
          -0.4893893559598151,
          -0.5513512999244788,
          -0.39062043689177994,
          -0.36478559385733444,
          -0.3564535767939586,
          -0.5269650860619663,
          -0.538123378045775,
          -0.22671349660022977,
          -0.4171024851634945,
          -0.727625981280775,
          -0.3670544085727098,
          -0.43875030589122754,
          -0.3870021943128931,
          -0.49750931326911296,
          -0.3940209381221719,
          -0.5041224243370213,
          -0.7205967264965362,
          -0.5169073512361827,
          -0.4084447173681753,
          -0.5293596090974856,
          -0.7770896256973371,
          -0.785423922517457,
          -0.8046246411778797,
          -0.47284984949220177,
          -0.5560721042147059,
          -0.3692786887502104,
          -0.40655079960971746,
          -0.5014576613898487,
          -0.7239262402531649,
          -0.293903477749632,
          -0.6998912163324833,
          -0.541540583664999,
          -0.7122012675167727,
          -0.7137474333663807,
          -0.7270037991477911,
          -0.518056210383332,
          -0.7096820002469786,
          -0.583284093232865,
          -0.5612427189776794,
          -0.5973822999190027,
          -0.7174695542090672,
          -0.33965176938105385,
          -0.6771411714248803,
          -0.5519989320296462,
          -0.7187082121982783,
          -0.5716420535415451,
          -0.48639739633953205,
          -0.7498456698874745,
          -0.6732273031886206,
          -0.4907183913223616,
          -0.6023028554046439,
          -0.4402254470189021,
          -0.5480707926114292,
          -0.5477493329574243,
          -0.4078202030244792,
          -0.4267618097909989,
          -0.544959880765538,
          -0.8543286104063109,
          -0.8514581806458756,
          -0.850036019793076,
          -0.8629808874296314,
          -0.8554812228688521,
          -0.8536466379251331,
          -0.8665172994966952,
          -0.8697615517879669,
          -0.581772247885397,
          -0.3544525755646681,
          -0.6423632926001226,
          -0.45960201326938044,
          -0.7933511900202529,
          -0.4371701477068494,
          -0.700781995723406,
          -0.5242389121331781,
          -0.602227938484421,
          -0.36746658899341206,
          -0.36572411787955317,
          -0.2759534479636095,
          -0.7868475218174188,
          -0.5432598323231124,
          -0.5457008184405083,
          -0.571763829495463,
          -0.40500829122606957,
          -0.44466318097176616,
          -0.6018226191421903,
          -0.7820679490534655,
          -0.47172132533235817,
          -0.6942678603223699,
          -0.5876258713935626,
          -0.41348719398939837,
          -0.6001355087058394,
          -0.6772929544844505,
          -0.4545764053634613,
          -0.5040625256904124,
          -0.45204114112550753,
          -0.5618668178107427,
          -0.6254272343584247,
          -0.4700738455421585,
          -0.41819056406721505,
          -0.48941162068725197,
          -0.441860737728581,
          -0.6456419216417242,
          -0.4606759413813606,
          -0.4832602458113176,
          -0.6639445829568545,
          -0.5423289256321959,
          -0.5530824659285846,
          -0.7604739714824107,
          -0.7413451473616077,
          -0.5447737395544133,
          -0.7424733806269939,
          -0.4779305046977941,
          -0.5040967301965666,
          -0.6052788062311927,
          -0.5571384606886188,
          -0.5189839949001485,
          0.06439666398128183,
          -0.42173558499658415,
          -0.6726181028453723,
          -0.4474149497345216,
          -0.4832344289145099,
          -0.46597542494635497,
          -0.5795953653388026,
          -0.47876343869279303,
          -0.12923948737000576,
          -0.3544842709446747,
          -0.6762735472893981,
          -0.548627012090499,
          -0.6338568121927184,
          -0.4337247309395473,
          -0.52125685647255,
          -0.5896833934129381,
          -0.4616447147456403,
          -0.4899592457832076,
          -0.40929641873994715,
          -0.6454018857623443,
          -0.41591556290802145,
          -0.591900640081693,
          -0.4981799759437004,
          -0.46970138488433444,
          -0.37483032455407655,
          -0.4860411150416582,
          -0.42844421955519896,
          -0.7349356948971512,
          -0.49982243945306837,
          -0.4612846034425012,
          -0.6646580661183294,
          -0.5532537542164468,
          -0.8419284321015023,
          -0.8511007311635198,
          -0.5523802339409077,
          -0.41586483965625387,
          -0.3782415995380132,
          -0.4186700171940177
         ],
         "xaxis": "x",
         "y": [
          -0.28436251034201343,
          0.03730614734009755,
          -0.048701304226917146,
          0.23638639350715884,
          0.5853264007688141,
          0.5130556682927867,
          0.33715459943910314,
          0.08333312083002554,
          0.3256379305247585,
          0.22357941479089094,
          0.20992739599308702,
          0.20447315442722053,
          0.0689289246060888,
          0.22562072085700002,
          0.2407433145220732,
          -0.06933934515324965,
          0.5540270152119032,
          0.1491447642005401,
          0.15655047026043917,
          0.13501211420186632,
          -0.027704440288056714,
          -0.0555114145678365,
          0.29698495472791797,
          0.30400894302750797,
          0.30863827500968477,
          -0.093584317258648,
          0.2528776956923502,
          -0.11709460180215912,
          -0.07669502213032836,
          0.3159106911319438,
          0.5761577195995341,
          0.01779588583070829,
          0.08546726654150112,
          0.4291131362442407,
          0.11264287582190419,
          0.11248685100308069,
          0.01739540275681396,
          0.2012947615990467,
          -0.13012992563310596,
          0.05735925189090749,
          0.2194856129152028,
          0.31004261939319544,
          0.12993030473742986,
          0.3152095234116155,
          0.43319182394893435,
          0.0015199988108444895,
          0.5177391697888136,
          0.36408430988635043,
          0.35444870241881193,
          0.35786814709854564,
          0.20582454383721616,
          0.1242812932710513,
          0.2485848005596422,
          0.1722572991796826,
          0.14387805052151098,
          0.22130793787368544,
          -0.25573414920561033,
          0.06449285135255528,
          0.002062569092049416,
          -0.14613334968497263,
          0.2152683144011538,
          0.31113054684673824,
          0.5247732853331533,
          0.2012152962719166,
          0.13323122054602068,
          -0.32331719612094456,
          0.09422406078451506,
          -0.010446769107331865,
          -0.22867922040713926,
          0.14412909159338685,
          -0.29091646802669574,
          -0.14010166754364703,
          0.2742591303990065,
          0.21512445631250735,
          0.49450320398488284,
          0.018906398171129365,
          -0.25626609411665907,
          0.3108275280232545,
          0.5591429621717893,
          0.3779116189162608,
          -0.26711474567288523,
          0.3341229979317733,
          0.5198434551790639,
          -0.034444459576604095,
          -0.044207794391963144,
          0.35586048966421324,
          0.26127846691185835,
          0.1641986825998496,
          0.0483578531761816,
          0.4422515494696417,
          0.46177689441024156,
          0.2996710984565475,
          -0.40276243708049186,
          0.5446323975773636,
          -0.24147706040344719,
          0.25658473181557756,
          0.22056439839034206,
          0.4309106024167738,
          -0.2705993834876219,
          -0.13895168951725514,
          -0.18920899280426445,
          -0.20041070612369344,
          -0.18275026106260214,
          0.41096744030929533,
          -0.18843956482531687,
          -0.3280681243370317,
          -0.25735485508723355,
          0.2928194241959128,
          0.10415536911524702,
          0.5485336449420686,
          0.11813684336465677,
          0.2371367965608631,
          0.2049631269979203,
          -0.2536211814604144,
          0.2570491120824979,
          -0.02879949182945808,
          0.030753416560731522,
          -0.07168006293336289,
          -0.19376735641099668,
          0.34489535857718434,
          -0.15923099547927197,
          0.6153061912256437,
          -0.2657969300096914,
          0.05493684235351021,
          -0.1920157169586821,
          -0.11630840995520773,
          0.1377070737304061,
          -0.2388530617996489,
          -0.3764423881338711,
          0.44254695579456527,
          0.007500038494364844,
          0.26448777167928345,
          -0.057496183049391775,
          -0.042505540554975865,
          -0.20659457588214786,
          0.2990368410562521,
          0.16833088485997416,
          0.18740945135947462,
          0.16215542766212898,
          -0.32797918277553173,
          -0.16922554532564463,
          -0.09566727567444853,
          0.29053801435121446,
          0.34554884129527136,
          -0.1713949392643777,
          -0.3308078370428674,
          -0.16532015242194298,
          0.07025260808155397,
          -0.39569251501116165,
          0.005965113252912607,
          -0.0069209387141996375,
          0.30416902225483883,
          0.08746351023808575,
          0.22459104072230662,
          -0.009334603893878742,
          -0.15389209181046237,
          -0.23294090695005074,
          -0.5116068950266425,
          0.18534980849218882,
          0.053128493460403735,
          0.00290514029367026,
          -0.4453728977356572,
          0.40408911692944277,
          -0.09739079368851128,
          -0.14519975076379488,
          0.08396689349594155,
          0.12191856034972048,
          0.6450375392473546,
          0.29734147407065836,
          -0.020739386679087896,
          0.24614166286152142,
          -0.05897170125394149,
          0.09049395832347207,
          0.34738351301104436,
          0.4066253314993804,
          -0.3003958702206143,
          0.07659058189951408,
          0.42938792323542674,
          -0.28449497244429206,
          -0.44435920845609056,
          -0.16064865728042982,
          -0.3222700792799546,
          -0.06294543632667089,
          -0.2057816300986989,
          0.03929139891718597,
          -0.3119576433101937,
          -0.5687958777170244,
          -0.15319946713914068,
          -0.47415025775920094,
          -0.03367186464182659,
          -0.28904940403086377,
          -0.47564410559097964,
          -0.03687015445857416,
          -0.21198867226680712,
          -0.29892422559608317,
          -0.17814586843796246,
          -0.16056189096334042,
          -0.06298502548715734,
          -0.1164285533948359,
          -0.3792058622748293,
          -0.40777236399341443,
          -0.16644434608284875,
          -0.537918378134634,
          -0.4569980126814031,
          -0.5435918266507737,
          -0.3847747469331413,
          -0.27738830631489525,
          -0.566065446567545,
          -0.46342530584591446,
          -0.29094788493607376,
          -0.180325641744999,
          -0.6801343345176589,
          -0.47738080132663663,
          -0.5193528214778179,
          -0.3491611931638107,
          0.009524362147429397,
          -0.2251778574425264,
          -0.1755342654943284,
          -0.5115642373307631,
          -0.3733046792402309,
          -0.4073884047082443,
          -0.1510458389489689,
          -0.29688682700469066,
          -0.2940763016470931,
          -0.4614455493555919,
          -0.40381450070295305,
          -0.41754585426969665,
          -0.3563381055649226,
          -0.059933888511692526,
          -0.20784947508919926,
          -0.35371366025861267,
          -0.2781913717967241,
          -0.25448863462896754,
          -0.06478690339735982,
          -0.06212420142450091,
          -0.2665691200976195,
          -0.659280505639252,
          -0.07856513150713997,
          -0.1315854371880999,
          0.013541416183824194,
          0.17410034999767357,
          -0.001594984058525103,
          -0.08235743618455676,
          -0.33826456480323525,
          -0.12719976840038033,
          0.05156509216441626,
          0.03135676655201431,
          0.15290367129213947,
          -0.3525046277742827,
          -0.012422550316683932,
          -0.08986738286177584,
          -0.39405223915779475,
          -0.5637794346864613,
          -0.6539986023478156,
          -0.3739237545422472,
          -0.1978830190760954,
          -0.2188338498733177,
          -0.277145029717851,
          -0.4131784743644577,
          -0.04069365210548128,
          -0.008432341704627366,
          -0.6012122399621956,
          -0.3356239447836557,
          -0.4411750747575125,
          -0.35305774500609677,
          -0.043769947903917535,
          -0.5996299879972298,
          -0.25075138054390855,
          -0.7318344924318473,
          -0.035851955364097236,
          -0.45887277524908376,
          -0.5211168982983755,
          -0.3725497539870275,
          -0.010773436139859628,
          -0.2525119912683734,
          -0.02293895226027078,
          -0.5855080290561662,
          -0.36804339618844567,
          -0.1891133427169862,
          -0.3417745998197106,
          -0.06714477689203627,
          -0.3942199752204656,
          -0.3967090963810561,
          -0.5963623127383318,
          -0.22903621845292454,
          -0.0767782225135773,
          -0.29006355307566994,
          -0.7224711422419932,
          -0.7177342570683909,
          0.2673415911734792,
          0.053260184569781065,
          -0.007140494887300015,
          -0.6434635056302918,
          -0.2050874008772351,
          -0.03415428964996212,
          0.0633571188824467,
          -0.37442365612771167,
          -0.45534014421567504,
          -0.33257035439986915,
          -0.639237074017054,
          -0.10012520833967874,
          -0.2250320969878848,
          -0.161327422992215,
          -0.17648444988893947,
          -0.30449393871394975,
          -0.21526748093632952,
          -0.4656146870321034,
          0.06296568344858151,
          -0.3923829210629433,
          -0.43016583560212285,
          0.06641703135779564,
          -0.6733543304229798,
          -0.15310844525315842,
          -0.5451408759571733,
          -0.020222110517049634,
          -0.12604534405045323,
          0.12769172487588465,
          -0.33469612046715697,
          -0.09826694430074395,
          -0.1807665135789756,
          -0.5480976319747931,
          -0.41879071271687834,
          -0.08325868528146975,
          0.03604300465236169,
          0.013214069906251057,
          -0.46955096206463137,
          0.3111305468467383,
          0.0018214638163528247,
          0.033152015827303344,
          0.1318224206402165,
          -0.37665569216041844,
          0.19384073191926873,
          -0.035776796290628,
          -0.428521759521153,
          -0.3969891397257786,
          -0.038690175559826394,
          0.3724755987717811,
          -0.009998642192185775,
          0.08604418983569662,
          0.32954707446088416,
          0.3228557906275369,
          -0.06266723483763131,
          0.399485855136334,
          -0.0026820713115637863,
          0.3370970535853437,
          0.5112716450190176,
          -0.032868974806187105,
          0.5923542855715636,
          -0.213553104956417,
          0.4800420791054576,
          0.022157221741615673,
          0.10588363740078316,
          0.30791476777225213,
          0.311606083450514,
          -0.17507750294477045,
          -0.2240908272529396,
          0.03075109999014389,
          0.053128493460403735,
          0.3639699879066174,
          0.35993936953506817,
          0.13398454181048983,
          0.43756639763493943,
          0.14893539454832017,
          0.07570328047526921,
          0.0019607592341224257,
          -0.24031731729716635,
          0.10890285061690815,
          -0.26351332132864635,
          0.17390375796894553,
          0.29770056404374495,
          -0.07339794019993831,
          0.18467436417490254,
          0.20121529627191653,
          -0.1614581200746808,
          -0.12718252283761913,
          0.31452901348589746,
          -0.2449059126183766,
          0.11124131468569763,
          0.1078770992108452,
          0.035160130665597124,
          -0.13203598970024133,
          0.05020207678375915,
          0.06412304467678316,
          0.056276762171570086,
          0.08273413957715547,
          -0.07529866310177881,
          0.1487247237292394,
          0.08162179095730573,
          0.07274503043672818,
          0.07616510935700295,
          0.009296672854610496,
          0.4269001261839823,
          -0.16170495001495327,
          0.11569174228323682,
          0.043904186345932794,
          -0.041066002400004305,
          -0.08864101512649107,
          0.35722803649659085,
          0.3053927891137123,
          0.1083293472845301,
          0.28889126696197087,
          0.04339467140436495,
          0.2733176718038583,
          0.5306301263256912,
          0.582274681860267,
          -0.2401264870268657,
          0.5745715136426799,
          0.7053251330761403,
          0.5835288111120014,
          -0.17663246315472364,
          0.054174510486068424,
          -0.10996346157790671,
          0.18855497096565044,
          -0.27611469645943487,
          0.04840554526484529,
          0.06306564966484202,
          0.21960209773584036,
          -0.3015876804660151,
          0.26773634885032427,
          0.2339932598739559,
          -0.27645934999767463,
          -0.26579717745926346,
          0.23843736266728857,
          -0.31013714820336913,
          0.03276455596217504,
          0.317946499268863,
          -0.09948696328191622,
          0.23309368402687888,
          -0.1824212431500642,
          -0.18266483946098233,
          0.08368682600119916,
          -0.22929079011370326,
          -0.1122182137116906,
          0.11695453413611519,
          -0.016445230458744835,
          0.36991684895535387,
          -0.16493825996163342,
          -0.09876108126933789,
          -0.2147802886206474,
          0.10563037440189654,
          0.36873130724572045,
          -0.24006965756805485,
          -0.23759217151856749,
          -0.25640078752199447,
          -0.00010769725887666585,
          -0.0000944667435090535,
          0.12039046061410054,
          -0.11124218430301958,
          0.10614634222633738,
          0.611540196980192,
          -0.12036656008693901,
          0.1848358610225543,
          0.17563382772790148,
          -0.018832930783474845,
          0.43882286523723624,
          -0.034543754352730105,
          -0.17471069328488698,
          -0.17213327815134832,
          -0.17358498041987402,
          -0.1849937929328221,
          -0.17545417348576675,
          0.10387870696779916,
          0.11837006759962354,
          -0.005966860711592258,
          -0.2550465171067555,
          -0.028153029636185194,
          0.16587625952050244,
          -0.24062129916129243,
          0.22383358184818353,
          0.15035138720224156,
          -0.1722316089363911,
          -0.3327337197391445,
          0.011854078978460102,
          0.16542155621853832,
          -0.2219969475843461,
          -0.23938607648513718,
          -0.15066826068398284,
          -0.2108052623910959,
          0.5012815142549045,
          0.02503460672224211,
          -0.040343986224999934,
          0.19807861323535844,
          0.18478434320437698,
          -0.17765655267065383,
          0.3927187291858574,
          0.34805538047758267,
          0.07510978697086107,
          0.0723353528123825,
          0.18147370067887802,
          0.005964592200561504,
          0.13098066403362807,
          -0.038532058962058365,
          -0.04115755761718845,
          -0.0007085405417083096,
          -0.1710445831554461,
          0.016020730849333795,
          0.4327160432823202,
          -0.02290348085591231,
          0.4325207551646803,
          0.19270463431645884,
          0.09695419223533988,
          0.22005382181193062,
          0.20025000215020047,
          0.302269222834391,
          0.36502520089874474,
          -0.2117591545165534,
          0.48197950183145305,
          -0.11227755191818803,
          0.09733712551035817,
          0.32290530154587327,
          0.1694989059443477,
          0.06798027889470348,
          -0.21770712308382417,
          -0.1085116646566306,
          0.1114947329571188,
          -0.09961686988701798,
          0.6528674654995668,
          0.33960272806231473,
          -0.15462495411918015,
          0.10764833898838692,
          0.24166043704301104,
          0.24981161211309122,
          0.0744079338306214,
          0.38669890056548983,
          0.12518285894335915,
          -0.19084901213852318,
          0.0161316893665024,
          0.1904780567717086,
          0.15118946250346454,
          0.16729828916587794,
          -0.15186415275440993,
          0.11580016471374337,
          0.3856604498234826,
          0.39685623124748526,
          -0.22918488972990783,
          -0.19532719204385263,
          -0.21519865565780286,
          0.1275803055546972,
          -0.19044040804379342,
          0.4319711140254737,
          -0.05343567896175445,
          0.1758228449192713,
          -0.10876828074056877,
          -0.13665811639182346,
          0.21253066936441864,
          0.524776127985555,
          -0.1693545315708788,
          0.01984967370884393,
          -0.15783467961271752,
          0.3454985507523486,
          0.09122962657229403,
          0.39345877554348596,
          0.09033028318061197,
          -0.038604068108705425,
          0.4246390531173911,
          -0.34827515794231156,
          0.2801198178938448,
          0.02026224480080174,
          0.19178153486902294,
          -0.19201571695868205,
          -0.1279841256190513,
          -0.29022794880753083,
          -0.19111407964321153,
          -0.042410973021584024,
          0.35730807094882877,
          -0.21113721981397993,
          -0.13386458769857598,
          -0.1820952156760622,
          0.5328288185849404,
          0.27509683217187136,
          0.35225539433275516,
          0.334670527987546,
          0.12790398222327215,
          -0.15401592665431213,
          0.09599421836385144,
          -0.3052570210604379,
          0.18534980849218882,
          0.08396689349594155,
          0.21184706421631486,
          -0.33634719685661074,
          -0.15298477359643242,
          -0.09050524490619924,
          0.3169403940346284,
          0.21667941373577837,
          -0.02287182125351827,
          -0.03984431640437903,
          0.2655256729482094,
          -0.192904621351415,
          0.035151115509059104,
          0.12179964820817316,
          0.08272076747271537,
          -0.07920529308656826,
          0.1754498417323643,
          -0.13282906538627162,
          -0.024719177102538223,
          0.13233801251225744,
          0.01371566959473731,
          0.3967351785000062,
          0.018908412973946086,
          0.2958504205428892,
          -0.06593400899526379,
          0.28039911041259435,
          0.31903756059464644,
          0.29722068000115937,
          -0.06627269416951753,
          -0.019281994584333783,
          -0.3963338321635257,
          0.06552520290404118,
          -0.6450481767059415,
          0.006886292182855163,
          -0.12129912168795624,
          0.048654727699399075,
          -0.032139283502904056,
          -0.6855961767507863,
          -0.39429520834582105,
          -0.5021857505696986,
          -0.2132610295125779,
          -0.38615621241381654,
          -0.37619215708766846,
          0.06663838320607945,
          -0.34526045337667605,
          -0.1531608743413493,
          -0.5963643114468677,
          -0.1207958298304462,
          -0.06419222986218186,
          -0.4743574997036418,
          -0.5225193965005207,
          -0.419375578306889,
          -0.06118847709290717,
          0.012466077509943139,
          -0.6019702926492217,
          -0.288092506209374,
          -0.10304744572842865,
          -0.1895902608081667,
          -0.6370873752398967,
          -0.4506421574280972,
          -0.3755050953747481,
          -0.09668065226206506,
          -0.22441904088529813,
          -0.4861529528218709,
          -0.4069441738135889,
          -0.04800190206604993,
          -0.13474119643023455,
          -0.3802689725504211,
          -0.6266992440145496,
          -0.22373930825418878,
          -0.1995947509336432,
          -0.3144759795007172,
          -0.4374989045531763,
          -0.09207625933809886,
          -0.23631176509735108,
          0.024661097051135807,
          -0.2496916431779532,
          0.08482800955739761,
          -0.08027258823922823,
          -0.3689970269768168,
          -0.6964254225967159,
          -0.22477197848620978,
          -0.5518669277863893,
          0.09458177208816837,
          -0.5453503228426446,
          -0.34819507117841947,
          -0.12654012877708928,
          -0.44711328121352045,
          -0.35432228262280635,
          -0.08518095000854634,
          -0.5678318234829774,
          -0.09178701501936,
          -0.41759042440050903,
          0.032687432697041136,
          -0.1034375801183057,
          -0.128167999386054,
          -0.4957801052492668,
          -0.6522926423385955,
          0.10272587104178925,
          -0.2078128589596143,
          -0.48532592513832856,
          0.258215092173444,
          -0.38288511376209117,
          0.016735369003070332,
          -0.24541077335920655,
          -0.13659220226936747,
          -0.2560327045663354,
          -0.3096667383225235,
          -0.05883374881937692,
          -0.4718530970171341,
          -0.2678915724749827,
          -0.5349867710573374,
          -0.3675464106588248,
          0.02811553911164773,
          -0.22639707073113496,
          0.06371699572600528,
          0.05074774042691587,
          -0.4498395146742548,
          -0.24291900191529822,
          0.03782441885694699,
          -0.5417473171986211,
          -0.3222700792799546,
          0.23489727224330623,
          -0.1706718829927906,
          -0.6098937039407666,
          0.1735834421067001,
          -0.4563362483555374,
          -0.12256064198553328,
          -0.5089607017586681,
          -0.5385976836974796,
          -0.4634897205800711,
          -0.6476793345649785,
          -0.3045464076608176,
          -0.5370788491745812,
          -0.5691029279168877,
          0.11345888115883986,
          -0.29446899641765256,
          -0.13281889078293063,
          -0.1250829667001887,
          0.30344368983561504,
          -0.16203971848016624,
          -0.009852824628043214,
          -0.021671369089077557,
          -0.08836052773017566,
          -0.16812706555230392,
          -0.4475388082309997,
          -0.4061176621594471,
          -0.3323029074927231,
          -0.5828944234765261,
          0.011587906226745897,
          -0.05562702734446209,
          0.3383945073957221,
          0.343890046728157,
          0.16281240046001014,
          0.055852508282423594,
          0.2255187352422595,
          0.4336048486324697,
          -0.1479318714847019,
          0.7317239721368254,
          0.7446902110414988,
          0.29482062980978574,
          -0.2585840637026883,
          0.42325832228192584,
          0.03911925133025767,
          0.02539079982400361,
          -0.030948493791167035,
          -0.07595976523628749,
          -0.30814226582705234,
          0.1201156311939545,
          0.04922161182468691,
          -0.016494432153137856,
          -0.021097958573382408,
          -0.1551197236427121,
          -0.0048497103846031325,
          0.2589142727430871,
          0.22560875473090639,
          -0.2324321642616691,
          0.22804582854707467,
          -0.02561926644338017,
          -0.18932224535108927,
          0.3543572109496718,
          0.36703805042040405,
          -0.0023806720737956297,
          0.386035066599031,
          0.1469301899191864,
          0.6804631964709107,
          0.17378324469523077,
          0.29357296529944615,
          0.2669393107989757,
          0.10509490690187341,
          -0.3471686631264545,
          0.4488791060374017,
          0.6370485575217826,
          -0.21325681122883935,
          0.39280759911308955,
          -0.13421698848067554,
          0.3342210797356895,
          0.35670830362461575,
          0.6273173814814215,
          0.26581637871378966,
          0.3438471763363159,
          0.19187109985401374,
          0.23216996881364502,
          -0.040263215191694304,
          0.617222218730202,
          0.3253357136486324,
          0.32428603598379696,
          0.06958746734664362,
          0.339462766336652,
          0.023321630770501388,
          0.1590206591951675,
          0.10765118057013767,
          0.25632845742296856,
          0.48946524722481827,
          0.2946676117653971,
          -0.057452545295173275,
          0.18921394046796397,
          0.1926028832611034,
          0.094015223996848,
          -0.08057756879409193,
          0.3713849580390645,
          0.4546981040667498,
          0.4287640037718049,
          0.42920520587606825,
          0.4520746467739471,
          0.43291591540460533,
          0.4355907545368364,
          0.4523923791494944,
          0.46110680848790747,
          0.17091147509347498,
          0.26248313310609517,
          0.5148324716642146,
          0.4685844822993544,
          0.15670086177598777,
          -0.20119110976229607,
          0.6572182236558982,
          -0.04735504307133025,
          0.19517644654965585,
          0.06036828970177914,
          0.34012903120510546,
          -0.3403445613397004,
          0.7347095929528442,
          0.4275727470134496,
          0.09520610590472361,
          0.41906385809916263,
          -0.07487040844644026,
          0.022937294378886832,
          0.2706196286302772,
          0.24994617778475003,
          0.1456427404745902,
          0.6083316500432387,
          -0.011537151415717036,
          -0.08635217962396777,
          0.5244229996533785,
          0.19589042908432205,
          -0.12661100272528522,
          0.41132846195947614,
          0.1937104390058915,
          -0.14683588028464423,
          0.19346585222669435,
          0.34985843058288313,
          -0.25809993313299523,
          0.07971688222531897,
          0.2833048078851373,
          0.14295335126765582,
          0.24910058600101678,
          0.3040343260194003,
          0.629671584266676,
          0.24163615951885178,
          0.4428117070410491,
          0.09543773854041689,
          0.36721566776905973,
          -0.07702997543604162,
          0.4511084778086524,
          0.2511223761953712,
          0.36647776985453767,
          0.5137952436081696,
          0.4351654137108519,
          -0.07215015085148228,
          -0.07342897041911092,
          -0.2642372603774504,
          0.25582623510639385,
          0.35326193645873694,
          -0.17751895215415406,
          0.29195159814600635,
          0.40870608814503656,
          -0.1910160941422502,
          -0.2043765870101261,
          0.03837558166982916,
          0.5693175255253429,
          0.4703294027177496,
          0.3373554304412563,
          -0.2638095685302016,
          -0.18935748597906177,
          0.25810036387358887,
          -0.11987720737291802,
          0.24907823111218627,
          -0.18290119079337033,
          -0.01946488896315957,
          0.04321940131881024,
          0.2207025699176505,
          -0.04399879374596944,
          -0.06363186417876654,
          0.1278061441279241,
          0.25929911834423985,
          0.18796397385542526,
          0.4246505317043616,
          -0.13071112893634332,
          0.13058593249112077,
          0.34762788363552005,
          0.06416332379276417,
          0.7063163701998805,
          0.7077429554188869,
          0.14892917711451917,
          0.3633146576172248,
          0.2787218239914463,
          -0.06049252591937387
         ],
         "yaxis": "y"
        }
       ],
       "layout": {
        "coloraxis": {
         "colorbar": {
          "title": {
           "text": "Cluster"
          }
         },
         "colorscale": [
          [
           0,
           "#0d0887"
          ],
          [
           0.1111111111111111,
           "#46039f"
          ],
          [
           0.2222222222222222,
           "#7201a8"
          ],
          [
           0.3333333333333333,
           "#9c179e"
          ],
          [
           0.4444444444444444,
           "#bd3786"
          ],
          [
           0.5555555555555556,
           "#d8576b"
          ],
          [
           0.6666666666666666,
           "#ed7953"
          ],
          [
           0.7777777777777778,
           "#fb9f3a"
          ],
          [
           0.8888888888888888,
           "#fdca26"
          ],
          [
           1,
           "#f0f921"
          ]
         ]
        },
        "legend": {
         "tracegroupgap": 0
        },
        "margin": {
         "t": 60
        },
        "template": {
         "data": {
          "bar": [
           {
            "error_x": {
             "color": "#2a3f5f"
            },
            "error_y": {
             "color": "#2a3f5f"
            },
            "marker": {
             "line": {
              "color": "#E5ECF6",
              "width": 0.5
             },
             "pattern": {
              "fillmode": "overlay",
              "size": 10,
              "solidity": 0.2
             }
            },
            "type": "bar"
           }
          ],
          "barpolar": [
           {
            "marker": {
             "line": {
              "color": "#E5ECF6",
              "width": 0.5
             },
             "pattern": {
              "fillmode": "overlay",
              "size": 10,
              "solidity": 0.2
             }
            },
            "type": "barpolar"
           }
          ],
          "carpet": [
           {
            "aaxis": {
             "endlinecolor": "#2a3f5f",
             "gridcolor": "white",
             "linecolor": "white",
             "minorgridcolor": "white",
             "startlinecolor": "#2a3f5f"
            },
            "baxis": {
             "endlinecolor": "#2a3f5f",
             "gridcolor": "white",
             "linecolor": "white",
             "minorgridcolor": "white",
             "startlinecolor": "#2a3f5f"
            },
            "type": "carpet"
           }
          ],
          "choropleth": [
           {
            "colorbar": {
             "outlinewidth": 0,
             "ticks": ""
            },
            "type": "choropleth"
           }
          ],
          "contour": [
           {
            "colorbar": {
             "outlinewidth": 0,
             "ticks": ""
            },
            "colorscale": [
             [
              0,
              "#0d0887"
             ],
             [
              0.1111111111111111,
              "#46039f"
             ],
             [
              0.2222222222222222,
              "#7201a8"
             ],
             [
              0.3333333333333333,
              "#9c179e"
             ],
             [
              0.4444444444444444,
              "#bd3786"
             ],
             [
              0.5555555555555556,
              "#d8576b"
             ],
             [
              0.6666666666666666,
              "#ed7953"
             ],
             [
              0.7777777777777778,
              "#fb9f3a"
             ],
             [
              0.8888888888888888,
              "#fdca26"
             ],
             [
              1,
              "#f0f921"
             ]
            ],
            "type": "contour"
           }
          ],
          "contourcarpet": [
           {
            "colorbar": {
             "outlinewidth": 0,
             "ticks": ""
            },
            "type": "contourcarpet"
           }
          ],
          "heatmap": [
           {
            "colorbar": {
             "outlinewidth": 0,
             "ticks": ""
            },
            "colorscale": [
             [
              0,
              "#0d0887"
             ],
             [
              0.1111111111111111,
              "#46039f"
             ],
             [
              0.2222222222222222,
              "#7201a8"
             ],
             [
              0.3333333333333333,
              "#9c179e"
             ],
             [
              0.4444444444444444,
              "#bd3786"
             ],
             [
              0.5555555555555556,
              "#d8576b"
             ],
             [
              0.6666666666666666,
              "#ed7953"
             ],
             [
              0.7777777777777778,
              "#fb9f3a"
             ],
             [
              0.8888888888888888,
              "#fdca26"
             ],
             [
              1,
              "#f0f921"
             ]
            ],
            "type": "heatmap"
           }
          ],
          "heatmapgl": [
           {
            "colorbar": {
             "outlinewidth": 0,
             "ticks": ""
            },
            "colorscale": [
             [
              0,
              "#0d0887"
             ],
             [
              0.1111111111111111,
              "#46039f"
             ],
             [
              0.2222222222222222,
              "#7201a8"
             ],
             [
              0.3333333333333333,
              "#9c179e"
             ],
             [
              0.4444444444444444,
              "#bd3786"
             ],
             [
              0.5555555555555556,
              "#d8576b"
             ],
             [
              0.6666666666666666,
              "#ed7953"
             ],
             [
              0.7777777777777778,
              "#fb9f3a"
             ],
             [
              0.8888888888888888,
              "#fdca26"
             ],
             [
              1,
              "#f0f921"
             ]
            ],
            "type": "heatmapgl"
           }
          ],
          "histogram": [
           {
            "marker": {
             "pattern": {
              "fillmode": "overlay",
              "size": 10,
              "solidity": 0.2
             }
            },
            "type": "histogram"
           }
          ],
          "histogram2d": [
           {
            "colorbar": {
             "outlinewidth": 0,
             "ticks": ""
            },
            "colorscale": [
             [
              0,
              "#0d0887"
             ],
             [
              0.1111111111111111,
              "#46039f"
             ],
             [
              0.2222222222222222,
              "#7201a8"
             ],
             [
              0.3333333333333333,
              "#9c179e"
             ],
             [
              0.4444444444444444,
              "#bd3786"
             ],
             [
              0.5555555555555556,
              "#d8576b"
             ],
             [
              0.6666666666666666,
              "#ed7953"
             ],
             [
              0.7777777777777778,
              "#fb9f3a"
             ],
             [
              0.8888888888888888,
              "#fdca26"
             ],
             [
              1,
              "#f0f921"
             ]
            ],
            "type": "histogram2d"
           }
          ],
          "histogram2dcontour": [
           {
            "colorbar": {
             "outlinewidth": 0,
             "ticks": ""
            },
            "colorscale": [
             [
              0,
              "#0d0887"
             ],
             [
              0.1111111111111111,
              "#46039f"
             ],
             [
              0.2222222222222222,
              "#7201a8"
             ],
             [
              0.3333333333333333,
              "#9c179e"
             ],
             [
              0.4444444444444444,
              "#bd3786"
             ],
             [
              0.5555555555555556,
              "#d8576b"
             ],
             [
              0.6666666666666666,
              "#ed7953"
             ],
             [
              0.7777777777777778,
              "#fb9f3a"
             ],
             [
              0.8888888888888888,
              "#fdca26"
             ],
             [
              1,
              "#f0f921"
             ]
            ],
            "type": "histogram2dcontour"
           }
          ],
          "mesh3d": [
           {
            "colorbar": {
             "outlinewidth": 0,
             "ticks": ""
            },
            "type": "mesh3d"
           }
          ],
          "parcoords": [
           {
            "line": {
             "colorbar": {
              "outlinewidth": 0,
              "ticks": ""
             }
            },
            "type": "parcoords"
           }
          ],
          "pie": [
           {
            "automargin": true,
            "type": "pie"
           }
          ],
          "scatter": [
           {
            "fillpattern": {
             "fillmode": "overlay",
             "size": 10,
             "solidity": 0.2
            },
            "type": "scatter"
           }
          ],
          "scatter3d": [
           {
            "line": {
             "colorbar": {
              "outlinewidth": 0,
              "ticks": ""
             }
            },
            "marker": {
             "colorbar": {
              "outlinewidth": 0,
              "ticks": ""
             }
            },
            "type": "scatter3d"
           }
          ],
          "scattercarpet": [
           {
            "marker": {
             "colorbar": {
              "outlinewidth": 0,
              "ticks": ""
             }
            },
            "type": "scattercarpet"
           }
          ],
          "scattergeo": [
           {
            "marker": {
             "colorbar": {
              "outlinewidth": 0,
              "ticks": ""
             }
            },
            "type": "scattergeo"
           }
          ],
          "scattergl": [
           {
            "marker": {
             "colorbar": {
              "outlinewidth": 0,
              "ticks": ""
             }
            },
            "type": "scattergl"
           }
          ],
          "scattermapbox": [
           {
            "marker": {
             "colorbar": {
              "outlinewidth": 0,
              "ticks": ""
             }
            },
            "type": "scattermapbox"
           }
          ],
          "scatterpolar": [
           {
            "marker": {
             "colorbar": {
              "outlinewidth": 0,
              "ticks": ""
             }
            },
            "type": "scatterpolar"
           }
          ],
          "scatterpolargl": [
           {
            "marker": {
             "colorbar": {
              "outlinewidth": 0,
              "ticks": ""
             }
            },
            "type": "scatterpolargl"
           }
          ],
          "scatterternary": [
           {
            "marker": {
             "colorbar": {
              "outlinewidth": 0,
              "ticks": ""
             }
            },
            "type": "scatterternary"
           }
          ],
          "surface": [
           {
            "colorbar": {
             "outlinewidth": 0,
             "ticks": ""
            },
            "colorscale": [
             [
              0,
              "#0d0887"
             ],
             [
              0.1111111111111111,
              "#46039f"
             ],
             [
              0.2222222222222222,
              "#7201a8"
             ],
             [
              0.3333333333333333,
              "#9c179e"
             ],
             [
              0.4444444444444444,
              "#bd3786"
             ],
             [
              0.5555555555555556,
              "#d8576b"
             ],
             [
              0.6666666666666666,
              "#ed7953"
             ],
             [
              0.7777777777777778,
              "#fb9f3a"
             ],
             [
              0.8888888888888888,
              "#fdca26"
             ],
             [
              1,
              "#f0f921"
             ]
            ],
            "type": "surface"
           }
          ],
          "table": [
           {
            "cells": {
             "fill": {
              "color": "#EBF0F8"
             },
             "line": {
              "color": "white"
             }
            },
            "header": {
             "fill": {
              "color": "#C8D4E3"
             },
             "line": {
              "color": "white"
             }
            },
            "type": "table"
           }
          ]
         },
         "layout": {
          "annotationdefaults": {
           "arrowcolor": "#2a3f5f",
           "arrowhead": 0,
           "arrowwidth": 1
          },
          "autotypenumbers": "strict",
          "coloraxis": {
           "colorbar": {
            "outlinewidth": 0,
            "ticks": ""
           }
          },
          "colorscale": {
           "diverging": [
            [
             0,
             "#8e0152"
            ],
            [
             0.1,
             "#c51b7d"
            ],
            [
             0.2,
             "#de77ae"
            ],
            [
             0.3,
             "#f1b6da"
            ],
            [
             0.4,
             "#fde0ef"
            ],
            [
             0.5,
             "#f7f7f7"
            ],
            [
             0.6,
             "#e6f5d0"
            ],
            [
             0.7,
             "#b8e186"
            ],
            [
             0.8,
             "#7fbc41"
            ],
            [
             0.9,
             "#4d9221"
            ],
            [
             1,
             "#276419"
            ]
           ],
           "sequential": [
            [
             0,
             "#0d0887"
            ],
            [
             0.1111111111111111,
             "#46039f"
            ],
            [
             0.2222222222222222,
             "#7201a8"
            ],
            [
             0.3333333333333333,
             "#9c179e"
            ],
            [
             0.4444444444444444,
             "#bd3786"
            ],
            [
             0.5555555555555556,
             "#d8576b"
            ],
            [
             0.6666666666666666,
             "#ed7953"
            ],
            [
             0.7777777777777778,
             "#fb9f3a"
            ],
            [
             0.8888888888888888,
             "#fdca26"
            ],
            [
             1,
             "#f0f921"
            ]
           ],
           "sequentialminus": [
            [
             0,
             "#0d0887"
            ],
            [
             0.1111111111111111,
             "#46039f"
            ],
            [
             0.2222222222222222,
             "#7201a8"
            ],
            [
             0.3333333333333333,
             "#9c179e"
            ],
            [
             0.4444444444444444,
             "#bd3786"
            ],
            [
             0.5555555555555556,
             "#d8576b"
            ],
            [
             0.6666666666666666,
             "#ed7953"
            ],
            [
             0.7777777777777778,
             "#fb9f3a"
            ],
            [
             0.8888888888888888,
             "#fdca26"
            ],
            [
             1,
             "#f0f921"
            ]
           ]
          },
          "colorway": [
           "#636efa",
           "#EF553B",
           "#00cc96",
           "#ab63fa",
           "#FFA15A",
           "#19d3f3",
           "#FF6692",
           "#B6E880",
           "#FF97FF",
           "#FECB52"
          ],
          "font": {
           "color": "#2a3f5f"
          },
          "geo": {
           "bgcolor": "white",
           "lakecolor": "white",
           "landcolor": "#E5ECF6",
           "showlakes": true,
           "showland": true,
           "subunitcolor": "white"
          },
          "hoverlabel": {
           "align": "left"
          },
          "hovermode": "closest",
          "mapbox": {
           "style": "light"
          },
          "paper_bgcolor": "white",
          "plot_bgcolor": "#E5ECF6",
          "polar": {
           "angularaxis": {
            "gridcolor": "white",
            "linecolor": "white",
            "ticks": ""
           },
           "bgcolor": "#E5ECF6",
           "radialaxis": {
            "gridcolor": "white",
            "linecolor": "white",
            "ticks": ""
           }
          },
          "scene": {
           "xaxis": {
            "backgroundcolor": "#E5ECF6",
            "gridcolor": "white",
            "gridwidth": 2,
            "linecolor": "white",
            "showbackground": true,
            "ticks": "",
            "zerolinecolor": "white"
           },
           "yaxis": {
            "backgroundcolor": "#E5ECF6",
            "gridcolor": "white",
            "gridwidth": 2,
            "linecolor": "white",
            "showbackground": true,
            "ticks": "",
            "zerolinecolor": "white"
           },
           "zaxis": {
            "backgroundcolor": "#E5ECF6",
            "gridcolor": "white",
            "gridwidth": 2,
            "linecolor": "white",
            "showbackground": true,
            "ticks": "",
            "zerolinecolor": "white"
           }
          },
          "shapedefaults": {
           "line": {
            "color": "#2a3f5f"
           }
          },
          "ternary": {
           "aaxis": {
            "gridcolor": "white",
            "linecolor": "white",
            "ticks": ""
           },
           "baxis": {
            "gridcolor": "white",
            "linecolor": "white",
            "ticks": ""
           },
           "bgcolor": "#E5ECF6",
           "caxis": {
            "gridcolor": "white",
            "linecolor": "white",
            "ticks": ""
           }
          },
          "title": {
           "x": 0.05
          },
          "xaxis": {
           "automargin": true,
           "gridcolor": "white",
           "linecolor": "white",
           "ticks": "",
           "title": {
            "standoff": 15
           },
           "zerolinecolor": "white",
           "zerolinewidth": 2
          },
          "yaxis": {
           "automargin": true,
           "gridcolor": "white",
           "linecolor": "white",
           "ticks": "",
           "title": {
            "standoff": 15
           },
           "zerolinecolor": "white",
           "zerolinewidth": 2
          }
         }
        },
        "title": {
         "text": "Clustering (PCA Projection)",
         "x": 0.5
        },
        "xaxis": {
         "anchor": "y",
         "domain": [
          0,
          1
         ],
         "title": {
          "text": "PCA1"
         }
        },
        "yaxis": {
         "anchor": "x",
         "domain": [
          0,
          1
         ],
         "title": {
          "text": "PCA2"
         }
        }
       }
      }
     },
     "metadata": {},
     "output_type": "display_data"
    }
   ],
   "source": [
    "spotify.visualize_clustering(df=dataset_scaled, feature=dataset[['track_name']])"
   ]
  },
  {
   "cell_type": "code",
   "execution_count": 2,
   "metadata": {},
   "outputs": [],
   "source": [
    "### Get a dataframe with last tracks\n",
    "df = spotify.get_recent_tracks(10)"
   ]
  },
  {
   "cell_type": "code",
   "execution_count": 3,
   "metadata": {},
   "outputs": [],
   "source": [
    "### Vectorize data from this dataframe\n",
    "df_vect = spotify.vectorize_recent_tracks(df, n_components=3, played_date=False)"
   ]
  },
  {
   "cell_type": "code",
   "execution_count": 4,
   "metadata": {},
   "outputs": [],
   "source": [
    "df_scaled = spotify.scale_and_weight(df_vect, weighted_features=['popularity', 'release_date', 'album_id', 'track_tags', 'track_artists_id'], weights=[2, 2, 3, 2, 3], n_components=3)"
   ]
  },
  {
   "cell_type": "code",
   "execution_count": 5,
   "metadata": {},
   "outputs": [],
   "source": [
    "clusters = spotify.clustering(df_scaled)\n",
    "df['cluster'] = clusters"
   ]
  },
  {
   "cell_type": "code",
   "execution_count": 6,
   "metadata": {},
   "outputs": [
    {
     "data": {
      "image/png": "[encoded data removed]",
      "text/plain": [
       "<Figure size 640x480 with 1 Axes>"
      ]
     },
     "metadata": {},
     "output_type": "display_data"
    },
    {
     "data": {
      "application/vnd.plotly.v1+json": {
       "config": {
        "plotlyServerURL": "https://plot.ly"
       },
       "data": [
        {
         "customdata": [
          [
           "CIEL"
          ],
          [
           "1h55"
          ],
          [
           "No stress"
          ],
          [
           "Journée"
          ],
          [
           "Mapessa (feat. Tiakola)"
          ],
          [
           "PLAISIR NOCIF"
          ],
          [
           "Panamera"
          ],
          [
           "Love"
          ],
          [
           "Fusil"
          ],
          [
           "Cousine"
          ]
         ],
         "hovertemplate": "PCA1=%{x}<br>PCA2=%{y}<br>Track_ID=%{customdata[0]}<br>Cluster=%{marker.color}<extra></extra>",
         "legendgroup": "",
         "marker": {
          "color": [
           1,
           3,
           0,
           1,
           1,
           3,
           2,
           2,
           4,
           2
          ],
          "coloraxis": "coloraxis",
          "symbol": "circle"
         },
         "mode": "markers",
         "name": "",
         "orientation": "v",
         "showlegend": false,
         "type": "scatter",
         "x": [
          -0.28836747923889433,
          1.2512050749452832,
          0.8110173843223266,
          -0.1155492632852902,
          -0.22117821589958614,
          0.9692092069779223,
          -0.6428185817763521,
          -0.202999029356608,
          -0.881102915410163,
          -0.6794161812786385
         ],
         "xaxis": "x",
         "y": [
          0.11996793660424152,
          0.7750877532070126,
          -1.5114402835441259,
          0.011480193880473213,
          -0.015664904514724687,
          0.5144580076454764,
          -0.39350761853018734,
          0.01796694484787174,
          0.6555452141335797,
          -0.17389324372961948
         ],
         "yaxis": "y"
        }
       ],
       "layout": {
        "coloraxis": {
         "colorbar": {
          "title": {
           "text": "Cluster"
          }
         },
         "colorscale": [
          [
           0,
           "#0d0887"
          ],
          [
           0.1111111111111111,
           "#46039f"
          ],
          [
           0.2222222222222222,
           "#7201a8"
          ],
          [
           0.3333333333333333,
           "#9c179e"
          ],
          [
           0.4444444444444444,
           "#bd3786"
          ],
          [
           0.5555555555555556,
           "#d8576b"
          ],
          [
           0.6666666666666666,
           "#ed7953"
          ],
          [
           0.7777777777777778,
           "#fb9f3a"
          ],
          [
           0.8888888888888888,
           "#fdca26"
          ],
          [
           1,
           "#f0f921"
          ]
         ]
        },
        "legend": {
         "tracegroupgap": 0
        },
        "margin": {
         "t": 60
        },
        "template": {
         "data": {
          "bar": [
           {
            "error_x": {
             "color": "#2a3f5f"
            },
            "error_y": {
             "color": "#2a3f5f"
            },
            "marker": {
             "line": {
              "color": "#E5ECF6",
              "width": 0.5
             },
             "pattern": {
              "fillmode": "overlay",
              "size": 10,
              "solidity": 0.2
             }
            },
            "type": "bar"
           }
          ],
          "barpolar": [
           {
            "marker": {
             "line": {
              "color": "#E5ECF6",
              "width": 0.5
             },
             "pattern": {
              "fillmode": "overlay",
              "size": 10,
              "solidity": 0.2
             }
            },
            "type": "barpolar"
           }
          ],
          "carpet": [
           {
            "aaxis": {
             "endlinecolor": "#2a3f5f",
             "gridcolor": "white",
             "linecolor": "white",
             "minorgridcolor": "white",
             "startlinecolor": "#2a3f5f"
            },
            "baxis": {
             "endlinecolor": "#2a3f5f",
             "gridcolor": "white",
             "linecolor": "white",
             "minorgridcolor": "white",
             "startlinecolor": "#2a3f5f"
            },
            "type": "carpet"
           }
          ],
          "choropleth": [
           {
            "colorbar": {
             "outlinewidth": 0,
             "ticks": ""
            },
            "type": "choropleth"
           }
          ],
          "contour": [
           {
            "colorbar": {
             "outlinewidth": 0,
             "ticks": ""
            },
            "colorscale": [
             [
              0,
              "#0d0887"
             ],
             [
              0.1111111111111111,
              "#46039f"
             ],
             [
              0.2222222222222222,
              "#7201a8"
             ],
             [
              0.3333333333333333,
              "#9c179e"
             ],
             [
              0.4444444444444444,
              "#bd3786"
             ],
             [
              0.5555555555555556,
              "#d8576b"
             ],
             [
              0.6666666666666666,
              "#ed7953"
             ],
             [
              0.7777777777777778,
              "#fb9f3a"
             ],
             [
              0.8888888888888888,
              "#fdca26"
             ],
             [
              1,
              "#f0f921"
             ]
            ],
            "type": "contour"
           }
          ],
          "contourcarpet": [
           {
            "colorbar": {
             "outlinewidth": 0,
             "ticks": ""
            },
            "type": "contourcarpet"
           }
          ],
          "heatmap": [
           {
            "colorbar": {
             "outlinewidth": 0,
             "ticks": ""
            },
            "colorscale": [
             [
              0,
              "#0d0887"
             ],
             [
              0.1111111111111111,
              "#46039f"
             ],
             [
              0.2222222222222222,
              "#7201a8"
             ],
             [
              0.3333333333333333,
              "#9c179e"
             ],
             [
              0.4444444444444444,
              "#bd3786"
             ],
             [
              0.5555555555555556,
              "#d8576b"
             ],
             [
              0.6666666666666666,
              "#ed7953"
             ],
             [
              0.7777777777777778,
              "#fb9f3a"
             ],
             [
              0.8888888888888888,
              "#fdca26"
             ],
             [
              1,
              "#f0f921"
             ]
            ],
            "type": "heatmap"
           }
          ],
          "heatmapgl": [
           {
            "colorbar": {
             "outlinewidth": 0,
             "ticks": ""
            },
            "colorscale": [
             [
              0,
              "#0d0887"
             ],
             [
              0.1111111111111111,
              "#46039f"
             ],
             [
              0.2222222222222222,
              "#7201a8"
             ],
             [
              0.3333333333333333,
              "#9c179e"
             ],
             [
              0.4444444444444444,
              "#bd3786"
             ],
             [
              0.5555555555555556,
              "#d8576b"
             ],
             [
              0.6666666666666666,
              "#ed7953"
             ],
             [
              0.7777777777777778,
              "#fb9f3a"
             ],
             [
              0.8888888888888888,
              "#fdca26"
             ],
             [
              1,
              "#f0f921"
             ]
            ],
            "type": "heatmapgl"
           }
          ],
          "histogram": [
           {
            "marker": {
             "pattern": {
              "fillmode": "overlay",
              "size": 10,
              "solidity": 0.2
             }
            },
            "type": "histogram"
           }
          ],
          "histogram2d": [
           {
            "colorbar": {
             "outlinewidth": 0,
             "ticks": ""
            },
            "colorscale": [
             [
              0,
              "#0d0887"
             ],
             [
              0.1111111111111111,
              "#46039f"
             ],
             [
              0.2222222222222222,
              "#7201a8"
             ],
             [
              0.3333333333333333,
              "#9c179e"
             ],
             [
              0.4444444444444444,
              "#bd3786"
             ],
             [
              0.5555555555555556,
              "#d8576b"
             ],
             [
              0.6666666666666666,
              "#ed7953"
             ],
             [
              0.7777777777777778,
              "#fb9f3a"
             ],
             [
              0.8888888888888888,
              "#fdca26"
             ],
             [
              1,
              "#f0f921"
             ]
            ],
            "type": "histogram2d"
           }
          ],
          "histogram2dcontour": [
           {
            "colorbar": {
             "outlinewidth": 0,
             "ticks": ""
            },
            "colorscale": [
             [
              0,
              "#0d0887"
             ],
             [
              0.1111111111111111,
              "#46039f"
             ],
             [
              0.2222222222222222,
              "#7201a8"
             ],
             [
              0.3333333333333333,
              "#9c179e"
             ],
             [
              0.4444444444444444,
              "#bd3786"
             ],
             [
              0.5555555555555556,
              "#d8576b"
             ],
             [
              0.6666666666666666,
              "#ed7953"
             ],
             [
              0.7777777777777778,
              "#fb9f3a"
             ],
             [
              0.8888888888888888,
              "#fdca26"
             ],
             [
              1,
              "#f0f921"
             ]
            ],
            "type": "histogram2dcontour"
           }
          ],
          "mesh3d": [
           {
            "colorbar": {
             "outlinewidth": 0,
             "ticks": ""
            },
            "type": "mesh3d"
           }
          ],
          "parcoords": [
           {
            "line": {
             "colorbar": {
              "outlinewidth": 0,
              "ticks": ""
             }
            },
            "type": "parcoords"
           }
          ],
          "pie": [
           {
            "automargin": true,
            "type": "pie"
           }
          ],
          "scatter": [
           {
            "fillpattern": {
             "fillmode": "overlay",
             "size": 10,
             "solidity": 0.2
            },
            "type": "scatter"
           }
          ],
          "scatter3d": [
           {
            "line": {
             "colorbar": {
              "outlinewidth": 0,
              "ticks": ""
             }
            },
            "marker": {
             "colorbar": {
              "outlinewidth": 0,
              "ticks": ""
             }
            },
            "type": "scatter3d"
           }
          ],
          "scattercarpet": [
           {
            "marker": {
             "colorbar": {
              "outlinewidth": 0,
              "ticks": ""
             }
            },
            "type": "scattercarpet"
           }
          ],
          "scattergeo": [
           {
            "marker": {
             "colorbar": {
              "outlinewidth": 0,
              "ticks": ""
             }
            },
            "type": "scattergeo"
           }
          ],
          "scattergl": [
           {
            "marker": {
             "colorbar": {
              "outlinewidth": 0,
              "ticks": ""
             }
            },
            "type": "scattergl"
           }
          ],
          "scattermapbox": [
           {
            "marker": {
             "colorbar": {
              "outlinewidth": 0,
              "ticks": ""
             }
            },
            "type": "scattermapbox"
           }
          ],
          "scatterpolar": [
           {
            "marker": {
             "colorbar": {
              "outlinewidth": 0,
              "ticks": ""
             }
            },
            "type": "scatterpolar"
           }
          ],
          "scatterpolargl": [
           {
            "marker": {
             "colorbar": {
              "outlinewidth": 0,
              "ticks": ""
             }
            },
            "type": "scatterpolargl"
           }
          ],
          "scatterternary": [
           {
            "marker": {
             "colorbar": {
              "outlinewidth": 0,
              "ticks": ""
             }
            },
            "type": "scatterternary"
           }
          ],
          "surface": [
           {
            "colorbar": {
             "outlinewidth": 0,
             "ticks": ""
            },
            "colorscale": [
             [
              0,
              "#0d0887"
             ],
             [
              0.1111111111111111,
              "#46039f"
             ],
             [
              0.2222222222222222,
              "#7201a8"
             ],
             [
              0.3333333333333333,
              "#9c179e"
             ],
             [
              0.4444444444444444,
              "#bd3786"
             ],
             [
              0.5555555555555556,
              "#d8576b"
             ],
             [
              0.6666666666666666,
              "#ed7953"
             ],
             [
              0.7777777777777778,
              "#fb9f3a"
             ],
             [
              0.8888888888888888,
              "#fdca26"
             ],
             [
              1,
              "#f0f921"
             ]
            ],
            "type": "surface"
           }
          ],
          "table": [
           {
            "cells": {
             "fill": {
              "color": "#EBF0F8"
             },
             "line": {
              "color": "white"
             }
            },
            "header": {
             "fill": {
              "color": "#C8D4E3"
             },
             "line": {
              "color": "white"
             }
            },
            "type": "table"
           }
          ]
         },
         "layout": {
          "annotationdefaults": {
           "arrowcolor": "#2a3f5f",
           "arrowhead": 0,
           "arrowwidth": 1
          },
          "autotypenumbers": "strict",
          "coloraxis": {
           "colorbar": {
            "outlinewidth": 0,
            "ticks": ""
           }
          },
          "colorscale": {
           "diverging": [
            [
             0,
             "#8e0152"
            ],
            [
             0.1,
             "#c51b7d"
            ],
            [
             0.2,
             "#de77ae"
            ],
            [
             0.3,
             "#f1b6da"
            ],
            [
             0.4,
             "#fde0ef"
            ],
            [
             0.5,
             "#f7f7f7"
            ],
            [
             0.6,
             "#e6f5d0"
            ],
            [
             0.7,
             "#b8e186"
            ],
            [
             0.8,
             "#7fbc41"
            ],
            [
             0.9,
             "#4d9221"
            ],
            [
             1,
             "#276419"
            ]
           ],
           "sequential": [
            [
             0,
             "#0d0887"
            ],
            [
             0.1111111111111111,
             "#46039f"
            ],
            [
             0.2222222222222222,
             "#7201a8"
            ],
            [
             0.3333333333333333,
             "#9c179e"
            ],
            [
             0.4444444444444444,
             "#bd3786"
            ],
            [
             0.5555555555555556,
             "#d8576b"
            ],
            [
             0.6666666666666666,
             "#ed7953"
            ],
            [
             0.7777777777777778,
             "#fb9f3a"
            ],
            [
             0.8888888888888888,
             "#fdca26"
            ],
            [
             1,
             "#f0f921"
            ]
           ],
           "sequentialminus": [
            [
             0,
             "#0d0887"
            ],
            [
             0.1111111111111111,
             "#46039f"
            ],
            [
             0.2222222222222222,
             "#7201a8"
            ],
            [
             0.3333333333333333,
             "#9c179e"
            ],
            [
             0.4444444444444444,
             "#bd3786"
            ],
            [
             0.5555555555555556,
             "#d8576b"
            ],
            [
             0.6666666666666666,
             "#ed7953"
            ],
            [
             0.7777777777777778,
             "#fb9f3a"
            ],
            [
             0.8888888888888888,
             "#fdca26"
            ],
            [
             1,
             "#f0f921"
            ]
           ]
          },
          "colorway": [
           "#636efa",
           "#EF553B",
           "#00cc96",
           "#ab63fa",
           "#FFA15A",
           "#19d3f3",
           "#FF6692",
           "#B6E880",
           "#FF97FF",
           "#FECB52"
          ],
          "font": {
           "color": "#2a3f5f"
          },
          "geo": {
           "bgcolor": "white",
           "lakecolor": "white",
           "landcolor": "#E5ECF6",
           "showlakes": true,
           "showland": true,
           "subunitcolor": "white"
          },
          "hoverlabel": {
           "align": "left"
          },
          "hovermode": "closest",
          "mapbox": {
           "style": "light"
          },
          "paper_bgcolor": "white",
          "plot_bgcolor": "#E5ECF6",
          "polar": {
           "angularaxis": {
            "gridcolor": "white",
            "linecolor": "white",
            "ticks": ""
           },
           "bgcolor": "#E5ECF6",
           "radialaxis": {
            "gridcolor": "white",
            "linecolor": "white",
            "ticks": ""
           }
          },
          "scene": {
           "xaxis": {
            "backgroundcolor": "#E5ECF6",
            "gridcolor": "white",
            "gridwidth": 2,
            "linecolor": "white",
            "showbackground": true,
            "ticks": "",
            "zerolinecolor": "white"
           },
           "yaxis": {
            "backgroundcolor": "#E5ECF6",
            "gridcolor": "white",
            "gridwidth": 2,
            "linecolor": "white",
            "showbackground": true,
            "ticks": "",
            "zerolinecolor": "white"
           },
           "zaxis": {
            "backgroundcolor": "#E5ECF6",
            "gridcolor": "white",
            "gridwidth": 2,
            "linecolor": "white",
            "showbackground": true,
            "ticks": "",
            "zerolinecolor": "white"
           }
          },
          "shapedefaults": {
           "line": {
            "color": "#2a3f5f"
           }
          },
          "ternary": {
           "aaxis": {
            "gridcolor": "white",
            "linecolor": "white",
            "ticks": ""
           },
           "baxis": {
            "gridcolor": "white",
            "linecolor": "white",
            "ticks": ""
           },
           "bgcolor": "#E5ECF6",
           "caxis": {
            "gridcolor": "white",
            "linecolor": "white",
            "ticks": ""
           }
          },
          "title": {
           "x": 0.05
          },
          "xaxis": {
           "automargin": true,
           "gridcolor": "white",
           "linecolor": "white",
           "ticks": "",
           "title": {
            "standoff": 15
           },
           "zerolinecolor": "white",
           "zerolinewidth": 2
          },
          "yaxis": {
           "automargin": true,
           "gridcolor": "white",
           "linecolor": "white",
           "ticks": "",
           "title": {
            "standoff": 15
           },
           "zerolinecolor": "white",
           "zerolinewidth": 2
          }
         }
        },
        "title": {
         "text": "Clustering (PCA Projection)",
         "x": 0.5
        },
        "xaxis": {
         "anchor": "y",
         "domain": [
          0,
          1
         ],
         "title": {
          "text": "PCA1"
         }
        },
        "yaxis": {
         "anchor": "x",
         "domain": [
          0,
          1
         ],
         "title": {
          "text": "PCA2"
         }
        }
       }
      }
     },
     "metadata": {},
     "output_type": "display_data"
    }
   ],
   "source": [
    "spotify.visualize_clustering(df=df_scaled, feature=df[['track_name']])"
   ]
  },
  {
   "cell_type": "code",
   "execution_count": 311,
   "metadata": {},
   "outputs": [
    {
     "name": "stderr",
     "output_type": "stream",
     "text": [
      "c:\\Anaconda\\lib\\site-packages\\sklearn\\decomposition\\_pca.py:648: RuntimeWarning: invalid value encountered in divide\n",
      "  explained_variance_ratio_ = explained_variance_ / total_var\n"
     ]
    }
   ],
   "source": [
    "cluster_dfs = spotify.get_tracklist(df, limit=1)\n",
    "cluster_vect_dfs = spotify.vectorize_tracklist(cluster_dfs, weighted_features=['popularity', 'release_date', 'album_id', 'track_tags', 'track_artists_id'], weights=[2, 2, 3, 2, 3], n_components=1)\n",
    "cosine_matrices = spotify.compute_cosine_matrices(cluster_vect_dfs)"
   ]
  },
  {
   "cell_type": "code",
   "execution_count": 313,
   "metadata": {},
   "outputs": [
    {
     "data": {
      "text/plain": [
       "\"Tracks similaires à 'Monaco' : Minimum ça, CIEL, Boucan (feat. Franglish), On y va, OHMA TOKITA\""
      ]
     },
     "execution_count": 313,
     "metadata": {},
     "output_type": "execute_result"
    }
   ],
   "source": [
    "similar_tracks = spotify.search_similar_tracks_by_pos(df, cluster_dfs, cosine_matrices, track_pos=6)\n",
    "similar_tracks"
   ]
  }
 ],
 "metadata": {
  "kernelspec": {
   "display_name": "base",
   "language": "python",
   "name": "python3"
  },
  "language_info": {
   "codemirror_mode": {
    "name": "ipython",
    "version": 3
   },
   "file_extension": ".py",
   "mimetype": "text/x-python",
   "name": "python",
   "nbconvert_exporter": "python",
   "pygments_lexer": "ipython3",
   "version": "3.10.9"
  }
 },
 "nbformat": 4,
 "nbformat_minor": 2
}
