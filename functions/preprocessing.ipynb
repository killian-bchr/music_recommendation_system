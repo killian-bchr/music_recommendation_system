{
 "cells": [
  {
   "cell_type": "code",
   "execution_count": null,
   "metadata": {},
   "outputs": [
    {
     "name": "stdout",
     "output_type": "stream",
     "text": [
      "The autoreload extension is already loaded. To reload it, use:\n",
      "  %reload_ext autoreload\n"
     ]
    }
   ],
   "source": [
    "from functions import Tracklist\n",
    "from utils import Utils\n",
    "from sklearn.decomposition import PCA\n",
    "from sklearn.impute import SimpleImputer\n",
    "import pandas as pd\n",
    "import matplotlib.pyplot as plt\n",
    "import seaborn as sns\n",
    "import sqlite3\n",
    "%load_ext autoreload\n",
    "%autoreload 2"
   ]
  },
  {
   "cell_type": "code",
   "execution_count": 2,
   "metadata": {},
   "outputs": [
    {
     "data": {
      "text/plain": [
       "{'similarartists': {'artist': [{'name': 'Tiakola',\n",
       "    'match': '1',\n",
       "    'url': 'https://www.last.fm/music/Tiakola',\n",
       "    'image': [{'#text': 'https://lastfm.freetls.fastly.net/i/u/34s/2a96cbd8b46e442fc41c2b86b821562f.png',\n",
       "      'size': 'small'},\n",
       "     {'#text': 'https://lastfm.freetls.fastly.net/i/u/64s/2a96cbd8b46e442fc41c2b86b821562f.png',\n",
       "      'size': 'medium'},\n",
       "     {'#text': 'https://lastfm.freetls.fastly.net/i/u/174s/2a96cbd8b46e442fc41c2b86b821562f.png',\n",
       "      'size': 'large'},\n",
       "     {'#text': 'https://lastfm.freetls.fastly.net/i/u/300x300/2a96cbd8b46e442fc41c2b86b821562f.png',\n",
       "      'size': 'extralarge'},\n",
       "     {'#text': 'https://lastfm.freetls.fastly.net/i/u/300x300/2a96cbd8b46e442fc41c2b86b821562f.png',\n",
       "      'size': 'mega'},\n",
       "     {'#text': 'https://lastfm.freetls.fastly.net/i/u/300x300/2a96cbd8b46e442fc41c2b86b821562f.png',\n",
       "      'size': ''}],\n",
       "    'streamable': '0'},\n",
       "   {'name': 'Ninho',\n",
       "    'match': '0.944633',\n",
       "    'url': 'https://www.last.fm/music/Ninho',\n",
       "    'image': [{'#text': 'https://lastfm.freetls.fastly.net/i/u/34s/2a96cbd8b46e442fc41c2b86b821562f.png',\n",
       "      'size': 'small'},\n",
       "     {'#text': 'https://lastfm.freetls.fastly.net/i/u/64s/2a96cbd8b46e442fc41c2b86b821562f.png',\n",
       "      'size': 'medium'},\n",
       "     {'#text': 'https://lastfm.freetls.fastly.net/i/u/174s/2a96cbd8b46e442fc41c2b86b821562f.png',\n",
       "      'size': 'large'},\n",
       "     {'#text': 'https://lastfm.freetls.fastly.net/i/u/300x300/2a96cbd8b46e442fc41c2b86b821562f.png',\n",
       "      'size': 'extralarge'},\n",
       "     {'#text': 'https://lastfm.freetls.fastly.net/i/u/300x300/2a96cbd8b46e442fc41c2b86b821562f.png',\n",
       "      'size': 'mega'},\n",
       "     {'#text': 'https://lastfm.freetls.fastly.net/i/u/300x300/2a96cbd8b46e442fc41c2b86b821562f.png',\n",
       "      'size': ''}],\n",
       "    'streamable': '0'},\n",
       "   {'name': 'Leto',\n",
       "    'match': '0.859755',\n",
       "    'url': 'https://www.last.fm/music/Leto',\n",
       "    'image': [{'#text': 'https://lastfm.freetls.fastly.net/i/u/34s/2a96cbd8b46e442fc41c2b86b821562f.png',\n",
       "      'size': 'small'},\n",
       "     {'#text': 'https://lastfm.freetls.fastly.net/i/u/64s/2a96cbd8b46e442fc41c2b86b821562f.png',\n",
       "      'size': 'medium'},\n",
       "     {'#text': 'https://lastfm.freetls.fastly.net/i/u/174s/2a96cbd8b46e442fc41c2b86b821562f.png',\n",
       "      'size': 'large'},\n",
       "     {'#text': 'https://lastfm.freetls.fastly.net/i/u/300x300/2a96cbd8b46e442fc41c2b86b821562f.png',\n",
       "      'size': 'extralarge'},\n",
       "     {'#text': 'https://lastfm.freetls.fastly.net/i/u/300x300/2a96cbd8b46e442fc41c2b86b821562f.png',\n",
       "      'size': 'mega'},\n",
       "     {'#text': 'https://lastfm.freetls.fastly.net/i/u/300x300/2a96cbd8b46e442fc41c2b86b821562f.png',\n",
       "      'size': ''}],\n",
       "    'streamable': '0'},\n",
       "   {'name': 'Koba LaD',\n",
       "    'match': '0.784389',\n",
       "    'url': 'https://www.last.fm/music/Koba+LaD',\n",
       "    'image': [{'#text': 'https://lastfm.freetls.fastly.net/i/u/34s/2a96cbd8b46e442fc41c2b86b821562f.png',\n",
       "      'size': 'small'},\n",
       "     {'#text': 'https://lastfm.freetls.fastly.net/i/u/64s/2a96cbd8b46e442fc41c2b86b821562f.png',\n",
       "      'size': 'medium'},\n",
       "     {'#text': 'https://lastfm.freetls.fastly.net/i/u/174s/2a96cbd8b46e442fc41c2b86b821562f.png',\n",
       "      'size': 'large'},\n",
       "     {'#text': 'https://lastfm.freetls.fastly.net/i/u/300x300/2a96cbd8b46e442fc41c2b86b821562f.png',\n",
       "      'size': 'extralarge'},\n",
       "     {'#text': 'https://lastfm.freetls.fastly.net/i/u/300x300/2a96cbd8b46e442fc41c2b86b821562f.png',\n",
       "      'size': 'mega'},\n",
       "     {'#text': 'https://lastfm.freetls.fastly.net/i/u/300x300/2a96cbd8b46e442fc41c2b86b821562f.png',\n",
       "      'size': ''}],\n",
       "    'streamable': '0'},\n",
       "   {'name': 'Niska',\n",
       "    'match': '0.768414',\n",
       "    'url': 'https://www.last.fm/music/Niska',\n",
       "    'image': [{'#text': 'https://lastfm.freetls.fastly.net/i/u/34s/2a96cbd8b46e442fc41c2b86b821562f.png',\n",
       "      'size': 'small'},\n",
       "     {'#text': 'https://lastfm.freetls.fastly.net/i/u/64s/2a96cbd8b46e442fc41c2b86b821562f.png',\n",
       "      'size': 'medium'},\n",
       "     {'#text': 'https://lastfm.freetls.fastly.net/i/u/174s/2a96cbd8b46e442fc41c2b86b821562f.png',\n",
       "      'size': 'large'},\n",
       "     {'#text': 'https://lastfm.freetls.fastly.net/i/u/300x300/2a96cbd8b46e442fc41c2b86b821562f.png',\n",
       "      'size': 'extralarge'},\n",
       "     {'#text': 'https://lastfm.freetls.fastly.net/i/u/300x300/2a96cbd8b46e442fc41c2b86b821562f.png',\n",
       "      'size': 'mega'},\n",
       "     {'#text': 'https://lastfm.freetls.fastly.net/i/u/300x300/2a96cbd8b46e442fc41c2b86b821562f.png',\n",
       "      'size': ''}],\n",
       "    'streamable': '0'},\n",
       "   {'name': 'Kerchak',\n",
       "    'match': '0.708162',\n",
       "    'url': 'https://www.last.fm/music/Kerchak',\n",
       "    'image': [{'#text': 'https://lastfm.freetls.fastly.net/i/u/34s/2a96cbd8b46e442fc41c2b86b821562f.png',\n",
       "      'size': 'small'},\n",
       "     {'#text': 'https://lastfm.freetls.fastly.net/i/u/64s/2a96cbd8b46e442fc41c2b86b821562f.png',\n",
       "      'size': 'medium'},\n",
       "     {'#text': 'https://lastfm.freetls.fastly.net/i/u/174s/2a96cbd8b46e442fc41c2b86b821562f.png',\n",
       "      'size': 'large'},\n",
       "     {'#text': 'https://lastfm.freetls.fastly.net/i/u/300x300/2a96cbd8b46e442fc41c2b86b821562f.png',\n",
       "      'size': 'extralarge'},\n",
       "     {'#text': 'https://lastfm.freetls.fastly.net/i/u/300x300/2a96cbd8b46e442fc41c2b86b821562f.png',\n",
       "      'size': 'mega'},\n",
       "     {'#text': 'https://lastfm.freetls.fastly.net/i/u/300x300/2a96cbd8b46e442fc41c2b86b821562f.png',\n",
       "      'size': ''}],\n",
       "    'streamable': '0'},\n",
       "   {'name': \"Heuss L'enfoiré\",\n",
       "    'match': '0.707046',\n",
       "    'url': 'https://www.last.fm/music/Heuss+L%27enfoir%C3%A9',\n",
       "    'image': [{'#text': 'https://lastfm.freetls.fastly.net/i/u/34s/2a96cbd8b46e442fc41c2b86b821562f.png',\n",
       "      'size': 'small'},\n",
       "     {'#text': 'https://lastfm.freetls.fastly.net/i/u/64s/2a96cbd8b46e442fc41c2b86b821562f.png',\n",
       "      'size': 'medium'},\n",
       "     {'#text': 'https://lastfm.freetls.fastly.net/i/u/174s/2a96cbd8b46e442fc41c2b86b821562f.png',\n",
       "      'size': 'large'},\n",
       "     {'#text': 'https://lastfm.freetls.fastly.net/i/u/300x300/2a96cbd8b46e442fc41c2b86b821562f.png',\n",
       "      'size': 'extralarge'},\n",
       "     {'#text': 'https://lastfm.freetls.fastly.net/i/u/300x300/2a96cbd8b46e442fc41c2b86b821562f.png',\n",
       "      'size': 'mega'},\n",
       "     {'#text': 'https://lastfm.freetls.fastly.net/i/u/300x300/2a96cbd8b46e442fc41c2b86b821562f.png',\n",
       "      'size': ''}],\n",
       "    'streamable': '0'},\n",
       "   {'name': 'PLK',\n",
       "    'match': '0.670283',\n",
       "    'url': 'https://www.last.fm/music/PLK',\n",
       "    'image': [{'#text': 'https://lastfm.freetls.fastly.net/i/u/34s/2a96cbd8b46e442fc41c2b86b821562f.png',\n",
       "      'size': 'small'},\n",
       "     {'#text': 'https://lastfm.freetls.fastly.net/i/u/64s/2a96cbd8b46e442fc41c2b86b821562f.png',\n",
       "      'size': 'medium'},\n",
       "     {'#text': 'https://lastfm.freetls.fastly.net/i/u/174s/2a96cbd8b46e442fc41c2b86b821562f.png',\n",
       "      'size': 'large'},\n",
       "     {'#text': 'https://lastfm.freetls.fastly.net/i/u/300x300/2a96cbd8b46e442fc41c2b86b821562f.png',\n",
       "      'size': 'extralarge'},\n",
       "     {'#text': 'https://lastfm.freetls.fastly.net/i/u/300x300/2a96cbd8b46e442fc41c2b86b821562f.png',\n",
       "      'size': 'mega'},\n",
       "     {'#text': 'https://lastfm.freetls.fastly.net/i/u/300x300/2a96cbd8b46e442fc41c2b86b821562f.png',\n",
       "      'size': ''}],\n",
       "    'streamable': '0'},\n",
       "   {'name': 'Freeze Corleone',\n",
       "    'match': '0.637905',\n",
       "    'url': 'https://www.last.fm/music/Freeze+Corleone',\n",
       "    'image': [{'#text': 'https://lastfm.freetls.fastly.net/i/u/34s/2a96cbd8b46e442fc41c2b86b821562f.png',\n",
       "      'size': 'small'},\n",
       "     {'#text': 'https://lastfm.freetls.fastly.net/i/u/64s/2a96cbd8b46e442fc41c2b86b821562f.png',\n",
       "      'size': 'medium'},\n",
       "     {'#text': 'https://lastfm.freetls.fastly.net/i/u/174s/2a96cbd8b46e442fc41c2b86b821562f.png',\n",
       "      'size': 'large'},\n",
       "     {'#text': 'https://lastfm.freetls.fastly.net/i/u/300x300/2a96cbd8b46e442fc41c2b86b821562f.png',\n",
       "      'size': 'extralarge'},\n",
       "     {'#text': 'https://lastfm.freetls.fastly.net/i/u/300x300/2a96cbd8b46e442fc41c2b86b821562f.png',\n",
       "      'size': 'mega'},\n",
       "     {'#text': 'https://lastfm.freetls.fastly.net/i/u/300x300/2a96cbd8b46e442fc41c2b86b821562f.png',\n",
       "      'size': ''}],\n",
       "    'streamable': '0'},\n",
       "   {'name': 'Guy2Bezbar',\n",
       "    'match': '0.635448',\n",
       "    'url': 'https://www.last.fm/music/Guy2Bezbar',\n",
       "    'image': [{'#text': 'https://lastfm.freetls.fastly.net/i/u/34s/2a96cbd8b46e442fc41c2b86b821562f.png',\n",
       "      'size': 'small'},\n",
       "     {'#text': 'https://lastfm.freetls.fastly.net/i/u/64s/2a96cbd8b46e442fc41c2b86b821562f.png',\n",
       "      'size': 'medium'},\n",
       "     {'#text': 'https://lastfm.freetls.fastly.net/i/u/174s/2a96cbd8b46e442fc41c2b86b821562f.png',\n",
       "      'size': 'large'},\n",
       "     {'#text': 'https://lastfm.freetls.fastly.net/i/u/300x300/2a96cbd8b46e442fc41c2b86b821562f.png',\n",
       "      'size': 'extralarge'},\n",
       "     {'#text': 'https://lastfm.freetls.fastly.net/i/u/300x300/2a96cbd8b46e442fc41c2b86b821562f.png',\n",
       "      'size': 'mega'},\n",
       "     {'#text': 'https://lastfm.freetls.fastly.net/i/u/300x300/2a96cbd8b46e442fc41c2b86b821562f.png',\n",
       "      'size': ''}],\n",
       "    'streamable': '0'},\n",
       "   {'name': 'Hamza',\n",
       "    'mbid': '519cacf4-8d27-4071-8b01-0824fabcdfbb',\n",
       "    'match': '0.616362',\n",
       "    'url': 'https://www.last.fm/music/Hamza',\n",
       "    'image': [{'#text': 'https://lastfm.freetls.fastly.net/i/u/34s/2a96cbd8b46e442fc41c2b86b821562f.png',\n",
       "      'size': 'small'},\n",
       "     {'#text': 'https://lastfm.freetls.fastly.net/i/u/64s/2a96cbd8b46e442fc41c2b86b821562f.png',\n",
       "      'size': 'medium'},\n",
       "     {'#text': 'https://lastfm.freetls.fastly.net/i/u/174s/2a96cbd8b46e442fc41c2b86b821562f.png',\n",
       "      'size': 'large'},\n",
       "     {'#text': 'https://lastfm.freetls.fastly.net/i/u/300x300/2a96cbd8b46e442fc41c2b86b821562f.png',\n",
       "      'size': 'extralarge'},\n",
       "     {'#text': 'https://lastfm.freetls.fastly.net/i/u/300x300/2a96cbd8b46e442fc41c2b86b821562f.png',\n",
       "      'size': 'mega'},\n",
       "     {'#text': 'https://lastfm.freetls.fastly.net/i/u/300x300/2a96cbd8b46e442fc41c2b86b821562f.png',\n",
       "      'size': ''}],\n",
       "    'streamable': '0'},\n",
       "   {'name': 'Maes',\n",
       "    'match': '0.614212',\n",
       "    'url': 'https://www.last.fm/music/Maes',\n",
       "    'image': [{'#text': 'https://lastfm.freetls.fastly.net/i/u/34s/2a96cbd8b46e442fc41c2b86b821562f.png',\n",
       "      'size': 'small'},\n",
       "     {'#text': 'https://lastfm.freetls.fastly.net/i/u/64s/2a96cbd8b46e442fc41c2b86b821562f.png',\n",
       "      'size': 'medium'},\n",
       "     {'#text': 'https://lastfm.freetls.fastly.net/i/u/174s/2a96cbd8b46e442fc41c2b86b821562f.png',\n",
       "      'size': 'large'},\n",
       "     {'#text': 'https://lastfm.freetls.fastly.net/i/u/300x300/2a96cbd8b46e442fc41c2b86b821562f.png',\n",
       "      'size': 'extralarge'},\n",
       "     {'#text': 'https://lastfm.freetls.fastly.net/i/u/300x300/2a96cbd8b46e442fc41c2b86b821562f.png',\n",
       "      'size': 'mega'},\n",
       "     {'#text': 'https://lastfm.freetls.fastly.net/i/u/300x300/2a96cbd8b46e442fc41c2b86b821562f.png',\n",
       "      'size': ''}],\n",
       "    'streamable': '0'},\n",
       "   {'name': 'Ziak',\n",
       "    'match': '0.604138',\n",
       "    'url': 'https://www.last.fm/music/Ziak',\n",
       "    'image': [{'#text': 'https://lastfm.freetls.fastly.net/i/u/34s/2a96cbd8b46e442fc41c2b86b821562f.png',\n",
       "      'size': 'small'},\n",
       "     {'#text': 'https://lastfm.freetls.fastly.net/i/u/64s/2a96cbd8b46e442fc41c2b86b821562f.png',\n",
       "      'size': 'medium'},\n",
       "     {'#text': 'https://lastfm.freetls.fastly.net/i/u/174s/2a96cbd8b46e442fc41c2b86b821562f.png',\n",
       "      'size': 'large'},\n",
       "     {'#text': 'https://lastfm.freetls.fastly.net/i/u/300x300/2a96cbd8b46e442fc41c2b86b821562f.png',\n",
       "      'size': 'extralarge'},\n",
       "     {'#text': 'https://lastfm.freetls.fastly.net/i/u/300x300/2a96cbd8b46e442fc41c2b86b821562f.png',\n",
       "      'size': 'mega'},\n",
       "     {'#text': 'https://lastfm.freetls.fastly.net/i/u/300x300/2a96cbd8b46e442fc41c2b86b821562f.png',\n",
       "      'size': ''}],\n",
       "    'streamable': '0'},\n",
       "   {'name': 'Kaaris',\n",
       "    'mbid': '81920682-bb79-4b62-afa8-fe8dece0227c',\n",
       "    'match': '0.601529',\n",
       "    'url': 'https://www.last.fm/music/Kaaris',\n",
       "    'image': [{'#text': 'https://lastfm.freetls.fastly.net/i/u/34s/2a96cbd8b46e442fc41c2b86b821562f.png',\n",
       "      'size': 'small'},\n",
       "     {'#text': 'https://lastfm.freetls.fastly.net/i/u/64s/2a96cbd8b46e442fc41c2b86b821562f.png',\n",
       "      'size': 'medium'},\n",
       "     {'#text': 'https://lastfm.freetls.fastly.net/i/u/174s/2a96cbd8b46e442fc41c2b86b821562f.png',\n",
       "      'size': 'large'},\n",
       "     {'#text': 'https://lastfm.freetls.fastly.net/i/u/300x300/2a96cbd8b46e442fc41c2b86b821562f.png',\n",
       "      'size': 'extralarge'},\n",
       "     {'#text': 'https://lastfm.freetls.fastly.net/i/u/300x300/2a96cbd8b46e442fc41c2b86b821562f.png',\n",
       "      'size': 'mega'},\n",
       "     {'#text': 'https://lastfm.freetls.fastly.net/i/u/300x300/2a96cbd8b46e442fc41c2b86b821562f.png',\n",
       "      'size': ''}],\n",
       "    'streamable': '0'},\n",
       "   {'name': 'Gradur',\n",
       "    'mbid': 'ee3f3f84-e95f-4381-83b7-8165c022d760',\n",
       "    'match': '0.524035',\n",
       "    'url': 'https://www.last.fm/music/Gradur',\n",
       "    'image': [{'#text': 'https://lastfm.freetls.fastly.net/i/u/34s/2a96cbd8b46e442fc41c2b86b821562f.png',\n",
       "      'size': 'small'},\n",
       "     {'#text': 'https://lastfm.freetls.fastly.net/i/u/64s/2a96cbd8b46e442fc41c2b86b821562f.png',\n",
       "      'size': 'medium'},\n",
       "     {'#text': 'https://lastfm.freetls.fastly.net/i/u/174s/2a96cbd8b46e442fc41c2b86b821562f.png',\n",
       "      'size': 'large'},\n",
       "     {'#text': 'https://lastfm.freetls.fastly.net/i/u/300x300/2a96cbd8b46e442fc41c2b86b821562f.png',\n",
       "      'size': 'extralarge'},\n",
       "     {'#text': 'https://lastfm.freetls.fastly.net/i/u/300x300/2a96cbd8b46e442fc41c2b86b821562f.png',\n",
       "      'size': 'mega'},\n",
       "     {'#text': 'https://lastfm.freetls.fastly.net/i/u/300x300/2a96cbd8b46e442fc41c2b86b821562f.png',\n",
       "      'size': ''}],\n",
       "    'streamable': '0'},\n",
       "   {'name': 'Booba',\n",
       "    'mbid': '785c0e9c-89f6-4bf4-8296-443a46632d62',\n",
       "    'match': '0.517638',\n",
       "    'url': 'https://www.last.fm/music/Booba',\n",
       "    'image': [{'#text': 'https://lastfm.freetls.fastly.net/i/u/34s/2a96cbd8b46e442fc41c2b86b821562f.png',\n",
       "      'size': 'small'},\n",
       "     {'#text': 'https://lastfm.freetls.fastly.net/i/u/64s/2a96cbd8b46e442fc41c2b86b821562f.png',\n",
       "      'size': 'medium'},\n",
       "     {'#text': 'https://lastfm.freetls.fastly.net/i/u/174s/2a96cbd8b46e442fc41c2b86b821562f.png',\n",
       "      'size': 'large'},\n",
       "     {'#text': 'https://lastfm.freetls.fastly.net/i/u/300x300/2a96cbd8b46e442fc41c2b86b821562f.png',\n",
       "      'size': 'extralarge'},\n",
       "     {'#text': 'https://lastfm.freetls.fastly.net/i/u/300x300/2a96cbd8b46e442fc41c2b86b821562f.png',\n",
       "      'size': 'mega'},\n",
       "     {'#text': 'https://lastfm.freetls.fastly.net/i/u/300x300/2a96cbd8b46e442fc41c2b86b821562f.png',\n",
       "      'size': ''}],\n",
       "    'streamable': '0'},\n",
       "   {'name': 'Alonzo',\n",
       "    'mbid': '9ff87295-bdfc-46fc-b605-456cc39d84ca',\n",
       "    'match': '0.500346',\n",
       "    'url': 'https://www.last.fm/music/Alonzo',\n",
       "    'image': [{'#text': 'https://lastfm.freetls.fastly.net/i/u/34s/2a96cbd8b46e442fc41c2b86b821562f.png',\n",
       "      'size': 'small'},\n",
       "     {'#text': 'https://lastfm.freetls.fastly.net/i/u/64s/2a96cbd8b46e442fc41c2b86b821562f.png',\n",
       "      'size': 'medium'},\n",
       "     {'#text': 'https://lastfm.freetls.fastly.net/i/u/174s/2a96cbd8b46e442fc41c2b86b821562f.png',\n",
       "      'size': 'large'},\n",
       "     {'#text': 'https://lastfm.freetls.fastly.net/i/u/300x300/2a96cbd8b46e442fc41c2b86b821562f.png',\n",
       "      'size': 'extralarge'},\n",
       "     {'#text': 'https://lastfm.freetls.fastly.net/i/u/300x300/2a96cbd8b46e442fc41c2b86b821562f.png',\n",
       "      'size': 'mega'},\n",
       "     {'#text': 'https://lastfm.freetls.fastly.net/i/u/300x300/2a96cbd8b46e442fc41c2b86b821562f.png',\n",
       "      'size': ''}],\n",
       "    'streamable': '0'},\n",
       "   {'name': 'Josman',\n",
       "    'match': '0.499800',\n",
       "    'url': 'https://www.last.fm/music/Josman',\n",
       "    'image': [{'#text': 'https://lastfm.freetls.fastly.net/i/u/34s/2a96cbd8b46e442fc41c2b86b821562f.png',\n",
       "      'size': 'small'},\n",
       "     {'#text': 'https://lastfm.freetls.fastly.net/i/u/64s/2a96cbd8b46e442fc41c2b86b821562f.png',\n",
       "      'size': 'medium'},\n",
       "     {'#text': 'https://lastfm.freetls.fastly.net/i/u/174s/2a96cbd8b46e442fc41c2b86b821562f.png',\n",
       "      'size': 'large'},\n",
       "     {'#text': 'https://lastfm.freetls.fastly.net/i/u/300x300/2a96cbd8b46e442fc41c2b86b821562f.png',\n",
       "      'size': 'extralarge'},\n",
       "     {'#text': 'https://lastfm.freetls.fastly.net/i/u/300x300/2a96cbd8b46e442fc41c2b86b821562f.png',\n",
       "      'size': 'mega'},\n",
       "     {'#text': 'https://lastfm.freetls.fastly.net/i/u/300x300/2a96cbd8b46e442fc41c2b86b821562f.png',\n",
       "      'size': ''}],\n",
       "    'streamable': '0'},\n",
       "   {'name': \"Jok'Air\",\n",
       "    'match': '0.478548',\n",
       "    'url': 'https://www.last.fm/music/Jok%27Air',\n",
       "    'image': [{'#text': 'https://lastfm.freetls.fastly.net/i/u/34s/2a96cbd8b46e442fc41c2b86b821562f.png',\n",
       "      'size': 'small'},\n",
       "     {'#text': 'https://lastfm.freetls.fastly.net/i/u/64s/2a96cbd8b46e442fc41c2b86b821562f.png',\n",
       "      'size': 'medium'},\n",
       "     {'#text': 'https://lastfm.freetls.fastly.net/i/u/174s/2a96cbd8b46e442fc41c2b86b821562f.png',\n",
       "      'size': 'large'},\n",
       "     {'#text': 'https://lastfm.freetls.fastly.net/i/u/300x300/2a96cbd8b46e442fc41c2b86b821562f.png',\n",
       "      'size': 'extralarge'},\n",
       "     {'#text': 'https://lastfm.freetls.fastly.net/i/u/300x300/2a96cbd8b46e442fc41c2b86b821562f.png',\n",
       "      'size': 'mega'},\n",
       "     {'#text': 'https://lastfm.freetls.fastly.net/i/u/300x300/2a96cbd8b46e442fc41c2b86b821562f.png',\n",
       "      'size': ''}],\n",
       "    'streamable': '0'},\n",
       "   {'name': 'Kalash Criminel',\n",
       "    'match': '0.474713',\n",
       "    'url': 'https://www.last.fm/music/Kalash+Criminel',\n",
       "    'image': [{'#text': 'https://lastfm.freetls.fastly.net/i/u/34s/2a96cbd8b46e442fc41c2b86b821562f.png',\n",
       "      'size': 'small'},\n",
       "     {'#text': 'https://lastfm.freetls.fastly.net/i/u/64s/2a96cbd8b46e442fc41c2b86b821562f.png',\n",
       "      'size': 'medium'},\n",
       "     {'#text': 'https://lastfm.freetls.fastly.net/i/u/174s/2a96cbd8b46e442fc41c2b86b821562f.png',\n",
       "      'size': 'large'},\n",
       "     {'#text': 'https://lastfm.freetls.fastly.net/i/u/300x300/2a96cbd8b46e442fc41c2b86b821562f.png',\n",
       "      'size': 'extralarge'},\n",
       "     {'#text': 'https://lastfm.freetls.fastly.net/i/u/300x300/2a96cbd8b46e442fc41c2b86b821562f.png',\n",
       "      'size': 'mega'},\n",
       "     {'#text': 'https://lastfm.freetls.fastly.net/i/u/300x300/2a96cbd8b46e442fc41c2b86b821562f.png',\n",
       "      'size': ''}],\n",
       "    'streamable': '0'},\n",
       "   {'name': 'Beendo Z',\n",
       "    'match': '0.472367',\n",
       "    'url': 'https://www.last.fm/music/Beendo+Z',\n",
       "    'image': [{'#text': 'https://lastfm.freetls.fastly.net/i/u/34s/2a96cbd8b46e442fc41c2b86b821562f.png',\n",
       "      'size': 'small'},\n",
       "     {'#text': 'https://lastfm.freetls.fastly.net/i/u/64s/2a96cbd8b46e442fc41c2b86b821562f.png',\n",
       "      'size': 'medium'},\n",
       "     {'#text': 'https://lastfm.freetls.fastly.net/i/u/174s/2a96cbd8b46e442fc41c2b86b821562f.png',\n",
       "      'size': 'large'},\n",
       "     {'#text': 'https://lastfm.freetls.fastly.net/i/u/300x300/2a96cbd8b46e442fc41c2b86b821562f.png',\n",
       "      'size': 'extralarge'},\n",
       "     {'#text': 'https://lastfm.freetls.fastly.net/i/u/300x300/2a96cbd8b46e442fc41c2b86b821562f.png',\n",
       "      'size': 'mega'},\n",
       "     {'#text': 'https://lastfm.freetls.fastly.net/i/u/300x300/2a96cbd8b46e442fc41c2b86b821562f.png',\n",
       "      'size': ''}],\n",
       "    'streamable': '0'},\n",
       "   {'name': \"Rim'K\",\n",
       "    'mbid': 'b4a9c13f-e8c6-44cb-a693-1c23e8692cd5',\n",
       "    'match': '0.469204',\n",
       "    'url': 'https://www.last.fm/music/Rim%27K',\n",
       "    'image': [{'#text': 'https://lastfm.freetls.fastly.net/i/u/34s/2a96cbd8b46e442fc41c2b86b821562f.png',\n",
       "      'size': 'small'},\n",
       "     {'#text': 'https://lastfm.freetls.fastly.net/i/u/64s/2a96cbd8b46e442fc41c2b86b821562f.png',\n",
       "      'size': 'medium'},\n",
       "     {'#text': 'https://lastfm.freetls.fastly.net/i/u/174s/2a96cbd8b46e442fc41c2b86b821562f.png',\n",
       "      'size': 'large'},\n",
       "     {'#text': 'https://lastfm.freetls.fastly.net/i/u/300x300/2a96cbd8b46e442fc41c2b86b821562f.png',\n",
       "      'size': 'extralarge'},\n",
       "     {'#text': 'https://lastfm.freetls.fastly.net/i/u/300x300/2a96cbd8b46e442fc41c2b86b821562f.png',\n",
       "      'size': 'mega'},\n",
       "     {'#text': 'https://lastfm.freetls.fastly.net/i/u/300x300/2a96cbd8b46e442fc41c2b86b821562f.png',\n",
       "      'size': ''}],\n",
       "    'streamable': '0'},\n",
       "   {'name': '1PLIKÉ140',\n",
       "    'match': '0.461219',\n",
       "    'url': 'https://www.last.fm/music/1PLIK%C3%89140',\n",
       "    'image': [{'#text': 'https://lastfm.freetls.fastly.net/i/u/34s/2a96cbd8b46e442fc41c2b86b821562f.png',\n",
       "      'size': 'small'},\n",
       "     {'#text': 'https://lastfm.freetls.fastly.net/i/u/64s/2a96cbd8b46e442fc41c2b86b821562f.png',\n",
       "      'size': 'medium'},\n",
       "     {'#text': 'https://lastfm.freetls.fastly.net/i/u/174s/2a96cbd8b46e442fc41c2b86b821562f.png',\n",
       "      'size': 'large'},\n",
       "     {'#text': 'https://lastfm.freetls.fastly.net/i/u/300x300/2a96cbd8b46e442fc41c2b86b821562f.png',\n",
       "      'size': 'extralarge'},\n",
       "     {'#text': 'https://lastfm.freetls.fastly.net/i/u/300x300/2a96cbd8b46e442fc41c2b86b821562f.png',\n",
       "      'size': 'mega'},\n",
       "     {'#text': 'https://lastfm.freetls.fastly.net/i/u/300x300/2a96cbd8b46e442fc41c2b86b821562f.png',\n",
       "      'size': ''}],\n",
       "    'streamable': '0'},\n",
       "   {'name': 'Jul',\n",
       "    'mbid': '8e6c44df-06fc-4852-83d0-ef0efed6630a',\n",
       "    'match': '0.457973',\n",
       "    'url': 'https://www.last.fm/music/Jul',\n",
       "    'image': [{'#text': 'https://lastfm.freetls.fastly.net/i/u/34s/2a96cbd8b46e442fc41c2b86b821562f.png',\n",
       "      'size': 'small'},\n",
       "     {'#text': 'https://lastfm.freetls.fastly.net/i/u/64s/2a96cbd8b46e442fc41c2b86b821562f.png',\n",
       "      'size': 'medium'},\n",
       "     {'#text': 'https://lastfm.freetls.fastly.net/i/u/174s/2a96cbd8b46e442fc41c2b86b821562f.png',\n",
       "      'size': 'large'},\n",
       "     {'#text': 'https://lastfm.freetls.fastly.net/i/u/300x300/2a96cbd8b46e442fc41c2b86b821562f.png',\n",
       "      'size': 'extralarge'},\n",
       "     {'#text': 'https://lastfm.freetls.fastly.net/i/u/300x300/2a96cbd8b46e442fc41c2b86b821562f.png',\n",
       "      'size': 'mega'},\n",
       "     {'#text': 'https://lastfm.freetls.fastly.net/i/u/300x300/2a96cbd8b46e442fc41c2b86b821562f.png',\n",
       "      'size': ''}],\n",
       "    'streamable': '0'},\n",
       "   {'name': 'KeBlack',\n",
       "    'match': '0.456874',\n",
       "    'url': 'https://www.last.fm/music/KeBlack',\n",
       "    'image': [{'#text': 'https://lastfm.freetls.fastly.net/i/u/34s/2a96cbd8b46e442fc41c2b86b821562f.png',\n",
       "      'size': 'small'},\n",
       "     {'#text': 'https://lastfm.freetls.fastly.net/i/u/64s/2a96cbd8b46e442fc41c2b86b821562f.png',\n",
       "      'size': 'medium'},\n",
       "     {'#text': 'https://lastfm.freetls.fastly.net/i/u/174s/2a96cbd8b46e442fc41c2b86b821562f.png',\n",
       "      'size': 'large'},\n",
       "     {'#text': 'https://lastfm.freetls.fastly.net/i/u/300x300/2a96cbd8b46e442fc41c2b86b821562f.png',\n",
       "      'size': 'extralarge'},\n",
       "     {'#text': 'https://lastfm.freetls.fastly.net/i/u/300x300/2a96cbd8b46e442fc41c2b86b821562f.png',\n",
       "      'size': 'mega'},\n",
       "     {'#text': 'https://lastfm.freetls.fastly.net/i/u/300x300/2a96cbd8b46e442fc41c2b86b821562f.png',\n",
       "      'size': ''}],\n",
       "    'streamable': '0'},\n",
       "   {'name': 'Lacrim',\n",
       "    'mbid': '10df38da-1292-4881-bd96-c6dfead3934b',\n",
       "    'match': '0.455601',\n",
       "    'url': 'https://www.last.fm/music/Lacrim',\n",
       "    'image': [{'#text': 'https://lastfm.freetls.fastly.net/i/u/34s/2a96cbd8b46e442fc41c2b86b821562f.png',\n",
       "      'size': 'small'},\n",
       "     {'#text': 'https://lastfm.freetls.fastly.net/i/u/64s/2a96cbd8b46e442fc41c2b86b821562f.png',\n",
       "      'size': 'medium'},\n",
       "     {'#text': 'https://lastfm.freetls.fastly.net/i/u/174s/2a96cbd8b46e442fc41c2b86b821562f.png',\n",
       "      'size': 'large'},\n",
       "     {'#text': 'https://lastfm.freetls.fastly.net/i/u/300x300/2a96cbd8b46e442fc41c2b86b821562f.png',\n",
       "      'size': 'extralarge'},\n",
       "     {'#text': 'https://lastfm.freetls.fastly.net/i/u/300x300/2a96cbd8b46e442fc41c2b86b821562f.png',\n",
       "      'size': 'mega'},\n",
       "     {'#text': 'https://lastfm.freetls.fastly.net/i/u/300x300/2a96cbd8b46e442fc41c2b86b821562f.png',\n",
       "      'size': ''}],\n",
       "    'streamable': '0'},\n",
       "   {'name': 'Franglish',\n",
       "    'match': '0.453269',\n",
       "    'url': 'https://www.last.fm/music/Franglish',\n",
       "    'image': [{'#text': 'https://lastfm.freetls.fastly.net/i/u/34s/2a96cbd8b46e442fc41c2b86b821562f.png',\n",
       "      'size': 'small'},\n",
       "     {'#text': 'https://lastfm.freetls.fastly.net/i/u/64s/2a96cbd8b46e442fc41c2b86b821562f.png',\n",
       "      'size': 'medium'},\n",
       "     {'#text': 'https://lastfm.freetls.fastly.net/i/u/174s/2a96cbd8b46e442fc41c2b86b821562f.png',\n",
       "      'size': 'large'},\n",
       "     {'#text': 'https://lastfm.freetls.fastly.net/i/u/300x300/2a96cbd8b46e442fc41c2b86b821562f.png',\n",
       "      'size': 'extralarge'},\n",
       "     {'#text': 'https://lastfm.freetls.fastly.net/i/u/300x300/2a96cbd8b46e442fc41c2b86b821562f.png',\n",
       "      'size': 'mega'},\n",
       "     {'#text': 'https://lastfm.freetls.fastly.net/i/u/300x300/2a96cbd8b46e442fc41c2b86b821562f.png',\n",
       "      'size': ''}],\n",
       "    'streamable': '0'},\n",
       "   {'name': 'RSKO',\n",
       "    'match': '0.436231',\n",
       "    'url': 'https://www.last.fm/music/RSKO',\n",
       "    'image': [{'#text': 'https://lastfm.freetls.fastly.net/i/u/34s/2a96cbd8b46e442fc41c2b86b821562f.png',\n",
       "      'size': 'small'},\n",
       "     {'#text': 'https://lastfm.freetls.fastly.net/i/u/64s/2a96cbd8b46e442fc41c2b86b821562f.png',\n",
       "      'size': 'medium'},\n",
       "     {'#text': 'https://lastfm.freetls.fastly.net/i/u/174s/2a96cbd8b46e442fc41c2b86b821562f.png',\n",
       "      'size': 'large'},\n",
       "     {'#text': 'https://lastfm.freetls.fastly.net/i/u/300x300/2a96cbd8b46e442fc41c2b86b821562f.png',\n",
       "      'size': 'extralarge'},\n",
       "     {'#text': 'https://lastfm.freetls.fastly.net/i/u/300x300/2a96cbd8b46e442fc41c2b86b821562f.png',\n",
       "      'size': 'mega'},\n",
       "     {'#text': 'https://lastfm.freetls.fastly.net/i/u/300x300/2a96cbd8b46e442fc41c2b86b821562f.png',\n",
       "      'size': ''}],\n",
       "    'streamable': '0'},\n",
       "   {'name': 'Luv Resval',\n",
       "    'match': '0.435342',\n",
       "    'url': 'https://www.last.fm/music/Luv+Resval',\n",
       "    'image': [{'#text': 'https://lastfm.freetls.fastly.net/i/u/34s/2a96cbd8b46e442fc41c2b86b821562f.png',\n",
       "      'size': 'small'},\n",
       "     {'#text': 'https://lastfm.freetls.fastly.net/i/u/64s/2a96cbd8b46e442fc41c2b86b821562f.png',\n",
       "      'size': 'medium'},\n",
       "     {'#text': 'https://lastfm.freetls.fastly.net/i/u/174s/2a96cbd8b46e442fc41c2b86b821562f.png',\n",
       "      'size': 'large'},\n",
       "     {'#text': 'https://lastfm.freetls.fastly.net/i/u/300x300/2a96cbd8b46e442fc41c2b86b821562f.png',\n",
       "      'size': 'extralarge'},\n",
       "     {'#text': 'https://lastfm.freetls.fastly.net/i/u/300x300/2a96cbd8b46e442fc41c2b86b821562f.png',\n",
       "      'size': 'mega'},\n",
       "     {'#text': 'https://lastfm.freetls.fastly.net/i/u/300x300/2a96cbd8b46e442fc41c2b86b821562f.png',\n",
       "      'size': ''}],\n",
       "    'streamable': '0'},\n",
       "   {'name': 'Dadju',\n",
       "    'match': '0.417894',\n",
       "    'url': 'https://www.last.fm/music/Dadju',\n",
       "    'image': [{'#text': 'https://lastfm.freetls.fastly.net/i/u/34s/2a96cbd8b46e442fc41c2b86b821562f.png',\n",
       "      'size': 'small'},\n",
       "     {'#text': 'https://lastfm.freetls.fastly.net/i/u/64s/2a96cbd8b46e442fc41c2b86b821562f.png',\n",
       "      'size': 'medium'},\n",
       "     {'#text': 'https://lastfm.freetls.fastly.net/i/u/174s/2a96cbd8b46e442fc41c2b86b821562f.png',\n",
       "      'size': 'large'},\n",
       "     {'#text': 'https://lastfm.freetls.fastly.net/i/u/300x300/2a96cbd8b46e442fc41c2b86b821562f.png',\n",
       "      'size': 'extralarge'},\n",
       "     {'#text': 'https://lastfm.freetls.fastly.net/i/u/300x300/2a96cbd8b46e442fc41c2b86b821562f.png',\n",
       "      'size': 'mega'},\n",
       "     {'#text': 'https://lastfm.freetls.fastly.net/i/u/300x300/2a96cbd8b46e442fc41c2b86b821562f.png',\n",
       "      'size': ''}],\n",
       "    'streamable': '0'},\n",
       "   {'name': 'Vald',\n",
       "    'mbid': '062ab94e-b7a5-47a9-b3f4-cc1750c3f859',\n",
       "    'match': '0.411294',\n",
       "    'url': 'https://www.last.fm/music/Vald',\n",
       "    'image': [{'#text': 'https://lastfm.freetls.fastly.net/i/u/34s/2a96cbd8b46e442fc41c2b86b821562f.png',\n",
       "      'size': 'small'},\n",
       "     {'#text': 'https://lastfm.freetls.fastly.net/i/u/64s/2a96cbd8b46e442fc41c2b86b821562f.png',\n",
       "      'size': 'medium'},\n",
       "     {'#text': 'https://lastfm.freetls.fastly.net/i/u/174s/2a96cbd8b46e442fc41c2b86b821562f.png',\n",
       "      'size': 'large'},\n",
       "     {'#text': 'https://lastfm.freetls.fastly.net/i/u/300x300/2a96cbd8b46e442fc41c2b86b821562f.png',\n",
       "      'size': 'extralarge'},\n",
       "     {'#text': 'https://lastfm.freetls.fastly.net/i/u/300x300/2a96cbd8b46e442fc41c2b86b821562f.png',\n",
       "      'size': 'mega'},\n",
       "     {'#text': 'https://lastfm.freetls.fastly.net/i/u/300x300/2a96cbd8b46e442fc41c2b86b821562f.png',\n",
       "      'size': ''}],\n",
       "    'streamable': '0'},\n",
       "   {'name': '13 Block',\n",
       "    'match': '0.404030',\n",
       "    'url': 'https://www.last.fm/music/13+Block',\n",
       "    'image': [{'#text': 'https://lastfm.freetls.fastly.net/i/u/34s/2a96cbd8b46e442fc41c2b86b821562f.png',\n",
       "      'size': 'small'},\n",
       "     {'#text': 'https://lastfm.freetls.fastly.net/i/u/64s/2a96cbd8b46e442fc41c2b86b821562f.png',\n",
       "      'size': 'medium'},\n",
       "     {'#text': 'https://lastfm.freetls.fastly.net/i/u/174s/2a96cbd8b46e442fc41c2b86b821562f.png',\n",
       "      'size': 'large'},\n",
       "     {'#text': 'https://lastfm.freetls.fastly.net/i/u/300x300/2a96cbd8b46e442fc41c2b86b821562f.png',\n",
       "      'size': 'extralarge'},\n",
       "     {'#text': 'https://lastfm.freetls.fastly.net/i/u/300x300/2a96cbd8b46e442fc41c2b86b821562f.png',\n",
       "      'size': 'mega'},\n",
       "     {'#text': 'https://lastfm.freetls.fastly.net/i/u/300x300/2a96cbd8b46e442fc41c2b86b821562f.png',\n",
       "      'size': ''}],\n",
       "    'streamable': '0'},\n",
       "   {'name': 'menace Santana',\n",
       "    'match': '0.398974',\n",
       "    'url': 'https://www.last.fm/music/menace+Santana',\n",
       "    'image': [{'#text': 'https://lastfm.freetls.fastly.net/i/u/34s/2a96cbd8b46e442fc41c2b86b821562f.png',\n",
       "      'size': 'small'},\n",
       "     {'#text': 'https://lastfm.freetls.fastly.net/i/u/64s/2a96cbd8b46e442fc41c2b86b821562f.png',\n",
       "      'size': 'medium'},\n",
       "     {'#text': 'https://lastfm.freetls.fastly.net/i/u/174s/2a96cbd8b46e442fc41c2b86b821562f.png',\n",
       "      'size': 'large'},\n",
       "     {'#text': 'https://lastfm.freetls.fastly.net/i/u/300x300/2a96cbd8b46e442fc41c2b86b821562f.png',\n",
       "      'size': 'extralarge'},\n",
       "     {'#text': 'https://lastfm.freetls.fastly.net/i/u/300x300/2a96cbd8b46e442fc41c2b86b821562f.png',\n",
       "      'size': 'mega'},\n",
       "     {'#text': 'https://lastfm.freetls.fastly.net/i/u/300x300/2a96cbd8b46e442fc41c2b86b821562f.png',\n",
       "      'size': ''}],\n",
       "    'streamable': '0'},\n",
       "   {'name': 'Nahir',\n",
       "    'match': '0.388640',\n",
       "    'url': 'https://www.last.fm/music/Nahir',\n",
       "    'image': [{'#text': 'https://lastfm.freetls.fastly.net/i/u/34s/2a96cbd8b46e442fc41c2b86b821562f.png',\n",
       "      'size': 'small'},\n",
       "     {'#text': 'https://lastfm.freetls.fastly.net/i/u/64s/2a96cbd8b46e442fc41c2b86b821562f.png',\n",
       "      'size': 'medium'},\n",
       "     {'#text': 'https://lastfm.freetls.fastly.net/i/u/174s/2a96cbd8b46e442fc41c2b86b821562f.png',\n",
       "      'size': 'large'},\n",
       "     {'#text': 'https://lastfm.freetls.fastly.net/i/u/300x300/2a96cbd8b46e442fc41c2b86b821562f.png',\n",
       "      'size': 'extralarge'},\n",
       "     {'#text': 'https://lastfm.freetls.fastly.net/i/u/300x300/2a96cbd8b46e442fc41c2b86b821562f.png',\n",
       "      'size': 'mega'},\n",
       "     {'#text': 'https://lastfm.freetls.fastly.net/i/u/300x300/2a96cbd8b46e442fc41c2b86b821562f.png',\n",
       "      'size': ''}],\n",
       "    'streamable': '0'},\n",
       "   {'name': 'S.Pri Noir',\n",
       "    'mbid': '372176dc-1588-4f9b-922f-fbe04f6e7fea',\n",
       "    'match': '0.382226',\n",
       "    'url': 'https://www.last.fm/music/S.Pri+Noir',\n",
       "    'image': [{'#text': 'https://lastfm.freetls.fastly.net/i/u/34s/2a96cbd8b46e442fc41c2b86b821562f.png',\n",
       "      'size': 'small'},\n",
       "     {'#text': 'https://lastfm.freetls.fastly.net/i/u/64s/2a96cbd8b46e442fc41c2b86b821562f.png',\n",
       "      'size': 'medium'},\n",
       "     {'#text': 'https://lastfm.freetls.fastly.net/i/u/174s/2a96cbd8b46e442fc41c2b86b821562f.png',\n",
       "      'size': 'large'},\n",
       "     {'#text': 'https://lastfm.freetls.fastly.net/i/u/300x300/2a96cbd8b46e442fc41c2b86b821562f.png',\n",
       "      'size': 'extralarge'},\n",
       "     {'#text': 'https://lastfm.freetls.fastly.net/i/u/300x300/2a96cbd8b46e442fc41c2b86b821562f.png',\n",
       "      'size': 'mega'},\n",
       "     {'#text': 'https://lastfm.freetls.fastly.net/i/u/300x300/2a96cbd8b46e442fc41c2b86b821562f.png',\n",
       "      'size': ''}],\n",
       "    'streamable': '0'},\n",
       "   {'name': 'Bolémvn',\n",
       "    'match': '0.381214',\n",
       "    'url': 'https://www.last.fm/music/Bol%C3%A9mvn',\n",
       "    'image': [{'#text': 'https://lastfm.freetls.fastly.net/i/u/34s/2a96cbd8b46e442fc41c2b86b821562f.png',\n",
       "      'size': 'small'},\n",
       "     {'#text': 'https://lastfm.freetls.fastly.net/i/u/64s/2a96cbd8b46e442fc41c2b86b821562f.png',\n",
       "      'size': 'medium'},\n",
       "     {'#text': 'https://lastfm.freetls.fastly.net/i/u/174s/2a96cbd8b46e442fc41c2b86b821562f.png',\n",
       "      'size': 'large'},\n",
       "     {'#text': 'https://lastfm.freetls.fastly.net/i/u/300x300/2a96cbd8b46e442fc41c2b86b821562f.png',\n",
       "      'size': 'extralarge'},\n",
       "     {'#text': 'https://lastfm.freetls.fastly.net/i/u/300x300/2a96cbd8b46e442fc41c2b86b821562f.png',\n",
       "      'size': 'mega'},\n",
       "     {'#text': 'https://lastfm.freetls.fastly.net/i/u/300x300/2a96cbd8b46e442fc41c2b86b821562f.png',\n",
       "      'size': ''}],\n",
       "    'streamable': '0'},\n",
       "   {'name': 'MHD',\n",
       "    'mbid': '923b5d99-4020-40d8-9db5-1390986bb4cf',\n",
       "    'match': '0.380225',\n",
       "    'url': 'https://www.last.fm/music/MHD',\n",
       "    'image': [{'#text': 'https://lastfm.freetls.fastly.net/i/u/34s/2a96cbd8b46e442fc41c2b86b821562f.png',\n",
       "      'size': 'small'},\n",
       "     {'#text': 'https://lastfm.freetls.fastly.net/i/u/64s/2a96cbd8b46e442fc41c2b86b821562f.png',\n",
       "      'size': 'medium'},\n",
       "     {'#text': 'https://lastfm.freetls.fastly.net/i/u/174s/2a96cbd8b46e442fc41c2b86b821562f.png',\n",
       "      'size': 'large'},\n",
       "     {'#text': 'https://lastfm.freetls.fastly.net/i/u/300x300/2a96cbd8b46e442fc41c2b86b821562f.png',\n",
       "      'size': 'extralarge'},\n",
       "     {'#text': 'https://lastfm.freetls.fastly.net/i/u/300x300/2a96cbd8b46e442fc41c2b86b821562f.png',\n",
       "      'size': 'mega'},\n",
       "     {'#text': 'https://lastfm.freetls.fastly.net/i/u/300x300/2a96cbd8b46e442fc41c2b86b821562f.png',\n",
       "      'size': ''}],\n",
       "    'streamable': '0'},\n",
       "   {'name': 'Mister V',\n",
       "    'match': '0.379309',\n",
       "    'url': 'https://www.last.fm/music/Mister+V',\n",
       "    'image': [{'#text': 'https://lastfm.freetls.fastly.net/i/u/34s/2a96cbd8b46e442fc41c2b86b821562f.png',\n",
       "      'size': 'small'},\n",
       "     {'#text': 'https://lastfm.freetls.fastly.net/i/u/64s/2a96cbd8b46e442fc41c2b86b821562f.png',\n",
       "      'size': 'medium'},\n",
       "     {'#text': 'https://lastfm.freetls.fastly.net/i/u/174s/2a96cbd8b46e442fc41c2b86b821562f.png',\n",
       "      'size': 'large'},\n",
       "     {'#text': 'https://lastfm.freetls.fastly.net/i/u/300x300/2a96cbd8b46e442fc41c2b86b821562f.png',\n",
       "      'size': 'extralarge'},\n",
       "     {'#text': 'https://lastfm.freetls.fastly.net/i/u/300x300/2a96cbd8b46e442fc41c2b86b821562f.png',\n",
       "      'size': 'mega'},\n",
       "     {'#text': 'https://lastfm.freetls.fastly.net/i/u/300x300/2a96cbd8b46e442fc41c2b86b821562f.png',\n",
       "      'size': ''}],\n",
       "    'streamable': '0'},\n",
       "   {'name': 'ASHE 22',\n",
       "    'match': '0.367833',\n",
       "    'url': 'https://www.last.fm/music/ASHE+22',\n",
       "    'image': [{'#text': 'https://lastfm.freetls.fastly.net/i/u/34s/2a96cbd8b46e442fc41c2b86b821562f.png',\n",
       "      'size': 'small'},\n",
       "     {'#text': 'https://lastfm.freetls.fastly.net/i/u/64s/2a96cbd8b46e442fc41c2b86b821562f.png',\n",
       "      'size': 'medium'},\n",
       "     {'#text': 'https://lastfm.freetls.fastly.net/i/u/174s/2a96cbd8b46e442fc41c2b86b821562f.png',\n",
       "      'size': 'large'},\n",
       "     {'#text': 'https://lastfm.freetls.fastly.net/i/u/300x300/2a96cbd8b46e442fc41c2b86b821562f.png',\n",
       "      'size': 'extralarge'},\n",
       "     {'#text': 'https://lastfm.freetls.fastly.net/i/u/300x300/2a96cbd8b46e442fc41c2b86b821562f.png',\n",
       "      'size': 'mega'},\n",
       "     {'#text': 'https://lastfm.freetls.fastly.net/i/u/300x300/2a96cbd8b46e442fc41c2b86b821562f.png',\n",
       "      'size': ''}],\n",
       "    'streamable': '0'},\n",
       "   {'name': 'KEKRA',\n",
       "    'match': '0.367276',\n",
       "    'url': 'https://www.last.fm/music/KEKRA',\n",
       "    'image': [{'#text': 'https://lastfm.freetls.fastly.net/i/u/34s/2a96cbd8b46e442fc41c2b86b821562f.png',\n",
       "      'size': 'small'},\n",
       "     {'#text': 'https://lastfm.freetls.fastly.net/i/u/64s/2a96cbd8b46e442fc41c2b86b821562f.png',\n",
       "      'size': 'medium'},\n",
       "     {'#text': 'https://lastfm.freetls.fastly.net/i/u/174s/2a96cbd8b46e442fc41c2b86b821562f.png',\n",
       "      'size': 'large'},\n",
       "     {'#text': 'https://lastfm.freetls.fastly.net/i/u/300x300/2a96cbd8b46e442fc41c2b86b821562f.png',\n",
       "      'size': 'extralarge'},\n",
       "     {'#text': 'https://lastfm.freetls.fastly.net/i/u/300x300/2a96cbd8b46e442fc41c2b86b821562f.png',\n",
       "      'size': 'mega'},\n",
       "     {'#text': 'https://lastfm.freetls.fastly.net/i/u/300x300/2a96cbd8b46e442fc41c2b86b821562f.png',\n",
       "      'size': ''}],\n",
       "    'streamable': '0'},\n",
       "   {'name': 'Nekfeu',\n",
       "    'mbid': 'd721866d-5640-44ee-87f7-23dd062abd8a',\n",
       "    'match': '0.367138',\n",
       "    'url': 'https://www.last.fm/music/Nekfeu',\n",
       "    'image': [{'#text': 'https://lastfm.freetls.fastly.net/i/u/34s/2a96cbd8b46e442fc41c2b86b821562f.png',\n",
       "      'size': 'small'},\n",
       "     {'#text': 'https://lastfm.freetls.fastly.net/i/u/64s/2a96cbd8b46e442fc41c2b86b821562f.png',\n",
       "      'size': 'medium'},\n",
       "     {'#text': 'https://lastfm.freetls.fastly.net/i/u/174s/2a96cbd8b46e442fc41c2b86b821562f.png',\n",
       "      'size': 'large'},\n",
       "     {'#text': 'https://lastfm.freetls.fastly.net/i/u/300x300/2a96cbd8b46e442fc41c2b86b821562f.png',\n",
       "      'size': 'extralarge'},\n",
       "     {'#text': 'https://lastfm.freetls.fastly.net/i/u/300x300/2a96cbd8b46e442fc41c2b86b821562f.png',\n",
       "      'size': 'mega'},\n",
       "     {'#text': 'https://lastfm.freetls.fastly.net/i/u/300x300/2a96cbd8b46e442fc41c2b86b821562f.png',\n",
       "      'size': ''}],\n",
       "    'streamable': '0'},\n",
       "   {'name': 'Niro',\n",
       "    'mbid': 'd4730314-3e0e-4b51-b0fa-6d93c442afe7',\n",
       "    'match': '0.365768',\n",
       "    'url': 'https://www.last.fm/music/Niro',\n",
       "    'image': [{'#text': 'https://lastfm.freetls.fastly.net/i/u/34s/2a96cbd8b46e442fc41c2b86b821562f.png',\n",
       "      'size': 'small'},\n",
       "     {'#text': 'https://lastfm.freetls.fastly.net/i/u/64s/2a96cbd8b46e442fc41c2b86b821562f.png',\n",
       "      'size': 'medium'},\n",
       "     {'#text': 'https://lastfm.freetls.fastly.net/i/u/174s/2a96cbd8b46e442fc41c2b86b821562f.png',\n",
       "      'size': 'large'},\n",
       "     {'#text': 'https://lastfm.freetls.fastly.net/i/u/300x300/2a96cbd8b46e442fc41c2b86b821562f.png',\n",
       "      'size': 'extralarge'},\n",
       "     {'#text': 'https://lastfm.freetls.fastly.net/i/u/300x300/2a96cbd8b46e442fc41c2b86b821562f.png',\n",
       "      'size': 'mega'},\n",
       "     {'#text': 'https://lastfm.freetls.fastly.net/i/u/300x300/2a96cbd8b46e442fc41c2b86b821562f.png',\n",
       "      'size': ''}],\n",
       "    'streamable': '0'},\n",
       "   {'name': 'ZEG P',\n",
       "    'match': '0.361113',\n",
       "    'url': 'https://www.last.fm/music/ZEG+P',\n",
       "    'image': [{'#text': 'https://lastfm.freetls.fastly.net/i/u/34s/2a96cbd8b46e442fc41c2b86b821562f.png',\n",
       "      'size': 'small'},\n",
       "     {'#text': 'https://lastfm.freetls.fastly.net/i/u/64s/2a96cbd8b46e442fc41c2b86b821562f.png',\n",
       "      'size': 'medium'},\n",
       "     {'#text': 'https://lastfm.freetls.fastly.net/i/u/174s/2a96cbd8b46e442fc41c2b86b821562f.png',\n",
       "      'size': 'large'},\n",
       "     {'#text': 'https://lastfm.freetls.fastly.net/i/u/300x300/2a96cbd8b46e442fc41c2b86b821562f.png',\n",
       "      'size': 'extralarge'},\n",
       "     {'#text': 'https://lastfm.freetls.fastly.net/i/u/300x300/2a96cbd8b46e442fc41c2b86b821562f.png',\n",
       "      'size': 'mega'},\n",
       "     {'#text': 'https://lastfm.freetls.fastly.net/i/u/300x300/2a96cbd8b46e442fc41c2b86b821562f.png',\n",
       "      'size': ''}],\n",
       "    'streamable': '0'},\n",
       "   {'name': 'Bu$hi',\n",
       "    'match': '0.351372',\n",
       "    'url': 'https://www.last.fm/music/Bu$hi',\n",
       "    'image': [{'#text': 'https://lastfm.freetls.fastly.net/i/u/34s/2a96cbd8b46e442fc41c2b86b821562f.png',\n",
       "      'size': 'small'},\n",
       "     {'#text': 'https://lastfm.freetls.fastly.net/i/u/64s/2a96cbd8b46e442fc41c2b86b821562f.png',\n",
       "      'size': 'medium'},\n",
       "     {'#text': 'https://lastfm.freetls.fastly.net/i/u/174s/2a96cbd8b46e442fc41c2b86b821562f.png',\n",
       "      'size': 'large'},\n",
       "     {'#text': 'https://lastfm.freetls.fastly.net/i/u/300x300/2a96cbd8b46e442fc41c2b86b821562f.png',\n",
       "      'size': 'extralarge'},\n",
       "     {'#text': 'https://lastfm.freetls.fastly.net/i/u/300x300/2a96cbd8b46e442fc41c2b86b821562f.png',\n",
       "      'size': 'mega'},\n",
       "     {'#text': 'https://lastfm.freetls.fastly.net/i/u/300x300/2a96cbd8b46e442fc41c2b86b821562f.png',\n",
       "      'size': ''}],\n",
       "    'streamable': '0'},\n",
       "   {'name': 'Soso Maness',\n",
       "    'mbid': '4b069a10-27f6-49a4-95bf-09964ada481e',\n",
       "    'match': '0.349013',\n",
       "    'url': 'https://www.last.fm/music/Soso+Maness',\n",
       "    'image': [{'#text': 'https://lastfm.freetls.fastly.net/i/u/34s/2a96cbd8b46e442fc41c2b86b821562f.png',\n",
       "      'size': 'small'},\n",
       "     {'#text': 'https://lastfm.freetls.fastly.net/i/u/64s/2a96cbd8b46e442fc41c2b86b821562f.png',\n",
       "      'size': 'medium'},\n",
       "     {'#text': 'https://lastfm.freetls.fastly.net/i/u/174s/2a96cbd8b46e442fc41c2b86b821562f.png',\n",
       "      'size': 'large'},\n",
       "     {'#text': 'https://lastfm.freetls.fastly.net/i/u/300x300/2a96cbd8b46e442fc41c2b86b821562f.png',\n",
       "      'size': 'extralarge'},\n",
       "     {'#text': 'https://lastfm.freetls.fastly.net/i/u/300x300/2a96cbd8b46e442fc41c2b86b821562f.png',\n",
       "      'size': 'mega'},\n",
       "     {'#text': 'https://lastfm.freetls.fastly.net/i/u/300x300/2a96cbd8b46e442fc41c2b86b821562f.png',\n",
       "      'size': ''}],\n",
       "    'streamable': '0'},\n",
       "   {'name': 'Osirus Jack',\n",
       "    'match': '0.346796',\n",
       "    'url': 'https://www.last.fm/music/Osirus+Jack',\n",
       "    'image': [{'#text': 'https://lastfm.freetls.fastly.net/i/u/34s/2a96cbd8b46e442fc41c2b86b821562f.png',\n",
       "      'size': 'small'},\n",
       "     {'#text': 'https://lastfm.freetls.fastly.net/i/u/64s/2a96cbd8b46e442fc41c2b86b821562f.png',\n",
       "      'size': 'medium'},\n",
       "     {'#text': 'https://lastfm.freetls.fastly.net/i/u/174s/2a96cbd8b46e442fc41c2b86b821562f.png',\n",
       "      'size': 'large'},\n",
       "     {'#text': 'https://lastfm.freetls.fastly.net/i/u/300x300/2a96cbd8b46e442fc41c2b86b821562f.png',\n",
       "      'size': 'extralarge'},\n",
       "     {'#text': 'https://lastfm.freetls.fastly.net/i/u/300x300/2a96cbd8b46e442fc41c2b86b821562f.png',\n",
       "      'size': 'mega'},\n",
       "     {'#text': 'https://lastfm.freetls.fastly.net/i/u/300x300/2a96cbd8b46e442fc41c2b86b821562f.png',\n",
       "      'size': ''}],\n",
       "    'streamable': '0'},\n",
       "   {'name': 'Alpha Wann',\n",
       "    'mbid': '7bfb81ef-e6aa-4716-a9a5-fa5f1b419680',\n",
       "    'match': '0.343282',\n",
       "    'url': 'https://www.last.fm/music/Alpha+Wann',\n",
       "    'image': [{'#text': 'https://lastfm.freetls.fastly.net/i/u/34s/2a96cbd8b46e442fc41c2b86b821562f.png',\n",
       "      'size': 'small'},\n",
       "     {'#text': 'https://lastfm.freetls.fastly.net/i/u/64s/2a96cbd8b46e442fc41c2b86b821562f.png',\n",
       "      'size': 'medium'},\n",
       "     {'#text': 'https://lastfm.freetls.fastly.net/i/u/174s/2a96cbd8b46e442fc41c2b86b821562f.png',\n",
       "      'size': 'large'},\n",
       "     {'#text': 'https://lastfm.freetls.fastly.net/i/u/300x300/2a96cbd8b46e442fc41c2b86b821562f.png',\n",
       "      'size': 'extralarge'},\n",
       "     {'#text': 'https://lastfm.freetls.fastly.net/i/u/300x300/2a96cbd8b46e442fc41c2b86b821562f.png',\n",
       "      'size': 'mega'},\n",
       "     {'#text': 'https://lastfm.freetls.fastly.net/i/u/300x300/2a96cbd8b46e442fc41c2b86b821562f.png',\n",
       "      'size': ''}],\n",
       "    'streamable': '0'},\n",
       "   {'name': 'doums',\n",
       "    'match': '0.325111',\n",
       "    'url': 'https://www.last.fm/music/doums',\n",
       "    'image': [{'#text': 'https://lastfm.freetls.fastly.net/i/u/34s/2a96cbd8b46e442fc41c2b86b821562f.png',\n",
       "      'size': 'small'},\n",
       "     {'#text': 'https://lastfm.freetls.fastly.net/i/u/64s/2a96cbd8b46e442fc41c2b86b821562f.png',\n",
       "      'size': 'medium'},\n",
       "     {'#text': 'https://lastfm.freetls.fastly.net/i/u/174s/2a96cbd8b46e442fc41c2b86b821562f.png',\n",
       "      'size': 'large'},\n",
       "     {'#text': 'https://lastfm.freetls.fastly.net/i/u/300x300/2a96cbd8b46e442fc41c2b86b821562f.png',\n",
       "      'size': 'extralarge'},\n",
       "     {'#text': 'https://lastfm.freetls.fastly.net/i/u/300x300/2a96cbd8b46e442fc41c2b86b821562f.png',\n",
       "      'size': 'mega'},\n",
       "     {'#text': 'https://lastfm.freetls.fastly.net/i/u/300x300/2a96cbd8b46e442fc41c2b86b821562f.png',\n",
       "      'size': ''}],\n",
       "    'streamable': '0'},\n",
       "   {'name': 'Sadek',\n",
       "    'mbid': '52940c47-5d0a-4995-bbf8-361a365a48a0',\n",
       "    'match': '0.325099',\n",
       "    'url': 'https://www.last.fm/music/Sadek',\n",
       "    'image': [{'#text': 'https://lastfm.freetls.fastly.net/i/u/34s/2a96cbd8b46e442fc41c2b86b821562f.png',\n",
       "      'size': 'small'},\n",
       "     {'#text': 'https://lastfm.freetls.fastly.net/i/u/64s/2a96cbd8b46e442fc41c2b86b821562f.png',\n",
       "      'size': 'medium'},\n",
       "     {'#text': 'https://lastfm.freetls.fastly.net/i/u/174s/2a96cbd8b46e442fc41c2b86b821562f.png',\n",
       "      'size': 'large'},\n",
       "     {'#text': 'https://lastfm.freetls.fastly.net/i/u/300x300/2a96cbd8b46e442fc41c2b86b821562f.png',\n",
       "      'size': 'extralarge'},\n",
       "     {'#text': 'https://lastfm.freetls.fastly.net/i/u/300x300/2a96cbd8b46e442fc41c2b86b821562f.png',\n",
       "      'size': 'mega'},\n",
       "     {'#text': 'https://lastfm.freetls.fastly.net/i/u/300x300/2a96cbd8b46e442fc41c2b86b821562f.png',\n",
       "      'size': ''}],\n",
       "    'streamable': '0'},\n",
       "   {'name': 'Ikaz boi',\n",
       "    'match': '0.320075',\n",
       "    'url': 'https://www.last.fm/music/Ikaz+boi',\n",
       "    'image': [{'#text': 'https://lastfm.freetls.fastly.net/i/u/34s/2a96cbd8b46e442fc41c2b86b821562f.png',\n",
       "      'size': 'small'},\n",
       "     {'#text': 'https://lastfm.freetls.fastly.net/i/u/64s/2a96cbd8b46e442fc41c2b86b821562f.png',\n",
       "      'size': 'medium'},\n",
       "     {'#text': 'https://lastfm.freetls.fastly.net/i/u/174s/2a96cbd8b46e442fc41c2b86b821562f.png',\n",
       "      'size': 'large'},\n",
       "     {'#text': 'https://lastfm.freetls.fastly.net/i/u/300x300/2a96cbd8b46e442fc41c2b86b821562f.png',\n",
       "      'size': 'extralarge'},\n",
       "     {'#text': 'https://lastfm.freetls.fastly.net/i/u/300x300/2a96cbd8b46e442fc41c2b86b821562f.png',\n",
       "      'size': 'mega'},\n",
       "     {'#text': 'https://lastfm.freetls.fastly.net/i/u/300x300/2a96cbd8b46e442fc41c2b86b821562f.png',\n",
       "      'size': ''}],\n",
       "    'streamable': '0'},\n",
       "   {'name': 'THEODORT',\n",
       "    'match': '0.313984',\n",
       "    'url': 'https://www.last.fm/music/THEODORT',\n",
       "    'image': [{'#text': 'https://lastfm.freetls.fastly.net/i/u/34s/2a96cbd8b46e442fc41c2b86b821562f.png',\n",
       "      'size': 'small'},\n",
       "     {'#text': 'https://lastfm.freetls.fastly.net/i/u/64s/2a96cbd8b46e442fc41c2b86b821562f.png',\n",
       "      'size': 'medium'},\n",
       "     {'#text': 'https://lastfm.freetls.fastly.net/i/u/174s/2a96cbd8b46e442fc41c2b86b821562f.png',\n",
       "      'size': 'large'},\n",
       "     {'#text': 'https://lastfm.freetls.fastly.net/i/u/300x300/2a96cbd8b46e442fc41c2b86b821562f.png',\n",
       "      'size': 'extralarge'},\n",
       "     {'#text': 'https://lastfm.freetls.fastly.net/i/u/300x300/2a96cbd8b46e442fc41c2b86b821562f.png',\n",
       "      'size': 'mega'},\n",
       "     {'#text': 'https://lastfm.freetls.fastly.net/i/u/300x300/2a96cbd8b46e442fc41c2b86b821562f.png',\n",
       "      'size': ''}],\n",
       "    'streamable': '0'},\n",
       "   {'name': 'kpoint',\n",
       "    'match': '0.312877',\n",
       "    'url': 'https://www.last.fm/music/kpoint',\n",
       "    'image': [{'#text': 'https://lastfm.freetls.fastly.net/i/u/34s/2a96cbd8b46e442fc41c2b86b821562f.png',\n",
       "      'size': 'small'},\n",
       "     {'#text': 'https://lastfm.freetls.fastly.net/i/u/64s/2a96cbd8b46e442fc41c2b86b821562f.png',\n",
       "      'size': 'medium'},\n",
       "     {'#text': 'https://lastfm.freetls.fastly.net/i/u/174s/2a96cbd8b46e442fc41c2b86b821562f.png',\n",
       "      'size': 'large'},\n",
       "     {'#text': 'https://lastfm.freetls.fastly.net/i/u/300x300/2a96cbd8b46e442fc41c2b86b821562f.png',\n",
       "      'size': 'extralarge'},\n",
       "     {'#text': 'https://lastfm.freetls.fastly.net/i/u/300x300/2a96cbd8b46e442fc41c2b86b821562f.png',\n",
       "      'size': 'mega'},\n",
       "     {'#text': 'https://lastfm.freetls.fastly.net/i/u/300x300/2a96cbd8b46e442fc41c2b86b821562f.png',\n",
       "      'size': ''}],\n",
       "    'streamable': '0'},\n",
       "   {'name': 'Djadja & Dinaz',\n",
       "    'match': '0.302026',\n",
       "    'url': 'https://www.last.fm/music/Djadja+&+Dinaz',\n",
       "    'image': [{'#text': 'https://lastfm.freetls.fastly.net/i/u/34s/2a96cbd8b46e442fc41c2b86b821562f.png',\n",
       "      'size': 'small'},\n",
       "     {'#text': 'https://lastfm.freetls.fastly.net/i/u/64s/2a96cbd8b46e442fc41c2b86b821562f.png',\n",
       "      'size': 'medium'},\n",
       "     {'#text': 'https://lastfm.freetls.fastly.net/i/u/174s/2a96cbd8b46e442fc41c2b86b821562f.png',\n",
       "      'size': 'large'},\n",
       "     {'#text': 'https://lastfm.freetls.fastly.net/i/u/300x300/2a96cbd8b46e442fc41c2b86b821562f.png',\n",
       "      'size': 'extralarge'},\n",
       "     {'#text': 'https://lastfm.freetls.fastly.net/i/u/300x300/2a96cbd8b46e442fc41c2b86b821562f.png',\n",
       "      'size': 'mega'},\n",
       "     {'#text': 'https://lastfm.freetls.fastly.net/i/u/300x300/2a96cbd8b46e442fc41c2b86b821562f.png',\n",
       "      'size': ''}],\n",
       "    'streamable': '0'},\n",
       "   {'name': 'Bramsito',\n",
       "    'match': '0.301368',\n",
       "    'url': 'https://www.last.fm/music/Bramsito',\n",
       "    'image': [{'#text': 'https://lastfm.freetls.fastly.net/i/u/34s/2a96cbd8b46e442fc41c2b86b821562f.png',\n",
       "      'size': 'small'},\n",
       "     {'#text': 'https://lastfm.freetls.fastly.net/i/u/64s/2a96cbd8b46e442fc41c2b86b821562f.png',\n",
       "      'size': 'medium'},\n",
       "     {'#text': 'https://lastfm.freetls.fastly.net/i/u/174s/2a96cbd8b46e442fc41c2b86b821562f.png',\n",
       "      'size': 'large'},\n",
       "     {'#text': 'https://lastfm.freetls.fastly.net/i/u/300x300/2a96cbd8b46e442fc41c2b86b821562f.png',\n",
       "      'size': 'extralarge'},\n",
       "     {'#text': 'https://lastfm.freetls.fastly.net/i/u/300x300/2a96cbd8b46e442fc41c2b86b821562f.png',\n",
       "      'size': 'mega'},\n",
       "     {'#text': 'https://lastfm.freetls.fastly.net/i/u/300x300/2a96cbd8b46e442fc41c2b86b821562f.png',\n",
       "      'size': ''}],\n",
       "    'streamable': '0'},\n",
       "   {'name': 'Sofiane',\n",
       "    'mbid': '68c0d5e5-c550-4232-b6b0-8eb35404fe16',\n",
       "    'match': '0.288508',\n",
       "    'url': 'https://www.last.fm/music/Sofiane',\n",
       "    'image': [{'#text': 'https://lastfm.freetls.fastly.net/i/u/34s/2a96cbd8b46e442fc41c2b86b821562f.png',\n",
       "      'size': 'small'},\n",
       "     {'#text': 'https://lastfm.freetls.fastly.net/i/u/64s/2a96cbd8b46e442fc41c2b86b821562f.png',\n",
       "      'size': 'medium'},\n",
       "     {'#text': 'https://lastfm.freetls.fastly.net/i/u/174s/2a96cbd8b46e442fc41c2b86b821562f.png',\n",
       "      'size': 'large'},\n",
       "     {'#text': 'https://lastfm.freetls.fastly.net/i/u/300x300/2a96cbd8b46e442fc41c2b86b821562f.png',\n",
       "      'size': 'extralarge'},\n",
       "     {'#text': 'https://lastfm.freetls.fastly.net/i/u/300x300/2a96cbd8b46e442fc41c2b86b821562f.png',\n",
       "      'size': 'mega'},\n",
       "     {'#text': 'https://lastfm.freetls.fastly.net/i/u/300x300/2a96cbd8b46e442fc41c2b86b821562f.png',\n",
       "      'size': ''}],\n",
       "    'streamable': '0'},\n",
       "   {'name': 'Jungeli',\n",
       "    'match': '0.279024',\n",
       "    'url': 'https://www.last.fm/music/Jungeli',\n",
       "    'image': [{'#text': 'https://lastfm.freetls.fastly.net/i/u/34s/2a96cbd8b46e442fc41c2b86b821562f.png',\n",
       "      'size': 'small'},\n",
       "     {'#text': 'https://lastfm.freetls.fastly.net/i/u/64s/2a96cbd8b46e442fc41c2b86b821562f.png',\n",
       "      'size': 'medium'},\n",
       "     {'#text': 'https://lastfm.freetls.fastly.net/i/u/174s/2a96cbd8b46e442fc41c2b86b821562f.png',\n",
       "      'size': 'large'},\n",
       "     {'#text': 'https://lastfm.freetls.fastly.net/i/u/300x300/2a96cbd8b46e442fc41c2b86b821562f.png',\n",
       "      'size': 'extralarge'},\n",
       "     {'#text': 'https://lastfm.freetls.fastly.net/i/u/300x300/2a96cbd8b46e442fc41c2b86b821562f.png',\n",
       "      'size': 'mega'},\n",
       "     {'#text': 'https://lastfm.freetls.fastly.net/i/u/300x300/2a96cbd8b46e442fc41c2b86b821562f.png',\n",
       "      'size': ''}],\n",
       "    'streamable': '0'},\n",
       "   {'name': 'Maître Gims',\n",
       "    'mbid': '2eeafc8d-9462-49d5-9a26-2a19377842e6',\n",
       "    'match': '0.278261',\n",
       "    'url': 'https://www.last.fm/music/Ma%C3%AEtre+Gims',\n",
       "    'image': [{'#text': 'https://lastfm.freetls.fastly.net/i/u/34s/2a96cbd8b46e442fc41c2b86b821562f.png',\n",
       "      'size': 'small'},\n",
       "     {'#text': 'https://lastfm.freetls.fastly.net/i/u/64s/2a96cbd8b46e442fc41c2b86b821562f.png',\n",
       "      'size': 'medium'},\n",
       "     {'#text': 'https://lastfm.freetls.fastly.net/i/u/174s/2a96cbd8b46e442fc41c2b86b821562f.png',\n",
       "      'size': 'large'},\n",
       "     {'#text': 'https://lastfm.freetls.fastly.net/i/u/300x300/2a96cbd8b46e442fc41c2b86b821562f.png',\n",
       "      'size': 'extralarge'},\n",
       "     {'#text': 'https://lastfm.freetls.fastly.net/i/u/300x300/2a96cbd8b46e442fc41c2b86b821562f.png',\n",
       "      'size': 'mega'},\n",
       "     {'#text': 'https://lastfm.freetls.fastly.net/i/u/300x300/2a96cbd8b46e442fc41c2b86b821562f.png',\n",
       "      'size': ''}],\n",
       "    'streamable': '0'},\n",
       "   {'name': 'Tayc',\n",
       "    'match': '0.276711',\n",
       "    'url': 'https://www.last.fm/music/Tayc',\n",
       "    'image': [{'#text': 'https://lastfm.freetls.fastly.net/i/u/34s/2a96cbd8b46e442fc41c2b86b821562f.png',\n",
       "      'size': 'small'},\n",
       "     {'#text': 'https://lastfm.freetls.fastly.net/i/u/64s/2a96cbd8b46e442fc41c2b86b821562f.png',\n",
       "      'size': 'medium'},\n",
       "     {'#text': 'https://lastfm.freetls.fastly.net/i/u/174s/2a96cbd8b46e442fc41c2b86b821562f.png',\n",
       "      'size': 'large'},\n",
       "     {'#text': 'https://lastfm.freetls.fastly.net/i/u/300x300/2a96cbd8b46e442fc41c2b86b821562f.png',\n",
       "      'size': 'extralarge'},\n",
       "     {'#text': 'https://lastfm.freetls.fastly.net/i/u/300x300/2a96cbd8b46e442fc41c2b86b821562f.png',\n",
       "      'size': 'mega'},\n",
       "     {'#text': 'https://lastfm.freetls.fastly.net/i/u/300x300/2a96cbd8b46e442fc41c2b86b821562f.png',\n",
       "      'size': ''}],\n",
       "    'streamable': '0'},\n",
       "   {'name': 'Népal',\n",
       "    'match': '0.276348',\n",
       "    'url': 'https://www.last.fm/music/N%C3%A9pal',\n",
       "    'image': [{'#text': 'https://lastfm.freetls.fastly.net/i/u/34s/2a96cbd8b46e442fc41c2b86b821562f.png',\n",
       "      'size': 'small'},\n",
       "     {'#text': 'https://lastfm.freetls.fastly.net/i/u/64s/2a96cbd8b46e442fc41c2b86b821562f.png',\n",
       "      'size': 'medium'},\n",
       "     {'#text': 'https://lastfm.freetls.fastly.net/i/u/174s/2a96cbd8b46e442fc41c2b86b821562f.png',\n",
       "      'size': 'large'},\n",
       "     {'#text': 'https://lastfm.freetls.fastly.net/i/u/300x300/2a96cbd8b46e442fc41c2b86b821562f.png',\n",
       "      'size': 'extralarge'},\n",
       "     {'#text': 'https://lastfm.freetls.fastly.net/i/u/300x300/2a96cbd8b46e442fc41c2b86b821562f.png',\n",
       "      'size': 'mega'},\n",
       "     {'#text': 'https://lastfm.freetls.fastly.net/i/u/300x300/2a96cbd8b46e442fc41c2b86b821562f.png',\n",
       "      'size': ''}],\n",
       "    'streamable': '0'},\n",
       "   {'name': 'S-Crew',\n",
       "    'mbid': '047bfe55-6cb1-471b-8d45-a7886e41d533',\n",
       "    'match': '0.273873',\n",
       "    'url': 'https://www.last.fm/music/S-Crew',\n",
       "    'image': [{'#text': 'https://lastfm.freetls.fastly.net/i/u/34s/2a96cbd8b46e442fc41c2b86b821562f.png',\n",
       "      'size': 'small'},\n",
       "     {'#text': 'https://lastfm.freetls.fastly.net/i/u/64s/2a96cbd8b46e442fc41c2b86b821562f.png',\n",
       "      'size': 'medium'},\n",
       "     {'#text': 'https://lastfm.freetls.fastly.net/i/u/174s/2a96cbd8b46e442fc41c2b86b821562f.png',\n",
       "      'size': 'large'},\n",
       "     {'#text': 'https://lastfm.freetls.fastly.net/i/u/300x300/2a96cbd8b46e442fc41c2b86b821562f.png',\n",
       "      'size': 'extralarge'},\n",
       "     {'#text': 'https://lastfm.freetls.fastly.net/i/u/300x300/2a96cbd8b46e442fc41c2b86b821562f.png',\n",
       "      'size': 'mega'},\n",
       "     {'#text': 'https://lastfm.freetls.fastly.net/i/u/300x300/2a96cbd8b46e442fc41c2b86b821562f.png',\n",
       "      'size': ''}],\n",
       "    'streamable': '0'},\n",
       "   {'name': 'Lorenzo',\n",
       "    'mbid': 'd90a6c75-62a2-42f2-8d65-99e8576a6f8c',\n",
       "    'match': '0.273344',\n",
       "    'url': 'https://www.last.fm/music/Lorenzo',\n",
       "    'image': [{'#text': 'https://lastfm.freetls.fastly.net/i/u/34s/2a96cbd8b46e442fc41c2b86b821562f.png',\n",
       "      'size': 'small'},\n",
       "     {'#text': 'https://lastfm.freetls.fastly.net/i/u/64s/2a96cbd8b46e442fc41c2b86b821562f.png',\n",
       "      'size': 'medium'},\n",
       "     {'#text': 'https://lastfm.freetls.fastly.net/i/u/174s/2a96cbd8b46e442fc41c2b86b821562f.png',\n",
       "      'size': 'large'},\n",
       "     {'#text': 'https://lastfm.freetls.fastly.net/i/u/300x300/2a96cbd8b46e442fc41c2b86b821562f.png',\n",
       "      'size': 'extralarge'},\n",
       "     {'#text': 'https://lastfm.freetls.fastly.net/i/u/300x300/2a96cbd8b46e442fc41c2b86b821562f.png',\n",
       "      'size': 'mega'},\n",
       "     {'#text': 'https://lastfm.freetls.fastly.net/i/u/300x300/2a96cbd8b46e442fc41c2b86b821562f.png',\n",
       "      'size': ''}],\n",
       "    'streamable': '0'},\n",
       "   {'name': 'Bekar',\n",
       "    'match': '0.272847',\n",
       "    'url': 'https://www.last.fm/music/Bekar',\n",
       "    'image': [{'#text': 'https://lastfm.freetls.fastly.net/i/u/34s/2a96cbd8b46e442fc41c2b86b821562f.png',\n",
       "      'size': 'small'},\n",
       "     {'#text': 'https://lastfm.freetls.fastly.net/i/u/64s/2a96cbd8b46e442fc41c2b86b821562f.png',\n",
       "      'size': 'medium'},\n",
       "     {'#text': 'https://lastfm.freetls.fastly.net/i/u/174s/2a96cbd8b46e442fc41c2b86b821562f.png',\n",
       "      'size': 'large'},\n",
       "     {'#text': 'https://lastfm.freetls.fastly.net/i/u/300x300/2a96cbd8b46e442fc41c2b86b821562f.png',\n",
       "      'size': 'extralarge'},\n",
       "     {'#text': 'https://lastfm.freetls.fastly.net/i/u/300x300/2a96cbd8b46e442fc41c2b86b821562f.png',\n",
       "      'size': 'mega'},\n",
       "     {'#text': 'https://lastfm.freetls.fastly.net/i/u/300x300/2a96cbd8b46e442fc41c2b86b821562f.png',\n",
       "      'size': ''}],\n",
       "    'streamable': '0'},\n",
       "   {'name': 'Jazzy Bazz',\n",
       "    'match': '0.269827',\n",
       "    'url': 'https://www.last.fm/music/Jazzy+Bazz',\n",
       "    'image': [{'#text': 'https://lastfm.freetls.fastly.net/i/u/34s/2a96cbd8b46e442fc41c2b86b821562f.png',\n",
       "      'size': 'small'},\n",
       "     {'#text': 'https://lastfm.freetls.fastly.net/i/u/64s/2a96cbd8b46e442fc41c2b86b821562f.png',\n",
       "      'size': 'medium'},\n",
       "     {'#text': 'https://lastfm.freetls.fastly.net/i/u/174s/2a96cbd8b46e442fc41c2b86b821562f.png',\n",
       "      'size': 'large'},\n",
       "     {'#text': 'https://lastfm.freetls.fastly.net/i/u/300x300/2a96cbd8b46e442fc41c2b86b821562f.png',\n",
       "      'size': 'extralarge'},\n",
       "     {'#text': 'https://lastfm.freetls.fastly.net/i/u/300x300/2a96cbd8b46e442fc41c2b86b821562f.png',\n",
       "      'size': 'mega'},\n",
       "     {'#text': 'https://lastfm.freetls.fastly.net/i/u/300x300/2a96cbd8b46e442fc41c2b86b821562f.png',\n",
       "      'size': ''}],\n",
       "    'streamable': '0'},\n",
       "   {'name': 'B.B. Jacques',\n",
       "    'match': '0.267451',\n",
       "    'url': 'https://www.last.fm/music/B.B.+Jacques',\n",
       "    'image': [{'#text': 'https://lastfm.freetls.fastly.net/i/u/34s/2a96cbd8b46e442fc41c2b86b821562f.png',\n",
       "      'size': 'small'},\n",
       "     {'#text': 'https://lastfm.freetls.fastly.net/i/u/64s/2a96cbd8b46e442fc41c2b86b821562f.png',\n",
       "      'size': 'medium'},\n",
       "     {'#text': 'https://lastfm.freetls.fastly.net/i/u/174s/2a96cbd8b46e442fc41c2b86b821562f.png',\n",
       "      'size': 'large'},\n",
       "     {'#text': 'https://lastfm.freetls.fastly.net/i/u/300x300/2a96cbd8b46e442fc41c2b86b821562f.png',\n",
       "      'size': 'extralarge'},\n",
       "     {'#text': 'https://lastfm.freetls.fastly.net/i/u/300x300/2a96cbd8b46e442fc41c2b86b821562f.png',\n",
       "      'size': 'mega'},\n",
       "     {'#text': 'https://lastfm.freetls.fastly.net/i/u/300x300/2a96cbd8b46e442fc41c2b86b821562f.png',\n",
       "      'size': ''}],\n",
       "    'streamable': '0'},\n",
       "   {'name': 'Luidji',\n",
       "    'match': '0.264007',\n",
       "    'url': 'https://www.last.fm/music/Luidji',\n",
       "    'image': [{'#text': 'https://lastfm.freetls.fastly.net/i/u/34s/2a96cbd8b46e442fc41c2b86b821562f.png',\n",
       "      'size': 'small'},\n",
       "     {'#text': 'https://lastfm.freetls.fastly.net/i/u/64s/2a96cbd8b46e442fc41c2b86b821562f.png',\n",
       "      'size': 'medium'},\n",
       "     {'#text': 'https://lastfm.freetls.fastly.net/i/u/174s/2a96cbd8b46e442fc41c2b86b821562f.png',\n",
       "      'size': 'large'},\n",
       "     {'#text': 'https://lastfm.freetls.fastly.net/i/u/300x300/2a96cbd8b46e442fc41c2b86b821562f.png',\n",
       "      'size': 'extralarge'},\n",
       "     {'#text': 'https://lastfm.freetls.fastly.net/i/u/300x300/2a96cbd8b46e442fc41c2b86b821562f.png',\n",
       "      'size': 'mega'},\n",
       "     {'#text': 'https://lastfm.freetls.fastly.net/i/u/300x300/2a96cbd8b46e442fc41c2b86b821562f.png',\n",
       "      'size': ''}],\n",
       "    'streamable': '0'},\n",
       "   {'name': 'carbonne',\n",
       "    'match': '0.262116',\n",
       "    'url': 'https://www.last.fm/music/carbonne',\n",
       "    'image': [{'#text': 'https://lastfm.freetls.fastly.net/i/u/34s/2a96cbd8b46e442fc41c2b86b821562f.png',\n",
       "      'size': 'small'},\n",
       "     {'#text': 'https://lastfm.freetls.fastly.net/i/u/64s/2a96cbd8b46e442fc41c2b86b821562f.png',\n",
       "      'size': 'medium'},\n",
       "     {'#text': 'https://lastfm.freetls.fastly.net/i/u/174s/2a96cbd8b46e442fc41c2b86b821562f.png',\n",
       "      'size': 'large'},\n",
       "     {'#text': 'https://lastfm.freetls.fastly.net/i/u/300x300/2a96cbd8b46e442fc41c2b86b821562f.png',\n",
       "      'size': 'extralarge'},\n",
       "     {'#text': 'https://lastfm.freetls.fastly.net/i/u/300x300/2a96cbd8b46e442fc41c2b86b821562f.png',\n",
       "      'size': 'mega'},\n",
       "     {'#text': 'https://lastfm.freetls.fastly.net/i/u/300x300/2a96cbd8b46e442fc41c2b86b821562f.png',\n",
       "      'size': ''}],\n",
       "    'streamable': '0'},\n",
       "   {'name': 'La Fouine',\n",
       "    'mbid': '998f1ece-a2b0-47d2-93df-17553430ab73',\n",
       "    'match': '0.261416',\n",
       "    'url': 'https://www.last.fm/music/La+Fouine',\n",
       "    'image': [{'#text': 'https://lastfm.freetls.fastly.net/i/u/34s/2a96cbd8b46e442fc41c2b86b821562f.png',\n",
       "      'size': 'small'},\n",
       "     {'#text': 'https://lastfm.freetls.fastly.net/i/u/64s/2a96cbd8b46e442fc41c2b86b821562f.png',\n",
       "      'size': 'medium'},\n",
       "     {'#text': 'https://lastfm.freetls.fastly.net/i/u/174s/2a96cbd8b46e442fc41c2b86b821562f.png',\n",
       "      'size': 'large'},\n",
       "     {'#text': 'https://lastfm.freetls.fastly.net/i/u/300x300/2a96cbd8b46e442fc41c2b86b821562f.png',\n",
       "      'size': 'extralarge'},\n",
       "     {'#text': 'https://lastfm.freetls.fastly.net/i/u/300x300/2a96cbd8b46e442fc41c2b86b821562f.png',\n",
       "      'size': 'mega'},\n",
       "     {'#text': 'https://lastfm.freetls.fastly.net/i/u/300x300/2a96cbd8b46e442fc41c2b86b821562f.png',\n",
       "      'size': ''}],\n",
       "    'streamable': '0'},\n",
       "   {'name': \"Sexion d'Assaut\",\n",
       "    'mbid': '129249d7-4521-4b1e-b48d-88e21b8eeca5',\n",
       "    'match': '0.260757',\n",
       "    'url': 'https://www.last.fm/music/Sexion+d%27Assaut',\n",
       "    'image': [{'#text': 'https://lastfm.freetls.fastly.net/i/u/34s/2a96cbd8b46e442fc41c2b86b821562f.png',\n",
       "      'size': 'small'},\n",
       "     {'#text': 'https://lastfm.freetls.fastly.net/i/u/64s/2a96cbd8b46e442fc41c2b86b821562f.png',\n",
       "      'size': 'medium'},\n",
       "     {'#text': 'https://lastfm.freetls.fastly.net/i/u/174s/2a96cbd8b46e442fc41c2b86b821562f.png',\n",
       "      'size': 'large'},\n",
       "     {'#text': 'https://lastfm.freetls.fastly.net/i/u/300x300/2a96cbd8b46e442fc41c2b86b821562f.png',\n",
       "      'size': 'extralarge'},\n",
       "     {'#text': 'https://lastfm.freetls.fastly.net/i/u/300x300/2a96cbd8b46e442fc41c2b86b821562f.png',\n",
       "      'size': 'mega'},\n",
       "     {'#text': 'https://lastfm.freetls.fastly.net/i/u/300x300/2a96cbd8b46e442fc41c2b86b821562f.png',\n",
       "      'size': ''}],\n",
       "    'streamable': '0'},\n",
       "   {'name': 'Hatik',\n",
       "    'match': '0.250522',\n",
       "    'url': 'https://www.last.fm/music/Hatik',\n",
       "    'image': [{'#text': 'https://lastfm.freetls.fastly.net/i/u/34s/2a96cbd8b46e442fc41c2b86b821562f.png',\n",
       "      'size': 'small'},\n",
       "     {'#text': 'https://lastfm.freetls.fastly.net/i/u/64s/2a96cbd8b46e442fc41c2b86b821562f.png',\n",
       "      'size': 'medium'},\n",
       "     {'#text': 'https://lastfm.freetls.fastly.net/i/u/174s/2a96cbd8b46e442fc41c2b86b821562f.png',\n",
       "      'size': 'large'},\n",
       "     {'#text': 'https://lastfm.freetls.fastly.net/i/u/300x300/2a96cbd8b46e442fc41c2b86b821562f.png',\n",
       "      'size': 'extralarge'},\n",
       "     {'#text': 'https://lastfm.freetls.fastly.net/i/u/300x300/2a96cbd8b46e442fc41c2b86b821562f.png',\n",
       "      'size': 'mega'},\n",
       "     {'#text': 'https://lastfm.freetls.fastly.net/i/u/300x300/2a96cbd8b46e442fc41c2b86b821562f.png',\n",
       "      'size': ''}],\n",
       "    'streamable': '0'},\n",
       "   {'name': 'Disiz',\n",
       "    'mbid': 'daba3096-88f2-4322-9b00-10938b0220b8',\n",
       "    'match': '0.249961',\n",
       "    'url': 'https://www.last.fm/music/Disiz',\n",
       "    'image': [{'#text': 'https://lastfm.freetls.fastly.net/i/u/34s/2a96cbd8b46e442fc41c2b86b821562f.png',\n",
       "      'size': 'small'},\n",
       "     {'#text': 'https://lastfm.freetls.fastly.net/i/u/64s/2a96cbd8b46e442fc41c2b86b821562f.png',\n",
       "      'size': 'medium'},\n",
       "     {'#text': 'https://lastfm.freetls.fastly.net/i/u/174s/2a96cbd8b46e442fc41c2b86b821562f.png',\n",
       "      'size': 'large'},\n",
       "     {'#text': 'https://lastfm.freetls.fastly.net/i/u/300x300/2a96cbd8b46e442fc41c2b86b821562f.png',\n",
       "      'size': 'extralarge'},\n",
       "     {'#text': 'https://lastfm.freetls.fastly.net/i/u/300x300/2a96cbd8b46e442fc41c2b86b821562f.png',\n",
       "      'size': 'mega'},\n",
       "     {'#text': 'https://lastfm.freetls.fastly.net/i/u/300x300/2a96cbd8b46e442fc41c2b86b821562f.png',\n",
       "      'size': ''}],\n",
       "    'streamable': '0'},\n",
       "   {'name': 'Lartiste',\n",
       "    'mbid': '507ccf29-0d49-4219-a1a2-1b98f8e91ad0',\n",
       "    'match': '0.249240',\n",
       "    'url': 'https://www.last.fm/music/Lartiste',\n",
       "    'image': [{'#text': 'https://lastfm.freetls.fastly.net/i/u/34s/2a96cbd8b46e442fc41c2b86b821562f.png',\n",
       "      'size': 'small'},\n",
       "     {'#text': 'https://lastfm.freetls.fastly.net/i/u/64s/2a96cbd8b46e442fc41c2b86b821562f.png',\n",
       "      'size': 'medium'},\n",
       "     {'#text': 'https://lastfm.freetls.fastly.net/i/u/174s/2a96cbd8b46e442fc41c2b86b821562f.png',\n",
       "      'size': 'large'},\n",
       "     {'#text': 'https://lastfm.freetls.fastly.net/i/u/300x300/2a96cbd8b46e442fc41c2b86b821562f.png',\n",
       "      'size': 'extralarge'},\n",
       "     {'#text': 'https://lastfm.freetls.fastly.net/i/u/300x300/2a96cbd8b46e442fc41c2b86b821562f.png',\n",
       "      'size': 'mega'},\n",
       "     {'#text': 'https://lastfm.freetls.fastly.net/i/u/300x300/2a96cbd8b46e442fc41c2b86b821562f.png',\n",
       "      'size': ''}],\n",
       "    'streamable': '0'},\n",
       "   {'name': 'Oldpee',\n",
       "    'match': '0.247026',\n",
       "    'url': 'https://www.last.fm/music/Oldpee',\n",
       "    'image': [{'#text': 'https://lastfm.freetls.fastly.net/i/u/34s/2a96cbd8b46e442fc41c2b86b821562f.png',\n",
       "      'size': 'small'},\n",
       "     {'#text': 'https://lastfm.freetls.fastly.net/i/u/64s/2a96cbd8b46e442fc41c2b86b821562f.png',\n",
       "      'size': 'medium'},\n",
       "     {'#text': 'https://lastfm.freetls.fastly.net/i/u/174s/2a96cbd8b46e442fc41c2b86b821562f.png',\n",
       "      'size': 'large'},\n",
       "     {'#text': 'https://lastfm.freetls.fastly.net/i/u/300x300/2a96cbd8b46e442fc41c2b86b821562f.png',\n",
       "      'size': 'extralarge'},\n",
       "     {'#text': 'https://lastfm.freetls.fastly.net/i/u/300x300/2a96cbd8b46e442fc41c2b86b821562f.png',\n",
       "      'size': 'mega'},\n",
       "     {'#text': 'https://lastfm.freetls.fastly.net/i/u/300x300/2a96cbd8b46e442fc41c2b86b821562f.png',\n",
       "      'size': ''}],\n",
       "    'streamable': '0'},\n",
       "   {'name': 'Moha La Squale',\n",
       "    'match': '0.246415',\n",
       "    'url': 'https://www.last.fm/music/Moha+La+Squale',\n",
       "    'image': [{'#text': 'https://lastfm.freetls.fastly.net/i/u/34s/2a96cbd8b46e442fc41c2b86b821562f.png',\n",
       "      'size': 'small'},\n",
       "     {'#text': 'https://lastfm.freetls.fastly.net/i/u/64s/2a96cbd8b46e442fc41c2b86b821562f.png',\n",
       "      'size': 'medium'},\n",
       "     {'#text': 'https://lastfm.freetls.fastly.net/i/u/174s/2a96cbd8b46e442fc41c2b86b821562f.png',\n",
       "      'size': 'large'},\n",
       "     {'#text': 'https://lastfm.freetls.fastly.net/i/u/300x300/2a96cbd8b46e442fc41c2b86b821562f.png',\n",
       "      'size': 'extralarge'},\n",
       "     {'#text': 'https://lastfm.freetls.fastly.net/i/u/300x300/2a96cbd8b46e442fc41c2b86b821562f.png',\n",
       "      'size': 'mega'},\n",
       "     {'#text': 'https://lastfm.freetls.fastly.net/i/u/300x300/2a96cbd8b46e442fc41c2b86b821562f.png',\n",
       "      'size': ''}],\n",
       "    'streamable': '0'},\n",
       "   {'name': 'yvnnis',\n",
       "    'match': '0.240881',\n",
       "    'url': 'https://www.last.fm/music/yvnnis',\n",
       "    'image': [{'#text': 'https://lastfm.freetls.fastly.net/i/u/34s/2a96cbd8b46e442fc41c2b86b821562f.png',\n",
       "      'size': 'small'},\n",
       "     {'#text': 'https://lastfm.freetls.fastly.net/i/u/64s/2a96cbd8b46e442fc41c2b86b821562f.png',\n",
       "      'size': 'medium'},\n",
       "     {'#text': 'https://lastfm.freetls.fastly.net/i/u/174s/2a96cbd8b46e442fc41c2b86b821562f.png',\n",
       "      'size': 'large'},\n",
       "     {'#text': 'https://lastfm.freetls.fastly.net/i/u/300x300/2a96cbd8b46e442fc41c2b86b821562f.png',\n",
       "      'size': 'extralarge'},\n",
       "     {'#text': 'https://lastfm.freetls.fastly.net/i/u/300x300/2a96cbd8b46e442fc41c2b86b821562f.png',\n",
       "      'size': 'mega'},\n",
       "     {'#text': 'https://lastfm.freetls.fastly.net/i/u/300x300/2a96cbd8b46e442fc41c2b86b821562f.png',\n",
       "      'size': ''}],\n",
       "    'streamable': '0'},\n",
       "   {'name': 'Isha',\n",
       "    'mbid': '29969197-d43b-4844-9969-08b09d757ae6',\n",
       "    'match': '0.239619',\n",
       "    'url': 'https://www.last.fm/music/Isha',\n",
       "    'image': [{'#text': 'https://lastfm.freetls.fastly.net/i/u/34s/2a96cbd8b46e442fc41c2b86b821562f.png',\n",
       "      'size': 'small'},\n",
       "     {'#text': 'https://lastfm.freetls.fastly.net/i/u/64s/2a96cbd8b46e442fc41c2b86b821562f.png',\n",
       "      'size': 'medium'},\n",
       "     {'#text': 'https://lastfm.freetls.fastly.net/i/u/174s/2a96cbd8b46e442fc41c2b86b821562f.png',\n",
       "      'size': 'large'},\n",
       "     {'#text': 'https://lastfm.freetls.fastly.net/i/u/300x300/2a96cbd8b46e442fc41c2b86b821562f.png',\n",
       "      'size': 'extralarge'},\n",
       "     {'#text': 'https://lastfm.freetls.fastly.net/i/u/300x300/2a96cbd8b46e442fc41c2b86b821562f.png',\n",
       "      'size': 'mega'},\n",
       "     {'#text': 'https://lastfm.freetls.fastly.net/i/u/300x300/2a96cbd8b46e442fc41c2b86b821562f.png',\n",
       "      'size': ''}],\n",
       "    'streamable': '0'},\n",
       "   {'name': 'Shay',\n",
       "    'match': '0.234645',\n",
       "    'url': 'https://www.last.fm/music/Shay',\n",
       "    'image': [{'#text': 'https://lastfm.freetls.fastly.net/i/u/34s/2a96cbd8b46e442fc41c2b86b821562f.png',\n",
       "      'size': 'small'},\n",
       "     {'#text': 'https://lastfm.freetls.fastly.net/i/u/64s/2a96cbd8b46e442fc41c2b86b821562f.png',\n",
       "      'size': 'medium'},\n",
       "     {'#text': 'https://lastfm.freetls.fastly.net/i/u/174s/2a96cbd8b46e442fc41c2b86b821562f.png',\n",
       "      'size': 'large'},\n",
       "     {'#text': 'https://lastfm.freetls.fastly.net/i/u/300x300/2a96cbd8b46e442fc41c2b86b821562f.png',\n",
       "      'size': 'extralarge'},\n",
       "     {'#text': 'https://lastfm.freetls.fastly.net/i/u/300x300/2a96cbd8b46e442fc41c2b86b821562f.png',\n",
       "      'size': 'mega'},\n",
       "     {'#text': 'https://lastfm.freetls.fastly.net/i/u/300x300/2a96cbd8b46e442fc41c2b86b821562f.png',\n",
       "      'size': ''}],\n",
       "    'streamable': '0'},\n",
       "   {'name': 'Gims',\n",
       "    'match': '0.233709',\n",
       "    'url': 'https://www.last.fm/music/Gims',\n",
       "    'image': [{'#text': 'https://lastfm.freetls.fastly.net/i/u/34s/2a96cbd8b46e442fc41c2b86b821562f.png',\n",
       "      'size': 'small'},\n",
       "     {'#text': 'https://lastfm.freetls.fastly.net/i/u/64s/2a96cbd8b46e442fc41c2b86b821562f.png',\n",
       "      'size': 'medium'},\n",
       "     {'#text': 'https://lastfm.freetls.fastly.net/i/u/174s/2a96cbd8b46e442fc41c2b86b821562f.png',\n",
       "      'size': 'large'},\n",
       "     {'#text': 'https://lastfm.freetls.fastly.net/i/u/300x300/2a96cbd8b46e442fc41c2b86b821562f.png',\n",
       "      'size': 'extralarge'},\n",
       "     {'#text': 'https://lastfm.freetls.fastly.net/i/u/300x300/2a96cbd8b46e442fc41c2b86b821562f.png',\n",
       "      'size': 'mega'},\n",
       "     {'#text': 'https://lastfm.freetls.fastly.net/i/u/300x300/2a96cbd8b46e442fc41c2b86b821562f.png',\n",
       "      'size': ''}],\n",
       "    'streamable': '0'},\n",
       "   {'name': 'Guizmo',\n",
       "    'mbid': '923147f3-3f4a-4eed-9832-1d59bc6559f3',\n",
       "    'match': '0.232625',\n",
       "    'url': 'https://www.last.fm/music/Guizmo',\n",
       "    'image': [{'#text': 'https://lastfm.freetls.fastly.net/i/u/34s/2a96cbd8b46e442fc41c2b86b821562f.png',\n",
       "      'size': 'small'},\n",
       "     {'#text': 'https://lastfm.freetls.fastly.net/i/u/64s/2a96cbd8b46e442fc41c2b86b821562f.png',\n",
       "      'size': 'medium'},\n",
       "     {'#text': 'https://lastfm.freetls.fastly.net/i/u/174s/2a96cbd8b46e442fc41c2b86b821562f.png',\n",
       "      'size': 'large'},\n",
       "     {'#text': 'https://lastfm.freetls.fastly.net/i/u/300x300/2a96cbd8b46e442fc41c2b86b821562f.png',\n",
       "      'size': 'extralarge'},\n",
       "     {'#text': 'https://lastfm.freetls.fastly.net/i/u/300x300/2a96cbd8b46e442fc41c2b86b821562f.png',\n",
       "      'size': 'mega'},\n",
       "     {'#text': 'https://lastfm.freetls.fastly.net/i/u/300x300/2a96cbd8b46e442fc41c2b86b821562f.png',\n",
       "      'size': ''}],\n",
       "    'streamable': '0'},\n",
       "   {'name': 'Orelsan',\n",
       "    'mbid': '6cad3ce5-6380-4594-a8da-ae7d273b683d',\n",
       "    'match': '0.228374',\n",
       "    'url': 'https://www.last.fm/music/Orelsan',\n",
       "    'image': [{'#text': 'https://lastfm.freetls.fastly.net/i/u/34s/2a96cbd8b46e442fc41c2b86b821562f.png',\n",
       "      'size': 'small'},\n",
       "     {'#text': 'https://lastfm.freetls.fastly.net/i/u/64s/2a96cbd8b46e442fc41c2b86b821562f.png',\n",
       "      'size': 'medium'},\n",
       "     {'#text': 'https://lastfm.freetls.fastly.net/i/u/174s/2a96cbd8b46e442fc41c2b86b821562f.png',\n",
       "      'size': 'large'},\n",
       "     {'#text': 'https://lastfm.freetls.fastly.net/i/u/300x300/2a96cbd8b46e442fc41c2b86b821562f.png',\n",
       "      'size': 'extralarge'},\n",
       "     {'#text': 'https://lastfm.freetls.fastly.net/i/u/300x300/2a96cbd8b46e442fc41c2b86b821562f.png',\n",
       "      'size': 'mega'},\n",
       "     {'#text': 'https://lastfm.freetls.fastly.net/i/u/300x300/2a96cbd8b46e442fc41c2b86b821562f.png',\n",
       "      'size': ''}],\n",
       "    'streamable': '0'},\n",
       "   {'name': 'Ghost Killer Track',\n",
       "    'match': '0.227950',\n",
       "    'url': 'https://www.last.fm/music/Ghost+Killer+Track',\n",
       "    'image': [{'#text': 'https://lastfm.freetls.fastly.net/i/u/34s/2a96cbd8b46e442fc41c2b86b821562f.png',\n",
       "      'size': 'small'},\n",
       "     {'#text': 'https://lastfm.freetls.fastly.net/i/u/64s/2a96cbd8b46e442fc41c2b86b821562f.png',\n",
       "      'size': 'medium'},\n",
       "     {'#text': 'https://lastfm.freetls.fastly.net/i/u/174s/2a96cbd8b46e442fc41c2b86b821562f.png',\n",
       "      'size': 'large'},\n",
       "     {'#text': 'https://lastfm.freetls.fastly.net/i/u/300x300/2a96cbd8b46e442fc41c2b86b821562f.png',\n",
       "      'size': 'extralarge'},\n",
       "     {'#text': 'https://lastfm.freetls.fastly.net/i/u/300x300/2a96cbd8b46e442fc41c2b86b821562f.png',\n",
       "      'size': 'mega'},\n",
       "     {'#text': 'https://lastfm.freetls.fastly.net/i/u/300x300/2a96cbd8b46e442fc41c2b86b821562f.png',\n",
       "      'size': ''}],\n",
       "    'streamable': '0'},\n",
       "   {'name': 'DJ Leska',\n",
       "    'match': '0.227399',\n",
       "    'url': 'https://www.last.fm/music/DJ+Leska',\n",
       "    'image': [{'#text': 'https://lastfm.freetls.fastly.net/i/u/34s/2a96cbd8b46e442fc41c2b86b821562f.png',\n",
       "      'size': 'small'},\n",
       "     {'#text': 'https://lastfm.freetls.fastly.net/i/u/64s/2a96cbd8b46e442fc41c2b86b821562f.png',\n",
       "      'size': 'medium'},\n",
       "     {'#text': 'https://lastfm.freetls.fastly.net/i/u/174s/2a96cbd8b46e442fc41c2b86b821562f.png',\n",
       "      'size': 'large'},\n",
       "     {'#text': 'https://lastfm.freetls.fastly.net/i/u/300x300/2a96cbd8b46e442fc41c2b86b821562f.png',\n",
       "      'size': 'extralarge'},\n",
       "     {'#text': 'https://lastfm.freetls.fastly.net/i/u/300x300/2a96cbd8b46e442fc41c2b86b821562f.png',\n",
       "      'size': 'mega'},\n",
       "     {'#text': 'https://lastfm.freetls.fastly.net/i/u/300x300/2a96cbd8b46e442fc41c2b86b821562f.png',\n",
       "      'size': ''}],\n",
       "    'streamable': '0'},\n",
       "   {'name': 'Lomepal',\n",
       "    'mbid': '5386511f-b7bd-4058-9b5e-2c5dc426e1c9',\n",
       "    'match': '0.221922',\n",
       "    'url': 'https://www.last.fm/music/Lomepal',\n",
       "    'image': [{'#text': 'https://lastfm.freetls.fastly.net/i/u/34s/2a96cbd8b46e442fc41c2b86b821562f.png',\n",
       "      'size': 'small'},\n",
       "     {'#text': 'https://lastfm.freetls.fastly.net/i/u/64s/2a96cbd8b46e442fc41c2b86b821562f.png',\n",
       "      'size': 'medium'},\n",
       "     {'#text': 'https://lastfm.freetls.fastly.net/i/u/174s/2a96cbd8b46e442fc41c2b86b821562f.png',\n",
       "      'size': 'large'},\n",
       "     {'#text': 'https://lastfm.freetls.fastly.net/i/u/300x300/2a96cbd8b46e442fc41c2b86b821562f.png',\n",
       "      'size': 'extralarge'},\n",
       "     {'#text': 'https://lastfm.freetls.fastly.net/i/u/300x300/2a96cbd8b46e442fc41c2b86b821562f.png',\n",
       "      'size': 'mega'},\n",
       "     {'#text': 'https://lastfm.freetls.fastly.net/i/u/300x300/2a96cbd8b46e442fc41c2b86b821562f.png',\n",
       "      'size': ''}],\n",
       "    'streamable': '0'},\n",
       "   {'name': 'Kofs',\n",
       "    'match': '0.220733',\n",
       "    'url': 'https://www.last.fm/music/Kofs',\n",
       "    'image': [{'#text': 'https://lastfm.freetls.fastly.net/i/u/34s/2a96cbd8b46e442fc41c2b86b821562f.png',\n",
       "      'size': 'small'},\n",
       "     {'#text': 'https://lastfm.freetls.fastly.net/i/u/64s/2a96cbd8b46e442fc41c2b86b821562f.png',\n",
       "      'size': 'medium'},\n",
       "     {'#text': 'https://lastfm.freetls.fastly.net/i/u/174s/2a96cbd8b46e442fc41c2b86b821562f.png',\n",
       "      'size': 'large'},\n",
       "     {'#text': 'https://lastfm.freetls.fastly.net/i/u/300x300/2a96cbd8b46e442fc41c2b86b821562f.png',\n",
       "      'size': 'extralarge'},\n",
       "     {'#text': 'https://lastfm.freetls.fastly.net/i/u/300x300/2a96cbd8b46e442fc41c2b86b821562f.png',\n",
       "      'size': 'mega'},\n",
       "     {'#text': 'https://lastfm.freetls.fastly.net/i/u/300x300/2a96cbd8b46e442fc41c2b86b821562f.png',\n",
       "      'size': ''}],\n",
       "    'streamable': '0'},\n",
       "   {'name': 'Wallace Cleaver',\n",
       "    'match': '0.218297',\n",
       "    'url': 'https://www.last.fm/music/Wallace+Cleaver',\n",
       "    'image': [{'#text': 'https://lastfm.freetls.fastly.net/i/u/34s/2a96cbd8b46e442fc41c2b86b821562f.png',\n",
       "      'size': 'small'},\n",
       "     {'#text': 'https://lastfm.freetls.fastly.net/i/u/64s/2a96cbd8b46e442fc41c2b86b821562f.png',\n",
       "      'size': 'medium'},\n",
       "     {'#text': 'https://lastfm.freetls.fastly.net/i/u/174s/2a96cbd8b46e442fc41c2b86b821562f.png',\n",
       "      'size': 'large'},\n",
       "     {'#text': 'https://lastfm.freetls.fastly.net/i/u/300x300/2a96cbd8b46e442fc41c2b86b821562f.png',\n",
       "      'size': 'extralarge'},\n",
       "     {'#text': 'https://lastfm.freetls.fastly.net/i/u/300x300/2a96cbd8b46e442fc41c2b86b821562f.png',\n",
       "      'size': 'mega'},\n",
       "     {'#text': 'https://lastfm.freetls.fastly.net/i/u/300x300/2a96cbd8b46e442fc41c2b86b821562f.png',\n",
       "      'size': ''}],\n",
       "    'streamable': '0'},\n",
       "   {'name': 'Ateyaba',\n",
       "    'match': '0.213857',\n",
       "    'url': 'https://www.last.fm/music/Ateyaba',\n",
       "    'image': [{'#text': 'https://lastfm.freetls.fastly.net/i/u/34s/2a96cbd8b46e442fc41c2b86b821562f.png',\n",
       "      'size': 'small'},\n",
       "     {'#text': 'https://lastfm.freetls.fastly.net/i/u/64s/2a96cbd8b46e442fc41c2b86b821562f.png',\n",
       "      'size': 'medium'},\n",
       "     {'#text': 'https://lastfm.freetls.fastly.net/i/u/174s/2a96cbd8b46e442fc41c2b86b821562f.png',\n",
       "      'size': 'large'},\n",
       "     {'#text': 'https://lastfm.freetls.fastly.net/i/u/300x300/2a96cbd8b46e442fc41c2b86b821562f.png',\n",
       "      'size': 'extralarge'},\n",
       "     {'#text': 'https://lastfm.freetls.fastly.net/i/u/300x300/2a96cbd8b46e442fc41c2b86b821562f.png',\n",
       "      'size': 'mega'},\n",
       "     {'#text': 'https://lastfm.freetls.fastly.net/i/u/300x300/2a96cbd8b46e442fc41c2b86b821562f.png',\n",
       "      'size': ''}],\n",
       "    'streamable': '0'},\n",
       "   {'name': 'stavo',\n",
       "    'match': '0.213577',\n",
       "    'url': 'https://www.last.fm/music/stavo',\n",
       "    'image': [{'#text': 'https://lastfm.freetls.fastly.net/i/u/34s/2a96cbd8b46e442fc41c2b86b821562f.png',\n",
       "      'size': 'small'},\n",
       "     {'#text': 'https://lastfm.freetls.fastly.net/i/u/64s/2a96cbd8b46e442fc41c2b86b821562f.png',\n",
       "      'size': 'medium'},\n",
       "     {'#text': 'https://lastfm.freetls.fastly.net/i/u/174s/2a96cbd8b46e442fc41c2b86b821562f.png',\n",
       "      'size': 'large'},\n",
       "     {'#text': 'https://lastfm.freetls.fastly.net/i/u/300x300/2a96cbd8b46e442fc41c2b86b821562f.png',\n",
       "      'size': 'extralarge'},\n",
       "     {'#text': 'https://lastfm.freetls.fastly.net/i/u/300x300/2a96cbd8b46e442fc41c2b86b821562f.png',\n",
       "      'size': 'mega'},\n",
       "     {'#text': 'https://lastfm.freetls.fastly.net/i/u/300x300/2a96cbd8b46e442fc41c2b86b821562f.png',\n",
       "      'size': ''}],\n",
       "    'streamable': '0'},\n",
       "   {'name': 'Ronisia',\n",
       "    'match': '0.213421',\n",
       "    'url': 'https://www.last.fm/music/Ronisia',\n",
       "    'image': [{'#text': 'https://lastfm.freetls.fastly.net/i/u/34s/2a96cbd8b46e442fc41c2b86b821562f.png',\n",
       "      'size': 'small'},\n",
       "     {'#text': 'https://lastfm.freetls.fastly.net/i/u/64s/2a96cbd8b46e442fc41c2b86b821562f.png',\n",
       "      'size': 'medium'},\n",
       "     {'#text': 'https://lastfm.freetls.fastly.net/i/u/174s/2a96cbd8b46e442fc41c2b86b821562f.png',\n",
       "      'size': 'large'},\n",
       "     {'#text': 'https://lastfm.freetls.fastly.net/i/u/300x300/2a96cbd8b46e442fc41c2b86b821562f.png',\n",
       "      'size': 'extralarge'},\n",
       "     {'#text': 'https://lastfm.freetls.fastly.net/i/u/300x300/2a96cbd8b46e442fc41c2b86b821562f.png',\n",
       "      'size': 'mega'},\n",
       "     {'#text': 'https://lastfm.freetls.fastly.net/i/u/300x300/2a96cbd8b46e442fc41c2b86b821562f.png',\n",
       "      'size': ''}],\n",
       "    'streamable': '0'},\n",
       "   {'name': 'Mac Tyer',\n",
       "    'mbid': '861dd48e-3a61-4734-8a44-42c16a444969',\n",
       "    'match': '0.211434',\n",
       "    'url': 'https://www.last.fm/music/Mac+Tyer',\n",
       "    'image': [{'#text': 'https://lastfm.freetls.fastly.net/i/u/34s/2a96cbd8b46e442fc41c2b86b821562f.png',\n",
       "      'size': 'small'},\n",
       "     {'#text': 'https://lastfm.freetls.fastly.net/i/u/64s/2a96cbd8b46e442fc41c2b86b821562f.png',\n",
       "      'size': 'medium'},\n",
       "     {'#text': 'https://lastfm.freetls.fastly.net/i/u/174s/2a96cbd8b46e442fc41c2b86b821562f.png',\n",
       "      'size': 'large'},\n",
       "     {'#text': 'https://lastfm.freetls.fastly.net/i/u/300x300/2a96cbd8b46e442fc41c2b86b821562f.png',\n",
       "      'size': 'extralarge'},\n",
       "     {'#text': 'https://lastfm.freetls.fastly.net/i/u/300x300/2a96cbd8b46e442fc41c2b86b821562f.png',\n",
       "      'size': 'mega'},\n",
       "     {'#text': 'https://lastfm.freetls.fastly.net/i/u/300x300/2a96cbd8b46e442fc41c2b86b821562f.png',\n",
       "      'size': ''}],\n",
       "    'streamable': '0'},\n",
       "   {'name': 'La f',\n",
       "    'match': '0.208120',\n",
       "    'url': 'https://www.last.fm/music/La+f',\n",
       "    'image': [{'#text': 'https://lastfm.freetls.fastly.net/i/u/34s/2a96cbd8b46e442fc41c2b86b821562f.png',\n",
       "      'size': 'small'},\n",
       "     {'#text': 'https://lastfm.freetls.fastly.net/i/u/64s/2a96cbd8b46e442fc41c2b86b821562f.png',\n",
       "      'size': 'medium'},\n",
       "     {'#text': 'https://lastfm.freetls.fastly.net/i/u/174s/2a96cbd8b46e442fc41c2b86b821562f.png',\n",
       "      'size': 'large'},\n",
       "     {'#text': 'https://lastfm.freetls.fastly.net/i/u/300x300/2a96cbd8b46e442fc41c2b86b821562f.png',\n",
       "      'size': 'extralarge'},\n",
       "     {'#text': 'https://lastfm.freetls.fastly.net/i/u/300x300/2a96cbd8b46e442fc41c2b86b821562f.png',\n",
       "      'size': 'mega'},\n",
       "     {'#text': 'https://lastfm.freetls.fastly.net/i/u/300x300/2a96cbd8b46e442fc41c2b86b821562f.png',\n",
       "      'size': ''}],\n",
       "    'streamable': '0'},\n",
       "   {'name': 'GLK',\n",
       "    'mbid': 'f1304cb4-73e0-4c93-b4d3-091c9ac9a0d2',\n",
       "    'match': '0.204822',\n",
       "    'url': 'https://www.last.fm/music/GLK',\n",
       "    'image': [{'#text': 'https://lastfm.freetls.fastly.net/i/u/34s/2a96cbd8b46e442fc41c2b86b821562f.png',\n",
       "      'size': 'small'},\n",
       "     {'#text': 'https://lastfm.freetls.fastly.net/i/u/64s/2a96cbd8b46e442fc41c2b86b821562f.png',\n",
       "      'size': 'medium'},\n",
       "     {'#text': 'https://lastfm.freetls.fastly.net/i/u/174s/2a96cbd8b46e442fc41c2b86b821562f.png',\n",
       "      'size': 'large'},\n",
       "     {'#text': 'https://lastfm.freetls.fastly.net/i/u/300x300/2a96cbd8b46e442fc41c2b86b821562f.png',\n",
       "      'size': 'extralarge'},\n",
       "     {'#text': 'https://lastfm.freetls.fastly.net/i/u/300x300/2a96cbd8b46e442fc41c2b86b821562f.png',\n",
       "      'size': 'mega'},\n",
       "     {'#text': 'https://lastfm.freetls.fastly.net/i/u/300x300/2a96cbd8b46e442fc41c2b86b821562f.png',\n",
       "      'size': ''}],\n",
       "    'streamable': '0'},\n",
       "   {'name': 'Mister You',\n",
       "    'mbid': 'c614004f-7450-4172-b6fd-37ea95af1214',\n",
       "    'match': '0.202575',\n",
       "    'url': 'https://www.last.fm/music/Mister+You',\n",
       "    'image': [{'#text': 'https://lastfm.freetls.fastly.net/i/u/34s/2a96cbd8b46e442fc41c2b86b821562f.png',\n",
       "      'size': 'small'},\n",
       "     {'#text': 'https://lastfm.freetls.fastly.net/i/u/64s/2a96cbd8b46e442fc41c2b86b821562f.png',\n",
       "      'size': 'medium'},\n",
       "     {'#text': 'https://lastfm.freetls.fastly.net/i/u/174s/2a96cbd8b46e442fc41c2b86b821562f.png',\n",
       "      'size': 'large'},\n",
       "     {'#text': 'https://lastfm.freetls.fastly.net/i/u/300x300/2a96cbd8b46e442fc41c2b86b821562f.png',\n",
       "      'size': 'extralarge'},\n",
       "     {'#text': 'https://lastfm.freetls.fastly.net/i/u/300x300/2a96cbd8b46e442fc41c2b86b821562f.png',\n",
       "      'size': 'mega'},\n",
       "     {'#text': 'https://lastfm.freetls.fastly.net/i/u/300x300/2a96cbd8b46e442fc41c2b86b821562f.png',\n",
       "      'size': ''}],\n",
       "    'streamable': '0'},\n",
       "   {'name': 'MALTY 2BZ',\n",
       "    'match': '0.196334',\n",
       "    'url': 'https://www.last.fm/music/MALTY+2BZ',\n",
       "    'image': [{'#text': 'https://lastfm.freetls.fastly.net/i/u/34s/2a96cbd8b46e442fc41c2b86b821562f.png',\n",
       "      'size': 'small'},\n",
       "     {'#text': 'https://lastfm.freetls.fastly.net/i/u/64s/2a96cbd8b46e442fc41c2b86b821562f.png',\n",
       "      'size': 'medium'},\n",
       "     {'#text': 'https://lastfm.freetls.fastly.net/i/u/174s/2a96cbd8b46e442fc41c2b86b821562f.png',\n",
       "      'size': 'large'},\n",
       "     {'#text': 'https://lastfm.freetls.fastly.net/i/u/300x300/2a96cbd8b46e442fc41c2b86b821562f.png',\n",
       "      'size': 'extralarge'},\n",
       "     {'#text': 'https://lastfm.freetls.fastly.net/i/u/300x300/2a96cbd8b46e442fc41c2b86b821562f.png',\n",
       "      'size': 'mega'},\n",
       "     {'#text': 'https://lastfm.freetls.fastly.net/i/u/300x300/2a96cbd8b46e442fc41c2b86b821562f.png',\n",
       "      'size': ''}],\n",
       "    'streamable': '0'},\n",
       "   {'name': 'LYONZON',\n",
       "    'match': '0.195481',\n",
       "    'url': 'https://www.last.fm/music/LYONZON',\n",
       "    'image': [{'#text': 'https://lastfm.freetls.fastly.net/i/u/34s/2a96cbd8b46e442fc41c2b86b821562f.png',\n",
       "      'size': 'small'},\n",
       "     {'#text': 'https://lastfm.freetls.fastly.net/i/u/64s/2a96cbd8b46e442fc41c2b86b821562f.png',\n",
       "      'size': 'medium'},\n",
       "     {'#text': 'https://lastfm.freetls.fastly.net/i/u/174s/2a96cbd8b46e442fc41c2b86b821562f.png',\n",
       "      'size': 'large'},\n",
       "     {'#text': 'https://lastfm.freetls.fastly.net/i/u/300x300/2a96cbd8b46e442fc41c2b86b821562f.png',\n",
       "      'size': 'extralarge'},\n",
       "     {'#text': 'https://lastfm.freetls.fastly.net/i/u/300x300/2a96cbd8b46e442fc41c2b86b821562f.png',\n",
       "      'size': 'mega'},\n",
       "     {'#text': 'https://lastfm.freetls.fastly.net/i/u/300x300/2a96cbd8b46e442fc41c2b86b821562f.png',\n",
       "      'size': ''}],\n",
       "    'streamable': '0'},\n",
       "   {'name': \"L'Algérino\",\n",
       "    'mbid': '06197802-6234-4767-89f5-92197b763fe5',\n",
       "    'match': '0.194080',\n",
       "    'url': 'https://www.last.fm/music/L%27Alg%C3%A9rino',\n",
       "    'image': [{'#text': 'https://lastfm.freetls.fastly.net/i/u/34s/2a96cbd8b46e442fc41c2b86b821562f.png',\n",
       "      'size': 'small'},\n",
       "     {'#text': 'https://lastfm.freetls.fastly.net/i/u/64s/2a96cbd8b46e442fc41c2b86b821562f.png',\n",
       "      'size': 'medium'},\n",
       "     {'#text': 'https://lastfm.freetls.fastly.net/i/u/174s/2a96cbd8b46e442fc41c2b86b821562f.png',\n",
       "      'size': 'large'},\n",
       "     {'#text': 'https://lastfm.freetls.fastly.net/i/u/300x300/2a96cbd8b46e442fc41c2b86b821562f.png',\n",
       "      'size': 'extralarge'},\n",
       "     {'#text': 'https://lastfm.freetls.fastly.net/i/u/300x300/2a96cbd8b46e442fc41c2b86b821562f.png',\n",
       "      'size': 'mega'},\n",
       "     {'#text': 'https://lastfm.freetls.fastly.net/i/u/300x300/2a96cbd8b46e442fc41c2b86b821562f.png',\n",
       "      'size': ''}],\n",
       "    'streamable': '0'},\n",
       "   {'name': 'BEN plg',\n",
       "    'match': '0.192346',\n",
       "    'url': 'https://www.last.fm/music/BEN+plg',\n",
       "    'image': [{'#text': 'https://lastfm.freetls.fastly.net/i/u/34s/2a96cbd8b46e442fc41c2b86b821562f.png',\n",
       "      'size': 'small'},\n",
       "     {'#text': 'https://lastfm.freetls.fastly.net/i/u/64s/2a96cbd8b46e442fc41c2b86b821562f.png',\n",
       "      'size': 'medium'},\n",
       "     {'#text': 'https://lastfm.freetls.fastly.net/i/u/174s/2a96cbd8b46e442fc41c2b86b821562f.png',\n",
       "      'size': 'large'},\n",
       "     {'#text': 'https://lastfm.freetls.fastly.net/i/u/300x300/2a96cbd8b46e442fc41c2b86b821562f.png',\n",
       "      'size': 'extralarge'},\n",
       "     {'#text': 'https://lastfm.freetls.fastly.net/i/u/300x300/2a96cbd8b46e442fc41c2b86b821562f.png',\n",
       "      'size': 'mega'},\n",
       "     {'#text': 'https://lastfm.freetls.fastly.net/i/u/300x300/2a96cbd8b46e442fc41c2b86b821562f.png',\n",
       "      'size': ''}],\n",
       "    'streamable': '0'},\n",
       "   {'name': 'zeu',\n",
       "    'match': '0.191287',\n",
       "    'url': 'https://www.last.fm/music/zeu',\n",
       "    'image': [{'#text': 'https://lastfm.freetls.fastly.net/i/u/34s/2a96cbd8b46e442fc41c2b86b821562f.png',\n",
       "      'size': 'small'},\n",
       "     {'#text': 'https://lastfm.freetls.fastly.net/i/u/64s/2a96cbd8b46e442fc41c2b86b821562f.png',\n",
       "      'size': 'medium'},\n",
       "     {'#text': 'https://lastfm.freetls.fastly.net/i/u/174s/2a96cbd8b46e442fc41c2b86b821562f.png',\n",
       "      'size': 'large'},\n",
       "     {'#text': 'https://lastfm.freetls.fastly.net/i/u/300x300/2a96cbd8b46e442fc41c2b86b821562f.png',\n",
       "      'size': 'extralarge'},\n",
       "     {'#text': 'https://lastfm.freetls.fastly.net/i/u/300x300/2a96cbd8b46e442fc41c2b86b821562f.png',\n",
       "      'size': 'mega'},\n",
       "     {'#text': 'https://lastfm.freetls.fastly.net/i/u/300x300/2a96cbd8b46e442fc41c2b86b821562f.png',\n",
       "      'size': ''}],\n",
       "    'streamable': '0'},\n",
       "   {'name': 'Deen Burbigo',\n",
       "    'mbid': '9a9f6faf-22cf-432a-9453-6dc5b72d982a',\n",
       "    'match': '0.186080',\n",
       "    'url': 'https://www.last.fm/music/Deen+Burbigo',\n",
       "    'image': [{'#text': 'https://lastfm.freetls.fastly.net/i/u/34s/2a96cbd8b46e442fc41c2b86b821562f.png',\n",
       "      'size': 'small'},\n",
       "     {'#text': 'https://lastfm.freetls.fastly.net/i/u/64s/2a96cbd8b46e442fc41c2b86b821562f.png',\n",
       "      'size': 'medium'},\n",
       "     {'#text': 'https://lastfm.freetls.fastly.net/i/u/174s/2a96cbd8b46e442fc41c2b86b821562f.png',\n",
       "      'size': 'large'},\n",
       "     {'#text': 'https://lastfm.freetls.fastly.net/i/u/300x300/2a96cbd8b46e442fc41c2b86b821562f.png',\n",
       "      'size': 'extralarge'},\n",
       "     {'#text': 'https://lastfm.freetls.fastly.net/i/u/300x300/2a96cbd8b46e442fc41c2b86b821562f.png',\n",
       "      'size': 'mega'},\n",
       "     {'#text': 'https://lastfm.freetls.fastly.net/i/u/300x300/2a96cbd8b46e442fc41c2b86b821562f.png',\n",
       "      'size': ''}],\n",
       "    'streamable': '0'},\n",
       "   {'name': 'Django',\n",
       "    'mbid': '129c86f7-8511-4695-b36f-231d77d0e4f0',\n",
       "    'match': '0.184672',\n",
       "    'url': 'https://www.last.fm/music/Django',\n",
       "    'image': [{'#text': 'https://lastfm.freetls.fastly.net/i/u/34s/2a96cbd8b46e442fc41c2b86b821562f.png',\n",
       "      'size': 'small'},\n",
       "     {'#text': 'https://lastfm.freetls.fastly.net/i/u/64s/2a96cbd8b46e442fc41c2b86b821562f.png',\n",
       "      'size': 'medium'},\n",
       "     {'#text': 'https://lastfm.freetls.fastly.net/i/u/174s/2a96cbd8b46e442fc41c2b86b821562f.png',\n",
       "      'size': 'large'},\n",
       "     {'#text': 'https://lastfm.freetls.fastly.net/i/u/300x300/2a96cbd8b46e442fc41c2b86b821562f.png',\n",
       "      'size': 'extralarge'},\n",
       "     {'#text': 'https://lastfm.freetls.fastly.net/i/u/300x300/2a96cbd8b46e442fc41c2b86b821562f.png',\n",
       "      'size': 'mega'},\n",
       "     {'#text': 'https://lastfm.freetls.fastly.net/i/u/300x300/2a96cbd8b46e442fc41c2b86b821562f.png',\n",
       "      'size': ''}],\n",
       "    'streamable': '0'},\n",
       "   {'name': 'Black M',\n",
       "    'mbid': 'c05e50ac-63f1-4f65-a9d6-154ce3e82654',\n",
       "    'match': '0.184293',\n",
       "    'url': 'https://www.last.fm/music/Black+M',\n",
       "    'image': [{'#text': 'https://lastfm.freetls.fastly.net/i/u/34s/2a96cbd8b46e442fc41c2b86b821562f.png',\n",
       "      'size': 'small'},\n",
       "     {'#text': 'https://lastfm.freetls.fastly.net/i/u/64s/2a96cbd8b46e442fc41c2b86b821562f.png',\n",
       "      'size': 'medium'},\n",
       "     {'#text': 'https://lastfm.freetls.fastly.net/i/u/174s/2a96cbd8b46e442fc41c2b86b821562f.png',\n",
       "      'size': 'large'},\n",
       "     {'#text': 'https://lastfm.freetls.fastly.net/i/u/300x300/2a96cbd8b46e442fc41c2b86b821562f.png',\n",
       "      'size': 'extralarge'},\n",
       "     {'#text': 'https://lastfm.freetls.fastly.net/i/u/300x300/2a96cbd8b46e442fc41c2b86b821562f.png',\n",
       "      'size': 'mega'},\n",
       "     {'#text': 'https://lastfm.freetls.fastly.net/i/u/300x300/2a96cbd8b46e442fc41c2b86b821562f.png',\n",
       "      'size': ''}],\n",
       "    'streamable': '0'},\n",
       "   {'name': 'Benab',\n",
       "    'match': '0.183787',\n",
       "    'url': 'https://www.last.fm/music/Benab',\n",
       "    'image': [{'#text': 'https://lastfm.freetls.fastly.net/i/u/34s/2a96cbd8b46e442fc41c2b86b821562f.png',\n",
       "      'size': 'small'},\n",
       "     {'#text': 'https://lastfm.freetls.fastly.net/i/u/64s/2a96cbd8b46e442fc41c2b86b821562f.png',\n",
       "      'size': 'medium'},\n",
       "     {'#text': 'https://lastfm.freetls.fastly.net/i/u/174s/2a96cbd8b46e442fc41c2b86b821562f.png',\n",
       "      'size': 'large'},\n",
       "     {'#text': 'https://lastfm.freetls.fastly.net/i/u/300x300/2a96cbd8b46e442fc41c2b86b821562f.png',\n",
       "      'size': 'extralarge'},\n",
       "     {'#text': 'https://lastfm.freetls.fastly.net/i/u/300x300/2a96cbd8b46e442fc41c2b86b821562f.png',\n",
       "      'size': 'mega'},\n",
       "     {'#text': 'https://lastfm.freetls.fastly.net/i/u/300x300/2a96cbd8b46e442fc41c2b86b821562f.png',\n",
       "      'size': ''}],\n",
       "    'streamable': '0'}],\n",
       "  '@attr': {'artist': 'Gazo'}}}"
      ]
     },
     "execution_count": 2,
     "metadata": {},
     "output_type": "execute_result"
    }
   ],
   "source": [
    "artist_details = Utils.get_artist_details(\"Gazo\", \"artist.getSimilar\")\n",
    "artist_details"
   ]
  },
  {
   "cell_type": "markdown",
   "metadata": {},
   "source": [
    "#### Visualize data (without scaling)"
   ]
  },
  {
   "cell_type": "code",
   "execution_count": 207,
   "metadata": {},
   "outputs": [],
   "source": [
    "def view_table(table_name='tracks_history', db_name='spotify_project.db'):\n",
    "    conn = sqlite3.connect(db_name)\n",
    "    df = pd.read_sql(f\"SELECT * FROM {table_name}\", conn)\n",
    "    conn.close()\n",
    "    return df"
   ]
  },
  {
   "cell_type": "code",
   "execution_count": 430,
   "metadata": {},
   "outputs": [],
   "source": [
    "dataset_list = []\n",
    "playlist_names = ['playlist_drill', 'playlist_house', 'playlist_rap_us', 'playlist_afrobeat', 'playlist_annees_80']\n",
    "playlist_names = ['playlist_rap_us']\n",
    "for playlist_name in playlist_names:\n",
    "    playlist = view_table(table_name=playlist_name)\n",
    "    dataset_list.append(playlist)\n",
    "dataset = pd.concat(dataset_list, axis=0, ignore_index=True)\n",
    "dataset['release_date'] = pd.to_datetime(dataset['release_date'], errors='coerce')"
   ]
  },
  {
   "cell_type": "code",
   "execution_count": 431,
   "metadata": {},
   "outputs": [
    {
     "data": {
      "text/html": [
       "<div>\n",
       "<style scoped>\n",
       "    .dataframe tbody tr th:only-of-type {\n",
       "        vertical-align: middle;\n",
       "    }\n",
       "\n",
       "    .dataframe tbody tr th {\n",
       "        vertical-align: top;\n",
       "    }\n",
       "\n",
       "    .dataframe thead th {\n",
       "        text-align: right;\n",
       "    }\n",
       "</style>\n",
       "<table border=\"1\" class=\"dataframe\">\n",
       "  <thead>\n",
       "    <tr style=\"text-align: right;\">\n",
       "      <th></th>\n",
       "      <th>album_id</th>\n",
       "      <th>album_name</th>\n",
       "      <th>release_date</th>\n",
       "      <th>album_artists_id</th>\n",
       "      <th>album_artists_name</th>\n",
       "      <th>duration</th>\n",
       "      <th>track_id</th>\n",
       "      <th>track_name</th>\n",
       "      <th>popularity</th>\n",
       "      <th>track_artists_id</th>\n",
       "      <th>track_artists_name</th>\n",
       "      <th>track_listeners</th>\n",
       "      <th>track_playcount</th>\n",
       "      <th>similar_artists</th>\n",
       "      <th>track_tags</th>\n",
       "      <th>image_url</th>\n",
       "      <th>spotify_url</th>\n",
       "    </tr>\n",
       "  </thead>\n",
       "  <tbody>\n",
       "    <tr>\n",
       "      <th>0</th>\n",
       "      <td>4MZnolldq7ciKKlbVDzLm5</td>\n",
       "      <td>Meet The Woo 2</td>\n",
       "      <td>2020-02-07</td>\n",
       "      <td>0eDvMgVFoNV3TpwtrVCoTj</td>\n",
       "      <td>Pop Smoke</td>\n",
       "      <td>127.546</td>\n",
       "      <td>792HwhrdO3ErRKL5yRe4Ge</td>\n",
       "      <td>Invincible</td>\n",
       "      <td>69</td>\n",
       "      <td>0eDvMgVFoNV3TpwtrVCoTj</td>\n",
       "      <td>Pop Smoke</td>\n",
       "      <td>356049</td>\n",
       "      <td>4661198</td>\n",
       "      <td>DUSTY LOCANE, 22Gz, Fivio Foreign, Rah Swish, ...</td>\n",
       "      <td>Hip-Hop, hip hop, drill, trap, rap</td>\n",
       "      <td>https://i.scdn.co/image/ab67616d00001e0262a578...</td>\n",
       "      <td>https://open.spotify.com/track/792HwhrdO3ErRKL...</td>\n",
       "    </tr>\n",
       "    <tr>\n",
       "      <th>1</th>\n",
       "      <td>26ztFK3E69j5THJQdyxC5w</td>\n",
       "      <td>Die A Legend</td>\n",
       "      <td>2019-06-07</td>\n",
       "      <td>6AgTAQt8XS6jRWi4sX7w49</td>\n",
       "      <td>Polo G</td>\n",
       "      <td>166.560</td>\n",
       "      <td>6uFn47ACjqYkc0jADwEdj1</td>\n",
       "      <td>Pop Out (feat. Lil Tjay)</td>\n",
       "      <td>71</td>\n",
       "      <td>6AgTAQt8XS6jRWi4sX7w49, 6jGMq4yGs7aQzuGsMgVgZR</td>\n",
       "      <td>Polo G, Lil Tjay</td>\n",
       "      <td>348178</td>\n",
       "      <td>4068802</td>\n",
       "      <td>Sleepy Hallow, Lil Tjay, King Von, Lil Baby, S...</td>\n",
       "      <td>Melodic Rap, Hip-Hop, hip hop, drill, american...</td>\n",
       "      <td>https://i.scdn.co/image/ab67616d00001e02ae8b07...</td>\n",
       "      <td>https://open.spotify.com/track/6uFn47ACjqYkc0j...</td>\n",
       "    </tr>\n",
       "    <tr>\n",
       "      <th>2</th>\n",
       "      <td>2yXnY2NiaZk9QiJJittS81</td>\n",
       "      <td>Drip Harder</td>\n",
       "      <td>2018-10-05</td>\n",
       "      <td>5f7VJjfbwm532GiveGC0ZK, 2hlmm7s2ICUX0LVIhVFlZQ</td>\n",
       "      <td>Lil Baby, Gunna</td>\n",
       "      <td>145.542</td>\n",
       "      <td>78QR3Wp35dqAhFEc2qAGjE</td>\n",
       "      <td>Drip Too Hard (Lil Baby &amp; Gunna)</td>\n",
       "      <td>76</td>\n",
       "      <td>5f7VJjfbwm532GiveGC0ZK, 2hlmm7s2ICUX0LVIhVFlZQ</td>\n",
       "      <td>Lil Baby, Gunna</td>\n",
       "      <td>None</td>\n",
       "      <td>None</td>\n",
       "      <td>Lil Baby &amp; Gunna, Gunna, Lil Keed, Lil Durk, L...</td>\n",
       "      <td>Hip-Hop, hip hop, atlanta, trap, rap</td>\n",
       "      <td>https://i.scdn.co/image/ab67616d00001e02ce159a...</td>\n",
       "      <td>https://open.spotify.com/track/78QR3Wp35dqAhFE...</td>\n",
       "    </tr>\n",
       "    <tr>\n",
       "      <th>3</th>\n",
       "      <td>1n5t4LXCTAmiJmyMtbBxVU</td>\n",
       "      <td>Faith (Deluxe)</td>\n",
       "      <td>2021-07-31</td>\n",
       "      <td>0eDvMgVFoNV3TpwtrVCoTj</td>\n",
       "      <td>Pop Smoke</td>\n",
       "      <td>216.387</td>\n",
       "      <td>13bjzSvnVIpsOcmiU8EfKp</td>\n",
       "      <td>Dior</td>\n",
       "      <td>37</td>\n",
       "      <td>0eDvMgVFoNV3TpwtrVCoTj</td>\n",
       "      <td>Pop Smoke</td>\n",
       "      <td>576367</td>\n",
       "      <td>7386639</td>\n",
       "      <td>DUSTY LOCANE, 22Gz, Fivio Foreign, Rah Swish, ...</td>\n",
       "      <td>Hip-Hop, hip hop, drill, trap, rap</td>\n",
       "      <td>https://i.scdn.co/image/ab67616d00001e02c7d31e...</td>\n",
       "      <td>https://open.spotify.com/track/13bjzSvnVIpsOcm...</td>\n",
       "    </tr>\n",
       "    <tr>\n",
       "      <th>4</th>\n",
       "      <td>26AI9lGjmJqrak9GWUdBwN</td>\n",
       "      <td>Broken Symphonies</td>\n",
       "      <td>2024-07-26</td>\n",
       "      <td>1RIO0WcUPQ8HsXH0kdmbzh</td>\n",
       "      <td>Jan Metternich</td>\n",
       "      <td>93.335</td>\n",
       "      <td>0K9iPyJG5wd6MSvEo926dw</td>\n",
       "      <td>DRUGS CANT H3LP ME</td>\n",
       "      <td>42</td>\n",
       "      <td>1RIO0WcUPQ8HsXH0kdmbzh</td>\n",
       "      <td>Jan Metternich</td>\n",
       "      <td>4766</td>\n",
       "      <td>10619</td>\n",
       "      <td>December Avenue, Zia Quizon, Hale, Moira Dela ...</td>\n",
       "      <td></td>\n",
       "      <td>https://i.scdn.co/image/ab67616d00001e0259d587...</td>\n",
       "      <td>https://open.spotify.com/track/0K9iPyJG5wd6MSv...</td>\n",
       "    </tr>\n",
       "    <tr>\n",
       "      <th>...</th>\n",
       "      <td>...</td>\n",
       "      <td>...</td>\n",
       "      <td>...</td>\n",
       "      <td>...</td>\n",
       "      <td>...</td>\n",
       "      <td>...</td>\n",
       "      <td>...</td>\n",
       "      <td>...</td>\n",
       "      <td>...</td>\n",
       "      <td>...</td>\n",
       "      <td>...</td>\n",
       "      <td>...</td>\n",
       "      <td>...</td>\n",
       "      <td>...</td>\n",
       "      <td>...</td>\n",
       "      <td>...</td>\n",
       "      <td>...</td>\n",
       "    </tr>\n",
       "    <tr>\n",
       "      <th>274</th>\n",
       "      <td>3z6bAthm29t6LvndcdfVnV</td>\n",
       "      <td>Crunk Ain't Dead</td>\n",
       "      <td>2019-12-09</td>\n",
       "      <td>24zj84GShUIcBQYq6VpOYW</td>\n",
       "      <td>Duke Deuce</td>\n",
       "      <td>113.149</td>\n",
       "      <td>4RsTfAuTiUyL7GKGPiNC0w</td>\n",
       "      <td>Crunk Ain't Dead</td>\n",
       "      <td>50</td>\n",
       "      <td>24zj84GShUIcBQYq6VpOYW</td>\n",
       "      <td>Duke Deuce</td>\n",
       "      <td>92721</td>\n",
       "      <td>854018</td>\n",
       "      <td>Babyface Ray, Big Scarr, Young Nudy, Young Dol...</td>\n",
       "      <td>hip hop, rap, memphis, Crunk, memphis rap</td>\n",
       "      <td>https://i.scdn.co/image/ab67616d00001e024afcf8...</td>\n",
       "      <td>https://open.spotify.com/track/4RsTfAuTiUyL7GK...</td>\n",
       "    </tr>\n",
       "    <tr>\n",
       "      <th>275</th>\n",
       "      <td>7D2NdGvBHIavgLhmcwhluK</td>\n",
       "      <td>Yeezus</td>\n",
       "      <td>2013-06-18</td>\n",
       "      <td>5K4W6rqBFWDnAN6FQUkS6x</td>\n",
       "      <td>Kanye West</td>\n",
       "      <td>229.146</td>\n",
       "      <td>3sNVsP50132BTNlImLx70i</td>\n",
       "      <td>Bound 2</td>\n",
       "      <td>78</td>\n",
       "      <td>5K4W6rqBFWDnAN6FQUkS6x</td>\n",
       "      <td>Kanye West</td>\n",
       "      <td>1540340</td>\n",
       "      <td>23522527</td>\n",
       "      <td>¥$, KIDS SEE GHOSTS, The Throne, Kendrick Lama...</td>\n",
       "      <td>hip hop, rap, rnb, Hip-Hop, Kanye West</td>\n",
       "      <td>https://i.scdn.co/image/ab67616d00001e021dacfb...</td>\n",
       "      <td>https://open.spotify.com/track/3sNVsP50132BTNl...</td>\n",
       "    </tr>\n",
       "    <tr>\n",
       "      <th>276</th>\n",
       "      <td>6tkjU4Umpo79wwkgPMV3nZ</td>\n",
       "      <td>Goodbye &amp; Good Riddance</td>\n",
       "      <td>2018-12-10</td>\n",
       "      <td>4MCBfE4596Uoi2O4DtmEMz</td>\n",
       "      <td>Juice WRLD</td>\n",
       "      <td>239.835</td>\n",
       "      <td>285pBltuF7vW8TeWk8hdRR</td>\n",
       "      <td>Lucid Dreams</td>\n",
       "      <td>81</td>\n",
       "      <td>4MCBfE4596Uoi2O4DtmEMz</td>\n",
       "      <td>Juice WRLD</td>\n",
       "      <td>1027383</td>\n",
       "      <td>14450733</td>\n",
       "      <td>Dro Kenji, Lil Uzi Vert, The Kid LAROI, Trippi...</td>\n",
       "      <td>rap, trap, Hip-Hop, emo rap, cloud rap</td>\n",
       "      <td>https://i.scdn.co/image/ab67616d00001e02f7db43...</td>\n",
       "      <td>https://open.spotify.com/track/285pBltuF7vW8Te...</td>\n",
       "    </tr>\n",
       "    <tr>\n",
       "      <th>277</th>\n",
       "      <td>6tkjU4Umpo79wwkgPMV3nZ</td>\n",
       "      <td>Goodbye &amp; Good Riddance</td>\n",
       "      <td>2018-12-10</td>\n",
       "      <td>4MCBfE4596Uoi2O4DtmEMz</td>\n",
       "      <td>Juice WRLD</td>\n",
       "      <td>165.819</td>\n",
       "      <td>4VXIryQMWpIdGgYR4TrjT1</td>\n",
       "      <td>All Girls Are The Same</td>\n",
       "      <td>81</td>\n",
       "      <td>4MCBfE4596Uoi2O4DtmEMz</td>\n",
       "      <td>Juice WRLD</td>\n",
       "      <td>770984</td>\n",
       "      <td>13896995</td>\n",
       "      <td>Dro Kenji, Lil Uzi Vert, The Kid LAROI, Trippi...</td>\n",
       "      <td>rap, trap, Hip-Hop, emo rap, cloud rap</td>\n",
       "      <td>https://i.scdn.co/image/ab67616d00001e02f7db43...</td>\n",
       "      <td>https://open.spotify.com/track/4VXIryQMWpIdGgY...</td>\n",
       "    </tr>\n",
       "    <tr>\n",
       "      <th>278</th>\n",
       "      <td>44va7sFuK8IGzrj0BIX8kK</td>\n",
       "      <td>Brightest Blue</td>\n",
       "      <td>2020-07-16</td>\n",
       "      <td>0X2BH1fck6amBIoJhDVmmJ</td>\n",
       "      <td>Ellie Goulding</td>\n",
       "      <td>188.066</td>\n",
       "      <td>15og0pCEcTFWEXOFKdcJlU</td>\n",
       "      <td>Hate Me</td>\n",
       "      <td>72</td>\n",
       "      <td>0X2BH1fck6amBIoJhDVmmJ, 4MCBfE4596Uoi2O4DtmEMz</td>\n",
       "      <td>Ellie Goulding, Juice WRLD</td>\n",
       "      <td>254419</td>\n",
       "      <td>1527199</td>\n",
       "      <td>Future &amp; Juice WRLD, Zara Larsson, Tove Lo, Dr...</td>\n",
       "      <td>female vocalists, rap, trap, british, Hip-Hop,...</td>\n",
       "      <td>https://i.scdn.co/image/ab67616d00001e02156d79...</td>\n",
       "      <td>https://open.spotify.com/track/15og0pCEcTFWEXO...</td>\n",
       "    </tr>\n",
       "  </tbody>\n",
       "</table>\n",
       "<p>279 rows × 17 columns</p>\n",
       "</div>"
      ],
      "text/plain": [
       "                   album_id               album_name release_date  \\\n",
       "0    4MZnolldq7ciKKlbVDzLm5           Meet The Woo 2   2020-02-07   \n",
       "1    26ztFK3E69j5THJQdyxC5w             Die A Legend   2019-06-07   \n",
       "2    2yXnY2NiaZk9QiJJittS81              Drip Harder   2018-10-05   \n",
       "3    1n5t4LXCTAmiJmyMtbBxVU           Faith (Deluxe)   2021-07-31   \n",
       "4    26AI9lGjmJqrak9GWUdBwN        Broken Symphonies   2024-07-26   \n",
       "..                      ...                      ...          ...   \n",
       "274  3z6bAthm29t6LvndcdfVnV         Crunk Ain't Dead   2019-12-09   \n",
       "275  7D2NdGvBHIavgLhmcwhluK                   Yeezus   2013-06-18   \n",
       "276  6tkjU4Umpo79wwkgPMV3nZ  Goodbye & Good Riddance   2018-12-10   \n",
       "277  6tkjU4Umpo79wwkgPMV3nZ  Goodbye & Good Riddance   2018-12-10   \n",
       "278  44va7sFuK8IGzrj0BIX8kK           Brightest Blue   2020-07-16   \n",
       "\n",
       "                                   album_artists_id album_artists_name  \\\n",
       "0                            0eDvMgVFoNV3TpwtrVCoTj          Pop Smoke   \n",
       "1                            6AgTAQt8XS6jRWi4sX7w49             Polo G   \n",
       "2    5f7VJjfbwm532GiveGC0ZK, 2hlmm7s2ICUX0LVIhVFlZQ    Lil Baby, Gunna   \n",
       "3                            0eDvMgVFoNV3TpwtrVCoTj          Pop Smoke   \n",
       "4                            1RIO0WcUPQ8HsXH0kdmbzh     Jan Metternich   \n",
       "..                                              ...                ...   \n",
       "274                          24zj84GShUIcBQYq6VpOYW         Duke Deuce   \n",
       "275                          5K4W6rqBFWDnAN6FQUkS6x         Kanye West   \n",
       "276                          4MCBfE4596Uoi2O4DtmEMz         Juice WRLD   \n",
       "277                          4MCBfE4596Uoi2O4DtmEMz         Juice WRLD   \n",
       "278                          0X2BH1fck6amBIoJhDVmmJ     Ellie Goulding   \n",
       "\n",
       "     duration                track_id                        track_name  \\\n",
       "0     127.546  792HwhrdO3ErRKL5yRe4Ge                        Invincible   \n",
       "1     166.560  6uFn47ACjqYkc0jADwEdj1          Pop Out (feat. Lil Tjay)   \n",
       "2     145.542  78QR3Wp35dqAhFEc2qAGjE  Drip Too Hard (Lil Baby & Gunna)   \n",
       "3     216.387  13bjzSvnVIpsOcmiU8EfKp                              Dior   \n",
       "4      93.335  0K9iPyJG5wd6MSvEo926dw                DRUGS CANT H3LP ME   \n",
       "..        ...                     ...                               ...   \n",
       "274   113.149  4RsTfAuTiUyL7GKGPiNC0w                  Crunk Ain't Dead   \n",
       "275   229.146  3sNVsP50132BTNlImLx70i                           Bound 2   \n",
       "276   239.835  285pBltuF7vW8TeWk8hdRR                      Lucid Dreams   \n",
       "277   165.819  4VXIryQMWpIdGgYR4TrjT1            All Girls Are The Same   \n",
       "278   188.066  15og0pCEcTFWEXOFKdcJlU                           Hate Me   \n",
       "\n",
       "     popularity                                track_artists_id  \\\n",
       "0            69                          0eDvMgVFoNV3TpwtrVCoTj   \n",
       "1            71  6AgTAQt8XS6jRWi4sX7w49, 6jGMq4yGs7aQzuGsMgVgZR   \n",
       "2            76  5f7VJjfbwm532GiveGC0ZK, 2hlmm7s2ICUX0LVIhVFlZQ   \n",
       "3            37                          0eDvMgVFoNV3TpwtrVCoTj   \n",
       "4            42                          1RIO0WcUPQ8HsXH0kdmbzh   \n",
       "..          ...                                             ...   \n",
       "274          50                          24zj84GShUIcBQYq6VpOYW   \n",
       "275          78                          5K4W6rqBFWDnAN6FQUkS6x   \n",
       "276          81                          4MCBfE4596Uoi2O4DtmEMz   \n",
       "277          81                          4MCBfE4596Uoi2O4DtmEMz   \n",
       "278          72  0X2BH1fck6amBIoJhDVmmJ, 4MCBfE4596Uoi2O4DtmEMz   \n",
       "\n",
       "             track_artists_name track_listeners track_playcount  \\\n",
       "0                     Pop Smoke          356049         4661198   \n",
       "1              Polo G, Lil Tjay          348178         4068802   \n",
       "2               Lil Baby, Gunna            None            None   \n",
       "3                     Pop Smoke          576367         7386639   \n",
       "4                Jan Metternich            4766           10619   \n",
       "..                          ...             ...             ...   \n",
       "274                  Duke Deuce           92721          854018   \n",
       "275                  Kanye West         1540340        23522527   \n",
       "276                  Juice WRLD         1027383        14450733   \n",
       "277                  Juice WRLD          770984        13896995   \n",
       "278  Ellie Goulding, Juice WRLD          254419         1527199   \n",
       "\n",
       "                                       similar_artists  \\\n",
       "0    DUSTY LOCANE, 22Gz, Fivio Foreign, Rah Swish, ...   \n",
       "1    Sleepy Hallow, Lil Tjay, King Von, Lil Baby, S...   \n",
       "2    Lil Baby & Gunna, Gunna, Lil Keed, Lil Durk, L...   \n",
       "3    DUSTY LOCANE, 22Gz, Fivio Foreign, Rah Swish, ...   \n",
       "4    December Avenue, Zia Quizon, Hale, Moira Dela ...   \n",
       "..                                                 ...   \n",
       "274  Babyface Ray, Big Scarr, Young Nudy, Young Dol...   \n",
       "275  ¥$, KIDS SEE GHOSTS, The Throne, Kendrick Lama...   \n",
       "276  Dro Kenji, Lil Uzi Vert, The Kid LAROI, Trippi...   \n",
       "277  Dro Kenji, Lil Uzi Vert, The Kid LAROI, Trippi...   \n",
       "278  Future & Juice WRLD, Zara Larsson, Tove Lo, Dr...   \n",
       "\n",
       "                                            track_tags  \\\n",
       "0                   Hip-Hop, hip hop, drill, trap, rap   \n",
       "1    Melodic Rap, Hip-Hop, hip hop, drill, american...   \n",
       "2                 Hip-Hop, hip hop, atlanta, trap, rap   \n",
       "3                   Hip-Hop, hip hop, drill, trap, rap   \n",
       "4                                                        \n",
       "..                                                 ...   \n",
       "274          hip hop, rap, memphis, Crunk, memphis rap   \n",
       "275             hip hop, rap, rnb, Hip-Hop, Kanye West   \n",
       "276             rap, trap, Hip-Hop, emo rap, cloud rap   \n",
       "277             rap, trap, Hip-Hop, emo rap, cloud rap   \n",
       "278  female vocalists, rap, trap, british, Hip-Hop,...   \n",
       "\n",
       "                                             image_url  \\\n",
       "0    https://i.scdn.co/image/ab67616d00001e0262a578...   \n",
       "1    https://i.scdn.co/image/ab67616d00001e02ae8b07...   \n",
       "2    https://i.scdn.co/image/ab67616d00001e02ce159a...   \n",
       "3    https://i.scdn.co/image/ab67616d00001e02c7d31e...   \n",
       "4    https://i.scdn.co/image/ab67616d00001e0259d587...   \n",
       "..                                                 ...   \n",
       "274  https://i.scdn.co/image/ab67616d00001e024afcf8...   \n",
       "275  https://i.scdn.co/image/ab67616d00001e021dacfb...   \n",
       "276  https://i.scdn.co/image/ab67616d00001e02f7db43...   \n",
       "277  https://i.scdn.co/image/ab67616d00001e02f7db43...   \n",
       "278  https://i.scdn.co/image/ab67616d00001e02156d79...   \n",
       "\n",
       "                                           spotify_url  \n",
       "0    https://open.spotify.com/track/792HwhrdO3ErRKL...  \n",
       "1    https://open.spotify.com/track/6uFn47ACjqYkc0j...  \n",
       "2    https://open.spotify.com/track/78QR3Wp35dqAhFE...  \n",
       "3    https://open.spotify.com/track/13bjzSvnVIpsOcm...  \n",
       "4    https://open.spotify.com/track/0K9iPyJG5wd6MSv...  \n",
       "..                                                 ...  \n",
       "274  https://open.spotify.com/track/4RsTfAuTiUyL7GK...  \n",
       "275  https://open.spotify.com/track/3sNVsP50132BTNl...  \n",
       "276  https://open.spotify.com/track/285pBltuF7vW8Te...  \n",
       "277  https://open.spotify.com/track/4VXIryQMWpIdGgY...  \n",
       "278  https://open.spotify.com/track/15og0pCEcTFWEXO...  \n",
       "\n",
       "[279 rows x 17 columns]"
      ]
     },
     "execution_count": 431,
     "metadata": {},
     "output_type": "execute_result"
    }
   ],
   "source": [
    "dataset"
   ]
  },
  {
   "cell_type": "code",
   "execution_count": 432,
   "metadata": {},
   "outputs": [
    {
     "data": {
      "text/html": [
       "<div>\n",
       "<style scoped>\n",
       "    .dataframe tbody tr th:only-of-type {\n",
       "        vertical-align: middle;\n",
       "    }\n",
       "\n",
       "    .dataframe tbody tr th {\n",
       "        vertical-align: top;\n",
       "    }\n",
       "\n",
       "    .dataframe thead th {\n",
       "        text-align: right;\n",
       "    }\n",
       "</style>\n",
       "<table border=\"1\" class=\"dataframe\">\n",
       "  <thead>\n",
       "    <tr style=\"text-align: right;\">\n",
       "      <th></th>\n",
       "      <th>popularity</th>\n",
       "      <th>duration</th>\n",
       "      <th>track_listeners</th>\n",
       "      <th>track_playcount</th>\n",
       "      <th>release_date</th>\n",
       "      <th>album_id</th>\n",
       "      <th>track_id</th>\n",
       "      <th>similar_artists</th>\n",
       "      <th>track_tags</th>\n",
       "      <th>track_artists_id</th>\n",
       "      <th>album_artists_id</th>\n",
       "    </tr>\n",
       "  </thead>\n",
       "  <tbody>\n",
       "    <tr>\n",
       "      <th>0</th>\n",
       "      <td>69</td>\n",
       "      <td>127.546</td>\n",
       "      <td>356049</td>\n",
       "      <td>4661198</td>\n",
       "      <td>7342</td>\n",
       "      <td>114</td>\n",
       "      <td>246</td>\n",
       "      <td>-0.883880</td>\n",
       "      <td>-0.079235</td>\n",
       "      <td>-0.122360</td>\n",
       "      <td>-0.013496</td>\n",
       "    </tr>\n",
       "    <tr>\n",
       "      <th>1</th>\n",
       "      <td>71</td>\n",
       "      <td>166.560</td>\n",
       "      <td>348178</td>\n",
       "      <td>4068802</td>\n",
       "      <td>7097</td>\n",
       "      <td>51</td>\n",
       "      <td>238</td>\n",
       "      <td>-0.040475</td>\n",
       "      <td>-0.545488</td>\n",
       "      <td>-0.623086</td>\n",
       "      <td>0.805994</td>\n",
       "    </tr>\n",
       "    <tr>\n",
       "      <th>2</th>\n",
       "      <td>76</td>\n",
       "      <td>145.542</td>\n",
       "      <td>None</td>\n",
       "      <td>None</td>\n",
       "      <td>6852</td>\n",
       "      <td>76</td>\n",
       "      <td>245</td>\n",
       "      <td>2.381786</td>\n",
       "      <td>-0.359714</td>\n",
       "      <td>0.430568</td>\n",
       "      <td>-0.801076</td>\n",
       "    </tr>\n",
       "    <tr>\n",
       "      <th>3</th>\n",
       "      <td>37</td>\n",
       "      <td>216.387</td>\n",
       "      <td>576367</td>\n",
       "      <td>7386639</td>\n",
       "      <td>7882</td>\n",
       "      <td>39</td>\n",
       "      <td>33</td>\n",
       "      <td>-0.883880</td>\n",
       "      <td>-0.079235</td>\n",
       "      <td>-0.122360</td>\n",
       "      <td>-0.013496</td>\n",
       "    </tr>\n",
       "    <tr>\n",
       "      <th>4</th>\n",
       "      <td>42</td>\n",
       "      <td>93.335</td>\n",
       "      <td>4766</td>\n",
       "      <td>10619</td>\n",
       "      <td>8973</td>\n",
       "      <td>50</td>\n",
       "      <td>10</td>\n",
       "      <td>-0.399965</td>\n",
       "      <td>0.676925</td>\n",
       "      <td>-0.059306</td>\n",
       "      <td>-0.003028</td>\n",
       "    </tr>\n",
       "    <tr>\n",
       "      <th>...</th>\n",
       "      <td>...</td>\n",
       "      <td>...</td>\n",
       "      <td>...</td>\n",
       "      <td>...</td>\n",
       "      <td>...</td>\n",
       "      <td>...</td>\n",
       "      <td>...</td>\n",
       "      <td>...</td>\n",
       "      <td>...</td>\n",
       "      <td>...</td>\n",
       "      <td>...</td>\n",
       "    </tr>\n",
       "    <tr>\n",
       "      <th>274</th>\n",
       "      <td>50</td>\n",
       "      <td>113.149</td>\n",
       "      <td>92721</td>\n",
       "      <td>854018</td>\n",
       "      <td>7282</td>\n",
       "      <td>103</td>\n",
       "      <td>160</td>\n",
       "      <td>-0.358356</td>\n",
       "      <td>0.143569</td>\n",
       "      <td>-0.057295</td>\n",
       "      <td>-0.002896</td>\n",
       "    </tr>\n",
       "    <tr>\n",
       "      <th>275</th>\n",
       "      <td>78</td>\n",
       "      <td>229.146</td>\n",
       "      <td>1540340</td>\n",
       "      <td>23522527</td>\n",
       "      <td>4917</td>\n",
       "      <td>182</td>\n",
       "      <td>134</td>\n",
       "      <td>-0.395960</td>\n",
       "      <td>0.127902</td>\n",
       "      <td>-0.057417</td>\n",
       "      <td>-0.002907</td>\n",
       "    </tr>\n",
       "    <tr>\n",
       "      <th>276</th>\n",
       "      <td>81</td>\n",
       "      <td>239.835</td>\n",
       "      <td>1027383</td>\n",
       "      <td>14450733</td>\n",
       "      <td>6918</td>\n",
       "      <td>174</td>\n",
       "      <td>79</td>\n",
       "      <td>-0.680608</td>\n",
       "      <td>1.339593</td>\n",
       "      <td>-0.147097</td>\n",
       "      <td>-0.004550</td>\n",
       "    </tr>\n",
       "    <tr>\n",
       "      <th>277</th>\n",
       "      <td>81</td>\n",
       "      <td>165.819</td>\n",
       "      <td>770984</td>\n",
       "      <td>13896995</td>\n",
       "      <td>6918</td>\n",
       "      <td>174</td>\n",
       "      <td>163</td>\n",
       "      <td>-0.680608</td>\n",
       "      <td>1.339593</td>\n",
       "      <td>-0.147097</td>\n",
       "      <td>-0.004550</td>\n",
       "    </tr>\n",
       "    <tr>\n",
       "      <th>278</th>\n",
       "      <td>72</td>\n",
       "      <td>188.066</td>\n",
       "      <td>254419</td>\n",
       "      <td>1527199</td>\n",
       "      <td>7502</td>\n",
       "      <td>108</td>\n",
       "      <td>35</td>\n",
       "      <td>-0.701359</td>\n",
       "      <td>1.450561</td>\n",
       "      <td>-0.151777</td>\n",
       "      <td>-0.002775</td>\n",
       "    </tr>\n",
       "  </tbody>\n",
       "</table>\n",
       "<p>279 rows × 11 columns</p>\n",
       "</div>"
      ],
      "text/plain": [
       "     popularity  duration track_listeners track_playcount  release_date  \\\n",
       "0            69   127.546          356049         4661198          7342   \n",
       "1            71   166.560          348178         4068802          7097   \n",
       "2            76   145.542            None            None          6852   \n",
       "3            37   216.387          576367         7386639          7882   \n",
       "4            42    93.335            4766           10619          8973   \n",
       "..          ...       ...             ...             ...           ...   \n",
       "274          50   113.149           92721          854018          7282   \n",
       "275          78   229.146         1540340        23522527          4917   \n",
       "276          81   239.835         1027383        14450733          6918   \n",
       "277          81   165.819          770984        13896995          6918   \n",
       "278          72   188.066          254419         1527199          7502   \n",
       "\n",
       "     album_id  track_id  similar_artists  track_tags  track_artists_id  \\\n",
       "0         114       246        -0.883880   -0.079235         -0.122360   \n",
       "1          51       238        -0.040475   -0.545488         -0.623086   \n",
       "2          76       245         2.381786   -0.359714          0.430568   \n",
       "3          39        33        -0.883880   -0.079235         -0.122360   \n",
       "4          50        10        -0.399965    0.676925         -0.059306   \n",
       "..        ...       ...              ...         ...               ...   \n",
       "274       103       160        -0.358356    0.143569         -0.057295   \n",
       "275       182       134        -0.395960    0.127902         -0.057417   \n",
       "276       174        79        -0.680608    1.339593         -0.147097   \n",
       "277       174       163        -0.680608    1.339593         -0.147097   \n",
       "278       108        35        -0.701359    1.450561         -0.151777   \n",
       "\n",
       "     album_artists_id  \n",
       "0           -0.013496  \n",
       "1            0.805994  \n",
       "2           -0.801076  \n",
       "3           -0.013496  \n",
       "4           -0.003028  \n",
       "..                ...  \n",
       "274         -0.002896  \n",
       "275         -0.002907  \n",
       "276         -0.004550  \n",
       "277         -0.004550  \n",
       "278         -0.002775  \n",
       "\n",
       "[279 rows x 11 columns]"
      ]
     },
     "execution_count": 432,
     "metadata": {},
     "output_type": "execute_result"
    }
   ],
   "source": [
    "tracklist = Tracklist(dataset)\n",
    "tracklist_vect = tracklist.vectorize_recent_tracks(n_components=1)\n",
    "tracklist_vect"
   ]
  },
  {
   "cell_type": "code",
   "execution_count": 433,
   "metadata": {},
   "outputs": [
    {
     "data": {
      "text/html": [
       "<div>\n",
       "<style scoped>\n",
       "    .dataframe tbody tr th:only-of-type {\n",
       "        vertical-align: middle;\n",
       "    }\n",
       "\n",
       "    .dataframe tbody tr th {\n",
       "        vertical-align: top;\n",
       "    }\n",
       "\n",
       "    .dataframe thead th {\n",
       "        text-align: right;\n",
       "    }\n",
       "</style>\n",
       "<table border=\"1\" class=\"dataframe\">\n",
       "  <thead>\n",
       "    <tr style=\"text-align: right;\">\n",
       "      <th></th>\n",
       "      <th>popularity</th>\n",
       "      <th>duration</th>\n",
       "      <th>track_listeners</th>\n",
       "      <th>track_playcount</th>\n",
       "      <th>release_date</th>\n",
       "      <th>album_id</th>\n",
       "      <th>track_id</th>\n",
       "      <th>similar_artists</th>\n",
       "      <th>track_tags</th>\n",
       "      <th>track_artists_id</th>\n",
       "      <th>album_artists_id</th>\n",
       "    </tr>\n",
       "  </thead>\n",
       "  <tbody>\n",
       "    <tr>\n",
       "      <th>0</th>\n",
       "      <td>69.0</td>\n",
       "      <td>127.546</td>\n",
       "      <td>3.560490e+05</td>\n",
       "      <td>4661198.0</td>\n",
       "      <td>7342.0</td>\n",
       "      <td>114.0</td>\n",
       "      <td>246.0</td>\n",
       "      <td>-0.883880</td>\n",
       "      <td>-0.079235</td>\n",
       "      <td>-0.122360</td>\n",
       "      <td>-0.013496</td>\n",
       "    </tr>\n",
       "    <tr>\n",
       "      <th>1</th>\n",
       "      <td>71.0</td>\n",
       "      <td>166.560</td>\n",
       "      <td>3.481780e+05</td>\n",
       "      <td>4068802.0</td>\n",
       "      <td>7097.0</td>\n",
       "      <td>51.0</td>\n",
       "      <td>238.0</td>\n",
       "      <td>-0.040475</td>\n",
       "      <td>-0.545488</td>\n",
       "      <td>-0.623086</td>\n",
       "      <td>0.805994</td>\n",
       "    </tr>\n",
       "    <tr>\n",
       "      <th>2</th>\n",
       "      <td>76.0</td>\n",
       "      <td>145.542</td>\n",
       "      <td>3.740421e+05</td>\n",
       "      <td>4312180.2</td>\n",
       "      <td>6852.0</td>\n",
       "      <td>76.0</td>\n",
       "      <td>245.0</td>\n",
       "      <td>2.381786</td>\n",
       "      <td>-0.359714</td>\n",
       "      <td>0.430568</td>\n",
       "      <td>-0.801076</td>\n",
       "    </tr>\n",
       "    <tr>\n",
       "      <th>3</th>\n",
       "      <td>37.0</td>\n",
       "      <td>216.387</td>\n",
       "      <td>5.763670e+05</td>\n",
       "      <td>7386639.0</td>\n",
       "      <td>7882.0</td>\n",
       "      <td>39.0</td>\n",
       "      <td>33.0</td>\n",
       "      <td>-0.883880</td>\n",
       "      <td>-0.079235</td>\n",
       "      <td>-0.122360</td>\n",
       "      <td>-0.013496</td>\n",
       "    </tr>\n",
       "    <tr>\n",
       "      <th>4</th>\n",
       "      <td>42.0</td>\n",
       "      <td>93.335</td>\n",
       "      <td>4.766000e+03</td>\n",
       "      <td>10619.0</td>\n",
       "      <td>8973.0</td>\n",
       "      <td>50.0</td>\n",
       "      <td>10.0</td>\n",
       "      <td>-0.399965</td>\n",
       "      <td>0.676925</td>\n",
       "      <td>-0.059306</td>\n",
       "      <td>-0.003028</td>\n",
       "    </tr>\n",
       "    <tr>\n",
       "      <th>...</th>\n",
       "      <td>...</td>\n",
       "      <td>...</td>\n",
       "      <td>...</td>\n",
       "      <td>...</td>\n",
       "      <td>...</td>\n",
       "      <td>...</td>\n",
       "      <td>...</td>\n",
       "      <td>...</td>\n",
       "      <td>...</td>\n",
       "      <td>...</td>\n",
       "      <td>...</td>\n",
       "    </tr>\n",
       "    <tr>\n",
       "      <th>274</th>\n",
       "      <td>50.0</td>\n",
       "      <td>113.149</td>\n",
       "      <td>9.272100e+04</td>\n",
       "      <td>854018.0</td>\n",
       "      <td>7282.0</td>\n",
       "      <td>103.0</td>\n",
       "      <td>160.0</td>\n",
       "      <td>-0.358356</td>\n",
       "      <td>0.143569</td>\n",
       "      <td>-0.057295</td>\n",
       "      <td>-0.002896</td>\n",
       "    </tr>\n",
       "    <tr>\n",
       "      <th>275</th>\n",
       "      <td>78.0</td>\n",
       "      <td>229.146</td>\n",
       "      <td>1.540340e+06</td>\n",
       "      <td>23522527.0</td>\n",
       "      <td>4917.0</td>\n",
       "      <td>182.0</td>\n",
       "      <td>134.0</td>\n",
       "      <td>-0.395960</td>\n",
       "      <td>0.127902</td>\n",
       "      <td>-0.057417</td>\n",
       "      <td>-0.002907</td>\n",
       "    </tr>\n",
       "    <tr>\n",
       "      <th>276</th>\n",
       "      <td>81.0</td>\n",
       "      <td>239.835</td>\n",
       "      <td>1.027383e+06</td>\n",
       "      <td>14450733.0</td>\n",
       "      <td>6918.0</td>\n",
       "      <td>174.0</td>\n",
       "      <td>79.0</td>\n",
       "      <td>-0.680608</td>\n",
       "      <td>1.339593</td>\n",
       "      <td>-0.147097</td>\n",
       "      <td>-0.004550</td>\n",
       "    </tr>\n",
       "    <tr>\n",
       "      <th>277</th>\n",
       "      <td>81.0</td>\n",
       "      <td>165.819</td>\n",
       "      <td>7.709840e+05</td>\n",
       "      <td>13896995.0</td>\n",
       "      <td>6918.0</td>\n",
       "      <td>174.0</td>\n",
       "      <td>163.0</td>\n",
       "      <td>-0.680608</td>\n",
       "      <td>1.339593</td>\n",
       "      <td>-0.147097</td>\n",
       "      <td>-0.004550</td>\n",
       "    </tr>\n",
       "    <tr>\n",
       "      <th>278</th>\n",
       "      <td>72.0</td>\n",
       "      <td>188.066</td>\n",
       "      <td>2.544190e+05</td>\n",
       "      <td>1527199.0</td>\n",
       "      <td>7502.0</td>\n",
       "      <td>108.0</td>\n",
       "      <td>35.0</td>\n",
       "      <td>-0.701359</td>\n",
       "      <td>1.450561</td>\n",
       "      <td>-0.151777</td>\n",
       "      <td>-0.002775</td>\n",
       "    </tr>\n",
       "  </tbody>\n",
       "</table>\n",
       "<p>279 rows × 11 columns</p>\n",
       "</div>"
      ],
      "text/plain": [
       "     popularity  duration  track_listeners  track_playcount  release_date  \\\n",
       "0          69.0   127.546     3.560490e+05        4661198.0        7342.0   \n",
       "1          71.0   166.560     3.481780e+05        4068802.0        7097.0   \n",
       "2          76.0   145.542     3.740421e+05        4312180.2        6852.0   \n",
       "3          37.0   216.387     5.763670e+05        7386639.0        7882.0   \n",
       "4          42.0    93.335     4.766000e+03          10619.0        8973.0   \n",
       "..          ...       ...              ...              ...           ...   \n",
       "274        50.0   113.149     9.272100e+04         854018.0        7282.0   \n",
       "275        78.0   229.146     1.540340e+06       23522527.0        4917.0   \n",
       "276        81.0   239.835     1.027383e+06       14450733.0        6918.0   \n",
       "277        81.0   165.819     7.709840e+05       13896995.0        6918.0   \n",
       "278        72.0   188.066     2.544190e+05        1527199.0        7502.0   \n",
       "\n",
       "     album_id  track_id  similar_artists  track_tags  track_artists_id  \\\n",
       "0       114.0     246.0        -0.883880   -0.079235         -0.122360   \n",
       "1        51.0     238.0        -0.040475   -0.545488         -0.623086   \n",
       "2        76.0     245.0         2.381786   -0.359714          0.430568   \n",
       "3        39.0      33.0        -0.883880   -0.079235         -0.122360   \n",
       "4        50.0      10.0        -0.399965    0.676925         -0.059306   \n",
       "..        ...       ...              ...         ...               ...   \n",
       "274     103.0     160.0        -0.358356    0.143569         -0.057295   \n",
       "275     182.0     134.0        -0.395960    0.127902         -0.057417   \n",
       "276     174.0      79.0        -0.680608    1.339593         -0.147097   \n",
       "277     174.0     163.0        -0.680608    1.339593         -0.147097   \n",
       "278     108.0      35.0        -0.701359    1.450561         -0.151777   \n",
       "\n",
       "     album_artists_id  \n",
       "0           -0.013496  \n",
       "1            0.805994  \n",
       "2           -0.801076  \n",
       "3           -0.013496  \n",
       "4           -0.003028  \n",
       "..                ...  \n",
       "274         -0.002896  \n",
       "275         -0.002907  \n",
       "276         -0.004550  \n",
       "277         -0.004550  \n",
       "278         -0.002775  \n",
       "\n",
       "[279 rows x 11 columns]"
      ]
     },
     "execution_count": 433,
     "metadata": {},
     "output_type": "execute_result"
    }
   ],
   "source": [
    "imputer = SimpleImputer(strategy=\"mean\")\n",
    "tracklist_imputed = pd.DataFrame(imputer.fit_transform(tracklist_vect), columns=tracklist_vect.columns)\n",
    "tracklist_imputed"
   ]
  },
  {
   "cell_type": "code",
   "execution_count": 434,
   "metadata": {},
   "outputs": [],
   "source": [
    "pca = PCA(n_components=2)\n",
    "\n",
    "reduced_features = pca.fit_transform(tracklist_imputed)"
   ]
  },
  {
   "cell_type": "code",
   "execution_count": 435,
   "metadata": {},
   "outputs": [
    {
     "data": {
      "image/png": "[encoded data removed]",
      "text/plain": [
       "<Figure size 800x600 with 1 Axes>"
      ]
     },
     "metadata": {},
     "output_type": "display_data"
    }
   ],
   "source": [
    "plt.figure(figsize=(8,6))\n",
    "sns.scatterplot(x = reduced_features[:, 0], y = reduced_features[:, 1])\n",
    "plt.xlabel(\"PCA 1\")\n",
    "plt.ylabel(\"PCA 2\")\n",
    "plt.title(\"Visualize tracklist vectorized\")\n",
    "plt.show()"
   ]
  },
  {
   "cell_type": "markdown",
   "metadata": {},
   "source": [
    "#### Compare with scaling"
   ]
  },
  {
   "cell_type": "code",
   "execution_count": 436,
   "metadata": {},
   "outputs": [
    {
     "data": {
      "text/html": [
       "<div>\n",
       "<style scoped>\n",
       "    .dataframe tbody tr th:only-of-type {\n",
       "        vertical-align: middle;\n",
       "    }\n",
       "\n",
       "    .dataframe tbody tr th {\n",
       "        vertical-align: top;\n",
       "    }\n",
       "\n",
       "    .dataframe thead th {\n",
       "        text-align: right;\n",
       "    }\n",
       "</style>\n",
       "<table border=\"1\" class=\"dataframe\">\n",
       "  <thead>\n",
       "    <tr style=\"text-align: right;\">\n",
       "      <th></th>\n",
       "      <th>popularity</th>\n",
       "      <th>duration</th>\n",
       "      <th>track_listeners</th>\n",
       "      <th>track_playcount</th>\n",
       "      <th>release_date</th>\n",
       "      <th>album_id</th>\n",
       "      <th>track_id</th>\n",
       "      <th>similar_artists</th>\n",
       "      <th>track_tags</th>\n",
       "      <th>track_artists_id</th>\n",
       "      <th>album_artists_id</th>\n",
       "    </tr>\n",
       "  </thead>\n",
       "  <tbody>\n",
       "    <tr>\n",
       "      <th>0</th>\n",
       "      <td>0.590298</td>\n",
       "      <td>-1.290683</td>\n",
       "      <td>-4.890976e-02</td>\n",
       "      <td>7.328952e-02</td>\n",
       "      <td>0.201324</td>\n",
       "      <td>0.302599</td>\n",
       "      <td>1.328535</td>\n",
       "      <td>-1.135676</td>\n",
       "      <td>-0.143494</td>\n",
       "      <td>-0.358920</td>\n",
       "      <td>-0.045159</td>\n",
       "    </tr>\n",
       "    <tr>\n",
       "      <th>1</th>\n",
       "      <td>0.696895</td>\n",
       "      <td>-0.474353</td>\n",
       "      <td>-7.030508e-02</td>\n",
       "      <td>-5.110648e-02</td>\n",
       "      <td>0.022640</td>\n",
       "      <td>-0.791800</td>\n",
       "      <td>1.229205</td>\n",
       "      <td>-0.052006</td>\n",
       "      <td>-0.987875</td>\n",
       "      <td>-1.827702</td>\n",
       "      <td>2.696997</td>\n",
       "    </tr>\n",
       "    <tr>\n",
       "      <th>2</th>\n",
       "      <td>0.963388</td>\n",
       "      <td>-0.914134</td>\n",
       "      <td>7.662716e-17</td>\n",
       "      <td>-4.179663e-17</td>\n",
       "      <td>-0.156043</td>\n",
       "      <td>-0.357515</td>\n",
       "      <td>1.316119</td>\n",
       "      <td>3.060298</td>\n",
       "      <td>-0.651439</td>\n",
       "      <td>1.262988</td>\n",
       "      <td>-2.680539</td>\n",
       "    </tr>\n",
       "    <tr>\n",
       "      <th>3</th>\n",
       "      <td>-1.115261</td>\n",
       "      <td>0.568230</td>\n",
       "      <td>5.499691e-01</td>\n",
       "      <td>6.455991e-01</td>\n",
       "      <td>0.595158</td>\n",
       "      <td>-1.000257</td>\n",
       "      <td>-1.316119</td>\n",
       "      <td>-1.135676</td>\n",
       "      <td>-0.143494</td>\n",
       "      <td>-0.358920</td>\n",
       "      <td>-0.045159</td>\n",
       "    </tr>\n",
       "    <tr>\n",
       "      <th>4</th>\n",
       "      <td>-0.848768</td>\n",
       "      <td>-2.006516</td>\n",
       "      <td>-1.003784e+00</td>\n",
       "      <td>-9.032758e-01</td>\n",
       "      <td>1.390847</td>\n",
       "      <td>-0.809171</td>\n",
       "      <td>-1.601692</td>\n",
       "      <td>-0.513905</td>\n",
       "      <td>1.225906</td>\n",
       "      <td>-0.173964</td>\n",
       "      <td>-0.010132</td>\n",
       "    </tr>\n",
       "    <tr>\n",
       "      <th>...</th>\n",
       "      <td>...</td>\n",
       "      <td>...</td>\n",
       "      <td>...</td>\n",
       "      <td>...</td>\n",
       "      <td>...</td>\n",
       "      <td>...</td>\n",
       "      <td>...</td>\n",
       "      <td>...</td>\n",
       "      <td>...</td>\n",
       "      <td>...</td>\n",
       "      <td>...</td>\n",
       "    </tr>\n",
       "    <tr>\n",
       "      <th>274</th>\n",
       "      <td>-0.422378</td>\n",
       "      <td>-1.591927</td>\n",
       "      <td>-7.647004e-01</td>\n",
       "      <td>-7.261722e-01</td>\n",
       "      <td>0.157565</td>\n",
       "      <td>0.111513</td>\n",
       "      <td>0.260741</td>\n",
       "      <td>-0.460443</td>\n",
       "      <td>0.260002</td>\n",
       "      <td>-0.168064</td>\n",
       "      <td>-0.009690</td>\n",
       "    </tr>\n",
       "    <tr>\n",
       "      <th>275</th>\n",
       "      <td>1.069986</td>\n",
       "      <td>0.835200</td>\n",
       "      <td>3.170286e+00</td>\n",
       "      <td>4.033940e+00</td>\n",
       "      <td>-1.567281</td>\n",
       "      <td>1.483855</td>\n",
       "      <td>-0.062081</td>\n",
       "      <td>-0.508759</td>\n",
       "      <td>0.231630</td>\n",
       "      <td>-0.168422</td>\n",
       "      <td>-0.009726</td>\n",
       "    </tr>\n",
       "    <tr>\n",
       "      <th>276</th>\n",
       "      <td>1.229882</td>\n",
       "      <td>1.058857</td>\n",
       "      <td>1.775942e+00</td>\n",
       "      <td>2.128973e+00</td>\n",
       "      <td>-0.107908</td>\n",
       "      <td>1.344883</td>\n",
       "      <td>-0.744973</td>\n",
       "      <td>-0.874497</td>\n",
       "      <td>2.425992</td>\n",
       "      <td>-0.431479</td>\n",
       "      <td>-0.015224</td>\n",
       "    </tr>\n",
       "    <tr>\n",
       "      <th>277</th>\n",
       "      <td>1.229882</td>\n",
       "      <td>-0.489857</td>\n",
       "      <td>1.078986e+00</td>\n",
       "      <td>2.012695e+00</td>\n",
       "      <td>-0.107908</td>\n",
       "      <td>1.344883</td>\n",
       "      <td>0.297989</td>\n",
       "      <td>-0.874497</td>\n",
       "      <td>2.425992</td>\n",
       "      <td>-0.431479</td>\n",
       "      <td>-0.015224</td>\n",
       "    </tr>\n",
       "    <tr>\n",
       "      <th>278</th>\n",
       "      <td>0.750194</td>\n",
       "      <td>-0.024360</td>\n",
       "      <td>-3.251652e-01</td>\n",
       "      <td>-5.848124e-01</td>\n",
       "      <td>0.318016</td>\n",
       "      <td>0.198370</td>\n",
       "      <td>-1.291286</td>\n",
       "      <td>-0.901158</td>\n",
       "      <td>2.626955</td>\n",
       "      <td>-0.445209</td>\n",
       "      <td>-0.009285</td>\n",
       "    </tr>\n",
       "  </tbody>\n",
       "</table>\n",
       "<p>279 rows × 11 columns</p>\n",
       "</div>"
      ],
      "text/plain": [
       "     popularity  duration  track_listeners  track_playcount  release_date  \\\n",
       "0      0.590298 -1.290683    -4.890976e-02     7.328952e-02      0.201324   \n",
       "1      0.696895 -0.474353    -7.030508e-02    -5.110648e-02      0.022640   \n",
       "2      0.963388 -0.914134     7.662716e-17    -4.179663e-17     -0.156043   \n",
       "3     -1.115261  0.568230     5.499691e-01     6.455991e-01      0.595158   \n",
       "4     -0.848768 -2.006516    -1.003784e+00    -9.032758e-01      1.390847   \n",
       "..          ...       ...              ...              ...           ...   \n",
       "274   -0.422378 -1.591927    -7.647004e-01    -7.261722e-01      0.157565   \n",
       "275    1.069986  0.835200     3.170286e+00     4.033940e+00     -1.567281   \n",
       "276    1.229882  1.058857     1.775942e+00     2.128973e+00     -0.107908   \n",
       "277    1.229882 -0.489857     1.078986e+00     2.012695e+00     -0.107908   \n",
       "278    0.750194 -0.024360    -3.251652e-01    -5.848124e-01      0.318016   \n",
       "\n",
       "     album_id  track_id  similar_artists  track_tags  track_artists_id  \\\n",
       "0    0.302599  1.328535        -1.135676   -0.143494         -0.358920   \n",
       "1   -0.791800  1.229205        -0.052006   -0.987875         -1.827702   \n",
       "2   -0.357515  1.316119         3.060298   -0.651439          1.262988   \n",
       "3   -1.000257 -1.316119        -1.135676   -0.143494         -0.358920   \n",
       "4   -0.809171 -1.601692        -0.513905    1.225906         -0.173964   \n",
       "..        ...       ...              ...         ...               ...   \n",
       "274  0.111513  0.260741        -0.460443    0.260002         -0.168064   \n",
       "275  1.483855 -0.062081        -0.508759    0.231630         -0.168422   \n",
       "276  1.344883 -0.744973        -0.874497    2.425992         -0.431479   \n",
       "277  1.344883  0.297989        -0.874497    2.425992         -0.431479   \n",
       "278  0.198370 -1.291286        -0.901158    2.626955         -0.445209   \n",
       "\n",
       "     album_artists_id  \n",
       "0           -0.045159  \n",
       "1            2.696997  \n",
       "2           -2.680539  \n",
       "3           -0.045159  \n",
       "4           -0.010132  \n",
       "..                ...  \n",
       "274         -0.009690  \n",
       "275         -0.009726  \n",
       "276         -0.015224  \n",
       "277         -0.015224  \n",
       "278         -0.009285  \n",
       "\n",
       "[279 rows x 11 columns]"
      ]
     },
     "execution_count": 436,
     "metadata": {},
     "output_type": "execute_result"
    }
   ],
   "source": [
    "tracklist_scaled = tracklist.scale_and_weight(n_components=1)\n",
    "imputer = SimpleImputer(strategy=\"mean\")\n",
    "tracklist_imputed = pd.DataFrame(imputer.fit_transform(tracklist_scaled), columns=tracklist_scaled.columns)\n",
    "tracklist_imputed"
   ]
  },
  {
   "cell_type": "code",
   "execution_count": 437,
   "metadata": {},
   "outputs": [],
   "source": [
    "pca = PCA(n_components=2)\n",
    "\n",
    "reduced_features = pca.fit_transform(tracklist_imputed)"
   ]
  },
  {
   "cell_type": "code",
   "execution_count": 438,
   "metadata": {},
   "outputs": [
    {
     "data": {
      "image/png": "[encoded data removed]",
      "text/plain": [
       "<Figure size 800x600 with 1 Axes>"
      ]
     },
     "metadata": {},
     "output_type": "display_data"
    }
   ],
   "source": [
    "plt.figure(figsize=(8,6))\n",
    "sns.scatterplot(x = reduced_features[:, 0], y = reduced_features[:, 1])\n",
    "plt.xlabel(\"PCA 1\")\n",
    "plt.ylabel(\"PCA 2\")\n",
    "plt.title(\"Visualize tracklist scaled\")\n",
    "plt.show()"
   ]
  },
  {
   "cell_type": "markdown",
   "metadata": {},
   "source": [
    "#### Adjust by weighting"
   ]
  },
  {
   "cell_type": "code",
   "execution_count": 63,
   "metadata": {},
   "outputs": [
    {
     "data": {
      "text/plain": [
       "Index(['popularity', 'duration', 'track_listeners', 'track_playcount',\n",
       "       'release_date', 'album_id', 'track_id', 'similar_artists', 'track_tags',\n",
       "       'track_artists_id', 'album_artists_id'],\n",
       "      dtype='object')"
      ]
     },
     "execution_count": 63,
     "metadata": {},
     "output_type": "execute_result"
    }
   ],
   "source": [
    "tracklist_scaled.columns"
   ]
  },
  {
   "cell_type": "code",
   "execution_count": 447,
   "metadata": {},
   "outputs": [
    {
     "data": {
      "text/html": [
       "<div>\n",
       "<style scoped>\n",
       "    .dataframe tbody tr th:only-of-type {\n",
       "        vertical-align: middle;\n",
       "    }\n",
       "\n",
       "    .dataframe tbody tr th {\n",
       "        vertical-align: top;\n",
       "    }\n",
       "\n",
       "    .dataframe thead th {\n",
       "        text-align: right;\n",
       "    }\n",
       "</style>\n",
       "<table border=\"1\" class=\"dataframe\">\n",
       "  <thead>\n",
       "    <tr style=\"text-align: right;\">\n",
       "      <th></th>\n",
       "      <th>popularity</th>\n",
       "      <th>duration</th>\n",
       "      <th>track_listeners</th>\n",
       "      <th>track_playcount</th>\n",
       "      <th>release_date</th>\n",
       "      <th>album_id</th>\n",
       "      <th>track_id</th>\n",
       "      <th>similar_artists_1</th>\n",
       "      <th>similar_artists_2</th>\n",
       "      <th>similar_artists_3</th>\n",
       "      <th>track_tags_1</th>\n",
       "      <th>track_tags_2</th>\n",
       "      <th>track_tags_3</th>\n",
       "      <th>track_artists_id_1</th>\n",
       "      <th>track_artists_id_2</th>\n",
       "      <th>track_artists_id_3</th>\n",
       "      <th>album_artists_id_1</th>\n",
       "      <th>album_artists_id_2</th>\n",
       "      <th>album_artists_id_3</th>\n",
       "    </tr>\n",
       "  </thead>\n",
       "  <tbody>\n",
       "    <tr>\n",
       "      <th>0</th>\n",
       "      <td>0.590298</td>\n",
       "      <td>-1.290683</td>\n",
       "      <td>-4.890976e-02</td>\n",
       "      <td>0.0</td>\n",
       "      <td>0.201324</td>\n",
       "      <td>0.0</td>\n",
       "      <td>0.0</td>\n",
       "      <td>-2.271352</td>\n",
       "      <td>1.655514</td>\n",
       "      <td>5.248049</td>\n",
       "      <td>-0.071747</td>\n",
       "      <td>-0.430458</td>\n",
       "      <td>-0.045208</td>\n",
       "      <td>-0.538380</td>\n",
       "      <td>-0.820211</td>\n",
       "      <td>-2.794822</td>\n",
       "      <td>-0.067739</td>\n",
       "      <td>-1.902459</td>\n",
       "      <td>-3.310151</td>\n",
       "    </tr>\n",
       "    <tr>\n",
       "      <th>1</th>\n",
       "      <td>0.696895</td>\n",
       "      <td>-0.474353</td>\n",
       "      <td>-7.030508e-02</td>\n",
       "      <td>-0.0</td>\n",
       "      <td>0.022640</td>\n",
       "      <td>-0.0</td>\n",
       "      <td>0.0</td>\n",
       "      <td>-0.104011</td>\n",
       "      <td>4.133105</td>\n",
       "      <td>-2.432640</td>\n",
       "      <td>-0.493938</td>\n",
       "      <td>-0.162362</td>\n",
       "      <td>0.817413</td>\n",
       "      <td>-2.741553</td>\n",
       "      <td>-0.579833</td>\n",
       "      <td>3.497710</td>\n",
       "      <td>4.045495</td>\n",
       "      <td>1.998113</td>\n",
       "      <td>0.889453</td>\n",
       "    </tr>\n",
       "    <tr>\n",
       "      <th>2</th>\n",
       "      <td>0.963388</td>\n",
       "      <td>-0.914134</td>\n",
       "      <td>7.662716e-17</td>\n",
       "      <td>0.0</td>\n",
       "      <td>-0.156043</td>\n",
       "      <td>-0.0</td>\n",
       "      <td>0.0</td>\n",
       "      <td>6.120595</td>\n",
       "      <td>-0.494302</td>\n",
       "      <td>1.228978</td>\n",
       "      <td>-0.325720</td>\n",
       "      <td>0.242449</td>\n",
       "      <td>-0.854562</td>\n",
       "      <td>1.894482</td>\n",
       "      <td>5.397586</td>\n",
       "      <td>0.753821</td>\n",
       "      <td>-4.020809</td>\n",
       "      <td>5.190660</td>\n",
       "      <td>0.345020</td>\n",
       "    </tr>\n",
       "    <tr>\n",
       "      <th>3</th>\n",
       "      <td>-1.115261</td>\n",
       "      <td>0.568230</td>\n",
       "      <td>5.499691e-01</td>\n",
       "      <td>0.0</td>\n",
       "      <td>0.595158</td>\n",
       "      <td>-0.0</td>\n",
       "      <td>-0.0</td>\n",
       "      <td>-2.271352</td>\n",
       "      <td>1.655514</td>\n",
       "      <td>5.248049</td>\n",
       "      <td>-0.071747</td>\n",
       "      <td>-0.430458</td>\n",
       "      <td>-0.045208</td>\n",
       "      <td>-0.538380</td>\n",
       "      <td>-0.820211</td>\n",
       "      <td>-2.794822</td>\n",
       "      <td>-0.067739</td>\n",
       "      <td>-1.902459</td>\n",
       "      <td>-3.310151</td>\n",
       "    </tr>\n",
       "    <tr>\n",
       "      <th>4</th>\n",
       "      <td>-0.848768</td>\n",
       "      <td>-2.006516</td>\n",
       "      <td>-1.003784e+00</td>\n",
       "      <td>-0.0</td>\n",
       "      <td>1.390847</td>\n",
       "      <td>-0.0</td>\n",
       "      <td>-0.0</td>\n",
       "      <td>-1.027810</td>\n",
       "      <td>-1.213905</td>\n",
       "      <td>-0.151953</td>\n",
       "      <td>0.612953</td>\n",
       "      <td>-0.689323</td>\n",
       "      <td>0.129799</td>\n",
       "      <td>-0.260946</td>\n",
       "      <td>-0.214497</td>\n",
       "      <td>-0.406767</td>\n",
       "      <td>-0.015199</td>\n",
       "      <td>-0.249103</td>\n",
       "      <td>-0.194106</td>\n",
       "    </tr>\n",
       "    <tr>\n",
       "      <th>...</th>\n",
       "      <td>...</td>\n",
       "      <td>...</td>\n",
       "      <td>...</td>\n",
       "      <td>...</td>\n",
       "      <td>...</td>\n",
       "      <td>...</td>\n",
       "      <td>...</td>\n",
       "      <td>...</td>\n",
       "      <td>...</td>\n",
       "      <td>...</td>\n",
       "      <td>...</td>\n",
       "      <td>...</td>\n",
       "      <td>...</td>\n",
       "      <td>...</td>\n",
       "      <td>...</td>\n",
       "      <td>...</td>\n",
       "      <td>...</td>\n",
       "      <td>...</td>\n",
       "      <td>...</td>\n",
       "    </tr>\n",
       "    <tr>\n",
       "      <th>274</th>\n",
       "      <td>-0.422378</td>\n",
       "      <td>-1.591927</td>\n",
       "      <td>-7.647004e-01</td>\n",
       "      <td>-0.0</td>\n",
       "      <td>0.157565</td>\n",
       "      <td>0.0</td>\n",
       "      <td>0.0</td>\n",
       "      <td>-0.920886</td>\n",
       "      <td>-1.257603</td>\n",
       "      <td>-0.163980</td>\n",
       "      <td>0.130001</td>\n",
       "      <td>-0.778600</td>\n",
       "      <td>-0.061098</td>\n",
       "      <td>-0.252097</td>\n",
       "      <td>-0.206428</td>\n",
       "      <td>-0.389046</td>\n",
       "      <td>-0.014535</td>\n",
       "      <td>-0.236988</td>\n",
       "      <td>-0.183922</td>\n",
       "    </tr>\n",
       "    <tr>\n",
       "      <th>275</th>\n",
       "      <td>1.069986</td>\n",
       "      <td>0.835200</td>\n",
       "      <td>3.170286e+00</td>\n",
       "      <td>0.0</td>\n",
       "      <td>-1.567281</td>\n",
       "      <td>0.0</td>\n",
       "      <td>-0.0</td>\n",
       "      <td>-1.017519</td>\n",
       "      <td>-1.215790</td>\n",
       "      <td>-0.146973</td>\n",
       "      <td>0.115815</td>\n",
       "      <td>-0.642526</td>\n",
       "      <td>-0.090405</td>\n",
       "      <td>-0.252634</td>\n",
       "      <td>-0.206965</td>\n",
       "      <td>-0.390388</td>\n",
       "      <td>-0.014589</td>\n",
       "      <td>-0.238062</td>\n",
       "      <td>-0.184889</td>\n",
       "    </tr>\n",
       "    <tr>\n",
       "      <th>276</th>\n",
       "      <td>1.229882</td>\n",
       "      <td>1.058857</td>\n",
       "      <td>1.775942e+00</td>\n",
       "      <td>0.0</td>\n",
       "      <td>-0.107908</td>\n",
       "      <td>0.0</td>\n",
       "      <td>-0.0</td>\n",
       "      <td>-1.748993</td>\n",
       "      <td>-1.911821</td>\n",
       "      <td>-3.171652</td>\n",
       "      <td>1.212996</td>\n",
       "      <td>0.670722</td>\n",
       "      <td>0.152029</td>\n",
       "      <td>-0.647219</td>\n",
       "      <td>-0.440345</td>\n",
       "      <td>-0.865671</td>\n",
       "      <td>-0.022836</td>\n",
       "      <td>-0.399329</td>\n",
       "      <td>-0.328232</td>\n",
       "    </tr>\n",
       "    <tr>\n",
       "      <th>277</th>\n",
       "      <td>1.229882</td>\n",
       "      <td>-0.489857</td>\n",
       "      <td>1.078986e+00</td>\n",
       "      <td>0.0</td>\n",
       "      <td>-0.107908</td>\n",
       "      <td>0.0</td>\n",
       "      <td>0.0</td>\n",
       "      <td>-1.748993</td>\n",
       "      <td>-1.911821</td>\n",
       "      <td>-3.171652</td>\n",
       "      <td>1.212996</td>\n",
       "      <td>0.670722</td>\n",
       "      <td>0.152029</td>\n",
       "      <td>-0.647219</td>\n",
       "      <td>-0.440345</td>\n",
       "      <td>-0.865671</td>\n",
       "      <td>-0.022836</td>\n",
       "      <td>-0.399329</td>\n",
       "      <td>-0.328232</td>\n",
       "    </tr>\n",
       "    <tr>\n",
       "      <th>278</th>\n",
       "      <td>0.750194</td>\n",
       "      <td>-0.024360</td>\n",
       "      <td>-3.251652e-01</td>\n",
       "      <td>-0.0</td>\n",
       "      <td>0.318016</td>\n",
       "      <td>0.0</td>\n",
       "      <td>-0.0</td>\n",
       "      <td>-1.802317</td>\n",
       "      <td>-1.979506</td>\n",
       "      <td>-3.335833</td>\n",
       "      <td>1.313478</td>\n",
       "      <td>0.641500</td>\n",
       "      <td>0.153167</td>\n",
       "      <td>-0.667814</td>\n",
       "      <td>-0.455788</td>\n",
       "      <td>-0.900470</td>\n",
       "      <td>-0.013928</td>\n",
       "      <td>-0.225997</td>\n",
       "      <td>-0.174753</td>\n",
       "    </tr>\n",
       "  </tbody>\n",
       "</table>\n",
       "<p>279 rows × 19 columns</p>\n",
       "</div>"
      ],
      "text/plain": [
       "     popularity  duration  track_listeners  track_playcount  release_date  \\\n",
       "0      0.590298 -1.290683    -4.890976e-02              0.0      0.201324   \n",
       "1      0.696895 -0.474353    -7.030508e-02             -0.0      0.022640   \n",
       "2      0.963388 -0.914134     7.662716e-17              0.0     -0.156043   \n",
       "3     -1.115261  0.568230     5.499691e-01              0.0      0.595158   \n",
       "4     -0.848768 -2.006516    -1.003784e+00             -0.0      1.390847   \n",
       "..          ...       ...              ...              ...           ...   \n",
       "274   -0.422378 -1.591927    -7.647004e-01             -0.0      0.157565   \n",
       "275    1.069986  0.835200     3.170286e+00              0.0     -1.567281   \n",
       "276    1.229882  1.058857     1.775942e+00              0.0     -0.107908   \n",
       "277    1.229882 -0.489857     1.078986e+00              0.0     -0.107908   \n",
       "278    0.750194 -0.024360    -3.251652e-01             -0.0      0.318016   \n",
       "\n",
       "     album_id  track_id  similar_artists_1  similar_artists_2  \\\n",
       "0         0.0       0.0          -2.271352           1.655514   \n",
       "1        -0.0       0.0          -0.104011           4.133105   \n",
       "2        -0.0       0.0           6.120595          -0.494302   \n",
       "3        -0.0      -0.0          -2.271352           1.655514   \n",
       "4        -0.0      -0.0          -1.027810          -1.213905   \n",
       "..        ...       ...                ...                ...   \n",
       "274       0.0       0.0          -0.920886          -1.257603   \n",
       "275       0.0      -0.0          -1.017519          -1.215790   \n",
       "276       0.0      -0.0          -1.748993          -1.911821   \n",
       "277       0.0       0.0          -1.748993          -1.911821   \n",
       "278       0.0      -0.0          -1.802317          -1.979506   \n",
       "\n",
       "     similar_artists_3  track_tags_1  track_tags_2  track_tags_3  \\\n",
       "0             5.248049     -0.071747     -0.430458     -0.045208   \n",
       "1            -2.432640     -0.493938     -0.162362      0.817413   \n",
       "2             1.228978     -0.325720      0.242449     -0.854562   \n",
       "3             5.248049     -0.071747     -0.430458     -0.045208   \n",
       "4            -0.151953      0.612953     -0.689323      0.129799   \n",
       "..                 ...           ...           ...           ...   \n",
       "274          -0.163980      0.130001     -0.778600     -0.061098   \n",
       "275          -0.146973      0.115815     -0.642526     -0.090405   \n",
       "276          -3.171652      1.212996      0.670722      0.152029   \n",
       "277          -3.171652      1.212996      0.670722      0.152029   \n",
       "278          -3.335833      1.313478      0.641500      0.153167   \n",
       "\n",
       "     track_artists_id_1  track_artists_id_2  track_artists_id_3  \\\n",
       "0             -0.538380           -0.820211           -2.794822   \n",
       "1             -2.741553           -0.579833            3.497710   \n",
       "2              1.894482            5.397586            0.753821   \n",
       "3             -0.538380           -0.820211           -2.794822   \n",
       "4             -0.260946           -0.214497           -0.406767   \n",
       "..                  ...                 ...                 ...   \n",
       "274           -0.252097           -0.206428           -0.389046   \n",
       "275           -0.252634           -0.206965           -0.390388   \n",
       "276           -0.647219           -0.440345           -0.865671   \n",
       "277           -0.647219           -0.440345           -0.865671   \n",
       "278           -0.667814           -0.455788           -0.900470   \n",
       "\n",
       "     album_artists_id_1  album_artists_id_2  album_artists_id_3  \n",
       "0             -0.067739           -1.902459           -3.310151  \n",
       "1              4.045495            1.998113            0.889453  \n",
       "2             -4.020809            5.190660            0.345020  \n",
       "3             -0.067739           -1.902459           -3.310151  \n",
       "4             -0.015199           -0.249103           -0.194106  \n",
       "..                  ...                 ...                 ...  \n",
       "274           -0.014535           -0.236988           -0.183922  \n",
       "275           -0.014589           -0.238062           -0.184889  \n",
       "276           -0.022836           -0.399329           -0.328232  \n",
       "277           -0.022836           -0.399329           -0.328232  \n",
       "278           -0.013928           -0.225997           -0.174753  \n",
       "\n",
       "[279 rows x 19 columns]"
      ]
     },
     "execution_count": 447,
     "metadata": {},
     "output_type": "execute_result"
    }
   ],
   "source": [
    "### Use weights in order to adjust efficiently data\n",
    "\n",
    "weights = {\"album_id\": 0, \"popularity\": 1, \"duration\": 1,\n",
    "           \"track_listeners\": 1, \"track_playcount\": 0,\n",
    "           \"release_date\": 1, \"similar_artists\": 2,\n",
    "           \"track_id\": 0, \"track_tags\": 0.5, \"track_artists_id\": 1.5,\n",
    "           \"album_artists_id\": 1.5}\n",
    "tracklist_weighted = tracklist.scale_and_weight(weights=weights, n_components=3)\n",
    "imputer = SimpleImputer(strategy=\"mean\")\n",
    "tracklist_imputed = pd.DataFrame(imputer.fit_transform(tracklist_weighted), columns=tracklist_weighted.columns)\n",
    "tracklist_imputed"
   ]
  },
  {
   "cell_type": "code",
   "execution_count": 448,
   "metadata": {},
   "outputs": [],
   "source": [
    "pca = PCA(n_components=2)\n",
    "\n",
    "reduced_features = pca.fit_transform(tracklist_imputed)"
   ]
  },
  {
   "cell_type": "code",
   "execution_count": 449,
   "metadata": {},
   "outputs": [
    {
     "data": {
      "image/png": "[encoded data removed]",
      "text/plain": [
       "<Figure size 800x600 with 1 Axes>"
      ]
     },
     "metadata": {},
     "output_type": "display_data"
    }
   ],
   "source": [
    "plt.figure(figsize=(8,6))\n",
    "sns.scatterplot(x = reduced_features[:, 0], y = reduced_features[:, 1])\n",
    "plt.xlabel(\"PCA 1\")\n",
    "plt.ylabel(\"PCA 2\")\n",
    "plt.title(\"Visualize tracklist weighted\")\n",
    "plt.show()"
   ]
  },
  {
   "cell_type": "markdown",
   "metadata": {},
   "source": [
    "#### Clustering"
   ]
  },
  {
   "cell_type": "code",
   "execution_count": 450,
   "metadata": {},
   "outputs": [
    {
     "data": {
      "image/png": "[encoded data removed]",
      "text/plain": [
       "<Figure size 640x480 with 1 Axes>"
      ]
     },
     "metadata": {},
     "output_type": "display_data"
    },
    {
     "data": {
      "application/vnd.plotly.v1+json": {
       "config": {
        "plotlyServerURL": "https://plot.ly"
       },
       "data": [
        {
         "customdata": [
          [
           "Invincible"
          ],
          [
           "Pop Out (feat. Lil Tjay)"
          ],
          [
           "Drip Too Hard (Lil Baby & Gunna)"
          ],
          [
           "Dior"
          ],
          [
           "DRUGS CANT H3LP ME"
          ],
          [
           "Tyler Herro"
          ],
          [
           "HIGHEST IN THE ROOM"
          ],
          [
           "Scrupulous Sluhh"
          ],
          [
           "Avengers Assemble"
          ],
          [
           "Can't Relate"
          ],
          [
           "THE SCOTTS"
          ],
          [
           "Dark Knight Dummo"
          ],
          [
           "5% TINT"
          ],
          [
           "Bubbly (with Drake & Travis Scott)"
          ],
          [
           "WHATS POPPIN"
          ],
          [
           "Lemonade (feat. Gunna, Don Toliver & NAV)"
          ],
          [
           "RAPSTAR"
          ],
          [
           "Space Cadet (feat. Gunna)"
          ],
          [
           "XO Tour Llif3"
          ],
          [
           "Life Goes On"
          ],
          [
           "Love Sosa"
          ],
          [
           "44 BullDog"
          ],
          [
           "Broke In A Minute"
          ],
          [
           "Hot (Remix) [feat. Gunna and Travis Scott]"
          ],
          [
           "Walk Em Down (feat. Roddy Ricch)"
          ],
          [
           "goosebumps"
          ],
          [
           "Murder on My Mind"
          ],
          [
           "Get Back"
          ],
          [
           "6 Kiss"
          ],
          [
           "Myron"
          ],
          [
           "GATTI"
          ],
          [
           "Close Friends (Lil Baby & Gunna)"
          ],
          [
           "Baby Pluto"
          ],
          [
           "Shoota (feat. Lil Uzi Vert)"
          ],
          [
           "Hawk Em"
          ],
          [
           "Sum 2 Prove"
          ],
          [
           "Futsal Shuffle 2020"
          ],
          [
           "YOSEMITE"
          ],
          [
           "MIDDLE CHILD"
          ],
          [
           "No Role Modelz"
          ],
          [
           "Sanguine Paradise"
          ],
          [
           "Ransom"
          ],
          [
           "The Box"
          ],
          [
           "ROCKSTAR (feat. Roddy Ricch)"
          ],
          [
           "Lemonade - Remix"
          ],
          [
           "Noticed"
          ],
          [
           "ZEZE (feat. Travis Scott & Offset)"
          ],
          [
           "Champion (feat. Travis Scott)"
          ],
          [
           "OUT WEST (feat. Young Thug)"
          ],
          [
           "Element"
          ],
          [
           "WUNNA"
          ],
          [
           "Flex (feat. Juice WRLD)"
          ],
          [
           "Headshot (feat. Polo G & Fivio Foreign)"
          ],
          [
           "Heartless (feat. Mustard)"
          ],
          [
           "BookBag 2.0 (feat. Polo G)"
          ],
          [
           "21"
          ],
          [
           "33"
          ],
          [
           "I Know"
          ],
          [
           "No Matter What"
          ],
          [
           "Out Of Love (feat. Internet Money)"
          ],
          [
           "Be Something"
          ],
          [
           "Relentless"
          ],
          [
           "DND"
          ],
          [
           "Chinatown"
          ],
          [
           "Wishing For A Hero (feat. BJ The Chicago Kid)"
          ],
          [
           "Love Sosa"
          ],
          [
           "Mask Off"
          ],
          [
           "SICKO MODE"
          ],
          [
           "HUMBLE."
          ],
          [
           "infinity (888)"
          ],
          [
           "Moonlight"
          ],
          [
           "Fine China"
          ],
          [
           "Black & White"
          ],
          [
           "Suicidal (feat. Juice WRLD) - Remix"
          ],
          [
           "Conversations"
          ],
          [
           "Sauce!"
          ],
          [
           "Erase Your Social"
          ],
          [
           "PTSD"
          ],
          [
           "Got It On Me"
          ],
          [
           "Laugh Now Cry Later (feat. Lil Durk)"
          ],
          [
           "What You Know Bout Love"
          ],
          [
           "For The Night (feat. Lil Baby & DaBaby)"
          ],
          [
           "Gangstas"
          ],
          [
           "Moonlight (feat. Big Sean)"
          ],
          [
           "I"
          ],
          [
           "World Cup"
          ],
          [
           "6:30"
          ],
          [
           "Russ Millions x Fumez The Engineer - Plugged In"
          ],
          [
           "Je M'appelle"
          ],
          [
           "Lollipop"
          ],
          [
           "INDUSTRY BABY (feat. Jack Harlow)"
          ],
          [
           "Body"
          ],
          [
           "Reggae & Calypso (Russ Millions x Buni x YV)"
          ],
          [
           "Night Away (Dance) (feat. Tion Wayne)"
          ],
          [
           "Day in the Life"
          ],
          [
           "Latest Trends"
          ],
          [
           "PR SAD x Fumez The Engineer - Plugged In"
          ],
          [
           "Obsessed With You"
          ],
          [
           "Martin & Gina"
          ],
          [
           "Black and Yellow"
          ],
          [
           "Praise The Lord (Da Shine) (feat. Skepta)"
          ],
          [
           "Doja"
          ],
          [
           "F.N"
          ],
          [
           "Blueberry Faygo"
          ],
          [
           "ROXANNE"
          ],
          [
           "Mood (feat. iann dior)"
          ],
          [
           "Bandit (with YoungBoy Never Broke Again)"
          ],
          [
           "Life Is Good (feat. Drake)"
          ],
          [
           "I Don't Like"
          ],
          [
           "P2"
          ],
          [
           "BOP"
          ],
          [
           "Sunflower - Spider-Man: Into the Spider-Verse"
          ],
          [
           "LET GO"
          ],
          [
           "HOTEL LOBBY (Unc & Phew)"
          ],
          [
           "Kush - Main"
          ],
          [
           "Turks (with Gunna & ft. Travis Scott)"
          ],
          [
           "Stuck In A Dream (feat. Gunna)"
          ],
          [
           "Did It Again"
          ],
          [
           "10 Freaky Girls (with 21 Savage)"
          ],
          [
           "Sing For The Moment"
          ],
          [
           "Hello (feat. A Boogie Wit da Hoodie)"
          ],
          [
           "A Milli - SIDEPIECE Remix"
          ],
          [
           "One Up"
          ],
          [
           "Dior Freestyle"
          ],
          [
           "SAD!"
          ],
          [
           "Many Men (Wish Death)"
          ],
          [
           "Get Low"
          ],
          [
           "Rolando (Caught In The Rain)"
          ],
          [
           "Flexin'"
          ],
          [
           "Heatin Up (feat. Gunna)"
          ],
          [
           "Bryson"
          ],
          [
           "Twin Flame"
          ],
          [
           "Taliban"
          ],
          [
           "100 Grapes"
          ],
          [
           "Done"
          ],
          [
           "Top Shotta Flow"
          ],
          [
           "Tyler Herro"
          ],
          [
           "Commercial (feat. Lil Uzi Vert)"
          ],
          [
           "MET GALA"
          ],
          [
           "Effortless"
          ],
          [
           "Posted With Demons"
          ],
          [
           "ARGENTINA"
          ],
          [
           "Narrow Road (feat. Lil Baby)"
          ],
          [
           "Neva Cared"
          ],
          [
           "RELENTLESS (feat. Lil Uzi Vert)"
          ],
          [
           "Party Girl (Remix)"
          ],
          [
           "Never Recover (Lil Baby & Gunna, Drake)"
          ],
          [
           "March Madness"
          ],
          [
           "TOP FLOOR (feat. Travis Scott)"
          ],
          [
           "Codeine (feat. Gunna)"
          ],
          [
           "Shotta Flow 5"
          ],
          [
           "Under Enemy Arms"
          ],
          [
           "The Bigger Picture"
          ],
          [
           "Dope Lamp"
          ],
          [
           "Emotionally Scarred"
          ],
          [
           "Diamonds"
          ],
          [
           "Solitaires (feat. Travis Scott)"
          ],
          [
           "COOLER THAN A BITCH (feat. Roddy Ricch)"
          ],
          [
           "Social Distancing"
          ],
          [
           "Havin My Way (feat. Lil Durk)"
          ],
          [
           "Trials & Tribulations"
          ],
          [
           "Don't Believe The Hype"
          ],
          [
           "Heartless (feat. Mustard)"
          ],
          [
           "Live Off My Closet (feat. Future)"
          ],
          [
           "through the late night"
          ],
          [
           "Turks (feat. Travis Scott)"
          ],
          [
           "Toosie Slide"
          ],
          [
           "Deja Vu"
          ],
          [
           "Outside Today"
          ],
          [
           "Slime Belief"
          ],
          [
           "ROCKSTAR (feat. Roddy Ricch)"
          ],
          [
           "THE SCOTTS"
          ],
          [
           "Mamacita (feat. Rich Homie Quan & Young Thug)"
          ],
          [
           "Blueberry Faygo"
          ],
          [
           "FIND MY WAY"
          ],
          [
           "Famous Hoes"
          ],
          [
           "Life Is Good (feat. Drake)"
          ],
          [
           "3500 (feat. Future & 2 Chainz)"
          ],
          [
           "Dior - Bonus"
          ],
          [
           "Venetia"
          ],
          [
           "No Role Modelz"
          ],
          [
           "Drip Too Hard"
          ],
          [
           "Pop Out (feat. Lil Tjay)"
          ],
          [
           "06 Gucci (feat. DaBaby & 21 Savage)"
          ],
          [
           "3 Headed Goat (feat. Lil Baby & Polo G)"
          ],
          [
           "Go Stupid"
          ],
          [
           "DOLLAZ ON MY HEAD (feat. Young Thug)"
          ],
          [
           "PTSD"
          ],
          [
           "Moonwalking in Calabasas (feat. Blueface) - Remix"
          ],
          [
           "Down Below"
          ],
          [
           "The Woo (feat. 50 Cent & Roddy Ricch)"
          ],
          [
           "1400 / 999 Freestyle"
          ],
          [
           "Go Hard"
          ],
          [
           "24 (feat. Lil Baby)"
          ],
          [
           "Whats Poppin (feat. DaBaby, Tory Lanez & Lil Wayne) [Remix] - Bonus Track"
          ],
          [
           "Diva (feat. Lil Tecca)"
          ],
          [
           "Camelot"
          ],
          [
           "We Paid (feat. 42 Dugg)"
          ],
          [
           "GO (feat. Juice WRLD)"
          ],
          [
           "Ransom (with Juice WRLD) - Remix"
          ],
          [
           "Watch This - ARIZONATEARS Pluggnb Remix"
          ],
          [
           "back to the moon"
          ],
          [
           "I AIN'T WORRIED BOUT IT"
          ],
          [
           "fukumean"
          ],
          [
           "Robbery"
          ],
          [
           "Ring Ring (feat. Travis Scott, Don Toliver, Quavo & Ty Dolla $ign) - Extended Version"
          ],
          [
           "Smoke A Nigga (feat. Wiz Khalifa)"
          ],
          [
           "Barely Holdin' On"
          ],
          [
           "MELTDOWN (feat. Drake)"
          ],
          [
           "Make No Sense"
          ],
          [
           "SAY MY GRACE (feat. Travis Scott)"
          ],
          [
           "Walk Em Down (feat. Roddy Ricch)"
          ],
          [
           "Hot Now"
          ],
          [
           "Lucid Dreams (feat. Lil Uzi Vert) - Remix"
          ],
          [
           "Just Wanna Rock"
          ],
          [
           "What’s Crackin (feat. Takeoff)"
          ],
          [
           "Swimming Pools (Drank)"
          ],
          [
           "Panda"
          ],
          [
           "Let Me Know (I Wonder Why Freestyle)"
          ],
          [
           "Dior"
          ],
          [
           "Shotta Flow 7"
          ],
          [
           "Unapologetic (with NLE Choppa)"
          ],
          [
           "Who You Foolin"
          ],
          [
           "ROLLIN N CONTROLLIN FREESTYLE"
          ],
          [
           "Whoopty"
          ],
          [
           "All In"
          ],
          [
           "Underdog (Lil Baby & Gunna)"
          ],
          [
           "Moonwalking in Calabasas Remix"
          ],
          [
           "Still D.R.E."
          ],
          [
           "STAR WALKIN' (League of Legends Worlds Anthem)"
          ],
          [
           "Told Ya"
          ],
          [
           "AP"
          ],
          [
           "Gang WithMe"
          ],
          [
           "I KNOW ?"
          ],
          [
           "Mockingbird"
          ],
          [
           "Weeeeee"
          ],
          [
           "FE!N (feat. Playboi Carti)"
          ],
          [
           "Too Bad"
          ],
          [
           "The Real Slim Shady"
          ],
          [
           "BAD!"
          ],
          [
           "Moonlight"
          ],
          [
           "MY EYES"
          ],
          [
           "Welcome To The Party"
          ],
          [
           "Shotta Flow (feat. Blueface) - Remix"
          ],
          [
           "War (feat. Lil Tjay) - Bonus"
          ],
          [
           "Mannequin (feat. Lil Tjay)"
          ],
          [
           "Fuck Love"
          ],
          [
           "Purple Hearts"
          ],
          [
           "NO BYSTANDERS"
          ],
          [
           "YOU M4KE ME"
          ],
          [
           "Pure Cocaine"
          ],
          [
           "Not Like Us"
          ],
          [
           "Tobey (feat. Big Sean and BabyTron)"
          ],
          [
           "Ni**as In Paris"
          ],
          [
           "So High (feat. Ghost Loft)"
          ],
          [
           "redrum"
          ],
          [
           "Im a Boss"
          ],
          [
           "Can't Be Touched (feat. Mr. Magic & Trouble)"
          ],
          [
           "Laughin' To The Bank"
          ],
          [
           "Woah"
          ],
          [
           "Shotta Flow"
          ],
          [
           "Empire State Of Mind"
          ],
          [
           "New Level (feat. Future)"
          ],
          [
           "HIM ALL ALONG"
          ],
          [
           "BUTTERFLY EFFECT"
          ],
          [
           "24"
          ],
          [
           "Distraction"
          ],
          [
           "One Dance"
          ],
          [
           "Look At Me!"
          ],
          [
           "4X4"
          ],
          [
           "Sold Out Dates (feat. Lil Baby)"
          ],
          [
           "Freestyle"
          ],
          [
           "Drip or Drown"
          ],
          [
           "Love Me"
          ],
          [
           "Crunk Ain't Dead"
          ],
          [
           "Bound 2"
          ],
          [
           "Lucid Dreams"
          ],
          [
           "All Girls Are The Same"
          ],
          [
           "Hate Me"
          ]
         ],
         "hovertemplate": "PCA1=%{x}<br>PCA2=%{y}<br>Track_ID=%{customdata[0]}<br>Cluster=%{marker.color}<extra></extra>",
         "legendgroup": "",
         "marker": {
          "color": [
           3,
           2,
           1,
           3,
           0,
           0,
           0,
           0,
           0,
           0,
           0,
           0,
           0,
           0,
           0,
           1,
           2,
           1,
           0,
           1,
           0,
           3,
           0,
           1,
           0,
           0,
           0,
           3,
           0,
           0,
           3,
           1,
           0,
           0,
           3,
           1,
           0,
           0,
           0,
           0,
           0,
           0,
           0,
           0,
           0,
           0,
           0,
           0,
           0,
           3,
           1,
           2,
           2,
           2,
           2,
           2,
           2,
           2,
           2,
           0,
           2,
           2,
           2,
           2,
           2,
           0,
           0,
           0,
           0,
           0,
           0,
           0,
           0,
           0,
           0,
           0,
           0,
           3,
           3,
           0,
           3,
           3,
           3,
           0,
           0,
           0,
           0,
           0,
           0,
           0,
           0,
           0,
           0,
           0,
           0,
           0,
           0,
           0,
           2,
           0,
           0,
           0,
           0,
           0,
           0,
           0,
           0,
           0,
           0,
           0,
           0,
           0,
           0,
           0,
           0,
           1,
           1,
           0,
           0,
           0,
           3,
           0,
           0,
           3,
           0,
           0,
           0,
           0,
           3,
           1,
           0,
           0,
           0,
           0,
           0,
           0,
           0,
           1,
           1,
           2,
           0,
           1,
           1,
           2,
           1,
           0,
           1,
           0,
           1,
           1,
           0,
           0,
           1,
           0,
           1,
           0,
           0,
           1,
           1,
           0,
           2,
           2,
           2,
           1,
           0,
           1,
           0,
           0,
           0,
           0,
           0,
           0,
           0,
           0,
           0,
           0,
           0,
           0,
           3,
           0,
           0,
           1,
           2,
           0,
           2,
           2,
           1,
           0,
           0,
           0,
           3,
           0,
           1,
           1,
           0,
           0,
           0,
           1,
           0,
           0,
           0,
           1,
           0,
           1,
           0,
           0,
           0,
           2,
           0,
           0,
           0,
           0,
           0,
           0,
           0,
           3,
           0,
           0,
           0,
           3,
           0,
           2,
           1,
           0,
           0,
           1,
           1,
           0,
           0,
           0,
           0,
           3,
           2,
           0,
           0,
           0,
           0,
           0,
           0,
           0,
           0,
           0,
           3,
           0,
           3,
           3,
           0,
           0,
           0,
           0,
           1,
           0,
           0,
           0,
           0,
           0,
           0,
           0,
           0,
           1,
           0,
           0,
           0,
           1,
           0,
           0,
           2,
           0,
           0,
           0,
           1,
           1,
           1,
           0,
           0,
           0,
           0,
           0,
           0
          ],
          "coloraxis": "coloraxis",
          "symbol": "circle"
         },
         "mode": "markers",
         "name": "",
         "orientation": "v",
         "showlegend": false,
         "type": "scatter",
         "x": [
          -0.9434033872826129,
          -5.7655691534296185,
          8.588311866670155,
          -0.948099819749043,
          -0.3379303134629209,
          -0.4226517368853749,
          0.3192883992129986,
          -0.3327771668908189,
          -0.35523103114532956,
          -0.27512968099886514,
          0.28798060065422315,
          -0.408274209581226,
          0.288162452178184,
          2.0812416720178457,
          -0.40900028395790766,
          4.931757176182839,
          -5.528617922230709,
          3.856026453763219,
          0.18902942249056545,
          7.470687124362614,
          -0.028911045092814686,
          -0.9788275451972545,
          -0.029274803297315594,
          6.314124210658914,
          -1.7733576470047419,
          0.3844150574992408,
          -1.5329100686040957,
          -0.9690397773805967,
          -2.9251612710534762,
          0.1149153040012653,
          -0.23252965041574788,
          5.69214159801066,
          0.09466709162970592,
          -0.036976552260597116,
          -1.0194673662792448,
          4.261616109636444,
          0.08151770938139095,
          0.25287637442242755,
          -0.10938722569332533,
          0.007554868741571556,
          0.12575260245357792,
          -0.22275752407440727,
          -0.10229565426408012,
          0.20970796521914495,
          0.10037863863999756,
          -0.2649085738648254,
          0.2546286759231278,
          1.6865718381933148,
          1.7748723774372206,
          -0.9413481742059755,
          4.865195971914789,
          -6.553351355220757,
          -4.294294894979455,
          -5.802658733425536,
          -4.110912980756872,
          -5.552770676560831,
          -5.588807817828412,
          -5.565184247731022,
          -5.593581557584846,
          -0.11885053412386627,
          -2.4232754701755685,
          -5.59160745665015,
          -5.593751733700643,
          -5.608828785024783,
          -5.734419405850829,
          -0.14931627512891363,
          1.427077833979021,
          0.3907130151319746,
          0.008294813356389855,
          -0.27076636092539264,
          -0.24407961176371565,
          0.28705255008032954,
          -1.1653372121292476,
          -2.622118763843795,
          -1.1774775475779744,
          -0.26968148855009777,
          0.12841174345026826,
          -0.9416960824662711,
          -0.9320894836232715,
          -0.44276482244163873,
          -0.9044166422180444,
          2.1786264906172654,
          -0.9528120272100552,
          -2.3698702514571712,
          -0.1742420826360915,
          -0.18405806944339811,
          -0.30086573573710285,
          -0.29023708269184906,
          -0.24648222219599428,
          -0.10496560503401782,
          -0.33432798983370265,
          -0.2429857778100106,
          -0.2765937526701238,
          -0.23500973449699822,
          -0.2107995111296261,
          -0.23259173949250575,
          -0.28106459439392456,
          -0.24955931426460995,
          -5.552140683028161,
          -0.1392980720192016,
          0.03209299780969369,
          -0.21336931144703994,
          -0.36782951891544324,
          -0.24604628594430059,
          -0.21432587328882316,
          -0.47533366642499547,
          -1.20016879979134,
          1.8453379386584978,
          -0.03975325678479998,
          0.10874838254391232,
          0.1628350381431659,
          -0.13035640727132033,
          -0.20971822838450568,
          0.625428172923511,
          -0.12479496716243939,
          4.836135107128019,
          3.3878724340309496,
          -0.28661834379180573,
          0.4338595604400185,
          0.05754999384538837,
          -0.9210564967749291,
          -0.3473668442746236,
          -0.24345367844397345,
          -0.7351473310894673,
          -0.1631934083242302,
          0.031900598261490366,
          0.0068380053898910815,
          -0.18454666989129262,
          -0.9709810812554225,
          7.15102181498267,
          -2.3517616492460056,
          -2.3791116542482476,
          -2.3894311540822946,
          -2.381745269046287,
          -2.392750683451095,
          -2.3626804373195287,
          -0.43845130260431076,
          4.509047859683726,
          4.87598538673349,
          -5.5953204262999385,
          1.2745905411711955,
          4.847441319212281,
          0.6695856407620322,
          -5.542065593025834,
          5.065214223831843,
          -0.20808699818672974,
          9.061319926920987,
          1.3690507663954103,
          5.084136689206426,
          4.594951683185574,
          -2.3536809875050277,
          -0.697378446445779,
          4.227488675540259,
          -0.27421881716404767,
          4.2600434798639135,
          -0.2765221464766486,
          1.5100716973046782,
          4.835840041272532,
          4.186914220443911,
          -1.1232746686934751,
          -5.576240511380107,
          -5.5987023820221955,
          -5.848121533474057,
          4.993637984647261,
          0.2938610377170663,
          6.217916136368302,
          0.3507160663633317,
          -0.12397385626957154,
          -0.24011217542591587,
          -0.22657424748728036,
          0.17145625815090762,
          0.24421006437404877,
          2.380360320442807,
          -0.25153243467889497,
          -0.010225109334441892,
          -2.352197310542731,
          1.8448789889833743,
          1.923316009654402,
          -0.9670760053055456,
          0.045260076590923605,
          -0.12370427491957765,
          8.425325702864058,
          -5.856988145207588,
          0.3702821648252582,
          -0.9375826333344104,
          -6.135840379204522,
          5.852228012597688,
          -0.590561628850146,
          -1.1242626174428982,
          -0.1636129404758979,
          -0.2534524849969095,
          -1.4381926601999027,
          4.23095770132983,
          3.019278973276421,
          0.015197154203077984,
          -0.2920506024003814,
          -2.306119741716266,
          4.355033257072971,
          -1.182930398405075,
          -1.0779795235877718,
          0.10223868775666183,
          4.895367835025613,
          -0.21705071158775305,
          4.927037221976923,
          -1.1129087396983415,
          1.2898797916552183,
          -0.14684029172496535,
          -5.602502249742723,
          0.7516540348047362,
          -0.2128851694127568,
          0.20149333524459753,
          -1.7464061659397836,
          -0.26659211798628696,
          -0.9101099828077621,
          0.08635065718846101,
          -0.9255822088787389,
          -0.005055330425262035,
          -0.20233093058495624,
          -1.1353712068119077,
          -0.8727065373992025,
          -2.3620577058383576,
          -6.262481013921799,
          4.91257695108173,
          -0.15154507851660817,
          -0.35993570870407693,
          4.204935310405771,
          8.562562974692437,
          -1.1780652535742218,
          0.08961955488225441,
          -0.15273384452444014,
          -0.47940096413724526,
          -0.7102848117839964,
          -5.665728184925056,
          0.2952595729471182,
          0.05453628138884401,
          -0.6180502416670273,
          0.11868912691067254,
          -0.22096470708256208,
          0.12711390532579345,
          -0.24231479413432847,
          -0.17673273306382611,
          0.307434152519585,
          -0.9177809909686916,
          -2.4395213888793705,
          -1.1500987656466946,
          -1.1728358325647974,
          -0.5517282037291147,
          -0.32591785471528273,
          0.2795898921707119,
          -0.31573641142499975,
          4.279137938489991,
          0.007162118487760864,
          -0.1761071694911531,
          -0.06319426938272178,
          -0.17040332655085536,
          0.22568670793451376,
          -0.1350343825808905,
          -0.04405893928283685,
          -0.1286431526461533,
          4.249642597615006,
          -2.3194301161734865,
          0.013613716654112021,
          1.3918470170398867,
          4.875375706236953,
          0.31534375025298694,
          0.13819325973243618,
          -5.6219071626139066,
          0.4672807487890207,
          -0.18578347841529094,
          0.2445337563118277,
          7.322290229235712,
          4.289692146235984,
          4.900879848868501,
          1.8843082372507887,
          -0.1799936590659296,
          0.01829000001935969,
          -1.0667540886420641,
          -1.1230583267463146,
          -1.2014532039478334
         ],
         "xaxis": "x",
         "y": [
          -5.649153479420233,
          5.332672019278408,
          5.53450550672163,
          -5.650041545913102,
          -1.0087494873372136,
          -1.0381531704402067,
          -1.3786973445506163,
          -1.0165006894536426,
          -0.9932212608253977,
          -1.0339921105175431,
          -1.3780720642510187,
          -0.8290139424234256,
          -1.3000496409004203,
          -0.09350624290308233,
          -1.0741242983426256,
          2.6527791994786534,
          5.276898671120392,
          1.8495180945125949,
          -1.4777782299609534,
          4.454322042582213,
          -1.4513012647791343,
          -5.577868133241791,
          -0.9854206536058929,
          3.028143936040502,
          1.4924297251550627,
          -1.488658344218323,
          0.10362710406823768,
          -5.612331997403392,
          0.6954854773873378,
          -1.2805430936010476,
          -4.592559760597103,
          2.9639332286969973,
          -1.2516021609274661,
          -1.1722940535666568,
          -5.53886761958632,
          2.05947791544696,
          -1.2279874509869724,
          -1.2515737893231218,
          -1.387602118491843,
          -1.6094198253489942,
          -1.2921631631489945,
          -0.6883494107982078,
          0.5310902022328118,
          0.6628240320836133,
          1.062526818070647,
          -1.0779474818239976,
          -1.0943995747078765,
          -0.18199916542535893,
          -0.6729576679282464,
          -5.650509441174597,
          2.916639857714745,
          5.679957957674006,
          3.077676605620302,
          5.616508986394441,
          3.128260548098372,
          5.320685249085406,
          5.38813592056567,
          5.353962867601007,
          5.401533221862713,
          -0.514474021070201,
          7.605580752003395,
          5.398955362509875,
          5.396478977980712,
          5.417577230772409,
          5.537705232494899,
          -1.3026697504681692,
          0.3614146101843951,
          -1.4597536330232084,
          -1.6424575905921195,
          -1.1622028477697368,
          -1.2567881963131504,
          0.8274520875441478,
          -0.8272548734740826,
          0.4709916466434804,
          -0.7993271754511498,
          -1.1475349387364315,
          -1.3203349090220304,
          -5.619316865990733,
          -5.6548170353044735,
          0.8076601584189681,
          -5.714279416967062,
          -3.5568079928736824,
          -5.6136414706085755,
          0.4503488063210758,
          -1.0252820627829733,
          -1.0579086424815203,
          -1.2866508373671262,
          -1.2942651302765538,
          -1.1931545352287605,
          -1.3011069263024277,
          -1.2877704993893648,
          -1.4193719944358145,
          -1.4693440834498537,
          -1.3263444712555692,
          -1.3960284338362414,
          -1.1591980607032915,
          -1.0470585537627093,
          -1.3627814154388576,
          5.3065567442847605,
          -1.3347120691452017,
          -1.372783524066346,
          -1.4407625310327397,
          -1.037384500568216,
          -1.1275670622629042,
          -1.135488774592704,
          -0.8490345210173241,
          -1.0137463459762523,
          0.6615580686817214,
          -1.4230854787636755,
          -1.2665284488072142,
          -1.0368101499842128,
          -1.2082718693313026,
          -1.4008705066235243,
          -0.9092462863536473,
          -1.317941171121456,
          2.505724683539558,
          1.9551441928005555,
          -0.5639665088541863,
          -1.0422325034388031,
          -1.6778727994957021,
          -5.724247710982547,
          -0.9314298643633672,
          -1.350965863778482,
          -4.312992864316134,
          -1.3656766305493102,
          -1.5888726419504668,
          -1.3974755606929885,
          -2.2059701460035637,
          -5.585304596983862,
          4.654212169739879,
          0.43727491996218165,
          0.4696673302267879,
          0.48101608225152004,
          0.46992731397750925,
          0.4845360749400777,
          0.44309140837672706,
          -1.0193643934031054,
          1.9751965724577847,
          2.898648724151233,
          5.395264865789569,
          0.6677191825137198,
          2.9408543976987214,
          2.3364095376542653,
          5.309035489872148,
          2.881428331591872,
          -0.9675076619654198,
          5.714231066901021,
          0.499476695617917,
          2.909893987657828,
          2.574880402931273,
          0.41985901110766477,
          -0.7882171853018752,
          2.120483977783942,
          -1.1512304857027265,
          2.072443261274507,
          -1.139214495640363,
          0.6336979904288356,
          3.7451741276236246,
          2.171196162348119,
          0.9294602402686124,
          5.34140582781293,
          5.402893921568503,
          5.668995838219853,
          3.4243252114178575,
          -1.2663845105048337,
          3.506016745184757,
          -0.9947355946992543,
          -1.3287472378473721,
          -1.2216758210926568,
          -1.2168053837977943,
          0.7100569874089291,
          -1.3240546190167188,
          -0.3324521755364822,
          -1.1207807061881738,
          -0.7802817959830598,
          0.4166705321214565,
          0.6186352706246236,
          0.2687211945974135,
          -5.5833903461879295,
          -1.1792082460635402,
          -1.4473681256554816,
          5.771000672961021,
          5.443839005701172,
          -0.9552699702075215,
          5.959275069888191,
          6.556258677253563,
          3.2123651162341087,
          -0.6830343705221283,
          -0.31099673626213004,
          0.6830208567933974,
          -4.308267264499722,
          -0.6505052624434198,
          2.137524830012621,
          1.2749334749717356,
          -0.9275969918796967,
          -0.5664996832855529,
          0.3373187955475169,
          2.0847625084813455,
          -0.7077755869742443,
          -0.3565071173395461,
          -1.3618138425781718,
          2.8909440247812186,
          -0.9452893507314886,
          2.778617429700775,
          -0.9057413452014516,
          -0.7550415378007432,
          -1.16216398543881,
          5.424733396817885,
          -1.0794397667502273,
          -1.2649551272456077,
          -0.9812403960044254,
          1.50943299756316,
          -1.1694459538544404,
          -0.8356090541043075,
          -1.2909317846658297,
          -5.7834819823155525,
          -1.5597032138550257,
          -1.0922772424468083,
          -0.8673382808459879,
          -5.753511193361822,
          0.45541271575878023,
          6.199890368343874,
          2.8259546759502694,
          -2.2428277308179845,
          -1.5725520872866394,
          2.1485259945931405,
          5.574027072134651,
          -0.2179854491896296,
          -1.7536793827664323,
          -1.1068884442282467,
          -0.855095139120923,
          -4.193822814109183,
          5.478676382737933,
          -1.302086613481723,
          -1.7213378149855425,
          -0.8817682299767224,
          -1.2896859066365276,
          -1.023877707788238,
          -1.8826323269153624,
          -1.2228379304586483,
          -1.3475801668787617,
          -1.2992505914817283,
          -5.662946582053156,
          0.3696466075247684,
          -5.5426450723185035,
          -5.529789577734656,
          -1.2143479810782296,
          -1.0407430390646222,
          -1.2693107843877627,
          -1.0385847823831877,
          2.011270213499994,
          -1.553306646690509,
          -1.2418326933850437,
          -1.396869059126664,
          -1.2425713927031148,
          -1.1670122211092229,
          0.011817310669607096,
          -1.3143789675897906,
          -1.2553055433048868,
          2.077755665788813,
          0.3702287362931273,
          -1.4980048113180198,
          0.595273544144759,
          2.9292009057712463,
          -1.3642919295882872,
          -0.8307289236900973,
          5.449127696007935,
          -1.2838766548118365,
          -1.3391912510771233,
          -1.1678600101844143,
          4.743815991245554,
          1.9888065624346272,
          2.8332433961053085,
          0.6419252117988918,
          -1.0206746369720592,
          -1.5444109877588523,
          -1.0159250972301592,
          -0.9263508912164804,
          -0.690869831830093
         ],
         "yaxis": "y"
        }
       ],
       "layout": {
        "coloraxis": {
         "colorbar": {
          "title": {
           "text": "Cluster"
          }
         },
         "colorscale": [
          [
           0,
           "#0d0887"
          ],
          [
           0.1111111111111111,
           "#46039f"
          ],
          [
           0.2222222222222222,
           "#7201a8"
          ],
          [
           0.3333333333333333,
           "#9c179e"
          ],
          [
           0.4444444444444444,
           "#bd3786"
          ],
          [
           0.5555555555555556,
           "#d8576b"
          ],
          [
           0.6666666666666666,
           "#ed7953"
          ],
          [
           0.7777777777777778,
           "#fb9f3a"
          ],
          [
           0.8888888888888888,
           "#fdca26"
          ],
          [
           1,
           "#f0f921"
          ]
         ]
        },
        "legend": {
         "tracegroupgap": 0
        },
        "margin": {
         "t": 60
        },
        "template": {
         "data": {
          "bar": [
           {
            "error_x": {
             "color": "#2a3f5f"
            },
            "error_y": {
             "color": "#2a3f5f"
            },
            "marker": {
             "line": {
              "color": "#E5ECF6",
              "width": 0.5
             },
             "pattern": {
              "fillmode": "overlay",
              "size": 10,
              "solidity": 0.2
             }
            },
            "type": "bar"
           }
          ],
          "barpolar": [
           {
            "marker": {
             "line": {
              "color": "#E5ECF6",
              "width": 0.5
             },
             "pattern": {
              "fillmode": "overlay",
              "size": 10,
              "solidity": 0.2
             }
            },
            "type": "barpolar"
           }
          ],
          "carpet": [
           {
            "aaxis": {
             "endlinecolor": "#2a3f5f",
             "gridcolor": "white",
             "linecolor": "white",
             "minorgridcolor": "white",
             "startlinecolor": "#2a3f5f"
            },
            "baxis": {
             "endlinecolor": "#2a3f5f",
             "gridcolor": "white",
             "linecolor": "white",
             "minorgridcolor": "white",
             "startlinecolor": "#2a3f5f"
            },
            "type": "carpet"
           }
          ],
          "choropleth": [
           {
            "colorbar": {
             "outlinewidth": 0,
             "ticks": ""
            },
            "type": "choropleth"
           }
          ],
          "contour": [
           {
            "colorbar": {
             "outlinewidth": 0,
             "ticks": ""
            },
            "colorscale": [
             [
              0,
              "#0d0887"
             ],
             [
              0.1111111111111111,
              "#46039f"
             ],
             [
              0.2222222222222222,
              "#7201a8"
             ],
             [
              0.3333333333333333,
              "#9c179e"
             ],
             [
              0.4444444444444444,
              "#bd3786"
             ],
             [
              0.5555555555555556,
              "#d8576b"
             ],
             [
              0.6666666666666666,
              "#ed7953"
             ],
             [
              0.7777777777777778,
              "#fb9f3a"
             ],
             [
              0.8888888888888888,
              "#fdca26"
             ],
             [
              1,
              "#f0f921"
             ]
            ],
            "type": "contour"
           }
          ],
          "contourcarpet": [
           {
            "colorbar": {
             "outlinewidth": 0,
             "ticks": ""
            },
            "type": "contourcarpet"
           }
          ],
          "heatmap": [
           {
            "colorbar": {
             "outlinewidth": 0,
             "ticks": ""
            },
            "colorscale": [
             [
              0,
              "#0d0887"
             ],
             [
              0.1111111111111111,
              "#46039f"
             ],
             [
              0.2222222222222222,
              "#7201a8"
             ],
             [
              0.3333333333333333,
              "#9c179e"
             ],
             [
              0.4444444444444444,
              "#bd3786"
             ],
             [
              0.5555555555555556,
              "#d8576b"
             ],
             [
              0.6666666666666666,
              "#ed7953"
             ],
             [
              0.7777777777777778,
              "#fb9f3a"
             ],
             [
              0.8888888888888888,
              "#fdca26"
             ],
             [
              1,
              "#f0f921"
             ]
            ],
            "type": "heatmap"
           }
          ],
          "heatmapgl": [
           {
            "colorbar": {
             "outlinewidth": 0,
             "ticks": ""
            },
            "colorscale": [
             [
              0,
              "#0d0887"
             ],
             [
              0.1111111111111111,
              "#46039f"
             ],
             [
              0.2222222222222222,
              "#7201a8"
             ],
             [
              0.3333333333333333,
              "#9c179e"
             ],
             [
              0.4444444444444444,
              "#bd3786"
             ],
             [
              0.5555555555555556,
              "#d8576b"
             ],
             [
              0.6666666666666666,
              "#ed7953"
             ],
             [
              0.7777777777777778,
              "#fb9f3a"
             ],
             [
              0.8888888888888888,
              "#fdca26"
             ],
             [
              1,
              "#f0f921"
             ]
            ],
            "type": "heatmapgl"
           }
          ],
          "histogram": [
           {
            "marker": {
             "pattern": {
              "fillmode": "overlay",
              "size": 10,
              "solidity": 0.2
             }
            },
            "type": "histogram"
           }
          ],
          "histogram2d": [
           {
            "colorbar": {
             "outlinewidth": 0,
             "ticks": ""
            },
            "colorscale": [
             [
              0,
              "#0d0887"
             ],
             [
              0.1111111111111111,
              "#46039f"
             ],
             [
              0.2222222222222222,
              "#7201a8"
             ],
             [
              0.3333333333333333,
              "#9c179e"
             ],
             [
              0.4444444444444444,
              "#bd3786"
             ],
             [
              0.5555555555555556,
              "#d8576b"
             ],
             [
              0.6666666666666666,
              "#ed7953"
             ],
             [
              0.7777777777777778,
              "#fb9f3a"
             ],
             [
              0.8888888888888888,
              "#fdca26"
             ],
             [
              1,
              "#f0f921"
             ]
            ],
            "type": "histogram2d"
           }
          ],
          "histogram2dcontour": [
           {
            "colorbar": {
             "outlinewidth": 0,
             "ticks": ""
            },
            "colorscale": [
             [
              0,
              "#0d0887"
             ],
             [
              0.1111111111111111,
              "#46039f"
             ],
             [
              0.2222222222222222,
              "#7201a8"
             ],
             [
              0.3333333333333333,
              "#9c179e"
             ],
             [
              0.4444444444444444,
              "#bd3786"
             ],
             [
              0.5555555555555556,
              "#d8576b"
             ],
             [
              0.6666666666666666,
              "#ed7953"
             ],
             [
              0.7777777777777778,
              "#fb9f3a"
             ],
             [
              0.8888888888888888,
              "#fdca26"
             ],
             [
              1,
              "#f0f921"
             ]
            ],
            "type": "histogram2dcontour"
           }
          ],
          "mesh3d": [
           {
            "colorbar": {
             "outlinewidth": 0,
             "ticks": ""
            },
            "type": "mesh3d"
           }
          ],
          "parcoords": [
           {
            "line": {
             "colorbar": {
              "outlinewidth": 0,
              "ticks": ""
             }
            },
            "type": "parcoords"
           }
          ],
          "pie": [
           {
            "automargin": true,
            "type": "pie"
           }
          ],
          "scatter": [
           {
            "fillpattern": {
             "fillmode": "overlay",
             "size": 10,
             "solidity": 0.2
            },
            "type": "scatter"
           }
          ],
          "scatter3d": [
           {
            "line": {
             "colorbar": {
              "outlinewidth": 0,
              "ticks": ""
             }
            },
            "marker": {
             "colorbar": {
              "outlinewidth": 0,
              "ticks": ""
             }
            },
            "type": "scatter3d"
           }
          ],
          "scattercarpet": [
           {
            "marker": {
             "colorbar": {
              "outlinewidth": 0,
              "ticks": ""
             }
            },
            "type": "scattercarpet"
           }
          ],
          "scattergeo": [
           {
            "marker": {
             "colorbar": {
              "outlinewidth": 0,
              "ticks": ""
             }
            },
            "type": "scattergeo"
           }
          ],
          "scattergl": [
           {
            "marker": {
             "colorbar": {
              "outlinewidth": 0,
              "ticks": ""
             }
            },
            "type": "scattergl"
           }
          ],
          "scattermapbox": [
           {
            "marker": {
             "colorbar": {
              "outlinewidth": 0,
              "ticks": ""
             }
            },
            "type": "scattermapbox"
           }
          ],
          "scatterpolar": [
           {
            "marker": {
             "colorbar": {
              "outlinewidth": 0,
              "ticks": ""
             }
            },
            "type": "scatterpolar"
           }
          ],
          "scatterpolargl": [
           {
            "marker": {
             "colorbar": {
              "outlinewidth": 0,
              "ticks": ""
             }
            },
            "type": "scatterpolargl"
           }
          ],
          "scatterternary": [
           {
            "marker": {
             "colorbar": {
              "outlinewidth": 0,
              "ticks": ""
             }
            },
            "type": "scatterternary"
           }
          ],
          "surface": [
           {
            "colorbar": {
             "outlinewidth": 0,
             "ticks": ""
            },
            "colorscale": [
             [
              0,
              "#0d0887"
             ],
             [
              0.1111111111111111,
              "#46039f"
             ],
             [
              0.2222222222222222,
              "#7201a8"
             ],
             [
              0.3333333333333333,
              "#9c179e"
             ],
             [
              0.4444444444444444,
              "#bd3786"
             ],
             [
              0.5555555555555556,
              "#d8576b"
             ],
             [
              0.6666666666666666,
              "#ed7953"
             ],
             [
              0.7777777777777778,
              "#fb9f3a"
             ],
             [
              0.8888888888888888,
              "#fdca26"
             ],
             [
              1,
              "#f0f921"
             ]
            ],
            "type": "surface"
           }
          ],
          "table": [
           {
            "cells": {
             "fill": {
              "color": "#EBF0F8"
             },
             "line": {
              "color": "white"
             }
            },
            "header": {
             "fill": {
              "color": "#C8D4E3"
             },
             "line": {
              "color": "white"
             }
            },
            "type": "table"
           }
          ]
         },
         "layout": {
          "annotationdefaults": {
           "arrowcolor": "#2a3f5f",
           "arrowhead": 0,
           "arrowwidth": 1
          },
          "autotypenumbers": "strict",
          "coloraxis": {
           "colorbar": {
            "outlinewidth": 0,
            "ticks": ""
           }
          },
          "colorscale": {
           "diverging": [
            [
             0,
             "#8e0152"
            ],
            [
             0.1,
             "#c51b7d"
            ],
            [
             0.2,
             "#de77ae"
            ],
            [
             0.3,
             "#f1b6da"
            ],
            [
             0.4,
             "#fde0ef"
            ],
            [
             0.5,
             "#f7f7f7"
            ],
            [
             0.6,
             "#e6f5d0"
            ],
            [
             0.7,
             "#b8e186"
            ],
            [
             0.8,
             "#7fbc41"
            ],
            [
             0.9,
             "#4d9221"
            ],
            [
             1,
             "#276419"
            ]
           ],
           "sequential": [
            [
             0,
             "#0d0887"
            ],
            [
             0.1111111111111111,
             "#46039f"
            ],
            [
             0.2222222222222222,
             "#7201a8"
            ],
            [
             0.3333333333333333,
             "#9c179e"
            ],
            [
             0.4444444444444444,
             "#bd3786"
            ],
            [
             0.5555555555555556,
             "#d8576b"
            ],
            [
             0.6666666666666666,
             "#ed7953"
            ],
            [
             0.7777777777777778,
             "#fb9f3a"
            ],
            [
             0.8888888888888888,
             "#fdca26"
            ],
            [
             1,
             "#f0f921"
            ]
           ],
           "sequentialminus": [
            [
             0,
             "#0d0887"
            ],
            [
             0.1111111111111111,
             "#46039f"
            ],
            [
             0.2222222222222222,
             "#7201a8"
            ],
            [
             0.3333333333333333,
             "#9c179e"
            ],
            [
             0.4444444444444444,
             "#bd3786"
            ],
            [
             0.5555555555555556,
             "#d8576b"
            ],
            [
             0.6666666666666666,
             "#ed7953"
            ],
            [
             0.7777777777777778,
             "#fb9f3a"
            ],
            [
             0.8888888888888888,
             "#fdca26"
            ],
            [
             1,
             "#f0f921"
            ]
           ]
          },
          "colorway": [
           "#636efa",
           "#EF553B",
           "#00cc96",
           "#ab63fa",
           "#FFA15A",
           "#19d3f3",
           "#FF6692",
           "#B6E880",
           "#FF97FF",
           "#FECB52"
          ],
          "font": {
           "color": "#2a3f5f"
          },
          "geo": {
           "bgcolor": "white",
           "lakecolor": "white",
           "landcolor": "#E5ECF6",
           "showlakes": true,
           "showland": true,
           "subunitcolor": "white"
          },
          "hoverlabel": {
           "align": "left"
          },
          "hovermode": "closest",
          "mapbox": {
           "style": "light"
          },
          "paper_bgcolor": "white",
          "plot_bgcolor": "#E5ECF6",
          "polar": {
           "angularaxis": {
            "gridcolor": "white",
            "linecolor": "white",
            "ticks": ""
           },
           "bgcolor": "#E5ECF6",
           "radialaxis": {
            "gridcolor": "white",
            "linecolor": "white",
            "ticks": ""
           }
          },
          "scene": {
           "xaxis": {
            "backgroundcolor": "#E5ECF6",
            "gridcolor": "white",
            "gridwidth": 2,
            "linecolor": "white",
            "showbackground": true,
            "ticks": "",
            "zerolinecolor": "white"
           },
           "yaxis": {
            "backgroundcolor": "#E5ECF6",
            "gridcolor": "white",
            "gridwidth": 2,
            "linecolor": "white",
            "showbackground": true,
            "ticks": "",
            "zerolinecolor": "white"
           },
           "zaxis": {
            "backgroundcolor": "#E5ECF6",
            "gridcolor": "white",
            "gridwidth": 2,
            "linecolor": "white",
            "showbackground": true,
            "ticks": "",
            "zerolinecolor": "white"
           }
          },
          "shapedefaults": {
           "line": {
            "color": "#2a3f5f"
           }
          },
          "ternary": {
           "aaxis": {
            "gridcolor": "white",
            "linecolor": "white",
            "ticks": ""
           },
           "baxis": {
            "gridcolor": "white",
            "linecolor": "white",
            "ticks": ""
           },
           "bgcolor": "#E5ECF6",
           "caxis": {
            "gridcolor": "white",
            "linecolor": "white",
            "ticks": ""
           }
          },
          "title": {
           "x": 0.05
          },
          "xaxis": {
           "automargin": true,
           "gridcolor": "white",
           "linecolor": "white",
           "ticks": "",
           "title": {
            "standoff": 15
           },
           "zerolinecolor": "white",
           "zerolinewidth": 2
          },
          "yaxis": {
           "automargin": true,
           "gridcolor": "white",
           "linecolor": "white",
           "ticks": "",
           "title": {
            "standoff": 15
           },
           "zerolinecolor": "white",
           "zerolinewidth": 2
          }
         }
        },
        "title": {
         "text": "Clustering (PCA Projection)",
         "x": 0.5
        },
        "xaxis": {
         "anchor": "y",
         "domain": [
          0,
          1
         ],
         "title": {
          "text": "PCA1"
         }
        },
        "yaxis": {
         "anchor": "x",
         "domain": [
          0,
          1
         ],
         "title": {
          "text": "PCA2"
         }
        }
       }
      }
     },
     "metadata": {},
     "output_type": "display_data"
    }
   ],
   "source": [
    "Utils.visualize_clustering(tracklist_imputed, feature=dataset['track_name'])"
   ]
  },
  {
   "cell_type": "code",
   "execution_count": null,
   "metadata": {},
   "outputs": [],
   "source": []
  }
 ],
 "metadata": {
  "kernelspec": {
   "display_name": "base",
   "language": "python",
   "name": "python3"
  },
  "language_info": {
   "codemirror_mode": {
    "name": "ipython",
    "version": 3
   },
   "file_extension": ".py",
   "mimetype": "text/x-python",
   "name": "python",
   "nbconvert_exporter": "python",
   "pygments_lexer": "ipython3",
   "version": "3.10.9"
  }
 },
 "nbformat": 4,
 "nbformat_minor": 2
}
